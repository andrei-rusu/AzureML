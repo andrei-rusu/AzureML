{
 "cells": [
  {
   "cell_type": "code",
   "execution_count": 1,
   "id": "a1892e81-c70c-4a26-93ca-c0e89287058f",
   "metadata": {},
   "outputs": [
    {
     "name": "stderr",
     "output_type": "stream",
     "text": [
      "Found the config file in: .\\config.json\n"
     ]
    }
   ],
   "source": [
    "# get a handle to the subscription\n",
    "from azure.ai.ml import MLClient, command\n",
    "from azure.identity import DefaultAzureCredential\n",
    "\n",
    "ml_client = MLClient.from_config(DefaultAzureCredential())\n",
    "ml_client"
   ]
  },
  {
   "cell_type": "code",
   "execution_count": 28,
   "id": "7e3c6273-27fa-407d-bfca-86ca868eb25d",
   "metadata": {},
   "outputs": [],
   "source": [
    "job_name = 'tough_actor_lkqkfy8scg'\n",
    "download_path = 'model'\n",
    "ml_client.jobs.download(name=job_name, download_path=download_path, output_name='mlflow_log_model')"
   ]
  },
  {
   "cell_type": "code",
   "execution_count": 22,
   "id": "d6a23171-4bbe-4978-aae9-80c60450adad",
   "metadata": {
    "scrolled": true
   },
   "outputs": [
    {
     "data": {
      "text/html": [
       "<table style=\"width:100%\"><tr><th>Experiment</th><th>Name</th><th>Type</th><th>Status</th><th>Details Page</th></tr><tr><td>diabetes-train</td><td>musing_beard_jjvf8qq0g8</td><td>command</td><td>CancelRequested</td><td><a href=\"https://ml.azure.com/runs/musing_beard_jjvf8qq0g8?wsid=/subscriptions/31b2efe9-cc1f-447c-b8be-13e3e95feb59/resourcegroups/ar5g15-rg/workspaces/dp_prep&amp;tid=4a5378f9-29f4-4d3e-be89-669d03ada9d8\" target=\"_blank\" rel=\"noopener\">Link to Azure Machine Learning studio</a></td></tr></table>"
      ],
      "text/plain": [
       "Command({'parameters': {}, 'init': False, 'name': 'musing_beard_jjvf8qq0g8', 'type': 'command', 'status': 'CancelRequested', 'log_files': None, 'description': 'Job to train a diabetes model.', 'tags': {}, 'properties': {'mlflow.source.git.repoURL': 'https://github.com/andrei-rusu/mlops', 'mlflow.source.git.branch': 'main', 'mlflow.source.git.commit': '705b80e7b07588bb3b8de6ec5b27f5bb7a90ca9c', 'azureml.git.dirty': 'False', '_azureml.ComputeTargetType': 'local', '_azureml.ClusterName': 'Local', 'ContentSnapshotId': 'dc3f466a-224f-4c4e-93ee-d2e955d0a189', 'StartTimeUtc': '2024-04-10 11:35:36'}, 'print_as_yaml': True, 'id': '/subscriptions/31b2efe9-cc1f-447c-b8be-13e3e95feb59/resourceGroups/ar5g15-rg/providers/Microsoft.MachineLearningServices/workspaces/dp_prep/jobs/musing_beard_jjvf8qq0g8', 'Resource__source_path': None, 'base_path': 'C:\\\\Users\\\\Andrei R\\\\Azure', 'creation_context': <azure.ai.ml.entities._system_data.SystemData object at 0x00000224A09D5C90>, 'serialize': <msrest.serialization.Serializer object at 0x00000224A2006C10>, 'allowed_keys': {}, 'key_restriction': False, 'logger': <Logger attr_dict (WARNING)>, 'display_name': 'musing_beard_jjvf8qq0g8', 'experiment_name': 'diabetes-train', 'compute': 'local', 'services': {'Tracking': {'endpoint': 'azureml://eastus2.api.azureml.ms/mlflow/v1.0/subscriptions/31b2efe9-cc1f-447c-b8be-13e3e95feb59/resourceGroups/ar5g15-rg/providers/Microsoft.MachineLearningServices/workspaces/dp_prep?', 'type': 'Tracking'}, 'Studio': {'endpoint': 'https://ml.azure.com/runs/musing_beard_jjvf8qq0g8?wsid=/subscriptions/31b2efe9-cc1f-447c-b8be-13e3e95feb59/resourcegroups/ar5g15-rg/workspaces/dp_prep&tid=4a5378f9-29f4-4d3e-be89-669d03ada9d8', 'type': 'Studio'}}, 'comment': None, 'job_inputs': {'training_data': {'type': 'uri_folder', 'path': 'azureml://locations/eastus2/workspaces/936c0e44-fa5a-4331-8858-6a6246667406/data/azureml_musing_beard_jjvf8qq0g8_input_data_training_data/versions/1', 'mode': 'ro_mount'}, 'reg_rate': '0.01'}, 'job_outputs': {'default': {'type': 'uri_folder', 'path': 'azureml://datastores/workspaceartifactstore/ExperimentRun/dcid.musing_beard_jjvf8qq0g8', 'mode': 'rw_mount'}}, 'inputs': {'training_data': <azure.ai.ml.entities._job.pipeline._io.base.NodeInput object at 0x00000224A1FFE190>, 'reg_rate': <azure.ai.ml.entities._job.pipeline._io.base.NodeInput object at 0x00000224A08F4F50>}, 'outputs': {'default': <azure.ai.ml.entities._job.pipeline._io.base.NodeOutput object at 0x00000224A0AE0C10>}, 'component': CommandComponent({'intellectual_property': None, 'auto_increment_version': True, 'source': 'REMOTE.WORKSPACE.JOB', 'is_anonymous': False, 'auto_delete_setting': None, 'name': 'musing_beard_jjvf8qq0g8', 'description': 'Job to train a diabetes model.', 'tags': {}, 'properties': {}, 'print_as_yaml': True, 'id': None, 'Resource__source_path': None, 'base_path': 'C:\\\\Users\\\\Andrei R\\\\Azure', 'creation_context': <azure.ai.ml.entities._system_data.SystemData object at 0x00000224A09D5C90>, 'serialize': <msrest.serialization.Serializer object at 0x00000224A0786090>, 'command': 'python train.py --training_data ${{inputs.training_data}} --reg_rate ${{inputs.reg_rate}}', 'code': '/subscriptions/31b2efe9-cc1f-447c-b8be-13e3e95feb59/resourceGroups/ar5g15-rg/providers/Microsoft.MachineLearningServices/workspaces/dp_prep/codes/f01501c2-f73a-4136-bd36-96859ea0068e/versions/1', 'environment_variables': {'AZUREML_COMPUTE_USE_COMMON_RUNTIME': 'true'}, 'environment': 'azureml://registries/azureml/environments/AzureML-sklearn-1.0-ubuntu20.04-py38-cpu/versions/36', 'distribution': None, 'resources': None, 'queue_settings': None, 'version': None, 'latest_version': None, 'schema': None, 'type': 'command', 'display_name': 'musing_beard_jjvf8qq0g8', 'is_deterministic': True, 'inputs': {'training_data': {'type': 'uri_folder', 'path': 'azureml://locations/eastus2/workspaces/936c0e44-fa5a-4331-8858-6a6246667406/data/azureml_musing_beard_jjvf8qq0g8_input_data_training_data/versions/1', 'mode': 'ro_mount'}, 'reg_rate': {'type': 'string', 'default': '0.01'}}, 'outputs': {'default': {'type': 'uri_folder', 'path': 'azureml://datastores/workspaceartifactstore/ExperimentRun/dcid.musing_beard_jjvf8qq0g8', 'mode': 'rw_mount'}}, 'yaml_str': None, 'other_parameter': {'status': 'CancelRequested', 'parameters': {}}, 'additional_includes': []}), 'referenced_control_flow_node_instance_id': None, 'kwargs': {'services': {'Tracking': {'endpoint': 'azureml://eastus2.api.azureml.ms/mlflow/v1.0/subscriptions/31b2efe9-cc1f-447c-b8be-13e3e95feb59/resourceGroups/ar5g15-rg/providers/Microsoft.MachineLearningServices/workspaces/dp_prep?', 'type': 'Tracking'}, 'Studio': {'endpoint': 'https://ml.azure.com/runs/musing_beard_jjvf8qq0g8?wsid=/subscriptions/31b2efe9-cc1f-447c-b8be-13e3e95feb59/resourcegroups/ar5g15-rg/workspaces/dp_prep&tid=4a5378f9-29f4-4d3e-be89-669d03ada9d8', 'type': 'Studio'}}, 'status': 'CancelRequested', 'creation_context': <azure.ai.ml.entities._system_data.SystemData object at 0x00000224A09D5C90>}, 'instance_id': '0b52bfb7-94e6-4d92-bbc6-bdbb8b63b490', 'source': 'BUILDER', 'validate_required_input_not_provided': True, 'limits': <azure.ai.ml.entities._job.job_limits.CommandJobLimits object at 0x000002249F25F390>, 'identity': None, 'distribution': None, 'environment_variables': {'AZUREML_COMPUTE_USE_COMMON_RUNTIME': 'true'}, 'environment': 'azureml://registries/azureml/environments/AzureML-sklearn-1.0-ubuntu20.04-py38-cpu/versions/36', 'resources': {'instance_count': 1}, 'queue_settings': {'job_tier': 'standard'}, 'swept': False})"
      ]
     },
     "execution_count": 22,
     "metadata": {},
     "output_type": "execute_result"
    }
   ],
   "source": [
    "job = ml_client.jobs.get(\"musing_beard_jjvf8qq0g8\")\n",
    "job"
   ]
  },
  {
   "cell_type": "code",
   "execution_count": null,
   "id": "a0cfd09b-b247-4eb1-85a2-d599723a9cd9",
   "metadata": {},
   "outputs": [],
   "source": []
  },
  {
   "cell_type": "code",
   "execution_count": 3,
   "id": "9bee3959-69f2-42ef-b614-7e0813c8aa4f",
   "metadata": {},
   "outputs": [
    {
     "name": "stdout",
     "output_type": "stream",
     "text": [
      "docker-image-plus-conda-example\n",
      "docker-image-example\n",
      "AzureML-AI-Studio-Development\n",
      "AzureML-ACPT-pytorch-1.13-py38-cuda11.7-gpu\n",
      "AzureML-ACPT-pytorch-1.12-py38-cuda11.6-gpu\n",
      "AzureML-ACPT-pytorch-1.12-py39-cuda11.6-gpu\n",
      "AzureML-ACPT-pytorch-1.11-py38-cuda11.5-gpu\n",
      "AzureML-ACPT-pytorch-1.11-py38-cuda11.3-gpu\n",
      "AzureML-responsibleai-0.21-ubuntu20.04-py38-cpu\n",
      "AzureML-responsibleai-0.20-ubuntu20.04-py38-cpu\n",
      "AzureML-tensorflow-2.5-ubuntu20.04-py38-cuda11-gpu\n",
      "AzureML-tensorflow-2.6-ubuntu20.04-py38-cuda11-gpu\n",
      "AzureML-tensorflow-2.7-ubuntu20.04-py38-cuda11-gpu\n",
      "AzureML-sklearn-1.0-ubuntu20.04-py38-cpu\n",
      "AzureML-pytorch-1.10-ubuntu18.04-py38-cuda11-gpu\n",
      "AzureML-pytorch-1.9-ubuntu18.04-py37-cuda11-gpu\n",
      "AzureML-pytorch-1.8-ubuntu18.04-py37-cuda11-gpu\n",
      "AzureML-sklearn-0.24-ubuntu18.04-py37-cpu\n",
      "AzureML-lightgbm-3.2-ubuntu18.04-py37-cpu\n",
      "AzureML-pytorch-1.7-ubuntu18.04-py37-cuda11-gpu\n",
      "AzureML-tensorflow-2.4-ubuntu18.04-py37-cuda11-gpu\n",
      "AzureML-Triton\n",
      "AzureML-Designer-Score\n",
      "AzureML-VowpalWabbit-8.8.0\n",
      "AzureML-PyTorch-1.3-CPU\n"
     ]
    }
   ],
   "source": [
    "for env in ml_client.environments.list():\n",
    "    print(env.name)"
   ]
  },
  {
   "cell_type": "code",
   "execution_count": 103,
   "id": "c7a39f55-23a0-4d25-9155-9f87e4b59e07",
   "metadata": {},
   "outputs": [],
   "source": [
    "env = ml_client.environments.get(\"AzureML-ACPT-pytorch-1.13-py38-cuda11.7-gpu\", 1)"
   ]
  },
  {
   "cell_type": "code",
   "execution_count": null,
   "id": "e68aba66-917d-4b4e-b429-b534ff4dba43",
   "metadata": {},
   "outputs": [],
   "source": []
  },
  {
   "cell_type": "code",
   "execution_count": null,
   "id": "ad426861-dd45-41a9-b16d-89bef2d8b49f",
   "metadata": {},
   "outputs": [],
   "source": []
  },
  {
   "cell_type": "code",
   "execution_count": 4,
   "id": "08051397-128b-4149-a67a-aadef1664767",
   "metadata": {},
   "outputs": [
    {
     "name": "stdout",
     "output_type": "stream",
     "text": [
      "account_name: mmstorageeastus2\n",
      "container_name: globaldatasets\n",
      "credentials: {}\n",
      "endpoint: core.windows.net\n",
      "id: /subscriptions/31b2efe9-cc1f-447c-b8be-13e3e95feb59/resourceGroups/ar5g15-rg/providers/Microsoft.MachineLearningServices/workspaces/dp_prep/datastores/azureml_globaldatasets\n",
      "name: azureml_globaldatasets\n",
      "protocol: https\n",
      "tags: {}\n",
      "type: azure_blob\n",
      "\n",
      "account_name: dpprep3638852250\n",
      "container_name: azureml\n",
      "credentials: {}\n",
      "endpoint: core.windows.net\n",
      "id: /subscriptions/31b2efe9-cc1f-447c-b8be-13e3e95feb59/resourceGroups/ar5g15-rg/providers/Microsoft.MachineLearningServices/workspaces/dp_prep/datastores/workspaceartifactstore\n",
      "name: workspaceartifactstore\n",
      "protocol: https\n",
      "tags: {}\n",
      "type: azure_blob\n",
      "\n",
      "account_name: dpprep3638852250\n",
      "container_name: azureml-blobstore-936c0e44-fa5a-4331-8858-6a6246667406\n",
      "credentials: {}\n",
      "endpoint: core.windows.net\n",
      "id: /subscriptions/31b2efe9-cc1f-447c-b8be-13e3e95feb59/resourceGroups/ar5g15-rg/providers/Microsoft.MachineLearningServices/workspaces/dp_prep/datastores/workspaceblobstore\n",
      "name: workspaceblobstore\n",
      "protocol: https\n",
      "tags: {}\n",
      "type: azure_blob\n",
      "\n",
      "account_name: dpprep3638852250\n",
      "credentials: {}\n",
      "endpoint: core.windows.net\n",
      "file_share_name: azureml-filestore-936c0e44-fa5a-4331-8858-6a6246667406\n",
      "id: /subscriptions/31b2efe9-cc1f-447c-b8be-13e3e95feb59/resourceGroups/ar5g15-rg/providers/Microsoft.MachineLearningServices/workspaces/dp_prep/datastores/workspacefilestore\n",
      "name: workspacefilestore\n",
      "protocol: https\n",
      "tags: {}\n",
      "type: azure_file\n",
      "\n",
      "account_name: dpprep3638852250\n",
      "credentials: {}\n",
      "endpoint: core.windows.net\n",
      "file_share_name: code-391ff5ac-6576-460f-ba4d-7e03433c68b6\n",
      "id: /subscriptions/31b2efe9-cc1f-447c-b8be-13e3e95feb59/resourceGroups/ar5g15-rg/providers/Microsoft.MachineLearningServices/workspaces/dp_prep/datastores/workspaceworkingdirectory\n",
      "name: workspaceworkingdirectory\n",
      "protocol: https\n",
      "tags: {}\n",
      "type: azure_file\n",
      "\n"
     ]
    }
   ],
   "source": [
    "for ds in ml_client.datastores.list():\n",
    "    print(ds)"
   ]
  },
  {
   "cell_type": "code",
   "execution_count": 5,
   "id": "8d78e6b8-5e56-450b-ace1-3830f9681ebe",
   "metadata": {},
   "outputs": [
    {
     "name": "stdout",
     "output_type": "stream",
     "text": [
      "dp_prep : ar5g15-rg : eastus2 : \n"
     ]
    }
   ],
   "source": [
    "# List all ML workspaces\n",
    "for ws in ml_client.workspaces.list():\n",
    "    print(ws.name, \":\", ws.resource_group, \":\", ws.location, \":\", ws.description)"
   ]
  },
  {
   "cell_type": "code",
   "execution_count": 7,
   "id": "f9901f0a-d851-468c-8796-ed4f60ba6374",
   "metadata": {},
   "outputs": [
    {
     "data": {
      "text/plain": [
       "Workspace({'kind': 'default', 'print_as_yaml': True, 'discovery_url': 'https://eastus2.api.azureml.ms/discovery', 'mlflow_tracking_uri': 'azureml://eastus2.api.azureml.ms/mlflow/v1.0/subscriptions/31b2efe9-cc1f-447c-b8be-13e3e95feb59/resourceGroups/ar5g15-rg/providers/Microsoft.MachineLearningServices/workspaces/dp_prep', 'workspace_id': '936c0e44-fa5a-4331-8858-6a6246667406', 'feature_store_settings': None, 'name': 'dp_prep', 'description': '', 'tags': {}, 'properties': {}, 'id': '/subscriptions/31b2efe9-cc1f-447c-b8be-13e3e95feb59/resourceGroups/ar5g15-rg/providers/Microsoft.MachineLearningServices/workspaces/dp_prep', 'Resource__source_path': None, 'base_path': 'C:\\\\Users\\\\Andrei R\\\\Azure', 'creation_context': None, 'serialize': <msrest.serialization.Serializer object at 0x0000027AE746EAD0>, 'display_name': 'dp_prep', 'location': 'eastus2', 'resource_group': 'ar5g15-rg', 'hbi_workspace': False, 'storage_account': '/subscriptions/31b2efe9-cc1f-447c-b8be-13e3e95feb59/resourceGroups/ar5g15-rg/providers/Microsoft.Storage/storageAccounts/dpprep3638852250', 'container_registry': '/subscriptions/31b2efe9-cc1f-447c-b8be-13e3e95feb59/resourceGroups/ar5g15-rg/providers/Microsoft.ContainerRegistry/registries/mainregistrycontainer', 'key_vault': '/subscriptions/31b2efe9-cc1f-447c-b8be-13e3e95feb59/resourceGroups/ar5g15-rg/providers/Microsoft.Keyvault/vaults/dpprep2880489964', 'application_insights': '/subscriptions/31b2efe9-cc1f-447c-b8be-13e3e95feb59/resourceGroups/ar5g15-rg/providers/Microsoft.insights/components/dpprep8945400910', 'customer_managed_key': None, 'image_build_compute': 'aml-cluster', 'public_network_access': 'Enabled', 'identity': <azure.ai.ml.entities._credentials.IdentityConfiguration object at 0x0000027A86836E10>, 'primary_user_assigned_identity': None, 'managed_network': <azure.ai.ml.entities._workspace.networking.ManagedNetwork object at 0x0000027A87EE5A10>, 'enable_data_isolation': False, 'workspace_hub': None, 'serverless_compute': None})"
      ]
     },
     "execution_count": 7,
     "metadata": {},
     "output_type": "execute_result"
    }
   ],
   "source": [
    "workspace_name = 'dp_prep'\n",
    "ws = ml_client.workspaces.get(workspace_name)\n",
    "ws"
   ]
  },
  {
   "cell_type": "code",
   "execution_count": null,
   "id": "65bc79aa-73c1-4d9f-a6f0-a64d3fc0e836",
   "metadata": {},
   "outputs": [],
   "source": []
  },
  {
   "cell_type": "code",
   "execution_count": 4,
   "id": "2776e528-af56-42c2-9c02-2e38b113cc3b",
   "metadata": {},
   "outputs": [],
   "source": [
    "data = ml_client.data.get(\"penguin-data\", version=1)"
   ]
  },
  {
   "cell_type": "code",
   "execution_count": null,
   "id": "1bd39d60-241c-4e31-a48b-e8df74251100",
   "metadata": {},
   "outputs": [],
   "source": []
  },
  {
   "cell_type": "markdown",
   "id": "9345dc88-1717-4693-afaf-8ea656ac7add",
   "metadata": {},
   "source": [
    "To create compute, one can do:\n",
    "\n",
    "az ml compute create --name \"aml-cluster\" --size STANDARD_DS11_V2 --min-instances 0 --max-instances 2 --type AmlCompute -w dp_prep -g ar5g15-rg"
   ]
  },
  {
   "cell_type": "code",
   "execution_count": 18,
   "id": "704d8eed-e6f4-43b1-a21b-e34dcdf2821f",
   "metadata": {},
   "outputs": [
    {
     "data": {
      "text/html": [
       "<table style=\"width:100%\"><tr><th>Experiment</th><th>Name</th><th>Type</th><th>Status</th><th>Details Page</th></tr><tr><td>AndreiR</td><td>lucid_oven_pj58rr0qvc</td><td>command</td><td>Starting</td><td><a href=\"https://ml.azure.com/runs/lucid_oven_pj58rr0qvc?wsid=/subscriptions/31b2efe9-cc1f-447c-b8be-13e3e95feb59/resourcegroups/ar5g15-rg/workspaces/dp_prep&amp;tid=4a5378f9-29f4-4d3e-be89-669d03ada9d8\" target=\"_blank\" rel=\"noopener\">Link to Azure Machine Learning studio</a></td></tr></table>"
      ],
      "text/plain": [
       "Command({'parameters': {}, 'init': False, 'name': 'lucid_oven_pj58rr0qvc', 'type': 'command', 'status': 'Starting', 'log_files': None, 'description': None, 'tags': {}, 'properties': {'_azureml.ComputeTargetType': 'amlctrain', '_azureml.ClusterName': None}, 'print_as_yaml': True, 'id': '/subscriptions/31b2efe9-cc1f-447c-b8be-13e3e95feb59/resourceGroups/ar5g15-rg/providers/Microsoft.MachineLearningServices/workspaces/dp_prep/jobs/lucid_oven_pj58rr0qvc', 'Resource__source_path': None, 'base_path': 'C:\\\\Users\\\\Andrei R', 'creation_context': <azure.ai.ml.entities._system_data.SystemData object at 0x000001BCAB17D9D0>, 'serialize': <msrest.serialization.Serializer object at 0x000001BCAB411210>, 'allowed_keys': {}, 'key_restriction': False, 'logger': <Logger attr_dict (WARNING)>, 'display_name': 'lucid_oven_pj58rr0qvc', 'experiment_name': 'AndreiR', 'compute': None, 'services': {'Tracking': {'endpoint': 'azureml://eastus2.api.azureml.ms/mlflow/v1.0/subscriptions/31b2efe9-cc1f-447c-b8be-13e3e95feb59/resourceGroups/ar5g15-rg/providers/Microsoft.MachineLearningServices/workspaces/dp_prep?', 'type': 'Tracking'}, 'Studio': {'endpoint': 'https://ml.azure.com/runs/lucid_oven_pj58rr0qvc?wsid=/subscriptions/31b2efe9-cc1f-447c-b8be-13e3e95feb59/resourcegroups/ar5g15-rg/workspaces/dp_prep&tid=4a5378f9-29f4-4d3e-be89-669d03ada9d8', 'type': 'Studio'}}, 'comment': None, 'job_inputs': {}, 'job_outputs': {'default': {'type': 'uri_folder', 'path': 'azureml://datastores/workspaceartifactstore/ExperimentRun/dcid.lucid_oven_pj58rr0qvc', 'mode': 'rw_mount'}}, 'inputs': {}, 'outputs': {'default': <azure.ai.ml.entities._job.pipeline._io.base.NodeOutput object at 0x000001BCAB412CD0>}, 'component': CommandComponent({'intellectual_property': None, 'auto_increment_version': True, 'source': 'REMOTE.WORKSPACE.JOB', 'is_anonymous': False, 'auto_delete_setting': None, 'name': 'lucid_oven_pj58rr0qvc', 'description': None, 'tags': {}, 'properties': {}, 'print_as_yaml': True, 'id': None, 'Resource__source_path': None, 'base_path': 'C:\\\\Users\\\\Andrei R', 'creation_context': <azure.ai.ml.entities._system_data.SystemData object at 0x000001BCAB17D9D0>, 'serialize': <msrest.serialization.Serializer object at 0x000001BCAB17C750>, 'command': \"echo 'hello world'\", 'code': None, 'environment_variables': {}, 'environment': 'azureml:AzureML-sklearn-1.0-ubuntu20.04-py38-cpu@latest', 'distribution': None, 'resources': None, 'queue_settings': None, 'version': None, 'latest_version': None, 'schema': None, 'type': 'command', 'display_name': 'lucid_oven_pj58rr0qvc', 'is_deterministic': True, 'inputs': {}, 'outputs': {'default': {'type': 'uri_folder', 'path': 'azureml://datastores/workspaceartifactstore/ExperimentRun/dcid.lucid_oven_pj58rr0qvc', 'mode': 'rw_mount'}}, 'yaml_str': None, 'other_parameter': {'status': 'Starting', 'parameters': {}}, 'additional_includes': []}), 'referenced_control_flow_node_instance_id': None, 'kwargs': {'services': {'Tracking': {'endpoint': 'azureml://eastus2.api.azureml.ms/mlflow/v1.0/subscriptions/31b2efe9-cc1f-447c-b8be-13e3e95feb59/resourceGroups/ar5g15-rg/providers/Microsoft.MachineLearningServices/workspaces/dp_prep?', 'type': 'Tracking'}, 'Studio': {'endpoint': 'https://ml.azure.com/runs/lucid_oven_pj58rr0qvc?wsid=/subscriptions/31b2efe9-cc1f-447c-b8be-13e3e95feb59/resourcegroups/ar5g15-rg/workspaces/dp_prep&tid=4a5378f9-29f4-4d3e-be89-669d03ada9d8', 'type': 'Studio'}}, 'status': 'Starting', 'creation_context': <azure.ai.ml.entities._system_data.SystemData object at 0x000001BCAB17D9D0>}, 'instance_id': 'd5ad38b3-c081-4c36-9708-b39ff855a373', 'source': 'BUILDER', 'validate_required_input_not_provided': True, 'limits': None, 'identity': None, 'distribution': None, 'environment_variables': {}, 'environment': 'azureml:AzureML-sklearn-1.0-ubuntu20.04-py38-cpu@latest', 'resources': {'instance_count': 1, 'instance_type': 'Standard_D1', 'shm_size': '2g'}, 'queue_settings': {'job_tier': 'standard'}, 'swept': False})"
      ]
     },
     "execution_count": 18,
     "metadata": {},
     "output_type": "execute_result"
    }
   ],
   "source": [
    "from azure.ai.ml.entities import JobResourceConfiguration\n",
    "\n",
    "job = command(\n",
    "    command=\"echo 'hello world'\",\n",
    "    environment=\"AzureML-sklearn-1.0-ubuntu20.04-py38-cpu@latest\",\n",
    "    resources = JobResourceConfiguration(instance_type=\"Standard_D1\", instance_count=1),\n",
    "    experiment_name = \"dp_tests\",\n",
    "    display_name = \"dp_test_1\"\n",
    ")\n",
    "# submit the command job\n",
    "ml_client.create_or_update(job)"
   ]
  },
  {
   "cell_type": "code",
   "execution_count": null,
   "id": "65760023-c0a6-4e8a-aec3-d1938c7a8b30",
   "metadata": {},
   "outputs": [],
   "source": []
  },
  {
   "cell_type": "markdown",
   "id": "11dab37f-958d-4d43-8fe5-35be765fff88",
   "metadata": {},
   "source": [
    "# Configuring MLFlow"
   ]
  },
  {
   "cell_type": "code",
   "execution_count": 2,
   "id": "04db139c-b613-4579-a0ca-cf94ead7e1ea",
   "metadata": {},
   "outputs": [],
   "source": [
    "import mlflow\n",
    "workspace_name = 'dp_prep'\n",
    "mlflow.set_tracking_uri(ml_client.workspaces.get(workspace_name).mlflow_tracking_uri)"
   ]
  },
  {
   "cell_type": "code",
   "execution_count": 8,
   "id": "b91f7ba8-08b9-416d-ac15-a5b350f79dbd",
   "metadata": {},
   "outputs": [
    {
     "data": {
      "text/plain": [
       "<module 'mlflow' from 'C:\\\\Users\\\\Public\\\\anaconda3\\\\envs\\\\azure_ml\\\\Lib\\\\site-packages\\\\mlflow\\\\__init__.py'>"
      ]
     },
     "execution_count": 8,
     "metadata": {},
     "output_type": "execute_result"
    }
   ],
   "source": [
    "mlflow"
   ]
  },
  {
   "cell_type": "code",
   "execution_count": 3,
   "id": "81b81c52-5a9e-4324-b5b5-891edffab8c5",
   "metadata": {},
   "outputs": [],
   "source": [
    "experiment_name = 'experiment_with_mlflow'"
   ]
  },
  {
   "cell_type": "code",
   "execution_count": 5,
   "id": "bb460828-bdd9-4f83-9510-1607b58adccc",
   "metadata": {},
   "outputs": [
    {
     "data": {
      "text/plain": [
       "<Experiment: artifact_location='', creation_time=1711569460926, experiment_id='1869a825-c278-4a23-b291-e32372e906bb', last_update_time=None, lifecycle_stage='active', name='experiment_with_mlflow', tags={}>"
      ]
     },
     "execution_count": 5,
     "metadata": {},
     "output_type": "execute_result"
    }
   ],
   "source": [
    "mlflow.set_experiment(experiment_name)"
   ]
  },
  {
   "cell_type": "code",
   "execution_count": 23,
   "id": "81c9187f-05a8-46b4-828c-24e7e8e726c3",
   "metadata": {},
   "outputs": [
    {
     "data": {
      "text/plain": [
       "<Experiment: artifact_location='', creation_time=1711569460926, experiment_id='1869a825-c278-4a23-b291-e32372e906bb', last_update_time=None, lifecycle_stage='active', name='experiment_with_mlflow', tags={}>"
      ]
     },
     "execution_count": 23,
     "metadata": {},
     "output_type": "execute_result"
    }
   ],
   "source": [
    "exp = mlflow.get_experiment_by_name(experiment_name)\n",
    "exp"
   ]
  },
  {
   "cell_type": "code",
   "execution_count": null,
   "id": "81efbe4b-b4cd-4aad-9d6c-69ac26bdf7ea",
   "metadata": {},
   "outputs": [],
   "source": []
  },
  {
   "cell_type": "code",
   "execution_count": 67,
   "id": "4b125c73-f3e4-45cd-8bcc-507d36ec564f",
   "metadata": {},
   "outputs": [
    {
     "name": "stdout",
     "output_type": "stream",
     "text": [
      "Reading data...\n"
     ]
    },
    {
     "data": {
      "text/html": [
       "<div>\n",
       "<style scoped>\n",
       "    .dataframe tbody tr th:only-of-type {\n",
       "        vertical-align: middle;\n",
       "    }\n",
       "\n",
       "    .dataframe tbody tr th {\n",
       "        vertical-align: top;\n",
       "    }\n",
       "\n",
       "    .dataframe thead th {\n",
       "        text-align: right;\n",
       "    }\n",
       "</style>\n",
       "<table border=\"1\" class=\"dataframe\">\n",
       "  <thead>\n",
       "    <tr style=\"text-align: right;\">\n",
       "      <th></th>\n",
       "      <th>PatientID</th>\n",
       "      <th>Pregnancies</th>\n",
       "      <th>PlasmaGlucose</th>\n",
       "      <th>DiastolicBloodPressure</th>\n",
       "      <th>TricepsThickness</th>\n",
       "      <th>SerumInsulin</th>\n",
       "      <th>BMI</th>\n",
       "      <th>DiabetesPedigree</th>\n",
       "      <th>Age</th>\n",
       "      <th>Diabetic</th>\n",
       "    </tr>\n",
       "  </thead>\n",
       "  <tbody>\n",
       "    <tr>\n",
       "      <th>0</th>\n",
       "      <td>1354778</td>\n",
       "      <td>0</td>\n",
       "      <td>171</td>\n",
       "      <td>80</td>\n",
       "      <td>34</td>\n",
       "      <td>23</td>\n",
       "      <td>43.509726</td>\n",
       "      <td>1.213191</td>\n",
       "      <td>21</td>\n",
       "      <td>0</td>\n",
       "    </tr>\n",
       "    <tr>\n",
       "      <th>1</th>\n",
       "      <td>1147438</td>\n",
       "      <td>8</td>\n",
       "      <td>92</td>\n",
       "      <td>93</td>\n",
       "      <td>47</td>\n",
       "      <td>36</td>\n",
       "      <td>21.240576</td>\n",
       "      <td>0.158365</td>\n",
       "      <td>23</td>\n",
       "      <td>0</td>\n",
       "    </tr>\n",
       "    <tr>\n",
       "      <th>2</th>\n",
       "      <td>1640031</td>\n",
       "      <td>7</td>\n",
       "      <td>115</td>\n",
       "      <td>47</td>\n",
       "      <td>52</td>\n",
       "      <td>35</td>\n",
       "      <td>41.511523</td>\n",
       "      <td>0.079019</td>\n",
       "      <td>23</td>\n",
       "      <td>0</td>\n",
       "    </tr>\n",
       "    <tr>\n",
       "      <th>3</th>\n",
       "      <td>1883350</td>\n",
       "      <td>9</td>\n",
       "      <td>103</td>\n",
       "      <td>78</td>\n",
       "      <td>25</td>\n",
       "      <td>304</td>\n",
       "      <td>29.582192</td>\n",
       "      <td>1.282870</td>\n",
       "      <td>43</td>\n",
       "      <td>1</td>\n",
       "    </tr>\n",
       "    <tr>\n",
       "      <th>4</th>\n",
       "      <td>1424119</td>\n",
       "      <td>1</td>\n",
       "      <td>85</td>\n",
       "      <td>59</td>\n",
       "      <td>27</td>\n",
       "      <td>35</td>\n",
       "      <td>42.604536</td>\n",
       "      <td>0.549542</td>\n",
       "      <td>22</td>\n",
       "      <td>0</td>\n",
       "    </tr>\n",
       "  </tbody>\n",
       "</table>\n",
       "</div>"
      ],
      "text/plain": [
       "   PatientID  Pregnancies  PlasmaGlucose  DiastolicBloodPressure  \\\n",
       "0    1354778            0            171                      80   \n",
       "1    1147438            8             92                      93   \n",
       "2    1640031            7            115                      47   \n",
       "3    1883350            9            103                      78   \n",
       "4    1424119            1             85                      59   \n",
       "\n",
       "   TricepsThickness  SerumInsulin        BMI  DiabetesPedigree  Age  Diabetic  \n",
       "0                34            23  43.509726          1.213191   21         0  \n",
       "1                47            36  21.240576          0.158365   23         0  \n",
       "2                52            35  41.511523          0.079019   23         0  \n",
       "3                25           304  29.582192          1.282870   43         1  \n",
       "4                27            35  42.604536          0.549542   22         0  "
      ]
     },
     "execution_count": 67,
     "metadata": {},
     "output_type": "execute_result"
    }
   ],
   "source": [
    "import pandas as pd\n",
    "print(\"Reading data...\")\n",
    "df = pd.read_csv('azure-ml-labs/Labs/07/data/diabetes.csv')\n",
    "df.head()"
   ]
  },
  {
   "cell_type": "code",
   "execution_count": 68,
   "id": "0d8b8e9c-a901-433b-b649-1f5555951dbb",
   "metadata": {},
   "outputs": [],
   "source": [
    "from sklearn.model_selection import train_test_split\n",
    "X, y = df[['Pregnancies','PlasmaGlucose','DiastolicBloodPressure','TricepsThickness','SerumInsulin','BMI','DiabetesPedigree','Age']].values, df['Diabetic'].values\n",
    "X_train, X_test, y_train, y_test = train_test_split(X, y, test_size=0.30, random_state=0)"
   ]
  },
  {
   "cell_type": "code",
   "execution_count": 13,
   "id": "f7c2b68b-cec4-490a-a108-a00a582a32eb",
   "metadata": {},
   "outputs": [],
   "source": [
    "from sklearn.tree import DecisionTreeClassifier\n",
    "from sklearn.metrics import roc_auc_score\n",
    "import numpy as np\n",
    "\n",
    "with mlflow.start_run():\n",
    "    model = DecisionTreeClassifier().fit(X_train, y_train)\n",
    "\n",
    "    y_hat = model.predict(X_test)\n",
    "    acc = np.average(y_hat == y_test)\n",
    "    roc_auc = roc_auc_score(y_test, model.predict_proba(X_test))\n",
    "\n",
    "    mlflow.log_param(\"estimator\", \"DecisionTreeClassifier\")\n",
    "    mlflow.log_metric(\"Accuracy\", acc)\n",
    "    mlflow.log_metric(\"ROC AUC\", roc_auc)"
   ]
  },
  {
   "cell_type": "code",
   "execution_count": null,
   "id": "4d894886-4b9d-4c1d-a248-20b90a1a73f2",
   "metadata": {},
   "outputs": [],
   "source": []
  },
  {
   "cell_type": "code",
   "execution_count": 42,
   "id": "89880db5-af95-43a1-98c4-f8ad3ac38d00",
   "metadata": {},
   "outputs": [
    {
     "data": {
      "text/html": [
       "<div>\n",
       "<style scoped>\n",
       "    .dataframe tbody tr th:only-of-type {\n",
       "        vertical-align: middle;\n",
       "    }\n",
       "\n",
       "    .dataframe tbody tr th {\n",
       "        vertical-align: top;\n",
       "    }\n",
       "\n",
       "    .dataframe thead th {\n",
       "        text-align: right;\n",
       "    }\n",
       "</style>\n",
       "<table border=\"1\" class=\"dataframe\">\n",
       "  <thead>\n",
       "    <tr style=\"text-align: right;\">\n",
       "      <th></th>\n",
       "      <th>run_id</th>\n",
       "      <th>experiment_id</th>\n",
       "      <th>status</th>\n",
       "      <th>artifact_uri</th>\n",
       "      <th>start_time</th>\n",
       "      <th>end_time</th>\n",
       "      <th>metrics.Accuracy</th>\n",
       "      <th>metrics.ROC AUC</th>\n",
       "      <th>params.estimator</th>\n",
       "      <th>tags.mlflow.rootRunId</th>\n",
       "      <th>tags.mlflow.runName</th>\n",
       "      <th>tags.mlflow.user</th>\n",
       "    </tr>\n",
       "  </thead>\n",
       "  <tbody>\n",
       "    <tr>\n",
       "      <th>0</th>\n",
       "      <td>5236a355-3b00-4a23-b813-2a084a2a3ada</td>\n",
       "      <td>1869a825-c278-4a23-b291-e32372e906bb</td>\n",
       "      <td>FINISHED</td>\n",
       "      <td></td>\n",
       "      <td>2024-03-27 20:33:50.430000+00:00</td>\n",
       "      <td>2024-03-27 20:33:54.312000+00:00</td>\n",
       "      <td>0.888333</td>\n",
       "      <td>0.875603</td>\n",
       "      <td>DecisionTreeClassifier</td>\n",
       "      <td>5236a355-3b00-4a23-b813-2a084a2a3ada</td>\n",
       "      <td>lucid_tent_2yzfvs2s</td>\n",
       "      <td>Andrei Rusu</td>\n",
       "    </tr>\n",
       "  </tbody>\n",
       "</table>\n",
       "</div>"
      ],
      "text/plain": [
       "                                 run_id                         experiment_id  \\\n",
       "0  5236a355-3b00-4a23-b813-2a084a2a3ada  1869a825-c278-4a23-b291-e32372e906bb   \n",
       "\n",
       "     status artifact_uri                       start_time  \\\n",
       "0  FINISHED              2024-03-27 20:33:50.430000+00:00   \n",
       "\n",
       "                          end_time  metrics.Accuracy  metrics.ROC AUC  \\\n",
       "0 2024-03-27 20:33:54.312000+00:00          0.888333         0.875603   \n",
       "\n",
       "         params.estimator                 tags.mlflow.rootRunId  \\\n",
       "0  DecisionTreeClassifier  5236a355-3b00-4a23-b813-2a084a2a3ada   \n",
       "\n",
       "   tags.mlflow.runName tags.mlflow.user  \n",
       "0  lucid_tent_2yzfvs2s      Andrei Rusu  "
      ]
     },
     "execution_count": 42,
     "metadata": {},
     "output_type": "execute_result"
    }
   ],
   "source": [
    "run = mlflow.search_runs(exp.experiment_id)\n",
    "run"
   ]
  },
  {
   "cell_type": "code",
   "execution_count": 39,
   "id": "f5d70712-de88-41a1-a288-8c37a2ab4914",
   "metadata": {
    "scrolled": true
   },
   "outputs": [
    {
     "data": {
      "text/plain": [
       "<RegisteredModel: aliases={}, creation_timestamp=1711986042138, description='', last_updated_timestamp=1711986042138, latest_versions=[<ModelVersion: aliases=[], creation_timestamp=1713024635613, current_stage='None', description='', last_updated_timestamp=1713024635613, name='diabetes-mlflow', run_id='', run_link='', source='', status='READY', status_message='', tags={}, user_id='', version='2'>], name='diabetes-mlflow', tags={}>"
      ]
     },
     "execution_count": 39,
     "metadata": {},
     "output_type": "execute_result"
    }
   ],
   "source": [
    "mlflow.search_registered_models(filter_string='name=\"diabetes-mlflow\"')[0]"
   ]
  },
  {
   "cell_type": "code",
   "execution_count": 73,
   "id": "4915b1c6-0450-47a3-a0ab-dfdd152504b5",
   "metadata": {},
   "outputs": [],
   "source": [
    "last_run = mlflow.last_active_run()\n",
    "last_run"
   ]
  },
  {
   "cell_type": "code",
   "execution_count": 76,
   "id": "0de00f5f-03bf-41fd-ad19-6a1fb65ec7f0",
   "metadata": {},
   "outputs": [],
   "source": [
    "from azure.ai.ml.parallel import parallel_run_function"
   ]
  },
  {
   "cell_type": "code",
   "execution_count": null,
   "id": "b14eb981-a06c-4801-b304-785deda5f520",
   "metadata": {},
   "outputs": [],
   "source": []
  },
  {
   "cell_type": "code",
   "execution_count": 29,
   "id": "182928de-fb07-44fc-b87b-bcb369663f1c",
   "metadata": {},
   "outputs": [],
   "source": [
    "from mlflow import MlflowClient\n",
    "cl = MlflowClient()"
   ]
  },
  {
   "cell_type": "code",
   "execution_count": 61,
   "id": "64c15523-c006-4bc5-94cb-60185bdee5b2",
   "metadata": {},
   "outputs": [
    {
     "data": {
      "text/plain": [
       "[<Metric: key='Accuracy', step=0, timestamp=1711571632854, value=0.8883333333333333>]"
      ]
     },
     "execution_count": 61,
     "metadata": {},
     "output_type": "execute_result"
    }
   ],
   "source": [
    "cl.get_metric_history(run.run_id[0], 'Accuracy')"
   ]
  },
  {
   "cell_type": "code",
   "execution_count": 50,
   "id": "f79eddd8-8f58-40a9-97df-5dbc3f6f1145",
   "metadata": {},
   "outputs": [
    {
     "data": {
      "text/plain": [
       "[]"
      ]
     },
     "execution_count": 50,
     "metadata": {},
     "output_type": "execute_result"
    }
   ],
   "source": [
    "cl.list_artifacts(run.run_id[0])"
   ]
  },
  {
   "cell_type": "code",
   "execution_count": 60,
   "id": "998c8776-9b69-4f72-958e-46634f3759c0",
   "metadata": {
    "scrolled": true
   },
   "outputs": [
    {
     "data": {
      "text/plain": [
       "<RegisteredModel: aliases={}, creation_timestamp=1711986042138, description='', last_updated_timestamp=1711986042138, latest_versions=[<ModelVersion: aliases=[], creation_timestamp=1713024635613, current_stage='None', description='', last_updated_timestamp=1713024635613, name='diabetes-mlflow', run_id='', run_link='', source='', status='READY', status_message='', tags={}, user_id='', version='2'>], name='diabetes-mlflow', tags={}>"
      ]
     },
     "execution_count": 60,
     "metadata": {},
     "output_type": "execute_result"
    }
   ],
   "source": [
    "reg_model = cl.get_registered_model('diabetes-mlflow')\n",
    "reg_model"
   ]
  },
  {
   "cell_type": "code",
   "execution_count": 64,
   "id": "c6cdbf24-d686-4369-86fb-7b603d32f8bd",
   "metadata": {},
   "outputs": [
    {
     "data": {
      "text/plain": [
       "<ModelVersion: aliases=[], creation_timestamp=1711986042151, current_stage='None', description='Model given in Lab 11 but which only predicts class 1. Do not use.', last_updated_timestamp=1713023249508, name='diabetes-mlflow', run_id='', run_link='', source='', status='READY', status_message='', tags={}, user_id='', version='1'>"
      ]
     },
     "execution_count": 64,
     "metadata": {},
     "output_type": "execute_result"
    }
   ],
   "source": [
    "vers_model = cl.get_model_version('diabetes-mlflow', 1)\n",
    "vers_model"
   ]
  },
  {
   "cell_type": "code",
   "execution_count": 65,
   "id": "21db0303-8f3e-4fa6-973f-86f51c7d0107",
   "metadata": {},
   "outputs": [
    {
     "name": "stderr",
     "output_type": "stream",
     "text": [
      "C:\\Users\\Public\\anaconda3\\envs\\azure_ml\\Lib\\site-packages\\tqdm\\auto.py:22: TqdmWarning: IProgress not found. Please update jupyter and ipywidgets. See https://ipywidgets.readthedocs.io/en/stable/user_install.html\n",
      "  from .autonotebook import tqdm as notebook_tqdm\n",
      "Downloading artifacts: 100%|████████████████████████████████████████████████████| 6/6 [00:02<00:00,  2.71it/s]\n",
      "2024/04/15 20:17:18 WARNING mlflow.utils.requirements_utils: Detected one or more mismatches between the model's dependencies and the current Python environment:\n",
      " - psutil (current: 5.9.8, required: psutil==5.9.5)\n",
      " - scikit-learn (current: 1.4.1.post1, required: scikit-learn==1.3.0)\n",
      "To fix the mismatches, call `mlflow.pyfunc.get_model_dependencies(model_uri)` to fetch the model's environment and install dependencies using the resulting environment file.\n",
      "2024/04/15 20:17:18 WARNING mlflow.pyfunc: The version of Python that the model was saved in, `Python 3.8.17`, differs from the version of Python that is currently running, `Python 3.11.8`, and may be incompatible\n",
      "C:\\Users\\Public\\anaconda3\\envs\\azure_ml\\Lib\\site-packages\\sklearn\\base.py:376: InconsistentVersionWarning: Trying to unpickle estimator LogisticRegression from version 0.24.1 when using version 1.4.1.post1. This might lead to breaking code or invalid results. Use at your own risk. For more info please refer to:\n",
      "https://scikit-learn.org/stable/model_persistence.html#security-maintainability-limitations\n",
      "  warnings.warn(\n"
     ]
    }
   ],
   "source": [
    "model_uri = f\"models:/{vers_model.name}/{vers_model.version}\"\n",
    "model = mlflow.pyfunc.load_model(model_uri)"
   ]
  },
  {
   "cell_type": "code",
   "execution_count": 70,
   "id": "a47650c0-b3e1-481e-9fe0-e2693539ce42",
   "metadata": {},
   "outputs": [
    {
     "ename": "MlflowException",
     "evalue": "Failed to enforce schema of data '[[3.00000000e+00 1.22000000e+02 6.30000000e+01 ... 4.02146352e+01\n  2.66846118e-01 3.10000000e+01]\n [7.00000000e+00 1.28000000e+02 4.20000000e+01 ... 2.01910198e+01\n  1.37972838e-01 2.20000000e+01]\n [7.00000000e+00 7.80000000e+01 9.00000000e+01 ... 2.72086282e+01\n  1.68859030e-01 3.20000000e+01]\n ...\n [0.00000000e+00 1.54000000e+02 9.60000000e+01 ... 5.00860680e+01\n  2.61735223e-01 2.30000000e+01]\n [3.00000000e+00 1.04000000e+02 9.60000000e+01 ... 2.97657338e+01\n  1.41686538e-01 4.20000000e+01]\n [0.00000000e+00 6.70000000e+01 9.60000000e+01 ... 2.09277636e+01\n  6.13063034e-01 2.20000000e+01]]' with schema '['Pregnancies': double (required), 'PlasmaGlucose': double (required), 'DiastolicBloodPressure': double (required), 'TricepsThickness': double (required), 'SerumInsulin': double (required), 'BMI': double (required), 'DiabetesPedigree': double (required), 'Age': double (required)]'. Error: Model is missing inputs ['Pregnancies', 'PlasmaGlucose', 'DiastolicBloodPressure', 'TricepsThickness', 'SerumInsulin', 'BMI', 'DiabetesPedigree', 'Age']. Note that there were extra inputs: [0, 1, 2, 3, 4, 5, 6, 7]",
     "output_type": "error",
     "traceback": [
      "\u001b[1;31m---------------------------------------------------------------------------\u001b[0m",
      "\u001b[1;31mMlflowException\u001b[0m                           Traceback (most recent call last)",
      "File \u001b[1;32mC:\\Users\\Public\\anaconda3\\envs\\azure_ml\\Lib\\site-packages\\mlflow\\pyfunc\\__init__.py:669\u001b[0m, in \u001b[0;36mPyFuncModel.predict\u001b[1;34m(self, data, params)\u001b[0m\n\u001b[0;32m    668\u001b[0m \u001b[38;5;28;01mtry\u001b[39;00m:\n\u001b[1;32m--> 669\u001b[0m     data \u001b[38;5;241m=\u001b[39m \u001b[43m_enforce_schema\u001b[49m\u001b[43m(\u001b[49m\u001b[43mdata\u001b[49m\u001b[43m,\u001b[49m\u001b[43m \u001b[49m\u001b[43minput_schema\u001b[49m\u001b[43m,\u001b[49m\u001b[43m \u001b[49m\u001b[43mflavor\u001b[49m\u001b[43m)\u001b[49m\n\u001b[0;32m    670\u001b[0m \u001b[38;5;28;01mexcept\u001b[39;00m \u001b[38;5;167;01mException\u001b[39;00m \u001b[38;5;28;01mas\u001b[39;00m e:\n\u001b[0;32m    671\u001b[0m     \u001b[38;5;66;03m# Include error in message for backwards compatibility\u001b[39;00m\n",
      "File \u001b[1;32mC:\\Users\\Public\\anaconda3\\envs\\azure_ml\\Lib\\site-packages\\mlflow\\models\\utils.py:984\u001b[0m, in \u001b[0;36m_enforce_schema\u001b[1;34m(pf_input, input_schema, flavor)\u001b[0m\n\u001b[0;32m    983\u001b[0m             message \u001b[38;5;241m+\u001b[39m\u001b[38;5;241m=\u001b[39m \u001b[38;5;124mf\u001b[39m\u001b[38;5;124m\"\u001b[39m\u001b[38;5;124m Note that there were extra inputs: \u001b[39m\u001b[38;5;132;01m{\u001b[39;00mextra_cols\u001b[38;5;132;01m}\u001b[39;00m\u001b[38;5;124m\"\u001b[39m\n\u001b[1;32m--> 984\u001b[0m         \u001b[38;5;28;01mraise\u001b[39;00m MlflowException(message)\n\u001b[0;32m    985\u001b[0m \u001b[38;5;28;01melif\u001b[39;00m \u001b[38;5;129;01mnot\u001b[39;00m input_schema\u001b[38;5;241m.\u001b[39mis_tensor_spec():\n\u001b[0;32m    986\u001b[0m     \u001b[38;5;66;03m# The model signature does not specify column names => we can only verify column count.\u001b[39;00m\n",
      "\u001b[1;31mMlflowException\u001b[0m: Model is missing inputs ['Pregnancies', 'PlasmaGlucose', 'DiastolicBloodPressure', 'TricepsThickness', 'SerumInsulin', 'BMI', 'DiabetesPedigree', 'Age']. Note that there were extra inputs: [0, 1, 2, 3, 4, 5, 6, 7]",
      "\nDuring handling of the above exception, another exception occurred:\n",
      "\u001b[1;31mMlflowException\u001b[0m                           Traceback (most recent call last)",
      "Cell \u001b[1;32mIn[70], line 1\u001b[0m\n\u001b[1;32m----> 1\u001b[0m \u001b[43mmodel\u001b[49m\u001b[38;5;241;43m.\u001b[39;49m\u001b[43mpredict\u001b[49m\u001b[43m(\u001b[49m\u001b[43mX_test\u001b[49m\u001b[43m)\u001b[49m\n",
      "File \u001b[1;32mC:\\Users\\Public\\anaconda3\\envs\\azure_ml\\Lib\\site-packages\\mlflow\\pyfunc\\__init__.py:672\u001b[0m, in \u001b[0;36mPyFuncModel.predict\u001b[1;34m(self, data, params)\u001b[0m\n\u001b[0;32m    669\u001b[0m         data \u001b[38;5;241m=\u001b[39m _enforce_schema(data, input_schema, flavor)\n\u001b[0;32m    670\u001b[0m     \u001b[38;5;28;01mexcept\u001b[39;00m \u001b[38;5;167;01mException\u001b[39;00m \u001b[38;5;28;01mas\u001b[39;00m e:\n\u001b[0;32m    671\u001b[0m         \u001b[38;5;66;03m# Include error in message for backwards compatibility\u001b[39;00m\n\u001b[1;32m--> 672\u001b[0m         \u001b[38;5;28;01mraise\u001b[39;00m MlflowException\u001b[38;5;241m.\u001b[39minvalid_parameter_value(\n\u001b[0;32m    673\u001b[0m             \u001b[38;5;124mf\u001b[39m\u001b[38;5;124m\"\u001b[39m\u001b[38;5;124mFailed to enforce schema of data \u001b[39m\u001b[38;5;124m'\u001b[39m\u001b[38;5;132;01m{\u001b[39;00mdata\u001b[38;5;132;01m}\u001b[39;00m\u001b[38;5;124m'\u001b[39m\u001b[38;5;124m \u001b[39m\u001b[38;5;124m\"\u001b[39m\n\u001b[0;32m    674\u001b[0m             \u001b[38;5;124mf\u001b[39m\u001b[38;5;124m\"\u001b[39m\u001b[38;5;124mwith schema \u001b[39m\u001b[38;5;124m'\u001b[39m\u001b[38;5;132;01m{\u001b[39;00minput_schema\u001b[38;5;132;01m}\u001b[39;00m\u001b[38;5;124m'\u001b[39m\u001b[38;5;124m. \u001b[39m\u001b[38;5;124m\"\u001b[39m\n\u001b[0;32m    675\u001b[0m             \u001b[38;5;124mf\u001b[39m\u001b[38;5;124m\"\u001b[39m\u001b[38;5;124mError: \u001b[39m\u001b[38;5;132;01m{\u001b[39;00me\u001b[38;5;132;01m}\u001b[39;00m\u001b[38;5;124m\"\u001b[39m,\n\u001b[0;32m    676\u001b[0m         )\n\u001b[0;32m    678\u001b[0m params \u001b[38;5;241m=\u001b[39m _validate_params(params, \u001b[38;5;28mself\u001b[39m\u001b[38;5;241m.\u001b[39mmetadata)\n\u001b[0;32m    680\u001b[0m \u001b[38;5;28;01mif\u001b[39;00m inspect\u001b[38;5;241m.\u001b[39msignature(\u001b[38;5;28mself\u001b[39m\u001b[38;5;241m.\u001b[39m_predict_fn)\u001b[38;5;241m.\u001b[39mparameters\u001b[38;5;241m.\u001b[39mget(\u001b[38;5;124m\"\u001b[39m\u001b[38;5;124mparams\u001b[39m\u001b[38;5;124m\"\u001b[39m):\n",
      "\u001b[1;31mMlflowException\u001b[0m: Failed to enforce schema of data '[[3.00000000e+00 1.22000000e+02 6.30000000e+01 ... 4.02146352e+01\n  2.66846118e-01 3.10000000e+01]\n [7.00000000e+00 1.28000000e+02 4.20000000e+01 ... 2.01910198e+01\n  1.37972838e-01 2.20000000e+01]\n [7.00000000e+00 7.80000000e+01 9.00000000e+01 ... 2.72086282e+01\n  1.68859030e-01 3.20000000e+01]\n ...\n [0.00000000e+00 1.54000000e+02 9.60000000e+01 ... 5.00860680e+01\n  2.61735223e-01 2.30000000e+01]\n [3.00000000e+00 1.04000000e+02 9.60000000e+01 ... 2.97657338e+01\n  1.41686538e-01 4.20000000e+01]\n [0.00000000e+00 6.70000000e+01 9.60000000e+01 ... 2.09277636e+01\n  6.13063034e-01 2.20000000e+01]]' with schema '['Pregnancies': double (required), 'PlasmaGlucose': double (required), 'DiastolicBloodPressure': double (required), 'TricepsThickness': double (required), 'SerumInsulin': double (required), 'BMI': double (required), 'DiabetesPedigree': double (required), 'Age': double (required)]'. Error: Model is missing inputs ['Pregnancies', 'PlasmaGlucose', 'DiastolicBloodPressure', 'TricepsThickness', 'SerumInsulin', 'BMI', 'DiabetesPedigree', 'Age']. Note that there were extra inputs: [0, 1, 2, 3, 4, 5, 6, 7]"
     ]
    }
   ],
   "source": [
    "model.predict(X_test)"
   ]
  },
  {
   "cell_type": "code",
   "execution_count": null,
   "id": "b374a305-0705-4216-bae9-2f697218cfcb",
   "metadata": {},
   "outputs": [],
   "source": []
  }
 ],
 "metadata": {
  "kernelspec": {
   "display_name": "Python [conda env:azure_ml]",
   "language": "python",
   "name": "conda-env-azure_ml-py"
  },
  "language_info": {
   "codemirror_mode": {
    "name": "ipython",
    "version": 3
   },
   "file_extension": ".py",
   "mimetype": "text/x-python",
   "name": "python",
   "nbconvert_exporter": "python",
   "pygments_lexer": "ipython3",
   "version": "3.11.8"
  }
 },
 "nbformat": 4,
 "nbformat_minor": 5
}
