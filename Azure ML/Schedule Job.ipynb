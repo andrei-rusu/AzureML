{
  "cells": [
    {
      "cell_type": "markdown",
      "source": [
        "# Working with Schedule\n",
        "\n",
        "**Requirements** - In order to benefit from this tutorial, you will need:\n",
        "- A basic understanding of Machine Learning\n",
        "- An Azure account with an active subscription. [Create an account for free](https://azure.microsoft.com/free/?WT.mc_id=A261C142F)\n",
        "- An Azure ML workspace - [Configure workspace](../../jobs/configuration.ipynb) \n",
        "- A python environment\n",
        "- Installed Azure Machine Learning Python SDK v2 - [install instructions](../../README.md) - check the getting started section\n",
        "\n",
        "**Learning Objectives** - By the end of this tutorial, you should be able to:\n",
        "- Create schedule from Python SDK\n",
        "- Enable/Disable schedule from Python SDK\n",
        "- Update schedule's trigger from Python SDK\n",
        "\n",
        "**Motivations** - This notebook covers the main scenario that user management schedule for job in SDK v2."
      ],
      "metadata": {}
    },
    {
      "cell_type": "markdown",
      "source": [
        "# 1. Connect to Azure Machine Learning Workspace\n",
        "\n",
        "The [workspace](https://docs.microsoft.com/en-us/azure/machine-learning/concept-workspace) is the top-level resource for Azure Machine Learning, providing a centralized place to work with all the artifacts you create when you use Azure Machine Learning. In this section we will connect to the workspace in which the job will be run.\n",
        "\n",
        "## 1.1. Import the required libraries"
      ],
      "metadata": {}
    },
    {
      "cell_type": "code",
      "source": [
        "# Import required libraries\n",
        "from azure.identity import DefaultAzureCredential, InteractiveBrowserCredential\n",
        "\n",
        "from azure.ai.ml import MLClient, Input, load_component\n",
        "from azure.ai.ml.constants import TimeZone\n",
        "from azure.ai.ml.dsl import pipeline\n",
        "from azure.ai.ml.entities import (\n",
        "    JobSchedule,\n",
        "    CronTrigger,\n",
        "    RecurrenceTrigger,\n",
        "    RecurrencePattern,\n",
        ")\n",
        "from datetime import datetime"
      ],
      "outputs": [],
      "execution_count": 1,
      "metadata": {
        "gather": {
          "logged": 1711991671835
        }
      }
    },
    {
      "cell_type": "markdown",
      "source": [
        "## 1.2. Configure credential\n",
        "\n",
        "We are using `DefaultAzureCredential` to get access to workspace. When an access token is needed, it requests one using multiple identities(`EnvironmentCredential, ManagedIdentityCredential, SharedTokenCacheCredential, VisualStudioCodeCredential, AzureCliCredential, AzurePowerShellCredential`) in turn, stopping when one provides a token.\n",
        "Reference [here](https://docs.microsoft.com/en-us/python/api/azure-identity/azure.identity.defaultazurecredential?view=azure-python) for more information.\n",
        "\n",
        "`DefaultAzureCredential` should be capable of handling most Azure SDK authentication scenarios. \n",
        "Reference [here](https://docs.microsoft.com/en-us/python/api/azure-identity/azure.identity?view=azure-python) for all available credentials if it does not work for you.  "
      ],
      "metadata": {}
    },
    {
      "cell_type": "code",
      "source": [
        "try:\n",
        "    credential = DefaultAzureCredential()\n",
        "    # Check if given credential can get token successfully.\n",
        "    credential.get_token(\"https://management.azure.com/.default\")\n",
        "except Exception as ex:\n",
        "    # Fall back to InteractiveBrowserCredential in case DefaultAzureCredential not work\n",
        "    credential = InteractiveBrowserCredential()"
      ],
      "outputs": [],
      "execution_count": 2,
      "metadata": {
        "gather": {
          "logged": 1711991697399
        }
      }
    },
    {
      "cell_type": "markdown",
      "source": [
        "## 1.3. Configure workspace details and get a handle to the workspace\n",
        "\n",
        "To connect to a workspace, we need identifier parameters - a subscription, resource group and workspace name. We will use these details in the `MLClient` from `azure.ai.ml` to get a handle to the required Azure Machine Learning workspace."
      ],
      "metadata": {}
    },
    {
      "cell_type": "code",
      "source": [
        "try:\n",
        "    ml_client = MLClient.from_config(credential=credential)\n",
        "except Exception as ex:\n",
        "    # enter details of your AML workspace\n",
        "    subscription_id = \"<SUBSCRIPTION_ID>\"\n",
        "    resource_group = \"<RESOURCE_GROUP>\"\n",
        "    workspace = \"<AML_WORKSPACE_NAME>\"\n",
        "\n",
        "    # get a handle to the workspace\n",
        "    ml_client = MLClient(credential, subscription_id, resource_group, workspace)\n",
        "print(ml_client)"
      ],
      "outputs": [
        {
          "output_type": "stream",
          "name": "stderr",
          "text": "Found the config file in: /config.json\n"
        },
        {
          "output_type": "stream",
          "name": "stdout",
          "text": "MLClient(credential=<azure.identity._credentials.default.DefaultAzureCredential object at 0x7f608f9ffe80>,\n         subscription_id=31b2efe9-cc1f-447c-b8be-13e3e95feb59,\n         resource_group_name=ar5g15-rg,\n         workspace_name=dp_prep)\n"
        }
      ],
      "execution_count": 3,
      "metadata": {
        "gather": {
          "logged": 1711991711609
        }
      }
    },
    {
      "cell_type": "markdown",
      "source": [
        "## 1.4 Create a pipeline job with settings"
      ],
      "metadata": {}
    },
    {
      "cell_type": "code",
      "source": [
        "parent_dir = \"../jobs/pipelines/1a_pipeline_with_components_from_yaml\"\n",
        "train_model = load_component(source=parent_dir + \"/train_model.yml\")\n",
        "score_data = load_component(source=parent_dir + \"/score_data.yml\")\n",
        "eval_model = load_component(source=parent_dir + \"/eval_model.yml\")\n",
        "\n",
        "# Construct pipeline\n",
        "@pipeline()\n",
        "def pipeline_with_components_from_yaml(\n",
        "    training_input,\n",
        "    test_input,\n",
        "    training_max_epochs=20,\n",
        "    training_learning_rate=1.8,\n",
        "    learning_rate_schedule=\"time-based\",\n",
        "):\n",
        "    \"\"\"E2E dummy train-score-eval pipeline with components defined via yaml.\"\"\"\n",
        "    # Call component obj as function: apply given inputs & parameters to create a node in pipeline\n",
        "    train_with_sample_data = train_model(\n",
        "        training_data=training_input,\n",
        "        max_epochs=training_max_epochs,\n",
        "        learning_rate=training_learning_rate,\n",
        "        learning_rate_schedule=learning_rate_schedule,\n",
        "    )\n",
        "\n",
        "    score_with_sample_data = score_data(\n",
        "        model_input=train_with_sample_data.outputs.model_output, test_data=test_input\n",
        "    )\n",
        "    score_with_sample_data.outputs.score_output.mode = \"upload\"\n",
        "\n",
        "    eval_with_sample_data = eval_model(\n",
        "        scoring_result=score_with_sample_data.outputs.score_output\n",
        "    )\n",
        "\n",
        "    # Return: pipeline outputs\n",
        "    return {\n",
        "        \"trained_model\": train_with_sample_data.outputs.model_output,\n",
        "        \"scored_data\": score_with_sample_data.outputs.score_output,\n",
        "        \"evaluation_report\": eval_with_sample_data.outputs.eval_output,\n",
        "    }"
      ],
      "outputs": [],
      "execution_count": 4,
      "metadata": {
        "name": "create_pipeline_job",
        "gather": {
          "logged": 1711991867692
        }
      }
    },
    {
      "cell_type": "code",
      "source": [
        "# set run time settings\n",
        "pipeline_job = pipeline_with_components_from_yaml(\n",
        "    training_input=Input(type=\"uri_folder\", path=parent_dir + \"/data/\"),\n",
        "    test_input=Input(type=\"uri_folder\", path=parent_dir + \"/data/\"),\n",
        "    training_max_epochs=20,\n",
        "    training_learning_rate=1.8,\n",
        "    learning_rate_schedule=\"time-based\",\n",
        ")\n",
        "\n",
        "# set pipeline level compute\n",
        "pipeline_job.settings.default_compute = \"aml-cluster\""
      ],
      "outputs": [],
      "execution_count": 5,
      "metadata": {
        "name": "change_run_settings",
        "gather": {
          "logged": 1711991956461
        }
      }
    },
    {
      "cell_type": "markdown",
      "source": [
        "## 2.1 Create schedule\n",
        "### 2.1.1 Define schedule with with recurrence pattern"
      ],
      "metadata": {}
    },
    {
      "cell_type": "code",
      "source": [
        "schedule_name = \"simple_sdk_create_schedule_recurrence\"\n",
        "\n",
        "schedule_start_time = datetime.utcnow()\n",
        "recurrence_trigger = RecurrenceTrigger(\n",
        "    frequency=\"day\",\n",
        "    interval=1,\n",
        "    schedule=RecurrencePattern(hours=10, minutes=[0, 1]),\n",
        "    start_time=schedule_start_time,\n",
        "    time_zone=TimeZone.UTC,\n",
        ")\n",
        "\n",
        "job_schedule = JobSchedule(\n",
        "    name=schedule_name, trigger=recurrence_trigger, create_job=pipeline_job\n",
        ")"
      ],
      "outputs": [],
      "execution_count": 6,
      "metadata": {
        "name": "create_schedule_recurrence",
        "gather": {
          "logged": 1711992021585
        }
      }
    },
    {
      "cell_type": "markdown",
      "source": [
        "### 2.1.2 Define schedule with with cron expression"
      ],
      "metadata": {}
    },
    {
      "cell_type": "code",
      "source": [
        "schedule_name = \"simple_sdk_create_schedule_cron\"\n",
        "\n",
        "schedule_start_time = datetime.utcnow()\n",
        "cron_trigger = CronTrigger(\n",
        "    expression=\"15 10 * * *\",\n",
        "    start_time=schedule_start_time,  # start time\n",
        "    time_zone=\"Eastern Standard Time\",  # time zone of expression\n",
        ")\n",
        "\n",
        "job_schedule = JobSchedule(\n",
        "    name=schedule_name, trigger=cron_trigger, create_job=pipeline_job\n",
        ")"
      ],
      "outputs": [],
      "execution_count": 7,
      "metadata": {
        "name": "create_schedule_cron",
        "gather": {
          "logged": 1711992058136
        }
      }
    },
    {
      "cell_type": "markdown",
      "source": [
        "### 2.1.3 Create schedule"
      ],
      "metadata": {}
    },
    {
      "cell_type": "code",
      "source": [
        "job_schedule = ml_client.schedules.begin_create_or_update(\n",
        "    schedule=job_schedule\n",
        ").result()\n",
        "print(job_schedule)"
      ],
      "outputs": [
        {
          "output_type": "stream",
          "name": "stderr",
          "text": "Class AutoDeleteSettingSchema: This is an experimental class, and may change at any time. Please see https://aka.ms/azuremlexperimental for more information.\nClass AutoDeleteConditionSchema: This is an experimental class, and may change at any time. Please see https://aka.ms/azuremlexperimental for more information.\nClass BaseAutoDeleteSettingSchema: This is an experimental class, and may change at any time. Please see https://aka.ms/azuremlexperimental for more information.\nClass IntellectualPropertySchema: This is an experimental class, and may change at any time. Please see https://aka.ms/azuremlexperimental for more information.\nClass ProtectionLevelSchema: This is an experimental class, and may change at any time. Please see https://aka.ms/azuremlexperimental for more information.\nClass BaseIntellectualPropertySchema: This is an experimental class, and may change at any time. Please see https://aka.ms/azuremlexperimental for more information.\n\u001b[32mUploading train_src (0.0 MBs): 100%|██████████| 1459/1459 [00:00<00:00, 119290.62it/s]\n\u001b[39m\n\n\u001b[32mUploading score_src (0.0 MBs): 100%|██████████| 916/916 [00:00<00:00, 78340.66it/s]\n\u001b[39m\n\n\u001b[32mUploading eval_src (0.0 MBs): 100%|██████████| 770/770 [00:00<00:00, 52840.54it/s]\n\u001b[39m\n\n\u001b[32mUploading data (0.0 MBs): 100%|██████████| 500/500 [00:00<00:00, 66584.71it/s]\n\u001b[39m\n\n"
        },
        {
          "output_type": "stream",
          "name": "stdout",
          "text": "{}\n....name: simple_sdk_create_schedule_cron\ncreation_context:\n  created_at: '2024-04-01T17:26:08.309195+00:00'\n  created_by: Andrei Rusu\n  created_by_type: User\n  last_modified_at: '2024-04-01T17:26:08.309195+00:00'\n  last_modified_by: Andrei Rusu\n  last_modified_by_type: User\ncreate_job:\n  description: E2E dummy train-score-eval pipeline with components defined via yaml.\n  display_name: pipeline_with_components_from_yaml\n  status: NotStarted\n  experiment_name: Default\n  type: pipeline\n  settings:\n    default_compute: azureml:/subscriptions/31b2efe9-cc1f-447c-b8be-13e3e95feb59/resourceGroups/ar5g15-rg/providers/Microsoft.MachineLearningServices/workspaces/dp_prep/computes/aml-cluster\n  inputs:\n    training_input:\n      mode: ro_mount\n      type: uri_folder\n      path: azureml://datastores/workspaceblobstore/paths/LocalUpload/a4ea67840c5dc731f35aa8c81eab325a/data/\n    test_input:\n      mode: ro_mount\n      type: uri_folder\n      path: azureml://datastores/workspaceblobstore/paths/LocalUpload/a4ea67840c5dc731f35aa8c81eab325a/data/\n    training_max_epochs: '20'\n    training_learning_rate: '1.8'\n    learning_rate_schedule: time-based\n  outputs:\n    trained_model:\n      mode: rw_mount\n      type: uri_folder\n    scored_data:\n      mode: upload\n      type: uri_folder\n    evaluation_report:\n      mode: rw_mount\n      type: uri_folder\n  jobs:\n    train_with_sample_data:\n      inputs:\n        training_data:\n          path: ${{parent.inputs.training_input}}\n        max_epochs:\n          path: ${{parent.inputs.training_max_epochs}}\n        learning_rate:\n          path: ${{parent.inputs.training_learning_rate}}\n        learning_rate_schedule:\n          path: ${{parent.inputs.learning_rate_schedule}}\n      outputs:\n        model_output: ${{parent.outputs.trained_model}}\n      component: azureml:/subscriptions/31b2efe9-cc1f-447c-b8be-13e3e95feb59/resourceGroups/ar5g15-rg/providers/Microsoft.MachineLearningServices/workspaces/dp_prep/components/azureml_anonymous/versions/c71efef0-2289-412c-99f3-1af101e4bff8\n      type: command\n    score_with_sample_data:\n      inputs:\n        model_input:\n          path: ${{parent.jobs.train_with_sample_data.outputs.model_output}}\n        test_data:\n          path: ${{parent.inputs.test_input}}\n      outputs:\n        score_output:\n          mode: upload\n          type: uri_folder\n          path: ${{parent.outputs.scored_data}}\n      component: azureml:/subscriptions/31b2efe9-cc1f-447c-b8be-13e3e95feb59/resourceGroups/ar5g15-rg/providers/Microsoft.MachineLearningServices/workspaces/dp_prep/components/azureml_anonymous/versions/ec76670d-073f-4a01-8b3b-9ba45954e398\n      type: command\n    eval_with_sample_data:\n      inputs:\n        scoring_result:\n          path: ${{parent.jobs.score_with_sample_data.outputs.score_output}}\n      outputs:\n        eval_output: ${{parent.outputs.evaluation_report}}\n      component: azureml:/subscriptions/31b2efe9-cc1f-447c-b8be-13e3e95feb59/resourceGroups/ar5g15-rg/providers/Microsoft.MachineLearningServices/workspaces/dp_prep/components/azureml_anonymous/versions/43636dfc-35c1-4615-b895-e62935b3ba3e\n      type: command\ntrigger:\n  start_time: '2024-04-01 17:20:57.634238'\n  time_zone: Eastern Standard Time\n  type: cron\n  expression: 15 10 * * *\nprovisioning_state: Succeeded\nis_enabled: true\n\n"
        }
      ],
      "execution_count": 8,
      "metadata": {
        "name": "create_schedule",
        "gather": {
          "logged": 1711992372294
        }
      }
    },
    {
      "cell_type": "markdown",
      "source": [
        "## 2.2 Disable the schedule"
      ],
      "metadata": {}
    },
    {
      "cell_type": "code",
      "source": [
        "job_schedule = ml_client.schedules.begin_disable(name=schedule_name).result()\n",
        "job_schedule.is_enabled"
      ],
      "outputs": [
        {
          "output_type": "stream",
          "name": "stdout",
          "text": "{}\n.."
        },
        {
          "output_type": "execute_result",
          "execution_count": 9,
          "data": {
            "text/plain": "False"
          },
          "metadata": {}
        }
      ],
      "execution_count": 9,
      "metadata": {
        "name": "disable_schedule",
        "gather": {
          "logged": 1711992398293
        }
      }
    },
    {
      "cell_type": "markdown",
      "source": [
        "## 2.3 Check the detail of the schedule"
      ],
      "metadata": {}
    },
    {
      "cell_type": "code",
      "source": [
        "created_schedule = ml_client.schedules.get(name=schedule_name)\n",
        "[created_schedule.name]"
      ],
      "outputs": [
        {
          "output_type": "execute_result",
          "execution_count": 10,
          "data": {
            "text/plain": "['simple_sdk_create_schedule_cron']"
          },
          "metadata": {}
        }
      ],
      "execution_count": 10,
      "metadata": {
        "name": "show_schedule",
        "gather": {
          "logged": 1711992457648
        }
      }
    },
    {
      "cell_type": "markdown",
      "source": [
        "## 2.4 List schedules in a workspace"
      ],
      "metadata": {}
    },
    {
      "cell_type": "code",
      "source": [
        "schedules = ml_client.schedules.list()\n",
        "[s.name for s in schedules]"
      ],
      "outputs": [
        {
          "output_type": "execute_result",
          "execution_count": 13,
          "data": {
            "text/plain": "['simple_sdk_create_schedule_cron']"
          },
          "metadata": {}
        }
      ],
      "execution_count": 13,
      "metadata": {
        "name": "list_schedule",
        "gather": {
          "logged": 1711992489719
        }
      }
    },
    {
      "cell_type": "markdown",
      "source": [
        "## 2.5 Enable a schedule"
      ],
      "metadata": {}
    },
    {
      "cell_type": "code",
      "source": [
        "job_schedule = ml_client.schedules.begin_enable(name=schedule_name).result()\n",
        "job_schedule.is_enabled"
      ],
      "outputs": [
        {
          "output_type": "stream",
          "name": "stdout",
          "text": "{}\n.."
        },
        {
          "output_type": "execute_result",
          "execution_count": 12,
          "data": {
            "text/plain": "True"
          },
          "metadata": {}
        }
      ],
      "execution_count": 12,
      "metadata": {
        "gather": {
          "logged": 1711992487457
        }
      }
    },
    {
      "cell_type": "markdown",
      "source": [
        "## 2.6 Update a schedule"
      ],
      "metadata": {}
    },
    {
      "cell_type": "code",
      "source": [
        "# Update trigger expression\n",
        "job_schedule.trigger.expression = \"10 10 * * 1\"\n",
        "job_schedule = ml_client.schedules.begin_create_or_update(\n",
        "    schedule=job_schedule\n",
        ").result()\n",
        "print(job_schedule)"
      ],
      "outputs": [
        {
          "output_type": "stream",
          "name": "stdout",
          "text": "{}\n..name: simple_sdk_create_schedule_cron\ncreation_context:\n  created_at: '2024-04-01T17:26:08.309195+00:00'\n  created_by: Andrei Rusu\n  created_by_type: User\n  last_modified_at: '2024-04-01T17:28:34.879314+00:00'\n  last_modified_by: Andrei Rusu\n  last_modified_by_type: User\ncreate_job:\n  description: E2E dummy train-score-eval pipeline with components defined via yaml.\n  display_name: pipeline_with_components_from_yaml\n  status: NotStarted\n  experiment_name: Default\n  type: pipeline\n  settings:\n    default_compute: azureml:/subscriptions/31b2efe9-cc1f-447c-b8be-13e3e95feb59/resourceGroups/ar5g15-rg/providers/Microsoft.MachineLearningServices/workspaces/dp_prep/computes/aml-cluster\n  inputs:\n    training_input:\n      mode: ro_mount\n      type: uri_folder\n      path: azureml://datastores/workspaceblobstore/paths/LocalUpload/a4ea67840c5dc731f35aa8c81eab325a/data/\n    test_input:\n      mode: ro_mount\n      type: uri_folder\n      path: azureml://datastores/workspaceblobstore/paths/LocalUpload/a4ea67840c5dc731f35aa8c81eab325a/data/\n    training_max_epochs: '20'\n    training_learning_rate: '1.8'\n    learning_rate_schedule: time-based\n  outputs:\n    trained_model:\n      mode: rw_mount\n      type: uri_folder\n    scored_data:\n      mode: upload\n      type: uri_folder\n    evaluation_report:\n      mode: rw_mount\n      type: uri_folder\n  jobs:\n    train_with_sample_data:\n      inputs:\n        training_data:\n          path: ${{parent.inputs.training_input}}\n        max_epochs:\n          path: ${{parent.inputs.training_max_epochs}}\n        learning_rate:\n          path: ${{parent.inputs.training_learning_rate}}\n        learning_rate_schedule:\n          path: ${{parent.inputs.learning_rate_schedule}}\n      outputs:\n        model_output: ${{parent.outputs.trained_model}}\n      component: azureml:/subscriptions/31b2efe9-cc1f-447c-b8be-13e3e95feb59/resourceGroups/ar5g15-rg/providers/Microsoft.MachineLearningServices/workspaces/dp_prep/components/azureml_anonymous/versions/c71efef0-2289-412c-99f3-1af101e4bff8\n      type: command\n    score_with_sample_data:\n      inputs:\n        model_input:\n          path: ${{parent.jobs.train_with_sample_data.outputs.model_output}}\n        test_data:\n          path: ${{parent.inputs.test_input}}\n      outputs:\n        score_output:\n          mode: upload\n          type: uri_folder\n          path: ${{parent.outputs.scored_data}}\n      component: azureml:/subscriptions/31b2efe9-cc1f-447c-b8be-13e3e95feb59/resourceGroups/ar5g15-rg/providers/Microsoft.MachineLearningServices/workspaces/dp_prep/components/azureml_anonymous/versions/ec76670d-073f-4a01-8b3b-9ba45954e398\n      type: command\n    eval_with_sample_data:\n      inputs:\n        scoring_result:\n          path: ${{parent.jobs.score_with_sample_data.outputs.score_output}}\n      outputs:\n        eval_output: ${{parent.outputs.evaluation_report}}\n      component: azureml:/subscriptions/31b2efe9-cc1f-447c-b8be-13e3e95feb59/resourceGroups/ar5g15-rg/providers/Microsoft.MachineLearningServices/workspaces/dp_prep/components/azureml_anonymous/versions/43636dfc-35c1-4615-b895-e62935b3ba3e\n      type: command\ntrigger:\n  start_time: '2024-04-01 17:20:57.634238'\n  time_zone: Eastern Standard Time\n  type: cron\n  expression: 10 10 * * 1\nprovisioning_state: Succeeded\nis_enabled: true\n\n"
        }
      ],
      "execution_count": 14,
      "metadata": {
        "name": "enable_schedule",
        "gather": {
          "logged": 1711992518834
        }
      }
    },
    {
      "cell_type": "markdown",
      "source": [
        "## 2.7 Delete the schedule"
      ],
      "metadata": {}
    },
    {
      "cell_type": "code",
      "source": [
        "# Only disabled schedules can be deleted\n",
        "ml_client.schedules.begin_disable(name=schedule_name).result()\n",
        "ml_client.schedules.begin_delete(name=schedule_name).result()"
      ],
      "outputs": [
        {
          "output_type": "stream",
          "name": "stdout",
          "text": "{}\n............"
        }
      ],
      "execution_count": 15,
      "metadata": {
        "name": "delete_schedule"
      }
    },
    {
      "cell_type": "code",
      "source": [],
      "outputs": [],
      "execution_count": null,
      "metadata": {
        "jupyter": {
          "source_hidden": false,
          "outputs_hidden": false
        },
        "nteract": {
          "transient": {
            "deleting": false
          }
        }
      }
    }
  ],
  "metadata": {
    "description": {
      "description": "Create a component asset"
    },
    "kernelspec": {
      "name": "python310-sdkv2",
      "language": "python",
      "display_name": "Python 3.10 - SDK v2"
    },
    "language_info": {
      "name": "python",
      "version": "3.10.11",
      "mimetype": "text/x-python",
      "codemirror_mode": {
        "name": "ipython",
        "version": 3
      },
      "pygments_lexer": "ipython3",
      "nbconvert_exporter": "python",
      "file_extension": ".py"
    },
    "vscode": {
      "interpreter": {
        "hash": "0d334cf3c07019271c164ebdcf351803825400d6a25940919e70ae20f27dcfe7"
      }
    },
    "microsoft": {
      "ms_spell_check": {
        "ms_spell_check_language": "en"
      }
    },
    "kernel_info": {
      "name": "python310-sdkv2"
    },
    "nteract": {
      "version": "nteract-front-end@1.0.0"
    }
  },
  "nbformat": 4,
  "nbformat_minor": 4
}