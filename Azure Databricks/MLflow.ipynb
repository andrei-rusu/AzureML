{
 "cells": [
  {
   "cell_type": "code",
   "execution_count": 0,
   "metadata": {
    "application/vnd.databricks.v1+cell": {
     "cellMetadata": {
      "byteLimit": 2048000,
      "rowLimit": 10000
     },
     "inputWidgets": {},
     "nuid": "77b281b2-46c7-40ef-b848-fa51b636997a",
     "showTitle": false,
     "title": ""
    }
   },
   "outputs": [
    {
     "output_type": "stream",
     "name": "stderr",
     "output_type": "stream",
     "text": [
      "rm: cannot remove '/dbfs/mlflow_lab': No such file or directory\n--2024-04-04 11:45:12--  https://raw.githubusercontent.com/MicrosoftLearning/mslearn-databricks/main/data/penguins.csv\nResolving raw.githubusercontent.com (raw.githubusercontent.com)... 185.199.109.133, 185.199.110.133, 185.199.111.133, ...\nConnecting to raw.githubusercontent.com (raw.githubusercontent.com)|185.199.109.133|:443... connected.\nHTTP request sent, awaiting response... 200 OK\nLength: 9533 (9.3K) [text/plain]\nSaving to: ‘/dbfs/mlflow_lab/penguins.csv’\n\n     0K .........                                             100% 1.01M=0.009s\n\n2024-04-04 11:45:12 (1.01 MB/s) - ‘/dbfs/mlflow_lab/penguins.csv’ saved [9533/9533]\n\n"
     ]
    }
   ],
   "source": [
    " %sh\n",
    " rm -r /dbfs/mlflow_lab\n",
    " mkdir /dbfs/mlflow_lab\n",
    " wget -O /dbfs/mlflow_lab/penguins.csv https://raw.githubusercontent.com/MicrosoftLearning/mslearn-databricks/main/data/penguins.csv"
   ]
  },
  {
   "cell_type": "code",
   "execution_count": 0,
   "metadata": {
    "application/vnd.databricks.v1+cell": {
     "cellMetadata": {
      "byteLimit": 2048000,
      "rowLimit": 10000
     },
     "inputWidgets": {},
     "nuid": "6dc313ad-efbf-411b-92b2-79a64a096b42",
     "showTitle": false,
     "title": ""
    }
   },
   "outputs": [
    {
     "output_type": "display_data",
     "data": {
      "text/html": [
       "<style scoped>\n",
       "  .table-result-container {\n",
       "    max-height: 300px;\n",
       "    overflow: auto;\n",
       "  }\n",
       "  table, th, td {\n",
       "    border: 1px solid black;\n",
       "    border-collapse: collapse;\n",
       "  }\n",
       "  th, td {\n",
       "    padding: 5px;\n",
       "  }\n",
       "  th {\n",
       "    text-align: left;\n",
       "  }\n",
       "</style><div class='table-result-container'><table class='table-result'><thead style='background-color: white'><tr><th>Island</th><th>CulmenLength</th><th>CulmenDepth</th><th>FlipperLength</th><th>BodyMass</th><th>Species</th></tr></thead><tbody><tr><td>Torgersen</td><td>40.3</td><td>18.0</td><td>195.0</td><td>3250.0</td><td>0</td></tr><tr><td>Torgersen</td><td>39.3</td><td>20.6</td><td>190.0</td><td>3650.0</td><td>0</td></tr><tr><td>Torgersen</td><td>34.4</td><td>18.4</td><td>184.0</td><td>3325.0</td><td>0</td></tr><tr><td>Biscoe</td><td>38.2</td><td>18.1</td><td>185.0</td><td>3950.0</td><td>0</td></tr><tr><td>Biscoe</td><td>37.9</td><td>18.6</td><td>172.0</td><td>3150.0</td><td>0</td></tr><tr><td>Dream</td><td>36.4</td><td>17.0</td><td>195.0</td><td>3325.0</td><td>0</td></tr><tr><td>Dream</td><td>39.8</td><td>19.1</td><td>184.0</td><td>4650.0</td><td>0</td></tr><tr><td>Dream</td><td>36.0</td><td>18.5</td><td>186.0</td><td>3100.0</td><td>0</td></tr><tr><td>Dream</td><td>41.1</td><td>19.0</td><td>182.0</td><td>3425.0</td><td>0</td></tr><tr><td>Dream</td><td>37.5</td><td>18.9</td><td>179.0</td><td>2975.0</td><td>0</td></tr><tr><td>Biscoe</td><td>35.0</td><td>17.9</td><td>190.0</td><td>3450.0</td><td>0</td></tr><tr><td>Biscoe</td><td>40.6</td><td>18.8</td><td>193.0</td><td>3800.0</td><td>0</td></tr><tr><td>Biscoe</td><td>41.1</td><td>18.2</td><td>192.0</td><td>4050.0</td><td>0</td></tr><tr><td>Biscoe</td><td>35.5</td><td>16.2</td><td>195.0</td><td>3350.0</td><td>0</td></tr><tr><td>Torgersen</td><td>40.9</td><td>16.8</td><td>191.0</td><td>3700.0</td><td>0</td></tr><tr><td>Torgersen</td><td>37.2</td><td>19.4</td><td>184.0</td><td>3900.0</td><td>0</td></tr><tr><td>Torgersen</td><td>42.9</td><td>17.6</td><td>196.0</td><td>4700.0</td><td>0</td></tr><tr><td>Dream</td><td>37.3</td><td>17.8</td><td>191.0</td><td>3350.0</td><td>0</td></tr><tr><td>Dream</td><td>41.3</td><td>20.3</td><td>194.0</td><td>3550.0</td><td>0</td></tr><tr><td>Dream</td><td>36.3</td><td>19.5</td><td>190.0</td><td>3800.0</td><td>0</td></tr><tr><td>Dream</td><td>38.9</td><td>18.8</td><td>190.0</td><td>3600.0</td><td>0</td></tr><tr><td>Dream</td><td>36.2</td><td>17.3</td><td>187.0</td><td>3300.0</td><td>0</td></tr><tr><td>Biscoe</td><td>39.7</td><td>18.9</td><td>184.0</td><td>3550.0</td><td>0</td></tr><tr><td>Biscoe</td><td>38.6</td><td>17.2</td><td>199.0</td><td>3750.0</td><td>0</td></tr><tr><td>Biscoe</td><td>42.7</td><td>18.3</td><td>196.0</td><td>4075.0</td><td>0</td></tr><tr><td>Torgersen</td><td>37.7</td><td>19.8</td><td>198.0</td><td>3500.0</td><td>0</td></tr><tr><td>Torgersen</td><td>38.8</td><td>17.6</td><td>191.0</td><td>3275.0</td><td>0</td></tr><tr><td>Torgersen</td><td>39.0</td><td>17.1</td><td>191.0</td><td>3050.0</td><td>0</td></tr><tr><td>Torgersen</td><td>44.1</td><td>18.0</td><td>210.0</td><td>4000.0</td><td>0</td></tr><tr><td>Torgersen</td><td>38.5</td><td>17.9</td><td>190.0</td><td>3325.0</td><td>0</td></tr><tr><td>Dream</td><td>41.1</td><td>17.5</td><td>190.0</td><td>3900.0</td><td>0</td></tr><tr><td>Dream</td><td>36.0</td><td>17.1</td><td>187.0</td><td>3700.0</td><td>0</td></tr><tr><td>Biscoe</td><td>46.8</td><td>15.4</td><td>215.0</td><td>5150.0</td><td>1</td></tr><tr><td>Biscoe</td><td>49.3</td><td>15.7</td><td>217.0</td><td>5850.0</td><td>1</td></tr><tr><td>Biscoe</td><td>42.0</td><td>13.5</td><td>210.0</td><td>4150.0</td><td>1</td></tr><tr><td>Biscoe</td><td>44.5</td><td>14.3</td><td>216.0</td><td>4100.0</td><td>1</td></tr><tr><td>Biscoe</td><td>50.0</td><td>15.3</td><td>220.0</td><td>5550.0</td><td>1</td></tr><tr><td>Biscoe</td><td>59.6</td><td>17.0</td><td>230.0</td><td>6050.0</td><td>1</td></tr><tr><td>Biscoe</td><td>46.5</td><td>14.4</td><td>217.0</td><td>4900.0</td><td>1</td></tr><tr><td>Biscoe</td><td>43.8</td><td>13.9</td><td>208.0</td><td>4300.0</td><td>1</td></tr><tr><td>Biscoe</td><td>45.8</td><td>14.2</td><td>219.0</td><td>4700.0</td><td>1</td></tr><tr><td>Biscoe</td><td>47.7</td><td>15.0</td><td>216.0</td><td>4750.0</td><td>1</td></tr><tr><td>Biscoe</td><td>48.6</td><td>16.0</td><td>230.0</td><td>5800.0</td><td>1</td></tr><tr><td>Biscoe</td><td>45.2</td><td>13.8</td><td>215.0</td><td>4750.0</td><td>1</td></tr><tr><td>Biscoe</td><td>45.2</td><td>16.4</td><td>223.0</td><td>5950.0</td><td>1</td></tr><tr><td>Biscoe</td><td>51.3</td><td>14.2</td><td>218.0</td><td>5300.0</td><td>1</td></tr><tr><td>Biscoe</td><td>52.1</td><td>17.0</td><td>230.0</td><td>5550.0</td><td>1</td></tr><tr><td>Biscoe</td><td>47.5</td><td>15.0</td><td>218.0</td><td>4950.0</td><td>1</td></tr><tr><td>Biscoe</td><td>52.2</td><td>17.1</td><td>228.0</td><td>5400.0</td><td>1</td></tr><tr><td>Biscoe</td><td>49.4</td><td>15.8</td><td>216.0</td><td>4925.0</td><td>1</td></tr><tr><td>Biscoe</td><td>49.1</td><td>15.0</td><td>228.0</td><td>5500.0</td><td>1</td></tr><tr><td>Biscoe</td><td>43.3</td><td>14.0</td><td>208.0</td><td>4575.0</td><td>1</td></tr><tr><td>Biscoe</td><td>49.8</td><td>15.9</td><td>229.0</td><td>5950.0</td><td>1</td></tr><tr><td>Biscoe</td><td>55.1</td><td>16.0</td><td>230.0</td><td>5850.0</td><td>1</td></tr><tr><td>Dream</td><td>47.0</td><td>17.3</td><td>185.0</td><td>3700.0</td><td>2</td></tr><tr><td>Dream</td><td>50.5</td><td>19.6</td><td>201.0</td><td>4050.0</td><td>2</td></tr><tr><td>Dream</td><td>46.4</td><td>18.6</td><td>190.0</td><td>3450.0</td><td>2</td></tr><tr><td>Dream</td><td>45.5</td><td>17.0</td><td>196.0</td><td>3500.0</td><td>2</td></tr><tr><td>Dream</td><td>48.1</td><td>16.4</td><td>199.0</td><td>3325.0</td><td>2</td></tr><tr><td>Dream</td><td>45.2</td><td>16.6</td><td>191.0</td><td>3250.0</td><td>2</td></tr><tr><td>Dream</td><td>46.8</td><td>16.5</td><td>189.0</td><td>3650.0</td><td>2</td></tr></tbody></table></div>"
      ]
     },
     "metadata": {
      "application/vnd.databricks.v1+output": {
       "addedWidgets": {},
       "aggData": [],
       "aggError": "",
       "aggOverflow": false,
       "aggSchema": [],
       "aggSeriesLimitReached": false,
       "aggType": "",
       "arguments": {},
       "columnCustomDisplayInfos": {},
       "data": [
        [
         "Torgersen",
         40.3,
         18.0,
         195.0,
         3250.0,
         0
        ],
        [
         "Torgersen",
         39.3,
         20.6,
         190.0,
         3650.0,
         0
        ],
        [
         "Torgersen",
         34.4,
         18.4,
         184.0,
         3325.0,
         0
        ],
        [
         "Biscoe",
         38.2,
         18.1,
         185.0,
         3950.0,
         0
        ],
        [
         "Biscoe",
         37.9,
         18.6,
         172.0,
         3150.0,
         0
        ],
        [
         "Dream",
         36.4,
         17.0,
         195.0,
         3325.0,
         0
        ],
        [
         "Dream",
         39.8,
         19.1,
         184.0,
         4650.0,
         0
        ],
        [
         "Dream",
         36.0,
         18.5,
         186.0,
         3100.0,
         0
        ],
        [
         "Dream",
         41.1,
         19.0,
         182.0,
         3425.0,
         0
        ],
        [
         "Dream",
         37.5,
         18.9,
         179.0,
         2975.0,
         0
        ],
        [
         "Biscoe",
         35.0,
         17.9,
         190.0,
         3450.0,
         0
        ],
        [
         "Biscoe",
         40.6,
         18.8,
         193.0,
         3800.0,
         0
        ],
        [
         "Biscoe",
         41.1,
         18.2,
         192.0,
         4050.0,
         0
        ],
        [
         "Biscoe",
         35.5,
         16.2,
         195.0,
         3350.0,
         0
        ],
        [
         "Torgersen",
         40.9,
         16.8,
         191.0,
         3700.0,
         0
        ],
        [
         "Torgersen",
         37.2,
         19.4,
         184.0,
         3900.0,
         0
        ],
        [
         "Torgersen",
         42.9,
         17.6,
         196.0,
         4700.0,
         0
        ],
        [
         "Dream",
         37.3,
         17.8,
         191.0,
         3350.0,
         0
        ],
        [
         "Dream",
         41.3,
         20.3,
         194.0,
         3550.0,
         0
        ],
        [
         "Dream",
         36.3,
         19.5,
         190.0,
         3800.0,
         0
        ],
        [
         "Dream",
         38.9,
         18.8,
         190.0,
         3600.0,
         0
        ],
        [
         "Dream",
         36.2,
         17.3,
         187.0,
         3300.0,
         0
        ],
        [
         "Biscoe",
         39.7,
         18.9,
         184.0,
         3550.0,
         0
        ],
        [
         "Biscoe",
         38.6,
         17.2,
         199.0,
         3750.0,
         0
        ],
        [
         "Biscoe",
         42.7,
         18.3,
         196.0,
         4075.0,
         0
        ],
        [
         "Torgersen",
         37.7,
         19.8,
         198.0,
         3500.0,
         0
        ],
        [
         "Torgersen",
         38.8,
         17.6,
         191.0,
         3275.0,
         0
        ],
        [
         "Torgersen",
         39.0,
         17.1,
         191.0,
         3050.0,
         0
        ],
        [
         "Torgersen",
         44.1,
         18.0,
         210.0,
         4000.0,
         0
        ],
        [
         "Torgersen",
         38.5,
         17.9,
         190.0,
         3325.0,
         0
        ],
        [
         "Dream",
         41.1,
         17.5,
         190.0,
         3900.0,
         0
        ],
        [
         "Dream",
         36.0,
         17.1,
         187.0,
         3700.0,
         0
        ],
        [
         "Biscoe",
         46.8,
         15.4,
         215.0,
         5150.0,
         1
        ],
        [
         "Biscoe",
         49.3,
         15.7,
         217.0,
         5850.0,
         1
        ],
        [
         "Biscoe",
         42.0,
         13.5,
         210.0,
         4150.0,
         1
        ],
        [
         "Biscoe",
         44.5,
         14.3,
         216.0,
         4100.0,
         1
        ],
        [
         "Biscoe",
         50.0,
         15.3,
         220.0,
         5550.0,
         1
        ],
        [
         "Biscoe",
         59.6,
         17.0,
         230.0,
         6050.0,
         1
        ],
        [
         "Biscoe",
         46.5,
         14.4,
         217.0,
         4900.0,
         1
        ],
        [
         "Biscoe",
         43.8,
         13.9,
         208.0,
         4300.0,
         1
        ],
        [
         "Biscoe",
         45.8,
         14.2,
         219.0,
         4700.0,
         1
        ],
        [
         "Biscoe",
         47.7,
         15.0,
         216.0,
         4750.0,
         1
        ],
        [
         "Biscoe",
         48.6,
         16.0,
         230.0,
         5800.0,
         1
        ],
        [
         "Biscoe",
         45.2,
         13.8,
         215.0,
         4750.0,
         1
        ],
        [
         "Biscoe",
         45.2,
         16.4,
         223.0,
         5950.0,
         1
        ],
        [
         "Biscoe",
         51.3,
         14.2,
         218.0,
         5300.0,
         1
        ],
        [
         "Biscoe",
         52.1,
         17.0,
         230.0,
         5550.0,
         1
        ],
        [
         "Biscoe",
         47.5,
         15.0,
         218.0,
         4950.0,
         1
        ],
        [
         "Biscoe",
         52.2,
         17.1,
         228.0,
         5400.0,
         1
        ],
        [
         "Biscoe",
         49.4,
         15.8,
         216.0,
         4925.0,
         1
        ],
        [
         "Biscoe",
         49.1,
         15.0,
         228.0,
         5500.0,
         1
        ],
        [
         "Biscoe",
         43.3,
         14.0,
         208.0,
         4575.0,
         1
        ],
        [
         "Biscoe",
         49.8,
         15.9,
         229.0,
         5950.0,
         1
        ],
        [
         "Biscoe",
         55.1,
         16.0,
         230.0,
         5850.0,
         1
        ],
        [
         "Dream",
         47.0,
         17.3,
         185.0,
         3700.0,
         2
        ],
        [
         "Dream",
         50.5,
         19.6,
         201.0,
         4050.0,
         2
        ],
        [
         "Dream",
         46.4,
         18.6,
         190.0,
         3450.0,
         2
        ],
        [
         "Dream",
         45.5,
         17.0,
         196.0,
         3500.0,
         2
        ],
        [
         "Dream",
         48.1,
         16.4,
         199.0,
         3325.0,
         2
        ],
        [
         "Dream",
         45.2,
         16.6,
         191.0,
         3250.0,
         2
        ],
        [
         "Dream",
         46.8,
         16.5,
         189.0,
         3650.0,
         2
        ]
       ],
       "datasetInfos": [],
       "dbfsResultPath": null,
       "isJsonSchema": true,
       "metadata": {},
       "overflow": false,
       "plotOptions": {
        "customPlotOptions": {},
        "displayType": "table",
        "pivotAggregation": null,
        "pivotColumns": null,
        "xColumns": null,
        "yColumns": null
       },
       "removedWidgets": [],
       "schema": [
        {
         "metadata": "{}",
         "name": "Island",
         "type": "\"string\""
        },
        {
         "metadata": "{}",
         "name": "CulmenLength",
         "type": "\"float\""
        },
        {
         "metadata": "{}",
         "name": "CulmenDepth",
         "type": "\"float\""
        },
        {
         "metadata": "{}",
         "name": "FlipperLength",
         "type": "\"float\""
        },
        {
         "metadata": "{}",
         "name": "BodyMass",
         "type": "\"float\""
        },
        {
         "metadata": "{}",
         "name": "Species",
         "type": "\"integer\""
        }
       ],
       "type": "table"
      }
     },
     "output_type": "display_data"
    },
    {
     "output_type": "stream",
     "name": "stdout",
     "output_type": "stream",
     "text": [
      "Training Rows: 249  Testing Rows: 93\n"
     ]
    }
   ],
   "source": [
    "from pyspark.sql.types import *\n",
    "from pyspark.sql.functions import *\n",
    "   \n",
    "data = spark.read.format(\"csv\").option(\"header\", \"true\").load(\"/mlflow_lab/penguins.csv\")\n",
    "data = data.dropna().select(col(\"Island\").astype(\"string\"),\n",
    "                            col(\"CulmenLength\").astype(\"float\"),\n",
    "                            col(\"CulmenDepth\").astype(\"float\"),\n",
    "                            col(\"FlipperLength\").astype(\"float\"),\n",
    "                            col(\"BodyMass\").astype(\"float\"),\n",
    "                            col(\"Species\").astype(\"int\")\n",
    "                          )\n",
    "display(data.sample(0.2))\n",
    "   \n",
    "splits = data.randomSplit([0.7, 0.3])\n",
    "train = splits[0]\n",
    "test = splits[1]\n",
    "print (\"Training Rows:\", train.count(), \" Testing Rows:\", test.count())"
   ]
  },
  {
   "cell_type": "code",
   "execution_count": 0,
   "metadata": {
    "application/vnd.databricks.v1+cell": {
     "cellMetadata": {
      "byteLimit": 2048000,
      "rowLimit": 10000
     },
     "inputWidgets": {},
     "nuid": "351dac96-c3a8-4dfc-b05c-75b3cb5d9325",
     "showTitle": false,
     "title": ""
    }
   },
   "outputs": [
    {
     "output_type": "stream",
     "name": "stdout",
     "output_type": "stream",
     "text": [
      "Training Logistic Regression model...\naccuracy: 0.8387096774193549\nweightedRecall: 0.8387096774193549\nweightedPrecision: 0.8861480075901329\n"
     ]
    },
    {
     "output_type": "stream",
     "name": "stderr",
     "output_type": "stream",
     "text": [
      "/databricks/python/lib/python3.10/site-packages/_distutils_hack/__init__.py:33: UserWarning: Setuptools is replacing distutils.\n  warnings.warn(\"Setuptools is replacing distutils.\")\n"
     ]
    },
    {
     "output_type": "display_data",
     "data": {
      "application/vnd.jupyter.widget-view+json": {
       "model_id": "e9fba2be1a904f84b05b541a8ca05a0e",
       "version_major": 2,
       "version_minor": 0
      },
      "text/plain": [
       "Uploading artifacts:   0%|          | 0/4 [00:00<?, ?it/s]"
      ]
     },
     "metadata": {},
     "output_type": "display_data"
    },
    {
     "output_type": "stream",
     "name": "stdout",
     "output_type": "stream",
     "text": [
      "Experiment run complete.\n"
     ]
    }
   ],
   "source": [
    "import mlflow\n",
    "import mlflow.spark\n",
    "from pyspark.ml import Pipeline\n",
    "from pyspark.ml.feature import StringIndexer, VectorAssembler, MinMaxScaler\n",
    "from pyspark.ml.classification import LogisticRegression\n",
    "from pyspark.ml.evaluation import MulticlassClassificationEvaluator\n",
    "import time\n",
    "   \n",
    "# Start an MLflow run\n",
    "with mlflow.start_run():\n",
    "    catFeature = \"Island\"\n",
    "    numFeatures = [\"CulmenLength\", \"CulmenDepth\", \"FlipperLength\", \"BodyMass\"]\n",
    "     \n",
    "    # parameters\n",
    "    maxIterations = 5\n",
    "    regularization = 0.5\n",
    "   \n",
    "    # Define the feature engineering and model steps\n",
    "    catIndexer = StringIndexer(inputCol=catFeature, outputCol=catFeature + \"Idx\")\n",
    "    numVector = VectorAssembler(inputCols=numFeatures, outputCol=\"numericFeatures\")\n",
    "    numScaler = MinMaxScaler(inputCol = numVector.getOutputCol(), outputCol=\"normalizedFeatures\")\n",
    "    featureVector = VectorAssembler(inputCols=[\"IslandIdx\", \"normalizedFeatures\"], outputCol=\"Features\")\n",
    "    algo = LogisticRegression(labelCol=\"Species\", featuresCol=\"Features\", maxIter=maxIterations, regParam=regularization)\n",
    "   \n",
    "    # Chain the steps as stages in a pipeline\n",
    "    pipeline = Pipeline(stages=[catIndexer, numVector, numScaler, featureVector, algo])\n",
    "   \n",
    "    # Log training parameter values\n",
    "    print (\"Training Logistic Regression model...\")\n",
    "    mlflow.log_param('maxIter', algo.getMaxIter())\n",
    "    mlflow.log_param('regParam', algo.getRegParam())\n",
    "    model = pipeline.fit(train)\n",
    "      \n",
    "    # Evaluate the model and log metrics\n",
    "    prediction = model.transform(test)\n",
    "    metrics = [\"accuracy\", \"weightedRecall\", \"weightedPrecision\"]\n",
    "    for metric in metrics:\n",
    "        evaluator = MulticlassClassificationEvaluator(labelCol=\"Species\", predictionCol=\"prediction\", metricName=metric)\n",
    "        metricValue = evaluator.evaluate(prediction)\n",
    "        print(\"%s: %s\" % (metric, metricValue))\n",
    "        mlflow.log_metric(metric, metricValue)\n",
    "   \n",
    "           \n",
    "    # Log the model itself\n",
    "    unique_model_name = \"classifier-\" + str(time.time())\n",
    "    mlflow.spark.log_model(model, unique_model_name, mlflow.spark.get_default_conda_env())\n",
    "    modelpath = \"/model/%s\" % (unique_model_name)\n",
    "    mlflow.spark.save_model(model, modelpath)\n",
    "       \n",
    "    print(\"Experiment run complete.\")"
   ]
  },
  {
   "cell_type": "code",
   "execution_count": 0,
   "metadata": {
    "application/vnd.databricks.v1+cell": {
     "cellMetadata": {
      "byteLimit": 2048000,
      "rowLimit": 10000
     },
     "inputWidgets": {},
     "nuid": "de447419-4be7-445d-9178-a8f8e05349ae",
     "showTitle": false,
     "title": ""
    }
   },
   "outputs": [],
   "source": [
    "def train_penguin_model(training_data, test_data, maxIterations, regularization):\n",
    "    import mlflow\n",
    "    import mlflow.spark\n",
    "    from pyspark.ml import Pipeline\n",
    "    from pyspark.ml.feature import StringIndexer, VectorAssembler, MinMaxScaler\n",
    "    from pyspark.ml.classification import LogisticRegression\n",
    "    from pyspark.ml.evaluation import MulticlassClassificationEvaluator\n",
    "    import time\n",
    "   \n",
    "    # Start an MLflow run\n",
    "    with mlflow.start_run():\n",
    "   \n",
    "        catFeature = \"Island\"\n",
    "        numFeatures = [\"CulmenLength\", \"CulmenDepth\", \"FlipperLength\", \"BodyMass\"]\n",
    "   \n",
    "        # Define the feature engineering and model steps\n",
    "        catIndexer = StringIndexer(inputCol=catFeature, outputCol=catFeature + \"Idx\")\n",
    "        numVector = VectorAssembler(inputCols=numFeatures, outputCol=\"numericFeatures\")\n",
    "        numScaler = MinMaxScaler(inputCol = numVector.getOutputCol(), outputCol=\"normalizedFeatures\")\n",
    "        featureVector = VectorAssembler(inputCols=[\"IslandIdx\", \"normalizedFeatures\"], outputCol=\"Features\")\n",
    "        algo = LogisticRegression(labelCol=\"Species\", featuresCol=\"Features\", maxIter=maxIterations, regParam=regularization)\n",
    "   \n",
    "        # Chain the steps as stages in a pipeline\n",
    "        pipeline = Pipeline(stages=[catIndexer, numVector, numScaler, featureVector, algo])\n",
    "   \n",
    "        # Log training parameter values\n",
    "        print (\"Training Logistic Regression model...\")\n",
    "        mlflow.log_param('maxIter', algo.getMaxIter())\n",
    "        mlflow.log_param('regParam', algo.getRegParam())\n",
    "        model = pipeline.fit(training_data)\n",
    "   \n",
    "        # Evaluate the model and log metrics\n",
    "        prediction = model.transform(test_data)\n",
    "        metrics = [\"accuracy\", \"weightedRecall\", \"weightedPrecision\"]\n",
    "        for metric in metrics:\n",
    "            evaluator = MulticlassClassificationEvaluator(labelCol=\"Species\", predictionCol=\"prediction\", metricName=metric)\n",
    "            metricValue = evaluator.evaluate(prediction)\n",
    "            print(\"%s: %s\" % (metric, metricValue))\n",
    "            mlflow.log_metric(metric, metricValue)\n",
    "   \n",
    "   \n",
    "        # Log the model itself\n",
    "        unique_model_name = \"classifier-\" + str(time.time())\n",
    "        mlflow.spark.log_model(model, unique_model_name, mlflow.spark.get_default_conda_env())\n",
    "        modelpath = \"/model/%s\" % (unique_model_name)\n",
    "        mlflow.spark.save_model(model, modelpath)\n",
    "   \n",
    "        print(\"Experiment run complete.\")"
   ]
  },
  {
   "cell_type": "code",
   "execution_count": 0,
   "metadata": {
    "application/vnd.databricks.v1+cell": {
     "cellMetadata": {
      "byteLimit": 2048000,
      "rowLimit": 10000
     },
     "inputWidgets": {},
     "nuid": "f1220b82-2629-4fd6-bede-93db70bade72",
     "showTitle": false,
     "title": ""
    }
   },
   "outputs": [
    {
     "output_type": "stream",
     "name": "stdout",
     "output_type": "stream",
     "text": [
      "Training Logistic Regression model...\n"
     ]
    },
    {
     "output_type": "display_data",
     "data": {
      "application/vnd.jupyter.widget-view+json": {
       "model_id": "8c3fa8e242574b3385065da21e3180da",
       "version_major": 2,
       "version_minor": 0
      },
      "text/plain": [
       "Downloading artifacts:   0%|          | 0/9 [00:00<?, ?it/s]"
      ]
     },
     "metadata": {},
     "output_type": "display_data"
    },
    {
     "output_type": "display_data",
     "data": {
      "application/vnd.jupyter.widget-view+json": {
       "model_id": "7509f5ee15404805b185bd76dd55b718",
       "version_major": 2,
       "version_minor": 0
      },
      "text/plain": [
       "Uploading artifacts:   0%|          | 0/4 [00:00<?, ?it/s]"
      ]
     },
     "metadata": {},
     "output_type": "display_data"
    },
    {
     "output_type": "stream",
     "name": "stdout",
     "output_type": "stream",
     "text": [
      "accuracy: 0.9032258064516129\nweightedRecall: 0.9032258064516129\nweightedPrecision: 0.9225806451612903\n"
     ]
    },
    {
     "output_type": "display_data",
     "data": {
      "application/vnd.jupyter.widget-view+json": {
       "model_id": "6e925938104e44bb9fffe712007a3e70",
       "version_major": 2,
       "version_minor": 0
      },
      "text/plain": [
       "Uploading artifacts:   0%|          | 0/4 [00:00<?, ?it/s]"
      ]
     },
     "metadata": {},
     "output_type": "display_data"
    },
    {
     "output_type": "stream",
     "name": "stdout",
     "output_type": "stream",
     "text": [
      "Experiment run complete.\n"
     ]
    }
   ],
   "source": [
    "train_penguin_model(train, test, 10, 0.2)"
   ]
  },
  {
   "cell_type": "code",
   "execution_count": 0,
   "metadata": {
    "application/vnd.databricks.v1+cell": {
     "cellMetadata": {},
     "inputWidgets": {},
     "nuid": "0be6e80a-571a-4eca-8082-8a9979b48b01",
     "showTitle": false,
     "title": ""
    }
   },
   "outputs": [],
   "source": []
  }
 ],
 "metadata": {
  "application/vnd.databricks.v1+notebook": {
   "dashboards": [],
   "language": "python",
   "notebookMetadata": {
    "mostRecentlyExecutedCommandWithImplicitDF": {
     "commandId": 1068251198093235,
     "dataframes": [
      "_sqldf"
     ]
    },
    "pythonIndentUnit": 4
   },
   "notebookName": "MLflow",
   "widgets": {}
  }
 },
 "nbformat": 4,
 "nbformat_minor": 0
}
