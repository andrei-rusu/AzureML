{
 "cells": [
  {
   "cell_type": "code",
   "execution_count": 0,
   "metadata": {
    "application/vnd.databricks.v1+cell": {
     "cellMetadata": {
      "byteLimit": 2048000,
      "rowLimit": 10000
     },
     "inputWidgets": {},
     "nuid": "ffa5b8a4-f3d2-46ff-af49-b99fd2d5a729",
     "showTitle": false,
     "title": ""
    }
   },
   "outputs": [
    {
     "output_type": "stream",
     "name": "stdout",
     "output_type": "stream",
     "text": [
      "/databricks/driver\nazure\nconf\neventlogs\nhadoop_accessed_config.lst\nlogs\npreload_class.lst\n"
     ]
    }
   ],
   "source": [
    "%sh\n",
    "pwd\n",
    "ls"
   ]
  },
  {
   "cell_type": "code",
   "execution_count": 0,
   "metadata": {
    "application/vnd.databricks.v1+cell": {
     "cellMetadata": {
      "byteLimit": 2048000,
      "rowLimit": 10000
     },
     "inputWidgets": {},
     "nuid": "63cecc77-65c1-4c1a-a3dc-4f9238a13841",
     "showTitle": false,
     "title": ""
    }
   },
   "outputs": [
    {
     "output_type": "stream",
     "name": "stderr",
     "output_type": "stream",
     "text": [
      "rm: cannot remove '/dbfs/ml_lab': No such file or directory\n--2024-04-04 09:52:51--  https://raw.githubusercontent.com/MicrosoftLearning/mslearn-databricks/main/data/penguins.csv\nResolving raw.githubusercontent.com (raw.githubusercontent.com)... 185.199.108.133, 185.199.109.133, 185.199.110.133, ...\nConnecting to raw.githubusercontent.com (raw.githubusercontent.com)|185.199.108.133|:443... connected.\nHTTP request sent, awaiting response... 200 OK\nLength: 9533 (9.3K) [text/plain]\nSaving to: ‘/dbfs/ml_lab/penguins.csv’\n\n     0K .........                                             100% 1004K=0.009s\n\n2024-04-04 09:52:51 (1004 KB/s) - ‘/dbfs/ml_lab/penguins.csv’ saved [9533/9533]\n\n"
     ]
    }
   ],
   "source": [
    " %sh\n",
    " rm -r /dbfs/ml_lab\n",
    " mkdir /dbfs/ml_lab\n",
    " wget -O /dbfs/ml_lab/penguins.csv https://raw.githubusercontent.com/MicrosoftLearning/mslearn-databricks/main/data/penguins.csv"
   ]
  },
  {
   "cell_type": "code",
   "execution_count": 0,
   "metadata": {
    "application/vnd.databricks.v1+cell": {
     "cellMetadata": {},
     "inputWidgets": {},
     "nuid": "23375743-222f-474e-b0a2-f2044bb70a37",
     "showTitle": false,
     "title": ""
    }
   },
   "outputs": [],
   "source": []
  },
  {
   "cell_type": "code",
   "execution_count": 0,
   "metadata": {
    "application/vnd.databricks.v1+cell": {
     "cellMetadata": {
      "byteLimit": 2048000,
      "rowLimit": 10000
     },
     "inputWidgets": {},
     "nuid": "0b4b9a58-36bc-4d02-a089-3f0b53a3aec9",
     "showTitle": false,
     "title": ""
    }
   },
   "outputs": [
    {
     "output_type": "display_data",
     "data": {
      "text/html": [
       "<style scoped>\n",
       "  .table-result-container {\n",
       "    max-height: 300px;\n",
       "    overflow: auto;\n",
       "  }\n",
       "  table, th, td {\n",
       "    border: 1px solid black;\n",
       "    border-collapse: collapse;\n",
       "  }\n",
       "  th, td {\n",
       "    padding: 5px;\n",
       "  }\n",
       "  th {\n",
       "    text-align: left;\n",
       "  }\n",
       "</style><div class='table-result-container'><table class='table-result'><thead style='background-color: white'><tr><th>Island</th><th>CulmenLength</th><th>CulmenDepth</th><th>FlipperLength</th><th>BodyMass</th><th>Species</th></tr></thead><tbody><tr><td>Torgersen</td><td>39.1</td><td>18.7</td><td>181</td><td>3750</td><td>0</td></tr><tr><td>Torgersen</td><td>39.5</td><td>17.4</td><td>186</td><td>3800</td><td>0</td></tr><tr><td>Torgersen</td><td>40.3</td><td>18</td><td>195</td><td>3250</td><td>0</td></tr><tr><td>Torgersen</td><td>null</td><td>null</td><td>null</td><td>null</td><td>0</td></tr><tr><td>Torgersen</td><td>36.7</td><td>19.3</td><td>193</td><td>3450</td><td>0</td></tr><tr><td>Torgersen</td><td>39.3</td><td>20.6</td><td>190</td><td>3650</td><td>0</td></tr><tr><td>Torgersen</td><td>38.9</td><td>17.8</td><td>181</td><td>3625</td><td>0</td></tr><tr><td>Torgersen</td><td>39.2</td><td>19.6</td><td>195</td><td>4675</td><td>0</td></tr><tr><td>Torgersen</td><td>34.1</td><td>18.1</td><td>193</td><td>3475</td><td>0</td></tr><tr><td>Torgersen</td><td>42</td><td>20.2</td><td>190</td><td>4250</td><td>0</td></tr><tr><td>Torgersen</td><td>37.8</td><td>17.1</td><td>186</td><td>3300</td><td>0</td></tr><tr><td>Torgersen</td><td>37.8</td><td>17.3</td><td>180</td><td>3700</td><td>0</td></tr><tr><td>Torgersen</td><td>41.1</td><td>17.6</td><td>182</td><td>3200</td><td>0</td></tr><tr><td>Torgersen</td><td>38.6</td><td>21.2</td><td>191</td><td>3800</td><td>0</td></tr><tr><td>Torgersen</td><td>34.6</td><td>21.1</td><td>198</td><td>4400</td><td>0</td></tr><tr><td>Torgersen</td><td>36.6</td><td>17.8</td><td>185</td><td>3700</td><td>0</td></tr><tr><td>Torgersen</td><td>38.7</td><td>19</td><td>195</td><td>3450</td><td>0</td></tr><tr><td>Torgersen</td><td>42.5</td><td>20.7</td><td>197</td><td>4500</td><td>0</td></tr><tr><td>Torgersen</td><td>34.4</td><td>18.4</td><td>184</td><td>3325</td><td>0</td></tr><tr><td>Torgersen</td><td>46</td><td>21.5</td><td>194</td><td>4200</td><td>0</td></tr><tr><td>Biscoe</td><td>37.8</td><td>18.3</td><td>174</td><td>3400</td><td>0</td></tr><tr><td>Biscoe</td><td>37.7</td><td>18.7</td><td>180</td><td>3600</td><td>0</td></tr><tr><td>Biscoe</td><td>35.9</td><td>19.2</td><td>189</td><td>3800</td><td>0</td></tr><tr><td>Biscoe</td><td>38.2</td><td>18.1</td><td>185</td><td>3950</td><td>0</td></tr><tr><td>Biscoe</td><td>38.8</td><td>17.2</td><td>180</td><td>3800</td><td>0</td></tr><tr><td>Biscoe</td><td>35.3</td><td>18.9</td><td>187</td><td>3800</td><td>0</td></tr><tr><td>Biscoe</td><td>40.6</td><td>18.6</td><td>183</td><td>3550</td><td>0</td></tr><tr><td>Biscoe</td><td>40.5</td><td>17.9</td><td>187</td><td>3200</td><td>0</td></tr><tr><td>Biscoe</td><td>37.9</td><td>18.6</td><td>172</td><td>3150</td><td>0</td></tr><tr><td>Biscoe</td><td>40.5</td><td>18.9</td><td>180</td><td>3950</td><td>0</td></tr><tr><td>Dream</td><td>39.5</td><td>16.7</td><td>178</td><td>3250</td><td>0</td></tr><tr><td>Dream</td><td>37.2</td><td>18.1</td><td>178</td><td>3900</td><td>0</td></tr><tr><td>Dream</td><td>39.5</td><td>17.8</td><td>188</td><td>3300</td><td>0</td></tr><tr><td>Dream</td><td>40.9</td><td>18.9</td><td>184</td><td>3900</td><td>0</td></tr><tr><td>Dream</td><td>36.4</td><td>17</td><td>195</td><td>3325</td><td>0</td></tr><tr><td>Dream</td><td>39.2</td><td>21.1</td><td>196</td><td>4150</td><td>0</td></tr><tr><td>Dream</td><td>38.8</td><td>20</td><td>190</td><td>3950</td><td>0</td></tr><tr><td>Dream</td><td>42.2</td><td>18.5</td><td>180</td><td>3550</td><td>0</td></tr><tr><td>Dream</td><td>37.6</td><td>19.3</td><td>181</td><td>3300</td><td>0</td></tr><tr><td>Dream</td><td>39.8</td><td>19.1</td><td>184</td><td>4650</td><td>0</td></tr><tr><td>Dream</td><td>36.5</td><td>18</td><td>182</td><td>3150</td><td>0</td></tr><tr><td>Dream</td><td>40.8</td><td>18.4</td><td>195</td><td>3900</td><td>0</td></tr><tr><td>Dream</td><td>36</td><td>18.5</td><td>186</td><td>3100</td><td>0</td></tr><tr><td>Dream</td><td>44.1</td><td>19.7</td><td>196</td><td>4400</td><td>0</td></tr><tr><td>Dream</td><td>37</td><td>16.9</td><td>185</td><td>3000</td><td>0</td></tr><tr><td>Dream</td><td>39.6</td><td>18.8</td><td>190</td><td>4600</td><td>0</td></tr><tr><td>Dream</td><td>41.1</td><td>19</td><td>182</td><td>3425</td><td>0</td></tr><tr><td>Dream</td><td>37.5</td><td>18.9</td><td>179</td><td>2975</td><td>0</td></tr><tr><td>Dream</td><td>36</td><td>17.9</td><td>190</td><td>3450</td><td>0</td></tr><tr><td>Dream</td><td>42.3</td><td>21.2</td><td>191</td><td>4150</td><td>0</td></tr><tr><td>Biscoe</td><td>39.6</td><td>17.7</td><td>186</td><td>3500</td><td>0</td></tr><tr><td>Biscoe</td><td>40.1</td><td>18.9</td><td>188</td><td>4300</td><td>0</td></tr><tr><td>Biscoe</td><td>35</td><td>17.9</td><td>190</td><td>3450</td><td>0</td></tr><tr><td>Biscoe</td><td>42</td><td>19.5</td><td>200</td><td>4050</td><td>0</td></tr><tr><td>Biscoe</td><td>34.5</td><td>18.1</td><td>187</td><td>2900</td><td>0</td></tr><tr><td>Biscoe</td><td>41.4</td><td>18.6</td><td>191</td><td>3700</td><td>0</td></tr><tr><td>Biscoe</td><td>39</td><td>17.5</td><td>186</td><td>3550</td><td>0</td></tr><tr><td>Biscoe</td><td>40.6</td><td>18.8</td><td>193</td><td>3800</td><td>0</td></tr><tr><td>Biscoe</td><td>36.5</td><td>16.6</td><td>181</td><td>2850</td><td>0</td></tr><tr><td>Biscoe</td><td>37.6</td><td>19.1</td><td>194</td><td>3750</td><td>0</td></tr><tr><td>Biscoe</td><td>35.7</td><td>16.9</td><td>185</td><td>3150</td><td>0</td></tr><tr><td>Biscoe</td><td>41.3</td><td>21.1</td><td>195</td><td>4400</td><td>0</td></tr><tr><td>Biscoe</td><td>37.6</td><td>17</td><td>185</td><td>3600</td><td>0</td></tr><tr><td>Biscoe</td><td>41.1</td><td>18.2</td><td>192</td><td>4050</td><td>0</td></tr><tr><td>Biscoe</td><td>36.4</td><td>17.1</td><td>184</td><td>2850</td><td>0</td></tr><tr><td>Biscoe</td><td>41.6</td><td>18</td><td>192</td><td>3950</td><td>0</td></tr><tr><td>Biscoe</td><td>35.5</td><td>16.2</td><td>195</td><td>3350</td><td>0</td></tr><tr><td>Biscoe</td><td>41.1</td><td>19.1</td><td>188</td><td>4100</td><td>0</td></tr><tr><td>Torgersen</td><td>35.9</td><td>16.6</td><td>190</td><td>3050</td><td>0</td></tr><tr><td>Torgersen</td><td>41.8</td><td>19.4</td><td>198</td><td>4450</td><td>0</td></tr><tr><td>Torgersen</td><td>33.5</td><td>19</td><td>190</td><td>3600</td><td>0</td></tr><tr><td>Torgersen</td><td>39.7</td><td>18.4</td><td>190</td><td>3900</td><td>0</td></tr><tr><td>Torgersen</td><td>39.6</td><td>17.2</td><td>196</td><td>3550</td><td>0</td></tr><tr><td>Torgersen</td><td>45.8</td><td>18.9</td><td>197</td><td>4150</td><td>0</td></tr><tr><td>Torgersen</td><td>35.5</td><td>17.5</td><td>190</td><td>3700</td><td>0</td></tr><tr><td>Torgersen</td><td>42.8</td><td>18.5</td><td>195</td><td>4250</td><td>0</td></tr><tr><td>Torgersen</td><td>40.9</td><td>16.8</td><td>191</td><td>3700</td><td>0</td></tr><tr><td>Torgersen</td><td>37.2</td><td>19.4</td><td>184</td><td>3900</td><td>0</td></tr><tr><td>Torgersen</td><td>36.2</td><td>16.1</td><td>187</td><td>3550</td><td>0</td></tr><tr><td>Torgersen</td><td>42.1</td><td>19.1</td><td>195</td><td>4000</td><td>0</td></tr><tr><td>Torgersen</td><td>34.6</td><td>17.2</td><td>189</td><td>3200</td><td>0</td></tr><tr><td>Torgersen</td><td>42.9</td><td>17.6</td><td>196</td><td>4700</td><td>0</td></tr><tr><td>Torgersen</td><td>36.7</td><td>18.8</td><td>187</td><td>3800</td><td>0</td></tr><tr><td>Torgersen</td><td>35.1</td><td>19.4</td><td>193</td><td>4200</td><td>0</td></tr><tr><td>Dream</td><td>37.3</td><td>17.8</td><td>191</td><td>3350</td><td>0</td></tr><tr><td>Dream</td><td>41.3</td><td>20.3</td><td>194</td><td>3550</td><td>0</td></tr><tr><td>Dream</td><td>36.3</td><td>19.5</td><td>190</td><td>3800</td><td>0</td></tr><tr><td>Dream</td><td>36.9</td><td>18.6</td><td>189</td><td>3500</td><td>0</td></tr><tr><td>Dream</td><td>38.3</td><td>19.2</td><td>189</td><td>3950</td><td>0</td></tr><tr><td>Dream</td><td>38.9</td><td>18.8</td><td>190</td><td>3600</td><td>0</td></tr><tr><td>Dream</td><td>35.7</td><td>18</td><td>202</td><td>3550</td><td>0</td></tr><tr><td>Dream</td><td>41.1</td><td>18.1</td><td>205</td><td>4300</td><td>0</td></tr><tr><td>Dream</td><td>34</td><td>17.1</td><td>185</td><td>3400</td><td>0</td></tr><tr><td>Dream</td><td>39.6</td><td>18.1</td><td>186</td><td>4450</td><td>0</td></tr><tr><td>Dream</td><td>36.2</td><td>17.3</td><td>187</td><td>3300</td><td>0</td></tr><tr><td>Dream</td><td>40.8</td><td>18.9</td><td>208</td><td>4300</td><td>0</td></tr><tr><td>Dream</td><td>38.1</td><td>18.6</td><td>190</td><td>3700</td><td>0</td></tr><tr><td>Dream</td><td>40.3</td><td>18.5</td><td>196</td><td>4350</td><td>0</td></tr><tr><td>Dream</td><td>33.1</td><td>16.1</td><td>178</td><td>2900</td><td>0</td></tr><tr><td>Dream</td><td>43.2</td><td>18.5</td><td>192</td><td>4100</td><td>0</td></tr><tr><td>Biscoe</td><td>35</td><td>17.9</td><td>192</td><td>3725</td><td>0</td></tr><tr><td>Biscoe</td><td>41</td><td>20</td><td>203</td><td>4725</td><td>0</td></tr><tr><td>Biscoe</td><td>37.7</td><td>16</td><td>183</td><td>3075</td><td>0</td></tr><tr><td>Biscoe</td><td>37.8</td><td>20</td><td>190</td><td>4250</td><td>0</td></tr><tr><td>Biscoe</td><td>37.9</td><td>18.6</td><td>193</td><td>2925</td><td>0</td></tr><tr><td>Biscoe</td><td>39.7</td><td>18.9</td><td>184</td><td>3550</td><td>0</td></tr><tr><td>Biscoe</td><td>38.6</td><td>17.2</td><td>199</td><td>3750</td><td>0</td></tr><tr><td>Biscoe</td><td>38.2</td><td>20</td><td>190</td><td>3900</td><td>0</td></tr><tr><td>Biscoe</td><td>38.1</td><td>17</td><td>181</td><td>3175</td><td>0</td></tr><tr><td>Biscoe</td><td>43.2</td><td>19</td><td>197</td><td>4775</td><td>0</td></tr><tr><td>Biscoe</td><td>38.1</td><td>16.5</td><td>198</td><td>3825</td><td>0</td></tr><tr><td>Biscoe</td><td>45.6</td><td>20.3</td><td>191</td><td>4600</td><td>0</td></tr><tr><td>Biscoe</td><td>39.7</td><td>17.7</td><td>193</td><td>3200</td><td>0</td></tr><tr><td>Biscoe</td><td>42.2</td><td>19.5</td><td>197</td><td>4275</td><td>0</td></tr><tr><td>Biscoe</td><td>39.6</td><td>20.7</td><td>191</td><td>3900</td><td>0</td></tr><tr><td>Biscoe</td><td>42.7</td><td>18.3</td><td>196</td><td>4075</td><td>0</td></tr><tr><td>Torgersen</td><td>38.6</td><td>17</td><td>188</td><td>2900</td><td>0</td></tr><tr><td>Torgersen</td><td>37.3</td><td>20.5</td><td>199</td><td>3775</td><td>0</td></tr><tr><td>Torgersen</td><td>35.7</td><td>17</td><td>189</td><td>3350</td><td>0</td></tr><tr><td>Torgersen</td><td>41.1</td><td>18.6</td><td>189</td><td>3325</td><td>0</td></tr><tr><td>Torgersen</td><td>36.2</td><td>17.2</td><td>187</td><td>3150</td><td>0</td></tr><tr><td>Torgersen</td><td>37.7</td><td>19.8</td><td>198</td><td>3500</td><td>0</td></tr><tr><td>Torgersen</td><td>40.2</td><td>17</td><td>176</td><td>3450</td><td>0</td></tr><tr><td>Torgersen</td><td>41.4</td><td>18.5</td><td>202</td><td>3875</td><td>0</td></tr><tr><td>Torgersen</td><td>35.2</td><td>15.9</td><td>186</td><td>3050</td><td>0</td></tr><tr><td>Torgersen</td><td>40.6</td><td>19</td><td>199</td><td>4000</td><td>0</td></tr><tr><td>Torgersen</td><td>38.8</td><td>17.6</td><td>191</td><td>3275</td><td>0</td></tr><tr><td>Torgersen</td><td>41.5</td><td>18.3</td><td>195</td><td>4300</td><td>0</td></tr><tr><td>Torgersen</td><td>39</td><td>17.1</td><td>191</td><td>3050</td><td>0</td></tr><tr><td>Torgersen</td><td>44.1</td><td>18</td><td>210</td><td>4000</td><td>0</td></tr><tr><td>Torgersen</td><td>38.5</td><td>17.9</td><td>190</td><td>3325</td><td>0</td></tr><tr><td>Torgersen</td><td>43.1</td><td>19.2</td><td>197</td><td>3500</td><td>0</td></tr><tr><td>Dream</td><td>36.8</td><td>18.5</td><td>193</td><td>3500</td><td>0</td></tr><tr><td>Dream</td><td>37.5</td><td>18.5</td><td>199</td><td>4475</td><td>0</td></tr><tr><td>Dream</td><td>38.1</td><td>17.6</td><td>187</td><td>3425</td><td>0</td></tr><tr><td>Dream</td><td>41.1</td><td>17.5</td><td>190</td><td>3900</td><td>0</td></tr><tr><td>Dream</td><td>35.6</td><td>17.5</td><td>191</td><td>3175</td><td>0</td></tr><tr><td>Dream</td><td>40.2</td><td>20.1</td><td>200</td><td>3975</td><td>0</td></tr><tr><td>Dream</td><td>37</td><td>16.5</td><td>185</td><td>3400</td><td>0</td></tr><tr><td>Dream</td><td>39.7</td><td>17.9</td><td>193</td><td>4250</td><td>0</td></tr><tr><td>Dream</td><td>40.2</td><td>17.1</td><td>193</td><td>3400</td><td>0</td></tr><tr><td>Dream</td><td>40.6</td><td>17.2</td><td>187</td><td>3475</td><td>0</td></tr><tr><td>Dream</td><td>32.1</td><td>15.5</td><td>188</td><td>3050</td><td>0</td></tr><tr><td>Dream</td><td>40.7</td><td>17</td><td>190</td><td>3725</td><td>0</td></tr><tr><td>Dream</td><td>37.3</td><td>16.8</td><td>192</td><td>3000</td><td>0</td></tr><tr><td>Dream</td><td>39</td><td>18.7</td><td>185</td><td>3650</td><td>0</td></tr><tr><td>Dream</td><td>39.2</td><td>18.6</td><td>190</td><td>4250</td><td>0</td></tr><tr><td>Dream</td><td>36.6</td><td>18.4</td><td>184</td><td>3475</td><td>0</td></tr><tr><td>Dream</td><td>36</td><td>17.8</td><td>195</td><td>3450</td><td>0</td></tr><tr><td>Dream</td><td>37.8</td><td>18.1</td><td>193</td><td>3750</td><td>0</td></tr><tr><td>Dream</td><td>36</td><td>17.1</td><td>187</td><td>3700</td><td>0</td></tr><tr><td>Dream</td><td>41.5</td><td>18.5</td><td>201</td><td>4000</td><td>0</td></tr><tr><td>Biscoe</td><td>46.1</td><td>13.2</td><td>211</td><td>4500</td><td>1</td></tr><tr><td>Biscoe</td><td>50</td><td>16.3</td><td>230</td><td>5700</td><td>1</td></tr><tr><td>Biscoe</td><td>48.7</td><td>14.1</td><td>210</td><td>4450</td><td>1</td></tr><tr><td>Biscoe</td><td>50</td><td>15.2</td><td>218</td><td>5700</td><td>1</td></tr><tr><td>Biscoe</td><td>47.6</td><td>14.5</td><td>215</td><td>5400</td><td>1</td></tr><tr><td>Biscoe</td><td>46.5</td><td>13.5</td><td>210</td><td>4550</td><td>1</td></tr><tr><td>Biscoe</td><td>45.4</td><td>14.6</td><td>211</td><td>4800</td><td>1</td></tr><tr><td>Biscoe</td><td>46.7</td><td>15.3</td><td>219</td><td>5200</td><td>1</td></tr><tr><td>Biscoe</td><td>43.3</td><td>13.4</td><td>209</td><td>4400</td><td>1</td></tr><tr><td>Biscoe</td><td>46.8</td><td>15.4</td><td>215</td><td>5150</td><td>1</td></tr><tr><td>Biscoe</td><td>40.9</td><td>13.7</td><td>214</td><td>4650</td><td>1</td></tr><tr><td>Biscoe</td><td>49</td><td>16.1</td><td>216</td><td>5550</td><td>1</td></tr><tr><td>Biscoe</td><td>45.5</td><td>13.7</td><td>214</td><td>4650</td><td>1</td></tr><tr><td>Biscoe</td><td>48.4</td><td>14.6</td><td>213</td><td>5850</td><td>1</td></tr><tr><td>Biscoe</td><td>45.8</td><td>14.6</td><td>210</td><td>4200</td><td>1</td></tr><tr><td>Biscoe</td><td>49.3</td><td>15.7</td><td>217</td><td>5850</td><td>1</td></tr><tr><td>Biscoe</td><td>42</td><td>13.5</td><td>210</td><td>4150</td><td>1</td></tr><tr><td>Biscoe</td><td>49.2</td><td>15.2</td><td>221</td><td>6300</td><td>1</td></tr><tr><td>Biscoe</td><td>46.2</td><td>14.5</td><td>209</td><td>4800</td><td>1</td></tr><tr><td>Biscoe</td><td>48.7</td><td>15.1</td><td>222</td><td>5350</td><td>1</td></tr><tr><td>Biscoe</td><td>50.2</td><td>14.3</td><td>218</td><td>5700</td><td>1</td></tr><tr><td>Biscoe</td><td>45.1</td><td>14.5</td><td>215</td><td>5000</td><td>1</td></tr><tr><td>Biscoe</td><td>46.5</td><td>14.5</td><td>213</td><td>4400</td><td>1</td></tr><tr><td>Biscoe</td><td>46.3</td><td>15.8</td><td>215</td><td>5050</td><td>1</td></tr><tr><td>Biscoe</td><td>42.9</td><td>13.1</td><td>215</td><td>5000</td><td>1</td></tr><tr><td>Biscoe</td><td>46.1</td><td>15.1</td><td>215</td><td>5100</td><td>1</td></tr><tr><td>Biscoe</td><td>44.5</td><td>14.3</td><td>216</td><td>4100</td><td>1</td></tr><tr><td>Biscoe</td><td>47.8</td><td>15</td><td>215</td><td>5650</td><td>1</td></tr><tr><td>Biscoe</td><td>48.2</td><td>14.3</td><td>210</td><td>4600</td><td>1</td></tr><tr><td>Biscoe</td><td>50</td><td>15.3</td><td>220</td><td>5550</td><td>1</td></tr><tr><td>Biscoe</td><td>47.3</td><td>15.3</td><td>222</td><td>5250</td><td>1</td></tr><tr><td>Biscoe</td><td>42.8</td><td>14.2</td><td>209</td><td>4700</td><td>1</td></tr><tr><td>Biscoe</td><td>45.1</td><td>14.5</td><td>207</td><td>5050</td><td>1</td></tr><tr><td>Biscoe</td><td>59.6</td><td>17</td><td>230</td><td>6050</td><td>1</td></tr><tr><td>Biscoe</td><td>49.1</td><td>14.8</td><td>220</td><td>5150</td><td>1</td></tr><tr><td>Biscoe</td><td>48.4</td><td>16.3</td><td>220</td><td>5400</td><td>1</td></tr><tr><td>Biscoe</td><td>42.6</td><td>13.7</td><td>213</td><td>4950</td><td>1</td></tr><tr><td>Biscoe</td><td>44.4</td><td>17.3</td><td>219</td><td>5250</td><td>1</td></tr><tr><td>Biscoe</td><td>44</td><td>13.6</td><td>208</td><td>4350</td><td>1</td></tr><tr><td>Biscoe</td><td>48.7</td><td>15.7</td><td>208</td><td>5350</td><td>1</td></tr><tr><td>Biscoe</td><td>42.7</td><td>13.7</td><td>208</td><td>3950</td><td>1</td></tr><tr><td>Biscoe</td><td>49.6</td><td>16</td><td>225</td><td>5700</td><td>1</td></tr><tr><td>Biscoe</td><td>45.3</td><td>13.7</td><td>210</td><td>4300</td><td>1</td></tr><tr><td>Biscoe</td><td>49.6</td><td>15</td><td>216</td><td>4750</td><td>1</td></tr><tr><td>Biscoe</td><td>50.5</td><td>15.9</td><td>222</td><td>5550</td><td>1</td></tr><tr><td>Biscoe</td><td>43.6</td><td>13.9</td><td>217</td><td>4900</td><td>1</td></tr><tr><td>Biscoe</td><td>45.5</td><td>13.9</td><td>210</td><td>4200</td><td>1</td></tr><tr><td>Biscoe</td><td>50.5</td><td>15.9</td><td>225</td><td>5400</td><td>1</td></tr><tr><td>Biscoe</td><td>44.9</td><td>13.3</td><td>213</td><td>5100</td><td>1</td></tr><tr><td>Biscoe</td><td>45.2</td><td>15.8</td><td>215</td><td>5300</td><td>1</td></tr><tr><td>Biscoe</td><td>46.6</td><td>14.2</td><td>210</td><td>4850</td><td>1</td></tr><tr><td>Biscoe</td><td>48.5</td><td>14.1</td><td>220</td><td>5300</td><td>1</td></tr><tr><td>Biscoe</td><td>45.1</td><td>14.4</td><td>210</td><td>4400</td><td>1</td></tr><tr><td>Biscoe</td><td>50.1</td><td>15</td><td>225</td><td>5000</td><td>1</td></tr><tr><td>Biscoe</td><td>46.5</td><td>14.4</td><td>217</td><td>4900</td><td>1</td></tr><tr><td>Biscoe</td><td>45</td><td>15.4</td><td>220</td><td>5050</td><td>1</td></tr><tr><td>Biscoe</td><td>43.8</td><td>13.9</td><td>208</td><td>4300</td><td>1</td></tr><tr><td>Biscoe</td><td>45.5</td><td>15</td><td>220</td><td>5000</td><td>1</td></tr><tr><td>Biscoe</td><td>43.2</td><td>14.5</td><td>208</td><td>4450</td><td>1</td></tr><tr><td>Biscoe</td><td>50.4</td><td>15.3</td><td>224</td><td>5550</td><td>1</td></tr><tr><td>Biscoe</td><td>45.3</td><td>13.8</td><td>208</td><td>4200</td><td>1</td></tr><tr><td>Biscoe</td><td>46.2</td><td>14.9</td><td>221</td><td>5300</td><td>1</td></tr><tr><td>Biscoe</td><td>45.7</td><td>13.9</td><td>214</td><td>4400</td><td>1</td></tr><tr><td>Biscoe</td><td>54.3</td><td>15.7</td><td>231</td><td>5650</td><td>1</td></tr><tr><td>Biscoe</td><td>45.8</td><td>14.2</td><td>219</td><td>4700</td><td>1</td></tr><tr><td>Biscoe</td><td>49.8</td><td>16.8</td><td>230</td><td>5700</td><td>1</td></tr><tr><td>Biscoe</td><td>46.2</td><td>14.4</td><td>214</td><td>4650</td><td>1</td></tr><tr><td>Biscoe</td><td>49.5</td><td>16.2</td><td>229</td><td>5800</td><td>1</td></tr><tr><td>Biscoe</td><td>43.5</td><td>14.2</td><td>220</td><td>4700</td><td>1</td></tr><tr><td>Biscoe</td><td>50.7</td><td>15</td><td>223</td><td>5550</td><td>1</td></tr><tr><td>Biscoe</td><td>47.7</td><td>15</td><td>216</td><td>4750</td><td>1</td></tr><tr><td>Biscoe</td><td>46.4</td><td>15.6</td><td>221</td><td>5000</td><td>1</td></tr><tr><td>Biscoe</td><td>48.2</td><td>15.6</td><td>221</td><td>5100</td><td>1</td></tr><tr><td>Biscoe</td><td>46.5</td><td>14.8</td><td>217</td><td>5200</td><td>1</td></tr><tr><td>Biscoe</td><td>46.4</td><td>15</td><td>216</td><td>4700</td><td>1</td></tr><tr><td>Biscoe</td><td>48.6</td><td>16</td><td>230</td><td>5800</td><td>1</td></tr><tr><td>Biscoe</td><td>47.5</td><td>14.2</td><td>209</td><td>4600</td><td>1</td></tr><tr><td>Biscoe</td><td>51.1</td><td>16.3</td><td>220</td><td>6000</td><td>1</td></tr><tr><td>Biscoe</td><td>45.2</td><td>13.8</td><td>215</td><td>4750</td><td>1</td></tr><tr><td>Biscoe</td><td>45.2</td><td>16.4</td><td>223</td><td>5950</td><td>1</td></tr><tr><td>Biscoe</td><td>49.1</td><td>14.5</td><td>212</td><td>4625</td><td>1</td></tr><tr><td>Biscoe</td><td>52.5</td><td>15.6</td><td>221</td><td>5450</td><td>1</td></tr><tr><td>Biscoe</td><td>47.4</td><td>14.6</td><td>212</td><td>4725</td><td>1</td></tr><tr><td>Biscoe</td><td>50</td><td>15.9</td><td>224</td><td>5350</td><td>1</td></tr><tr><td>Biscoe</td><td>44.9</td><td>13.8</td><td>212</td><td>4750</td><td>1</td></tr><tr><td>Biscoe</td><td>50.8</td><td>17.3</td><td>228</td><td>5600</td><td>1</td></tr><tr><td>Biscoe</td><td>43.4</td><td>14.4</td><td>218</td><td>4600</td><td>1</td></tr><tr><td>Biscoe</td><td>51.3</td><td>14.2</td><td>218</td><td>5300</td><td>1</td></tr><tr><td>Biscoe</td><td>47.5</td><td>14</td><td>212</td><td>4875</td><td>1</td></tr><tr><td>Biscoe</td><td>52.1</td><td>17</td><td>230</td><td>5550</td><td>1</td></tr><tr><td>Biscoe</td><td>47.5</td><td>15</td><td>218</td><td>4950</td><td>1</td></tr><tr><td>Biscoe</td><td>52.2</td><td>17.1</td><td>228</td><td>5400</td><td>1</td></tr><tr><td>Biscoe</td><td>45.5</td><td>14.5</td><td>212</td><td>4750</td><td>1</td></tr><tr><td>Biscoe</td><td>49.5</td><td>16.1</td><td>224</td><td>5650</td><td>1</td></tr><tr><td>Biscoe</td><td>44.5</td><td>14.7</td><td>214</td><td>4850</td><td>1</td></tr><tr><td>Biscoe</td><td>50.8</td><td>15.7</td><td>226</td><td>5200</td><td>1</td></tr><tr><td>Biscoe</td><td>49.4</td><td>15.8</td><td>216</td><td>4925</td><td>1</td></tr><tr><td>Biscoe</td><td>46.9</td><td>14.6</td><td>222</td><td>4875</td><td>1</td></tr><tr><td>Biscoe</td><td>48.4</td><td>14.4</td><td>203</td><td>4625</td><td>1</td></tr><tr><td>Biscoe</td><td>51.1</td><td>16.5</td><td>225</td><td>5250</td><td>1</td></tr><tr><td>Biscoe</td><td>48.5</td><td>15</td><td>219</td><td>4850</td><td>1</td></tr><tr><td>Biscoe</td><td>55.9</td><td>17</td><td>228</td><td>5600</td><td>1</td></tr><tr><td>Biscoe</td><td>47.2</td><td>15.5</td><td>215</td><td>4975</td><td>1</td></tr><tr><td>Biscoe</td><td>49.1</td><td>15</td><td>228</td><td>5500</td><td>1</td></tr><tr><td>Biscoe</td><td>47.3</td><td>13.8</td><td>216</td><td>4725</td><td>1</td></tr><tr><td>Biscoe</td><td>46.8</td><td>16.1</td><td>215</td><td>5500</td><td>1</td></tr><tr><td>Biscoe</td><td>41.7</td><td>14.7</td><td>210</td><td>4700</td><td>1</td></tr><tr><td>Biscoe</td><td>53.4</td><td>15.8</td><td>219</td><td>5500</td><td>1</td></tr><tr><td>Biscoe</td><td>43.3</td><td>14</td><td>208</td><td>4575</td><td>1</td></tr><tr><td>Biscoe</td><td>48.1</td><td>15.1</td><td>209</td><td>5500</td><td>1</td></tr><tr><td>Biscoe</td><td>50.5</td><td>15.2</td><td>216</td><td>5000</td><td>1</td></tr><tr><td>Biscoe</td><td>49.8</td><td>15.9</td><td>229</td><td>5950</td><td>1</td></tr><tr><td>Biscoe</td><td>43.5</td><td>15.2</td><td>213</td><td>4650</td><td>1</td></tr><tr><td>Biscoe</td><td>51.5</td><td>16.3</td><td>230</td><td>5500</td><td>1</td></tr><tr><td>Biscoe</td><td>46.2</td><td>14.1</td><td>217</td><td>4375</td><td>1</td></tr><tr><td>Biscoe</td><td>55.1</td><td>16</td><td>230</td><td>5850</td><td>1</td></tr><tr><td>Biscoe</td><td>44.5</td><td>15.7</td><td>217</td><td>4875</td><td>1</td></tr><tr><td>Biscoe</td><td>48.8</td><td>16.2</td><td>222</td><td>6000</td><td>1</td></tr><tr><td>Biscoe</td><td>47.2</td><td>13.7</td><td>214</td><td>4925</td><td>1</td></tr><tr><td>Biscoe</td><td>null</td><td>null</td><td>null</td><td>null</td><td>1</td></tr><tr><td>Biscoe</td><td>46.8</td><td>14.3</td><td>215</td><td>4850</td><td>1</td></tr><tr><td>Biscoe</td><td>50.4</td><td>15.7</td><td>222</td><td>5750</td><td>1</td></tr><tr><td>Biscoe</td><td>45.2</td><td>14.8</td><td>212</td><td>5200</td><td>1</td></tr><tr><td>Biscoe</td><td>49.9</td><td>16.1</td><td>213</td><td>5400</td><td>1</td></tr><tr><td>Dream</td><td>46.5</td><td>17.9</td><td>192</td><td>3500</td><td>2</td></tr><tr><td>Dream</td><td>50</td><td>19.5</td><td>196</td><td>3900</td><td>2</td></tr><tr><td>Dream</td><td>51.3</td><td>19.2</td><td>193</td><td>3650</td><td>2</td></tr><tr><td>Dream</td><td>45.4</td><td>18.7</td><td>188</td><td>3525</td><td>2</td></tr><tr><td>Dream</td><td>52.7</td><td>19.8</td><td>197</td><td>3725</td><td>2</td></tr><tr><td>Dream</td><td>45.2</td><td>17.8</td><td>198</td><td>3950</td><td>2</td></tr><tr><td>Dream</td><td>46.1</td><td>18.2</td><td>178</td><td>3250</td><td>2</td></tr><tr><td>Dream</td><td>51.3</td><td>18.2</td><td>197</td><td>3750</td><td>2</td></tr><tr><td>Dream</td><td>46</td><td>18.9</td><td>195</td><td>4150</td><td>2</td></tr><tr><td>Dream</td><td>51.3</td><td>19.9</td><td>198</td><td>3700</td><td>2</td></tr><tr><td>Dream</td><td>46.6</td><td>17.8</td><td>193</td><td>3800</td><td>2</td></tr><tr><td>Dream</td><td>51.7</td><td>20.3</td><td>194</td><td>3775</td><td>2</td></tr><tr><td>Dream</td><td>47</td><td>17.3</td><td>185</td><td>3700</td><td>2</td></tr><tr><td>Dream</td><td>52</td><td>18.1</td><td>201</td><td>4050</td><td>2</td></tr><tr><td>Dream</td><td>45.9</td><td>17.1</td><td>190</td><td>3575</td><td>2</td></tr><tr><td>Dream</td><td>50.5</td><td>19.6</td><td>201</td><td>4050</td><td>2</td></tr><tr><td>Dream</td><td>50.3</td><td>20</td><td>197</td><td>3300</td><td>2</td></tr><tr><td>Dream</td><td>58</td><td>17.8</td><td>181</td><td>3700</td><td>2</td></tr><tr><td>Dream</td><td>46.4</td><td>18.6</td><td>190</td><td>3450</td><td>2</td></tr><tr><td>Dream</td><td>49.2</td><td>18.2</td><td>195</td><td>4400</td><td>2</td></tr><tr><td>Dream</td><td>42.4</td><td>17.3</td><td>181</td><td>3600</td><td>2</td></tr><tr><td>Dream</td><td>48.5</td><td>17.5</td><td>191</td><td>3400</td><td>2</td></tr><tr><td>Dream</td><td>43.2</td><td>16.6</td><td>187</td><td>2900</td><td>2</td></tr><tr><td>Dream</td><td>50.6</td><td>19.4</td><td>193</td><td>3800</td><td>2</td></tr><tr><td>Dream</td><td>46.7</td><td>17.9</td><td>195</td><td>3300</td><td>2</td></tr><tr><td>Dream</td><td>52</td><td>19</td><td>197</td><td>4150</td><td>2</td></tr><tr><td>Dream</td><td>50.5</td><td>18.4</td><td>200</td><td>3400</td><td>2</td></tr><tr><td>Dream</td><td>49.5</td><td>19</td><td>200</td><td>3800</td><td>2</td></tr><tr><td>Dream</td><td>46.4</td><td>17.8</td><td>191</td><td>3700</td><td>2</td></tr><tr><td>Dream</td><td>52.8</td><td>20</td><td>205</td><td>4550</td><td>2</td></tr><tr><td>Dream</td><td>40.9</td><td>16.6</td><td>187</td><td>3200</td><td>2</td></tr><tr><td>Dream</td><td>54.2</td><td>20.8</td><td>201</td><td>4300</td><td>2</td></tr><tr><td>Dream</td><td>42.5</td><td>16.7</td><td>187</td><td>3350</td><td>2</td></tr><tr><td>Dream</td><td>51</td><td>18.8</td><td>203</td><td>4100</td><td>2</td></tr><tr><td>Dream</td><td>49.7</td><td>18.6</td><td>195</td><td>3600</td><td>2</td></tr><tr><td>Dream</td><td>47.5</td><td>16.8</td><td>199</td><td>3900</td><td>2</td></tr><tr><td>Dream</td><td>47.6</td><td>18.3</td><td>195</td><td>3850</td><td>2</td></tr><tr><td>Dream</td><td>52</td><td>20.7</td><td>210</td><td>4800</td><td>2</td></tr><tr><td>Dream</td><td>46.9</td><td>16.6</td><td>192</td><td>2700</td><td>2</td></tr><tr><td>Dream</td><td>53.5</td><td>19.9</td><td>205</td><td>4500</td><td>2</td></tr><tr><td>Dream</td><td>49</td><td>19.5</td><td>210</td><td>3950</td><td>2</td></tr><tr><td>Dream</td><td>46.2</td><td>17.5</td><td>187</td><td>3650</td><td>2</td></tr><tr><td>Dream</td><td>50.9</td><td>19.1</td><td>196</td><td>3550</td><td>2</td></tr><tr><td>Dream</td><td>45.5</td><td>17</td><td>196</td><td>3500</td><td>2</td></tr><tr><td>Dream</td><td>50.9</td><td>17.9</td><td>196</td><td>3675</td><td>2</td></tr><tr><td>Dream</td><td>50.8</td><td>18.5</td><td>201</td><td>4450</td><td>2</td></tr><tr><td>Dream</td><td>50.1</td><td>17.9</td><td>190</td><td>3400</td><td>2</td></tr><tr><td>Dream</td><td>49</td><td>19.6</td><td>212</td><td>4300</td><td>2</td></tr><tr><td>Dream</td><td>51.5</td><td>18.7</td><td>187</td><td>3250</td><td>2</td></tr><tr><td>Dream</td><td>49.8</td><td>17.3</td><td>198</td><td>3675</td><td>2</td></tr><tr><td>Dream</td><td>48.1</td><td>16.4</td><td>199</td><td>3325</td><td>2</td></tr><tr><td>Dream</td><td>51.4</td><td>19</td><td>201</td><td>3950</td><td>2</td></tr><tr><td>Dream</td><td>45.7</td><td>17.3</td><td>193</td><td>3600</td><td>2</td></tr><tr><td>Dream</td><td>50.7</td><td>19.7</td><td>203</td><td>4050</td><td>2</td></tr><tr><td>Dream</td><td>42.5</td><td>17.3</td><td>187</td><td>3350</td><td>2</td></tr><tr><td>Dream</td><td>52.2</td><td>18.8</td><td>197</td><td>3450</td><td>2</td></tr><tr><td>Dream</td><td>45.2</td><td>16.6</td><td>191</td><td>3250</td><td>2</td></tr><tr><td>Dream</td><td>49.3</td><td>19.9</td><td>203</td><td>4050</td><td>2</td></tr><tr><td>Dream</td><td>50.2</td><td>18.8</td><td>202</td><td>3800</td><td>2</td></tr><tr><td>Dream</td><td>45.6</td><td>19.4</td><td>194</td><td>3525</td><td>2</td></tr><tr><td>Dream</td><td>51.9</td><td>19.5</td><td>206</td><td>3950</td><td>2</td></tr><tr><td>Dream</td><td>46.8</td><td>16.5</td><td>189</td><td>3650</td><td>2</td></tr><tr><td>Dream</td><td>45.7</td><td>17</td><td>195</td><td>3650</td><td>2</td></tr><tr><td>Dream</td><td>55.8</td><td>19.8</td><td>207</td><td>4000</td><td>2</td></tr><tr><td>Dream</td><td>43.5</td><td>18.1</td><td>202</td><td>3400</td><td>2</td></tr><tr><td>Dream</td><td>49.6</td><td>18.2</td><td>193</td><td>3775</td><td>2</td></tr><tr><td>Dream</td><td>50.8</td><td>19</td><td>210</td><td>4100</td><td>2</td></tr><tr><td>Dream</td><td>50.2</td><td>18.7</td><td>198</td><td>3775</td><td>2</td></tr></tbody></table></div>"
      ]
     },
     "metadata": {
      "application/vnd.databricks.v1+output": {
       "addedWidgets": {},
       "aggData": [],
       "aggError": "",
       "aggOverflow": false,
       "aggSchema": [],
       "aggSeriesLimitReached": false,
       "aggType": "",
       "arguments": {},
       "columnCustomDisplayInfos": {},
       "data": [
        [
         "Torgersen",
         "39.1",
         "18.7",
         "181",
         "3750",
         "0"
        ],
        [
         "Torgersen",
         "39.5",
         "17.4",
         "186",
         "3800",
         "0"
        ],
        [
         "Torgersen",
         "40.3",
         "18",
         "195",
         "3250",
         "0"
        ],
        [
         "Torgersen",
         null,
         null,
         null,
         null,
         "0"
        ],
        [
         "Torgersen",
         "36.7",
         "19.3",
         "193",
         "3450",
         "0"
        ],
        [
         "Torgersen",
         "39.3",
         "20.6",
         "190",
         "3650",
         "0"
        ],
        [
         "Torgersen",
         "38.9",
         "17.8",
         "181",
         "3625",
         "0"
        ],
        [
         "Torgersen",
         "39.2",
         "19.6",
         "195",
         "4675",
         "0"
        ],
        [
         "Torgersen",
         "34.1",
         "18.1",
         "193",
         "3475",
         "0"
        ],
        [
         "Torgersen",
         "42",
         "20.2",
         "190",
         "4250",
         "0"
        ],
        [
         "Torgersen",
         "37.8",
         "17.1",
         "186",
         "3300",
         "0"
        ],
        [
         "Torgersen",
         "37.8",
         "17.3",
         "180",
         "3700",
         "0"
        ],
        [
         "Torgersen",
         "41.1",
         "17.6",
         "182",
         "3200",
         "0"
        ],
        [
         "Torgersen",
         "38.6",
         "21.2",
         "191",
         "3800",
         "0"
        ],
        [
         "Torgersen",
         "34.6",
         "21.1",
         "198",
         "4400",
         "0"
        ],
        [
         "Torgersen",
         "36.6",
         "17.8",
         "185",
         "3700",
         "0"
        ],
        [
         "Torgersen",
         "38.7",
         "19",
         "195",
         "3450",
         "0"
        ],
        [
         "Torgersen",
         "42.5",
         "20.7",
         "197",
         "4500",
         "0"
        ],
        [
         "Torgersen",
         "34.4",
         "18.4",
         "184",
         "3325",
         "0"
        ],
        [
         "Torgersen",
         "46",
         "21.5",
         "194",
         "4200",
         "0"
        ],
        [
         "Biscoe",
         "37.8",
         "18.3",
         "174",
         "3400",
         "0"
        ],
        [
         "Biscoe",
         "37.7",
         "18.7",
         "180",
         "3600",
         "0"
        ],
        [
         "Biscoe",
         "35.9",
         "19.2",
         "189",
         "3800",
         "0"
        ],
        [
         "Biscoe",
         "38.2",
         "18.1",
         "185",
         "3950",
         "0"
        ],
        [
         "Biscoe",
         "38.8",
         "17.2",
         "180",
         "3800",
         "0"
        ],
        [
         "Biscoe",
         "35.3",
         "18.9",
         "187",
         "3800",
         "0"
        ],
        [
         "Biscoe",
         "40.6",
         "18.6",
         "183",
         "3550",
         "0"
        ],
        [
         "Biscoe",
         "40.5",
         "17.9",
         "187",
         "3200",
         "0"
        ],
        [
         "Biscoe",
         "37.9",
         "18.6",
         "172",
         "3150",
         "0"
        ],
        [
         "Biscoe",
         "40.5",
         "18.9",
         "180",
         "3950",
         "0"
        ],
        [
         "Dream",
         "39.5",
         "16.7",
         "178",
         "3250",
         "0"
        ],
        [
         "Dream",
         "37.2",
         "18.1",
         "178",
         "3900",
         "0"
        ],
        [
         "Dream",
         "39.5",
         "17.8",
         "188",
         "3300",
         "0"
        ],
        [
         "Dream",
         "40.9",
         "18.9",
         "184",
         "3900",
         "0"
        ],
        [
         "Dream",
         "36.4",
         "17",
         "195",
         "3325",
         "0"
        ],
        [
         "Dream",
         "39.2",
         "21.1",
         "196",
         "4150",
         "0"
        ],
        [
         "Dream",
         "38.8",
         "20",
         "190",
         "3950",
         "0"
        ],
        [
         "Dream",
         "42.2",
         "18.5",
         "180",
         "3550",
         "0"
        ],
        [
         "Dream",
         "37.6",
         "19.3",
         "181",
         "3300",
         "0"
        ],
        [
         "Dream",
         "39.8",
         "19.1",
         "184",
         "4650",
         "0"
        ],
        [
         "Dream",
         "36.5",
         "18",
         "182",
         "3150",
         "0"
        ],
        [
         "Dream",
         "40.8",
         "18.4",
         "195",
         "3900",
         "0"
        ],
        [
         "Dream",
         "36",
         "18.5",
         "186",
         "3100",
         "0"
        ],
        [
         "Dream",
         "44.1",
         "19.7",
         "196",
         "4400",
         "0"
        ],
        [
         "Dream",
         "37",
         "16.9",
         "185",
         "3000",
         "0"
        ],
        [
         "Dream",
         "39.6",
         "18.8",
         "190",
         "4600",
         "0"
        ],
        [
         "Dream",
         "41.1",
         "19",
         "182",
         "3425",
         "0"
        ],
        [
         "Dream",
         "37.5",
         "18.9",
         "179",
         "2975",
         "0"
        ],
        [
         "Dream",
         "36",
         "17.9",
         "190",
         "3450",
         "0"
        ],
        [
         "Dream",
         "42.3",
         "21.2",
         "191",
         "4150",
         "0"
        ],
        [
         "Biscoe",
         "39.6",
         "17.7",
         "186",
         "3500",
         "0"
        ],
        [
         "Biscoe",
         "40.1",
         "18.9",
         "188",
         "4300",
         "0"
        ],
        [
         "Biscoe",
         "35",
         "17.9",
         "190",
         "3450",
         "0"
        ],
        [
         "Biscoe",
         "42",
         "19.5",
         "200",
         "4050",
         "0"
        ],
        [
         "Biscoe",
         "34.5",
         "18.1",
         "187",
         "2900",
         "0"
        ],
        [
         "Biscoe",
         "41.4",
         "18.6",
         "191",
         "3700",
         "0"
        ],
        [
         "Biscoe",
         "39",
         "17.5",
         "186",
         "3550",
         "0"
        ],
        [
         "Biscoe",
         "40.6",
         "18.8",
         "193",
         "3800",
         "0"
        ],
        [
         "Biscoe",
         "36.5",
         "16.6",
         "181",
         "2850",
         "0"
        ],
        [
         "Biscoe",
         "37.6",
         "19.1",
         "194",
         "3750",
         "0"
        ],
        [
         "Biscoe",
         "35.7",
         "16.9",
         "185",
         "3150",
         "0"
        ],
        [
         "Biscoe",
         "41.3",
         "21.1",
         "195",
         "4400",
         "0"
        ],
        [
         "Biscoe",
         "37.6",
         "17",
         "185",
         "3600",
         "0"
        ],
        [
         "Biscoe",
         "41.1",
         "18.2",
         "192",
         "4050",
         "0"
        ],
        [
         "Biscoe",
         "36.4",
         "17.1",
         "184",
         "2850",
         "0"
        ],
        [
         "Biscoe",
         "41.6",
         "18",
         "192",
         "3950",
         "0"
        ],
        [
         "Biscoe",
         "35.5",
         "16.2",
         "195",
         "3350",
         "0"
        ],
        [
         "Biscoe",
         "41.1",
         "19.1",
         "188",
         "4100",
         "0"
        ],
        [
         "Torgersen",
         "35.9",
         "16.6",
         "190",
         "3050",
         "0"
        ],
        [
         "Torgersen",
         "41.8",
         "19.4",
         "198",
         "4450",
         "0"
        ],
        [
         "Torgersen",
         "33.5",
         "19",
         "190",
         "3600",
         "0"
        ],
        [
         "Torgersen",
         "39.7",
         "18.4",
         "190",
         "3900",
         "0"
        ],
        [
         "Torgersen",
         "39.6",
         "17.2",
         "196",
         "3550",
         "0"
        ],
        [
         "Torgersen",
         "45.8",
         "18.9",
         "197",
         "4150",
         "0"
        ],
        [
         "Torgersen",
         "35.5",
         "17.5",
         "190",
         "3700",
         "0"
        ],
        [
         "Torgersen",
         "42.8",
         "18.5",
         "195",
         "4250",
         "0"
        ],
        [
         "Torgersen",
         "40.9",
         "16.8",
         "191",
         "3700",
         "0"
        ],
        [
         "Torgersen",
         "37.2",
         "19.4",
         "184",
         "3900",
         "0"
        ],
        [
         "Torgersen",
         "36.2",
         "16.1",
         "187",
         "3550",
         "0"
        ],
        [
         "Torgersen",
         "42.1",
         "19.1",
         "195",
         "4000",
         "0"
        ],
        [
         "Torgersen",
         "34.6",
         "17.2",
         "189",
         "3200",
         "0"
        ],
        [
         "Torgersen",
         "42.9",
         "17.6",
         "196",
         "4700",
         "0"
        ],
        [
         "Torgersen",
         "36.7",
         "18.8",
         "187",
         "3800",
         "0"
        ],
        [
         "Torgersen",
         "35.1",
         "19.4",
         "193",
         "4200",
         "0"
        ],
        [
         "Dream",
         "37.3",
         "17.8",
         "191",
         "3350",
         "0"
        ],
        [
         "Dream",
         "41.3",
         "20.3",
         "194",
         "3550",
         "0"
        ],
        [
         "Dream",
         "36.3",
         "19.5",
         "190",
         "3800",
         "0"
        ],
        [
         "Dream",
         "36.9",
         "18.6",
         "189",
         "3500",
         "0"
        ],
        [
         "Dream",
         "38.3",
         "19.2",
         "189",
         "3950",
         "0"
        ],
        [
         "Dream",
         "38.9",
         "18.8",
         "190",
         "3600",
         "0"
        ],
        [
         "Dream",
         "35.7",
         "18",
         "202",
         "3550",
         "0"
        ],
        [
         "Dream",
         "41.1",
         "18.1",
         "205",
         "4300",
         "0"
        ],
        [
         "Dream",
         "34",
         "17.1",
         "185",
         "3400",
         "0"
        ],
        [
         "Dream",
         "39.6",
         "18.1",
         "186",
         "4450",
         "0"
        ],
        [
         "Dream",
         "36.2",
         "17.3",
         "187",
         "3300",
         "0"
        ],
        [
         "Dream",
         "40.8",
         "18.9",
         "208",
         "4300",
         "0"
        ],
        [
         "Dream",
         "38.1",
         "18.6",
         "190",
         "3700",
         "0"
        ],
        [
         "Dream",
         "40.3",
         "18.5",
         "196",
         "4350",
         "0"
        ],
        [
         "Dream",
         "33.1",
         "16.1",
         "178",
         "2900",
         "0"
        ],
        [
         "Dream",
         "43.2",
         "18.5",
         "192",
         "4100",
         "0"
        ],
        [
         "Biscoe",
         "35",
         "17.9",
         "192",
         "3725",
         "0"
        ],
        [
         "Biscoe",
         "41",
         "20",
         "203",
         "4725",
         "0"
        ],
        [
         "Biscoe",
         "37.7",
         "16",
         "183",
         "3075",
         "0"
        ],
        [
         "Biscoe",
         "37.8",
         "20",
         "190",
         "4250",
         "0"
        ],
        [
         "Biscoe",
         "37.9",
         "18.6",
         "193",
         "2925",
         "0"
        ],
        [
         "Biscoe",
         "39.7",
         "18.9",
         "184",
         "3550",
         "0"
        ],
        [
         "Biscoe",
         "38.6",
         "17.2",
         "199",
         "3750",
         "0"
        ],
        [
         "Biscoe",
         "38.2",
         "20",
         "190",
         "3900",
         "0"
        ],
        [
         "Biscoe",
         "38.1",
         "17",
         "181",
         "3175",
         "0"
        ],
        [
         "Biscoe",
         "43.2",
         "19",
         "197",
         "4775",
         "0"
        ],
        [
         "Biscoe",
         "38.1",
         "16.5",
         "198",
         "3825",
         "0"
        ],
        [
         "Biscoe",
         "45.6",
         "20.3",
         "191",
         "4600",
         "0"
        ],
        [
         "Biscoe",
         "39.7",
         "17.7",
         "193",
         "3200",
         "0"
        ],
        [
         "Biscoe",
         "42.2",
         "19.5",
         "197",
         "4275",
         "0"
        ],
        [
         "Biscoe",
         "39.6",
         "20.7",
         "191",
         "3900",
         "0"
        ],
        [
         "Biscoe",
         "42.7",
         "18.3",
         "196",
         "4075",
         "0"
        ],
        [
         "Torgersen",
         "38.6",
         "17",
         "188",
         "2900",
         "0"
        ],
        [
         "Torgersen",
         "37.3",
         "20.5",
         "199",
         "3775",
         "0"
        ],
        [
         "Torgersen",
         "35.7",
         "17",
         "189",
         "3350",
         "0"
        ],
        [
         "Torgersen",
         "41.1",
         "18.6",
         "189",
         "3325",
         "0"
        ],
        [
         "Torgersen",
         "36.2",
         "17.2",
         "187",
         "3150",
         "0"
        ],
        [
         "Torgersen",
         "37.7",
         "19.8",
         "198",
         "3500",
         "0"
        ],
        [
         "Torgersen",
         "40.2",
         "17",
         "176",
         "3450",
         "0"
        ],
        [
         "Torgersen",
         "41.4",
         "18.5",
         "202",
         "3875",
         "0"
        ],
        [
         "Torgersen",
         "35.2",
         "15.9",
         "186",
         "3050",
         "0"
        ],
        [
         "Torgersen",
         "40.6",
         "19",
         "199",
         "4000",
         "0"
        ],
        [
         "Torgersen",
         "38.8",
         "17.6",
         "191",
         "3275",
         "0"
        ],
        [
         "Torgersen",
         "41.5",
         "18.3",
         "195",
         "4300",
         "0"
        ],
        [
         "Torgersen",
         "39",
         "17.1",
         "191",
         "3050",
         "0"
        ],
        [
         "Torgersen",
         "44.1",
         "18",
         "210",
         "4000",
         "0"
        ],
        [
         "Torgersen",
         "38.5",
         "17.9",
         "190",
         "3325",
         "0"
        ],
        [
         "Torgersen",
         "43.1",
         "19.2",
         "197",
         "3500",
         "0"
        ],
        [
         "Dream",
         "36.8",
         "18.5",
         "193",
         "3500",
         "0"
        ],
        [
         "Dream",
         "37.5",
         "18.5",
         "199",
         "4475",
         "0"
        ],
        [
         "Dream",
         "38.1",
         "17.6",
         "187",
         "3425",
         "0"
        ],
        [
         "Dream",
         "41.1",
         "17.5",
         "190",
         "3900",
         "0"
        ],
        [
         "Dream",
         "35.6",
         "17.5",
         "191",
         "3175",
         "0"
        ],
        [
         "Dream",
         "40.2",
         "20.1",
         "200",
         "3975",
         "0"
        ],
        [
         "Dream",
         "37",
         "16.5",
         "185",
         "3400",
         "0"
        ],
        [
         "Dream",
         "39.7",
         "17.9",
         "193",
         "4250",
         "0"
        ],
        [
         "Dream",
         "40.2",
         "17.1",
         "193",
         "3400",
         "0"
        ],
        [
         "Dream",
         "40.6",
         "17.2",
         "187",
         "3475",
         "0"
        ],
        [
         "Dream",
         "32.1",
         "15.5",
         "188",
         "3050",
         "0"
        ],
        [
         "Dream",
         "40.7",
         "17",
         "190",
         "3725",
         "0"
        ],
        [
         "Dream",
         "37.3",
         "16.8",
         "192",
         "3000",
         "0"
        ],
        [
         "Dream",
         "39",
         "18.7",
         "185",
         "3650",
         "0"
        ],
        [
         "Dream",
         "39.2",
         "18.6",
         "190",
         "4250",
         "0"
        ],
        [
         "Dream",
         "36.6",
         "18.4",
         "184",
         "3475",
         "0"
        ],
        [
         "Dream",
         "36",
         "17.8",
         "195",
         "3450",
         "0"
        ],
        [
         "Dream",
         "37.8",
         "18.1",
         "193",
         "3750",
         "0"
        ],
        [
         "Dream",
         "36",
         "17.1",
         "187",
         "3700",
         "0"
        ],
        [
         "Dream",
         "41.5",
         "18.5",
         "201",
         "4000",
         "0"
        ],
        [
         "Biscoe",
         "46.1",
         "13.2",
         "211",
         "4500",
         "1"
        ],
        [
         "Biscoe",
         "50",
         "16.3",
         "230",
         "5700",
         "1"
        ],
        [
         "Biscoe",
         "48.7",
         "14.1",
         "210",
         "4450",
         "1"
        ],
        [
         "Biscoe",
         "50",
         "15.2",
         "218",
         "5700",
         "1"
        ],
        [
         "Biscoe",
         "47.6",
         "14.5",
         "215",
         "5400",
         "1"
        ],
        [
         "Biscoe",
         "46.5",
         "13.5",
         "210",
         "4550",
         "1"
        ],
        [
         "Biscoe",
         "45.4",
         "14.6",
         "211",
         "4800",
         "1"
        ],
        [
         "Biscoe",
         "46.7",
         "15.3",
         "219",
         "5200",
         "1"
        ],
        [
         "Biscoe",
         "43.3",
         "13.4",
         "209",
         "4400",
         "1"
        ],
        [
         "Biscoe",
         "46.8",
         "15.4",
         "215",
         "5150",
         "1"
        ],
        [
         "Biscoe",
         "40.9",
         "13.7",
         "214",
         "4650",
         "1"
        ],
        [
         "Biscoe",
         "49",
         "16.1",
         "216",
         "5550",
         "1"
        ],
        [
         "Biscoe",
         "45.5",
         "13.7",
         "214",
         "4650",
         "1"
        ],
        [
         "Biscoe",
         "48.4",
         "14.6",
         "213",
         "5850",
         "1"
        ],
        [
         "Biscoe",
         "45.8",
         "14.6",
         "210",
         "4200",
         "1"
        ],
        [
         "Biscoe",
         "49.3",
         "15.7",
         "217",
         "5850",
         "1"
        ],
        [
         "Biscoe",
         "42",
         "13.5",
         "210",
         "4150",
         "1"
        ],
        [
         "Biscoe",
         "49.2",
         "15.2",
         "221",
         "6300",
         "1"
        ],
        [
         "Biscoe",
         "46.2",
         "14.5",
         "209",
         "4800",
         "1"
        ],
        [
         "Biscoe",
         "48.7",
         "15.1",
         "222",
         "5350",
         "1"
        ],
        [
         "Biscoe",
         "50.2",
         "14.3",
         "218",
         "5700",
         "1"
        ],
        [
         "Biscoe",
         "45.1",
         "14.5",
         "215",
         "5000",
         "1"
        ],
        [
         "Biscoe",
         "46.5",
         "14.5",
         "213",
         "4400",
         "1"
        ],
        [
         "Biscoe",
         "46.3",
         "15.8",
         "215",
         "5050",
         "1"
        ],
        [
         "Biscoe",
         "42.9",
         "13.1",
         "215",
         "5000",
         "1"
        ],
        [
         "Biscoe",
         "46.1",
         "15.1",
         "215",
         "5100",
         "1"
        ],
        [
         "Biscoe",
         "44.5",
         "14.3",
         "216",
         "4100",
         "1"
        ],
        [
         "Biscoe",
         "47.8",
         "15",
         "215",
         "5650",
         "1"
        ],
        [
         "Biscoe",
         "48.2",
         "14.3",
         "210",
         "4600",
         "1"
        ],
        [
         "Biscoe",
         "50",
         "15.3",
         "220",
         "5550",
         "1"
        ],
        [
         "Biscoe",
         "47.3",
         "15.3",
         "222",
         "5250",
         "1"
        ],
        [
         "Biscoe",
         "42.8",
         "14.2",
         "209",
         "4700",
         "1"
        ],
        [
         "Biscoe",
         "45.1",
         "14.5",
         "207",
         "5050",
         "1"
        ],
        [
         "Biscoe",
         "59.6",
         "17",
         "230",
         "6050",
         "1"
        ],
        [
         "Biscoe",
         "49.1",
         "14.8",
         "220",
         "5150",
         "1"
        ],
        [
         "Biscoe",
         "48.4",
         "16.3",
         "220",
         "5400",
         "1"
        ],
        [
         "Biscoe",
         "42.6",
         "13.7",
         "213",
         "4950",
         "1"
        ],
        [
         "Biscoe",
         "44.4",
         "17.3",
         "219",
         "5250",
         "1"
        ],
        [
         "Biscoe",
         "44",
         "13.6",
         "208",
         "4350",
         "1"
        ],
        [
         "Biscoe",
         "48.7",
         "15.7",
         "208",
         "5350",
         "1"
        ],
        [
         "Biscoe",
         "42.7",
         "13.7",
         "208",
         "3950",
         "1"
        ],
        [
         "Biscoe",
         "49.6",
         "16",
         "225",
         "5700",
         "1"
        ],
        [
         "Biscoe",
         "45.3",
         "13.7",
         "210",
         "4300",
         "1"
        ],
        [
         "Biscoe",
         "49.6",
         "15",
         "216",
         "4750",
         "1"
        ],
        [
         "Biscoe",
         "50.5",
         "15.9",
         "222",
         "5550",
         "1"
        ],
        [
         "Biscoe",
         "43.6",
         "13.9",
         "217",
         "4900",
         "1"
        ],
        [
         "Biscoe",
         "45.5",
         "13.9",
         "210",
         "4200",
         "1"
        ],
        [
         "Biscoe",
         "50.5",
         "15.9",
         "225",
         "5400",
         "1"
        ],
        [
         "Biscoe",
         "44.9",
         "13.3",
         "213",
         "5100",
         "1"
        ],
        [
         "Biscoe",
         "45.2",
         "15.8",
         "215",
         "5300",
         "1"
        ],
        [
         "Biscoe",
         "46.6",
         "14.2",
         "210",
         "4850",
         "1"
        ],
        [
         "Biscoe",
         "48.5",
         "14.1",
         "220",
         "5300",
         "1"
        ],
        [
         "Biscoe",
         "45.1",
         "14.4",
         "210",
         "4400",
         "1"
        ],
        [
         "Biscoe",
         "50.1",
         "15",
         "225",
         "5000",
         "1"
        ],
        [
         "Biscoe",
         "46.5",
         "14.4",
         "217",
         "4900",
         "1"
        ],
        [
         "Biscoe",
         "45",
         "15.4",
         "220",
         "5050",
         "1"
        ],
        [
         "Biscoe",
         "43.8",
         "13.9",
         "208",
         "4300",
         "1"
        ],
        [
         "Biscoe",
         "45.5",
         "15",
         "220",
         "5000",
         "1"
        ],
        [
         "Biscoe",
         "43.2",
         "14.5",
         "208",
         "4450",
         "1"
        ],
        [
         "Biscoe",
         "50.4",
         "15.3",
         "224",
         "5550",
         "1"
        ],
        [
         "Biscoe",
         "45.3",
         "13.8",
         "208",
         "4200",
         "1"
        ],
        [
         "Biscoe",
         "46.2",
         "14.9",
         "221",
         "5300",
         "1"
        ],
        [
         "Biscoe",
         "45.7",
         "13.9",
         "214",
         "4400",
         "1"
        ],
        [
         "Biscoe",
         "54.3",
         "15.7",
         "231",
         "5650",
         "1"
        ],
        [
         "Biscoe",
         "45.8",
         "14.2",
         "219",
         "4700",
         "1"
        ],
        [
         "Biscoe",
         "49.8",
         "16.8",
         "230",
         "5700",
         "1"
        ],
        [
         "Biscoe",
         "46.2",
         "14.4",
         "214",
         "4650",
         "1"
        ],
        [
         "Biscoe",
         "49.5",
         "16.2",
         "229",
         "5800",
         "1"
        ],
        [
         "Biscoe",
         "43.5",
         "14.2",
         "220",
         "4700",
         "1"
        ],
        [
         "Biscoe",
         "50.7",
         "15",
         "223",
         "5550",
         "1"
        ],
        [
         "Biscoe",
         "47.7",
         "15",
         "216",
         "4750",
         "1"
        ],
        [
         "Biscoe",
         "46.4",
         "15.6",
         "221",
         "5000",
         "1"
        ],
        [
         "Biscoe",
         "48.2",
         "15.6",
         "221",
         "5100",
         "1"
        ],
        [
         "Biscoe",
         "46.5",
         "14.8",
         "217",
         "5200",
         "1"
        ],
        [
         "Biscoe",
         "46.4",
         "15",
         "216",
         "4700",
         "1"
        ],
        [
         "Biscoe",
         "48.6",
         "16",
         "230",
         "5800",
         "1"
        ],
        [
         "Biscoe",
         "47.5",
         "14.2",
         "209",
         "4600",
         "1"
        ],
        [
         "Biscoe",
         "51.1",
         "16.3",
         "220",
         "6000",
         "1"
        ],
        [
         "Biscoe",
         "45.2",
         "13.8",
         "215",
         "4750",
         "1"
        ],
        [
         "Biscoe",
         "45.2",
         "16.4",
         "223",
         "5950",
         "1"
        ],
        [
         "Biscoe",
         "49.1",
         "14.5",
         "212",
         "4625",
         "1"
        ],
        [
         "Biscoe",
         "52.5",
         "15.6",
         "221",
         "5450",
         "1"
        ],
        [
         "Biscoe",
         "47.4",
         "14.6",
         "212",
         "4725",
         "1"
        ],
        [
         "Biscoe",
         "50",
         "15.9",
         "224",
         "5350",
         "1"
        ],
        [
         "Biscoe",
         "44.9",
         "13.8",
         "212",
         "4750",
         "1"
        ],
        [
         "Biscoe",
         "50.8",
         "17.3",
         "228",
         "5600",
         "1"
        ],
        [
         "Biscoe",
         "43.4",
         "14.4",
         "218",
         "4600",
         "1"
        ],
        [
         "Biscoe",
         "51.3",
         "14.2",
         "218",
         "5300",
         "1"
        ],
        [
         "Biscoe",
         "47.5",
         "14",
         "212",
         "4875",
         "1"
        ],
        [
         "Biscoe",
         "52.1",
         "17",
         "230",
         "5550",
         "1"
        ],
        [
         "Biscoe",
         "47.5",
         "15",
         "218",
         "4950",
         "1"
        ],
        [
         "Biscoe",
         "52.2",
         "17.1",
         "228",
         "5400",
         "1"
        ],
        [
         "Biscoe",
         "45.5",
         "14.5",
         "212",
         "4750",
         "1"
        ],
        [
         "Biscoe",
         "49.5",
         "16.1",
         "224",
         "5650",
         "1"
        ],
        [
         "Biscoe",
         "44.5",
         "14.7",
         "214",
         "4850",
         "1"
        ],
        [
         "Biscoe",
         "50.8",
         "15.7",
         "226",
         "5200",
         "1"
        ],
        [
         "Biscoe",
         "49.4",
         "15.8",
         "216",
         "4925",
         "1"
        ],
        [
         "Biscoe",
         "46.9",
         "14.6",
         "222",
         "4875",
         "1"
        ],
        [
         "Biscoe",
         "48.4",
         "14.4",
         "203",
         "4625",
         "1"
        ],
        [
         "Biscoe",
         "51.1",
         "16.5",
         "225",
         "5250",
         "1"
        ],
        [
         "Biscoe",
         "48.5",
         "15",
         "219",
         "4850",
         "1"
        ],
        [
         "Biscoe",
         "55.9",
         "17",
         "228",
         "5600",
         "1"
        ],
        [
         "Biscoe",
         "47.2",
         "15.5",
         "215",
         "4975",
         "1"
        ],
        [
         "Biscoe",
         "49.1",
         "15",
         "228",
         "5500",
         "1"
        ],
        [
         "Biscoe",
         "47.3",
         "13.8",
         "216",
         "4725",
         "1"
        ],
        [
         "Biscoe",
         "46.8",
         "16.1",
         "215",
         "5500",
         "1"
        ],
        [
         "Biscoe",
         "41.7",
         "14.7",
         "210",
         "4700",
         "1"
        ],
        [
         "Biscoe",
         "53.4",
         "15.8",
         "219",
         "5500",
         "1"
        ],
        [
         "Biscoe",
         "43.3",
         "14",
         "208",
         "4575",
         "1"
        ],
        [
         "Biscoe",
         "48.1",
         "15.1",
         "209",
         "5500",
         "1"
        ],
        [
         "Biscoe",
         "50.5",
         "15.2",
         "216",
         "5000",
         "1"
        ],
        [
         "Biscoe",
         "49.8",
         "15.9",
         "229",
         "5950",
         "1"
        ],
        [
         "Biscoe",
         "43.5",
         "15.2",
         "213",
         "4650",
         "1"
        ],
        [
         "Biscoe",
         "51.5",
         "16.3",
         "230",
         "5500",
         "1"
        ],
        [
         "Biscoe",
         "46.2",
         "14.1",
         "217",
         "4375",
         "1"
        ],
        [
         "Biscoe",
         "55.1",
         "16",
         "230",
         "5850",
         "1"
        ],
        [
         "Biscoe",
         "44.5",
         "15.7",
         "217",
         "4875",
         "1"
        ],
        [
         "Biscoe",
         "48.8",
         "16.2",
         "222",
         "6000",
         "1"
        ],
        [
         "Biscoe",
         "47.2",
         "13.7",
         "214",
         "4925",
         "1"
        ],
        [
         "Biscoe",
         null,
         null,
         null,
         null,
         "1"
        ],
        [
         "Biscoe",
         "46.8",
         "14.3",
         "215",
         "4850",
         "1"
        ],
        [
         "Biscoe",
         "50.4",
         "15.7",
         "222",
         "5750",
         "1"
        ],
        [
         "Biscoe",
         "45.2",
         "14.8",
         "212",
         "5200",
         "1"
        ],
        [
         "Biscoe",
         "49.9",
         "16.1",
         "213",
         "5400",
         "1"
        ],
        [
         "Dream",
         "46.5",
         "17.9",
         "192",
         "3500",
         "2"
        ],
        [
         "Dream",
         "50",
         "19.5",
         "196",
         "3900",
         "2"
        ],
        [
         "Dream",
         "51.3",
         "19.2",
         "193",
         "3650",
         "2"
        ],
        [
         "Dream",
         "45.4",
         "18.7",
         "188",
         "3525",
         "2"
        ],
        [
         "Dream",
         "52.7",
         "19.8",
         "197",
         "3725",
         "2"
        ],
        [
         "Dream",
         "45.2",
         "17.8",
         "198",
         "3950",
         "2"
        ],
        [
         "Dream",
         "46.1",
         "18.2",
         "178",
         "3250",
         "2"
        ],
        [
         "Dream",
         "51.3",
         "18.2",
         "197",
         "3750",
         "2"
        ],
        [
         "Dream",
         "46",
         "18.9",
         "195",
         "4150",
         "2"
        ],
        [
         "Dream",
         "51.3",
         "19.9",
         "198",
         "3700",
         "2"
        ],
        [
         "Dream",
         "46.6",
         "17.8",
         "193",
         "3800",
         "2"
        ],
        [
         "Dream",
         "51.7",
         "20.3",
         "194",
         "3775",
         "2"
        ],
        [
         "Dream",
         "47",
         "17.3",
         "185",
         "3700",
         "2"
        ],
        [
         "Dream",
         "52",
         "18.1",
         "201",
         "4050",
         "2"
        ],
        [
         "Dream",
         "45.9",
         "17.1",
         "190",
         "3575",
         "2"
        ],
        [
         "Dream",
         "50.5",
         "19.6",
         "201",
         "4050",
         "2"
        ],
        [
         "Dream",
         "50.3",
         "20",
         "197",
         "3300",
         "2"
        ],
        [
         "Dream",
         "58",
         "17.8",
         "181",
         "3700",
         "2"
        ],
        [
         "Dream",
         "46.4",
         "18.6",
         "190",
         "3450",
         "2"
        ],
        [
         "Dream",
         "49.2",
         "18.2",
         "195",
         "4400",
         "2"
        ],
        [
         "Dream",
         "42.4",
         "17.3",
         "181",
         "3600",
         "2"
        ],
        [
         "Dream",
         "48.5",
         "17.5",
         "191",
         "3400",
         "2"
        ],
        [
         "Dream",
         "43.2",
         "16.6",
         "187",
         "2900",
         "2"
        ],
        [
         "Dream",
         "50.6",
         "19.4",
         "193",
         "3800",
         "2"
        ],
        [
         "Dream",
         "46.7",
         "17.9",
         "195",
         "3300",
         "2"
        ],
        [
         "Dream",
         "52",
         "19",
         "197",
         "4150",
         "2"
        ],
        [
         "Dream",
         "50.5",
         "18.4",
         "200",
         "3400",
         "2"
        ],
        [
         "Dream",
         "49.5",
         "19",
         "200",
         "3800",
         "2"
        ],
        [
         "Dream",
         "46.4",
         "17.8",
         "191",
         "3700",
         "2"
        ],
        [
         "Dream",
         "52.8",
         "20",
         "205",
         "4550",
         "2"
        ],
        [
         "Dream",
         "40.9",
         "16.6",
         "187",
         "3200",
         "2"
        ],
        [
         "Dream",
         "54.2",
         "20.8",
         "201",
         "4300",
         "2"
        ],
        [
         "Dream",
         "42.5",
         "16.7",
         "187",
         "3350",
         "2"
        ],
        [
         "Dream",
         "51",
         "18.8",
         "203",
         "4100",
         "2"
        ],
        [
         "Dream",
         "49.7",
         "18.6",
         "195",
         "3600",
         "2"
        ],
        [
         "Dream",
         "47.5",
         "16.8",
         "199",
         "3900",
         "2"
        ],
        [
         "Dream",
         "47.6",
         "18.3",
         "195",
         "3850",
         "2"
        ],
        [
         "Dream",
         "52",
         "20.7",
         "210",
         "4800",
         "2"
        ],
        [
         "Dream",
         "46.9",
         "16.6",
         "192",
         "2700",
         "2"
        ],
        [
         "Dream",
         "53.5",
         "19.9",
         "205",
         "4500",
         "2"
        ],
        [
         "Dream",
         "49",
         "19.5",
         "210",
         "3950",
         "2"
        ],
        [
         "Dream",
         "46.2",
         "17.5",
         "187",
         "3650",
         "2"
        ],
        [
         "Dream",
         "50.9",
         "19.1",
         "196",
         "3550",
         "2"
        ],
        [
         "Dream",
         "45.5",
         "17",
         "196",
         "3500",
         "2"
        ],
        [
         "Dream",
         "50.9",
         "17.9",
         "196",
         "3675",
         "2"
        ],
        [
         "Dream",
         "50.8",
         "18.5",
         "201",
         "4450",
         "2"
        ],
        [
         "Dream",
         "50.1",
         "17.9",
         "190",
         "3400",
         "2"
        ],
        [
         "Dream",
         "49",
         "19.6",
         "212",
         "4300",
         "2"
        ],
        [
         "Dream",
         "51.5",
         "18.7",
         "187",
         "3250",
         "2"
        ],
        [
         "Dream",
         "49.8",
         "17.3",
         "198",
         "3675",
         "2"
        ],
        [
         "Dream",
         "48.1",
         "16.4",
         "199",
         "3325",
         "2"
        ],
        [
         "Dream",
         "51.4",
         "19",
         "201",
         "3950",
         "2"
        ],
        [
         "Dream",
         "45.7",
         "17.3",
         "193",
         "3600",
         "2"
        ],
        [
         "Dream",
         "50.7",
         "19.7",
         "203",
         "4050",
         "2"
        ],
        [
         "Dream",
         "42.5",
         "17.3",
         "187",
         "3350",
         "2"
        ],
        [
         "Dream",
         "52.2",
         "18.8",
         "197",
         "3450",
         "2"
        ],
        [
         "Dream",
         "45.2",
         "16.6",
         "191",
         "3250",
         "2"
        ],
        [
         "Dream",
         "49.3",
         "19.9",
         "203",
         "4050",
         "2"
        ],
        [
         "Dream",
         "50.2",
         "18.8",
         "202",
         "3800",
         "2"
        ],
        [
         "Dream",
         "45.6",
         "19.4",
         "194",
         "3525",
         "2"
        ],
        [
         "Dream",
         "51.9",
         "19.5",
         "206",
         "3950",
         "2"
        ],
        [
         "Dream",
         "46.8",
         "16.5",
         "189",
         "3650",
         "2"
        ],
        [
         "Dream",
         "45.7",
         "17",
         "195",
         "3650",
         "2"
        ],
        [
         "Dream",
         "55.8",
         "19.8",
         "207",
         "4000",
         "2"
        ],
        [
         "Dream",
         "43.5",
         "18.1",
         "202",
         "3400",
         "2"
        ],
        [
         "Dream",
         "49.6",
         "18.2",
         "193",
         "3775",
         "2"
        ],
        [
         "Dream",
         "50.8",
         "19",
         "210",
         "4100",
         "2"
        ],
        [
         "Dream",
         "50.2",
         "18.7",
         "198",
         "3775",
         "2"
        ]
       ],
       "datasetInfos": [],
       "dbfsResultPath": null,
       "isJsonSchema": true,
       "metadata": {},
       "overflow": false,
       "plotOptions": {
        "customPlotOptions": {},
        "displayType": "table",
        "pivotAggregation": null,
        "pivotColumns": null,
        "xColumns": null,
        "yColumns": null
       },
       "removedWidgets": [],
       "schema": [
        {
         "metadata": "{}",
         "name": "Island",
         "type": "\"string\""
        },
        {
         "metadata": "{}",
         "name": "CulmenLength",
         "type": "\"string\""
        },
        {
         "metadata": "{}",
         "name": "CulmenDepth",
         "type": "\"string\""
        },
        {
         "metadata": "{}",
         "name": "FlipperLength",
         "type": "\"string\""
        },
        {
         "metadata": "{}",
         "name": "BodyMass",
         "type": "\"string\""
        },
        {
         "metadata": "{}",
         "name": "Species",
         "type": "\"string\""
        }
       ],
       "type": "table"
      }
     },
     "output_type": "display_data"
    }
   ],
   "source": [
    "df = spark.read.format(\"csv\").option(\"header\", \"true\").load(\"/ml_lab/penguins.csv\")\n",
    "display(df)"
   ]
  },
  {
   "cell_type": "code",
   "execution_count": 0,
   "metadata": {
    "application/vnd.databricks.v1+cell": {
     "cellMetadata": {
      "byteLimit": 2048000,
      "rowLimit": 10000
     },
     "inputWidgets": {},
     "nuid": "e215873b-5044-443e-bdd8-deb73c671539",
     "showTitle": false,
     "title": ""
    }
   },
   "outputs": [
    {
     "output_type": "display_data",
     "data": {
      "text/html": [
       "<style scoped>\n",
       "  .table-result-container {\n",
       "    max-height: 300px;\n",
       "    overflow: auto;\n",
       "  }\n",
       "  table, th, td {\n",
       "    border: 1px solid black;\n",
       "    border-collapse: collapse;\n",
       "  }\n",
       "  th, td {\n",
       "    padding: 5px;\n",
       "  }\n",
       "  th {\n",
       "    text-align: left;\n",
       "  }\n",
       "</style><div class='table-result-container'><table class='table-result'><thead style='background-color: white'><tr><th>Island</th><th>CulmenLength</th><th>CulmenDepth</th><th>FlipperLength</th><th>BodyMass</th><th>Species</th></tr></thead><tbody><tr><td>Torgersen</td><td>39.1</td><td>18.7</td><td>181.0</td><td>3750.0</td><td>0</td></tr><tr><td>Torgersen</td><td>39.5</td><td>17.4</td><td>186.0</td><td>3800.0</td><td>0</td></tr><tr><td>Torgersen</td><td>40.3</td><td>18.0</td><td>195.0</td><td>3250.0</td><td>0</td></tr><tr><td>Torgersen</td><td>36.7</td><td>19.3</td><td>193.0</td><td>3450.0</td><td>0</td></tr><tr><td>Torgersen</td><td>39.3</td><td>20.6</td><td>190.0</td><td>3650.0</td><td>0</td></tr><tr><td>Torgersen</td><td>38.9</td><td>17.8</td><td>181.0</td><td>3625.0</td><td>0</td></tr><tr><td>Torgersen</td><td>39.2</td><td>19.6</td><td>195.0</td><td>4675.0</td><td>0</td></tr><tr><td>Torgersen</td><td>34.1</td><td>18.1</td><td>193.0</td><td>3475.0</td><td>0</td></tr><tr><td>Torgersen</td><td>42.0</td><td>20.2</td><td>190.0</td><td>4250.0</td><td>0</td></tr><tr><td>Torgersen</td><td>37.8</td><td>17.1</td><td>186.0</td><td>3300.0</td><td>0</td></tr><tr><td>Torgersen</td><td>37.8</td><td>17.3</td><td>180.0</td><td>3700.0</td><td>0</td></tr><tr><td>Torgersen</td><td>41.1</td><td>17.6</td><td>182.0</td><td>3200.0</td><td>0</td></tr><tr><td>Torgersen</td><td>38.6</td><td>21.2</td><td>191.0</td><td>3800.0</td><td>0</td></tr><tr><td>Torgersen</td><td>34.6</td><td>21.1</td><td>198.0</td><td>4400.0</td><td>0</td></tr><tr><td>Torgersen</td><td>36.6</td><td>17.8</td><td>185.0</td><td>3700.0</td><td>0</td></tr><tr><td>Torgersen</td><td>38.7</td><td>19.0</td><td>195.0</td><td>3450.0</td><td>0</td></tr><tr><td>Torgersen</td><td>42.5</td><td>20.7</td><td>197.0</td><td>4500.0</td><td>0</td></tr><tr><td>Torgersen</td><td>34.4</td><td>18.4</td><td>184.0</td><td>3325.0</td><td>0</td></tr><tr><td>Torgersen</td><td>46.0</td><td>21.5</td><td>194.0</td><td>4200.0</td><td>0</td></tr><tr><td>Biscoe</td><td>37.8</td><td>18.3</td><td>174.0</td><td>3400.0</td><td>0</td></tr><tr><td>Biscoe</td><td>37.7</td><td>18.7</td><td>180.0</td><td>3600.0</td><td>0</td></tr><tr><td>Biscoe</td><td>35.9</td><td>19.2</td><td>189.0</td><td>3800.0</td><td>0</td></tr><tr><td>Biscoe</td><td>38.2</td><td>18.1</td><td>185.0</td><td>3950.0</td><td>0</td></tr><tr><td>Biscoe</td><td>38.8</td><td>17.2</td><td>180.0</td><td>3800.0</td><td>0</td></tr><tr><td>Biscoe</td><td>35.3</td><td>18.9</td><td>187.0</td><td>3800.0</td><td>0</td></tr><tr><td>Biscoe</td><td>40.6</td><td>18.6</td><td>183.0</td><td>3550.0</td><td>0</td></tr><tr><td>Biscoe</td><td>40.5</td><td>17.9</td><td>187.0</td><td>3200.0</td><td>0</td></tr><tr><td>Biscoe</td><td>37.9</td><td>18.6</td><td>172.0</td><td>3150.0</td><td>0</td></tr><tr><td>Biscoe</td><td>40.5</td><td>18.9</td><td>180.0</td><td>3950.0</td><td>0</td></tr><tr><td>Dream</td><td>39.5</td><td>16.7</td><td>178.0</td><td>3250.0</td><td>0</td></tr><tr><td>Dream</td><td>37.2</td><td>18.1</td><td>178.0</td><td>3900.0</td><td>0</td></tr><tr><td>Dream</td><td>39.5</td><td>17.8</td><td>188.0</td><td>3300.0</td><td>0</td></tr><tr><td>Dream</td><td>40.9</td><td>18.9</td><td>184.0</td><td>3900.0</td><td>0</td></tr><tr><td>Dream</td><td>36.4</td><td>17.0</td><td>195.0</td><td>3325.0</td><td>0</td></tr><tr><td>Dream</td><td>39.2</td><td>21.1</td><td>196.0</td><td>4150.0</td><td>0</td></tr><tr><td>Dream</td><td>38.8</td><td>20.0</td><td>190.0</td><td>3950.0</td><td>0</td></tr><tr><td>Dream</td><td>42.2</td><td>18.5</td><td>180.0</td><td>3550.0</td><td>0</td></tr><tr><td>Dream</td><td>37.6</td><td>19.3</td><td>181.0</td><td>3300.0</td><td>0</td></tr><tr><td>Dream</td><td>39.8</td><td>19.1</td><td>184.0</td><td>4650.0</td><td>0</td></tr><tr><td>Dream</td><td>36.5</td><td>18.0</td><td>182.0</td><td>3150.0</td><td>0</td></tr><tr><td>Dream</td><td>40.8</td><td>18.4</td><td>195.0</td><td>3900.0</td><td>0</td></tr><tr><td>Dream</td><td>36.0</td><td>18.5</td><td>186.0</td><td>3100.0</td><td>0</td></tr><tr><td>Dream</td><td>44.1</td><td>19.7</td><td>196.0</td><td>4400.0</td><td>0</td></tr><tr><td>Dream</td><td>37.0</td><td>16.9</td><td>185.0</td><td>3000.0</td><td>0</td></tr><tr><td>Dream</td><td>39.6</td><td>18.8</td><td>190.0</td><td>4600.0</td><td>0</td></tr><tr><td>Dream</td><td>41.1</td><td>19.0</td><td>182.0</td><td>3425.0</td><td>0</td></tr><tr><td>Dream</td><td>37.5</td><td>18.9</td><td>179.0</td><td>2975.0</td><td>0</td></tr><tr><td>Dream</td><td>36.0</td><td>17.9</td><td>190.0</td><td>3450.0</td><td>0</td></tr><tr><td>Dream</td><td>42.3</td><td>21.2</td><td>191.0</td><td>4150.0</td><td>0</td></tr><tr><td>Biscoe</td><td>39.6</td><td>17.7</td><td>186.0</td><td>3500.0</td><td>0</td></tr><tr><td>Biscoe</td><td>40.1</td><td>18.9</td><td>188.0</td><td>4300.0</td><td>0</td></tr><tr><td>Biscoe</td><td>35.0</td><td>17.9</td><td>190.0</td><td>3450.0</td><td>0</td></tr><tr><td>Biscoe</td><td>42.0</td><td>19.5</td><td>200.0</td><td>4050.0</td><td>0</td></tr><tr><td>Biscoe</td><td>34.5</td><td>18.1</td><td>187.0</td><td>2900.0</td><td>0</td></tr><tr><td>Biscoe</td><td>41.4</td><td>18.6</td><td>191.0</td><td>3700.0</td><td>0</td></tr><tr><td>Biscoe</td><td>39.0</td><td>17.5</td><td>186.0</td><td>3550.0</td><td>0</td></tr><tr><td>Biscoe</td><td>40.6</td><td>18.8</td><td>193.0</td><td>3800.0</td><td>0</td></tr><tr><td>Biscoe</td><td>36.5</td><td>16.6</td><td>181.0</td><td>2850.0</td><td>0</td></tr><tr><td>Biscoe</td><td>37.6</td><td>19.1</td><td>194.0</td><td>3750.0</td><td>0</td></tr><tr><td>Biscoe</td><td>35.7</td><td>16.9</td><td>185.0</td><td>3150.0</td><td>0</td></tr><tr><td>Biscoe</td><td>41.3</td><td>21.1</td><td>195.0</td><td>4400.0</td><td>0</td></tr><tr><td>Biscoe</td><td>37.6</td><td>17.0</td><td>185.0</td><td>3600.0</td><td>0</td></tr><tr><td>Biscoe</td><td>41.1</td><td>18.2</td><td>192.0</td><td>4050.0</td><td>0</td></tr><tr><td>Biscoe</td><td>36.4</td><td>17.1</td><td>184.0</td><td>2850.0</td><td>0</td></tr><tr><td>Biscoe</td><td>41.6</td><td>18.0</td><td>192.0</td><td>3950.0</td><td>0</td></tr><tr><td>Biscoe</td><td>35.5</td><td>16.2</td><td>195.0</td><td>3350.0</td><td>0</td></tr><tr><td>Biscoe</td><td>41.1</td><td>19.1</td><td>188.0</td><td>4100.0</td><td>0</td></tr><tr><td>Torgersen</td><td>35.9</td><td>16.6</td><td>190.0</td><td>3050.0</td><td>0</td></tr><tr><td>Torgersen</td><td>41.8</td><td>19.4</td><td>198.0</td><td>4450.0</td><td>0</td></tr><tr><td>Torgersen</td><td>33.5</td><td>19.0</td><td>190.0</td><td>3600.0</td><td>0</td></tr><tr><td>Torgersen</td><td>39.7</td><td>18.4</td><td>190.0</td><td>3900.0</td><td>0</td></tr><tr><td>Torgersen</td><td>39.6</td><td>17.2</td><td>196.0</td><td>3550.0</td><td>0</td></tr><tr><td>Torgersen</td><td>45.8</td><td>18.9</td><td>197.0</td><td>4150.0</td><td>0</td></tr><tr><td>Torgersen</td><td>35.5</td><td>17.5</td><td>190.0</td><td>3700.0</td><td>0</td></tr><tr><td>Torgersen</td><td>42.8</td><td>18.5</td><td>195.0</td><td>4250.0</td><td>0</td></tr><tr><td>Torgersen</td><td>40.9</td><td>16.8</td><td>191.0</td><td>3700.0</td><td>0</td></tr><tr><td>Torgersen</td><td>37.2</td><td>19.4</td><td>184.0</td><td>3900.0</td><td>0</td></tr><tr><td>Torgersen</td><td>36.2</td><td>16.1</td><td>187.0</td><td>3550.0</td><td>0</td></tr><tr><td>Torgersen</td><td>42.1</td><td>19.1</td><td>195.0</td><td>4000.0</td><td>0</td></tr><tr><td>Torgersen</td><td>34.6</td><td>17.2</td><td>189.0</td><td>3200.0</td><td>0</td></tr><tr><td>Torgersen</td><td>42.9</td><td>17.6</td><td>196.0</td><td>4700.0</td><td>0</td></tr><tr><td>Torgersen</td><td>36.7</td><td>18.8</td><td>187.0</td><td>3800.0</td><td>0</td></tr><tr><td>Torgersen</td><td>35.1</td><td>19.4</td><td>193.0</td><td>4200.0</td><td>0</td></tr><tr><td>Dream</td><td>37.3</td><td>17.8</td><td>191.0</td><td>3350.0</td><td>0</td></tr><tr><td>Dream</td><td>41.3</td><td>20.3</td><td>194.0</td><td>3550.0</td><td>0</td></tr><tr><td>Dream</td><td>36.3</td><td>19.5</td><td>190.0</td><td>3800.0</td><td>0</td></tr><tr><td>Dream</td><td>36.9</td><td>18.6</td><td>189.0</td><td>3500.0</td><td>0</td></tr><tr><td>Dream</td><td>38.3</td><td>19.2</td><td>189.0</td><td>3950.0</td><td>0</td></tr><tr><td>Dream</td><td>38.9</td><td>18.8</td><td>190.0</td><td>3600.0</td><td>0</td></tr><tr><td>Dream</td><td>35.7</td><td>18.0</td><td>202.0</td><td>3550.0</td><td>0</td></tr><tr><td>Dream</td><td>41.1</td><td>18.1</td><td>205.0</td><td>4300.0</td><td>0</td></tr><tr><td>Dream</td><td>34.0</td><td>17.1</td><td>185.0</td><td>3400.0</td><td>0</td></tr><tr><td>Dream</td><td>39.6</td><td>18.1</td><td>186.0</td><td>4450.0</td><td>0</td></tr><tr><td>Dream</td><td>36.2</td><td>17.3</td><td>187.0</td><td>3300.0</td><td>0</td></tr><tr><td>Dream</td><td>40.8</td><td>18.9</td><td>208.0</td><td>4300.0</td><td>0</td></tr><tr><td>Dream</td><td>38.1</td><td>18.6</td><td>190.0</td><td>3700.0</td><td>0</td></tr><tr><td>Dream</td><td>40.3</td><td>18.5</td><td>196.0</td><td>4350.0</td><td>0</td></tr><tr><td>Dream</td><td>33.1</td><td>16.1</td><td>178.0</td><td>2900.0</td><td>0</td></tr><tr><td>Dream</td><td>43.2</td><td>18.5</td><td>192.0</td><td>4100.0</td><td>0</td></tr><tr><td>Biscoe</td><td>35.0</td><td>17.9</td><td>192.0</td><td>3725.0</td><td>0</td></tr><tr><td>Biscoe</td><td>41.0</td><td>20.0</td><td>203.0</td><td>4725.0</td><td>0</td></tr><tr><td>Biscoe</td><td>37.7</td><td>16.0</td><td>183.0</td><td>3075.0</td><td>0</td></tr><tr><td>Biscoe</td><td>37.8</td><td>20.0</td><td>190.0</td><td>4250.0</td><td>0</td></tr><tr><td>Biscoe</td><td>37.9</td><td>18.6</td><td>193.0</td><td>2925.0</td><td>0</td></tr><tr><td>Biscoe</td><td>39.7</td><td>18.9</td><td>184.0</td><td>3550.0</td><td>0</td></tr><tr><td>Biscoe</td><td>38.6</td><td>17.2</td><td>199.0</td><td>3750.0</td><td>0</td></tr><tr><td>Biscoe</td><td>38.2</td><td>20.0</td><td>190.0</td><td>3900.0</td><td>0</td></tr><tr><td>Biscoe</td><td>38.1</td><td>17.0</td><td>181.0</td><td>3175.0</td><td>0</td></tr><tr><td>Biscoe</td><td>43.2</td><td>19.0</td><td>197.0</td><td>4775.0</td><td>0</td></tr><tr><td>Biscoe</td><td>38.1</td><td>16.5</td><td>198.0</td><td>3825.0</td><td>0</td></tr><tr><td>Biscoe</td><td>45.6</td><td>20.3</td><td>191.0</td><td>4600.0</td><td>0</td></tr><tr><td>Biscoe</td><td>39.7</td><td>17.7</td><td>193.0</td><td>3200.0</td><td>0</td></tr><tr><td>Biscoe</td><td>42.2</td><td>19.5</td><td>197.0</td><td>4275.0</td><td>0</td></tr><tr><td>Biscoe</td><td>39.6</td><td>20.7</td><td>191.0</td><td>3900.0</td><td>0</td></tr><tr><td>Biscoe</td><td>42.7</td><td>18.3</td><td>196.0</td><td>4075.0</td><td>0</td></tr><tr><td>Torgersen</td><td>38.6</td><td>17.0</td><td>188.0</td><td>2900.0</td><td>0</td></tr><tr><td>Torgersen</td><td>37.3</td><td>20.5</td><td>199.0</td><td>3775.0</td><td>0</td></tr><tr><td>Torgersen</td><td>35.7</td><td>17.0</td><td>189.0</td><td>3350.0</td><td>0</td></tr><tr><td>Torgersen</td><td>41.1</td><td>18.6</td><td>189.0</td><td>3325.0</td><td>0</td></tr><tr><td>Torgersen</td><td>36.2</td><td>17.2</td><td>187.0</td><td>3150.0</td><td>0</td></tr><tr><td>Torgersen</td><td>37.7</td><td>19.8</td><td>198.0</td><td>3500.0</td><td>0</td></tr><tr><td>Torgersen</td><td>40.2</td><td>17.0</td><td>176.0</td><td>3450.0</td><td>0</td></tr><tr><td>Torgersen</td><td>41.4</td><td>18.5</td><td>202.0</td><td>3875.0</td><td>0</td></tr><tr><td>Torgersen</td><td>35.2</td><td>15.9</td><td>186.0</td><td>3050.0</td><td>0</td></tr><tr><td>Torgersen</td><td>40.6</td><td>19.0</td><td>199.0</td><td>4000.0</td><td>0</td></tr><tr><td>Torgersen</td><td>38.8</td><td>17.6</td><td>191.0</td><td>3275.0</td><td>0</td></tr><tr><td>Torgersen</td><td>41.5</td><td>18.3</td><td>195.0</td><td>4300.0</td><td>0</td></tr><tr><td>Torgersen</td><td>39.0</td><td>17.1</td><td>191.0</td><td>3050.0</td><td>0</td></tr><tr><td>Torgersen</td><td>44.1</td><td>18.0</td><td>210.0</td><td>4000.0</td><td>0</td></tr><tr><td>Torgersen</td><td>38.5</td><td>17.9</td><td>190.0</td><td>3325.0</td><td>0</td></tr><tr><td>Torgersen</td><td>43.1</td><td>19.2</td><td>197.0</td><td>3500.0</td><td>0</td></tr><tr><td>Dream</td><td>36.8</td><td>18.5</td><td>193.0</td><td>3500.0</td><td>0</td></tr><tr><td>Dream</td><td>37.5</td><td>18.5</td><td>199.0</td><td>4475.0</td><td>0</td></tr><tr><td>Dream</td><td>38.1</td><td>17.6</td><td>187.0</td><td>3425.0</td><td>0</td></tr><tr><td>Dream</td><td>41.1</td><td>17.5</td><td>190.0</td><td>3900.0</td><td>0</td></tr><tr><td>Dream</td><td>35.6</td><td>17.5</td><td>191.0</td><td>3175.0</td><td>0</td></tr><tr><td>Dream</td><td>40.2</td><td>20.1</td><td>200.0</td><td>3975.0</td><td>0</td></tr><tr><td>Dream</td><td>37.0</td><td>16.5</td><td>185.0</td><td>3400.0</td><td>0</td></tr><tr><td>Dream</td><td>39.7</td><td>17.9</td><td>193.0</td><td>4250.0</td><td>0</td></tr><tr><td>Dream</td><td>40.2</td><td>17.1</td><td>193.0</td><td>3400.0</td><td>0</td></tr><tr><td>Dream</td><td>40.6</td><td>17.2</td><td>187.0</td><td>3475.0</td><td>0</td></tr><tr><td>Dream</td><td>32.1</td><td>15.5</td><td>188.0</td><td>3050.0</td><td>0</td></tr><tr><td>Dream</td><td>40.7</td><td>17.0</td><td>190.0</td><td>3725.0</td><td>0</td></tr><tr><td>Dream</td><td>37.3</td><td>16.8</td><td>192.0</td><td>3000.0</td><td>0</td></tr><tr><td>Dream</td><td>39.0</td><td>18.7</td><td>185.0</td><td>3650.0</td><td>0</td></tr><tr><td>Dream</td><td>39.2</td><td>18.6</td><td>190.0</td><td>4250.0</td><td>0</td></tr><tr><td>Dream</td><td>36.6</td><td>18.4</td><td>184.0</td><td>3475.0</td><td>0</td></tr><tr><td>Dream</td><td>36.0</td><td>17.8</td><td>195.0</td><td>3450.0</td><td>0</td></tr><tr><td>Dream</td><td>37.8</td><td>18.1</td><td>193.0</td><td>3750.0</td><td>0</td></tr><tr><td>Dream</td><td>36.0</td><td>17.1</td><td>187.0</td><td>3700.0</td><td>0</td></tr><tr><td>Dream</td><td>41.5</td><td>18.5</td><td>201.0</td><td>4000.0</td><td>0</td></tr><tr><td>Biscoe</td><td>46.1</td><td>13.2</td><td>211.0</td><td>4500.0</td><td>1</td></tr><tr><td>Biscoe</td><td>50.0</td><td>16.3</td><td>230.0</td><td>5700.0</td><td>1</td></tr><tr><td>Biscoe</td><td>48.7</td><td>14.1</td><td>210.0</td><td>4450.0</td><td>1</td></tr><tr><td>Biscoe</td><td>50.0</td><td>15.2</td><td>218.0</td><td>5700.0</td><td>1</td></tr><tr><td>Biscoe</td><td>47.6</td><td>14.5</td><td>215.0</td><td>5400.0</td><td>1</td></tr><tr><td>Biscoe</td><td>46.5</td><td>13.5</td><td>210.0</td><td>4550.0</td><td>1</td></tr><tr><td>Biscoe</td><td>45.4</td><td>14.6</td><td>211.0</td><td>4800.0</td><td>1</td></tr><tr><td>Biscoe</td><td>46.7</td><td>15.3</td><td>219.0</td><td>5200.0</td><td>1</td></tr><tr><td>Biscoe</td><td>43.3</td><td>13.4</td><td>209.0</td><td>4400.0</td><td>1</td></tr><tr><td>Biscoe</td><td>46.8</td><td>15.4</td><td>215.0</td><td>5150.0</td><td>1</td></tr><tr><td>Biscoe</td><td>40.9</td><td>13.7</td><td>214.0</td><td>4650.0</td><td>1</td></tr><tr><td>Biscoe</td><td>49.0</td><td>16.1</td><td>216.0</td><td>5550.0</td><td>1</td></tr><tr><td>Biscoe</td><td>45.5</td><td>13.7</td><td>214.0</td><td>4650.0</td><td>1</td></tr><tr><td>Biscoe</td><td>48.4</td><td>14.6</td><td>213.0</td><td>5850.0</td><td>1</td></tr><tr><td>Biscoe</td><td>45.8</td><td>14.6</td><td>210.0</td><td>4200.0</td><td>1</td></tr><tr><td>Biscoe</td><td>49.3</td><td>15.7</td><td>217.0</td><td>5850.0</td><td>1</td></tr><tr><td>Biscoe</td><td>42.0</td><td>13.5</td><td>210.0</td><td>4150.0</td><td>1</td></tr><tr><td>Biscoe</td><td>49.2</td><td>15.2</td><td>221.0</td><td>6300.0</td><td>1</td></tr><tr><td>Biscoe</td><td>46.2</td><td>14.5</td><td>209.0</td><td>4800.0</td><td>1</td></tr><tr><td>Biscoe</td><td>48.7</td><td>15.1</td><td>222.0</td><td>5350.0</td><td>1</td></tr><tr><td>Biscoe</td><td>50.2</td><td>14.3</td><td>218.0</td><td>5700.0</td><td>1</td></tr><tr><td>Biscoe</td><td>45.1</td><td>14.5</td><td>215.0</td><td>5000.0</td><td>1</td></tr><tr><td>Biscoe</td><td>46.5</td><td>14.5</td><td>213.0</td><td>4400.0</td><td>1</td></tr><tr><td>Biscoe</td><td>46.3</td><td>15.8</td><td>215.0</td><td>5050.0</td><td>1</td></tr><tr><td>Biscoe</td><td>42.9</td><td>13.1</td><td>215.0</td><td>5000.0</td><td>1</td></tr><tr><td>Biscoe</td><td>46.1</td><td>15.1</td><td>215.0</td><td>5100.0</td><td>1</td></tr><tr><td>Biscoe</td><td>44.5</td><td>14.3</td><td>216.0</td><td>4100.0</td><td>1</td></tr><tr><td>Biscoe</td><td>47.8</td><td>15.0</td><td>215.0</td><td>5650.0</td><td>1</td></tr><tr><td>Biscoe</td><td>48.2</td><td>14.3</td><td>210.0</td><td>4600.0</td><td>1</td></tr><tr><td>Biscoe</td><td>50.0</td><td>15.3</td><td>220.0</td><td>5550.0</td><td>1</td></tr><tr><td>Biscoe</td><td>47.3</td><td>15.3</td><td>222.0</td><td>5250.0</td><td>1</td></tr><tr><td>Biscoe</td><td>42.8</td><td>14.2</td><td>209.0</td><td>4700.0</td><td>1</td></tr><tr><td>Biscoe</td><td>45.1</td><td>14.5</td><td>207.0</td><td>5050.0</td><td>1</td></tr><tr><td>Biscoe</td><td>59.6</td><td>17.0</td><td>230.0</td><td>6050.0</td><td>1</td></tr><tr><td>Biscoe</td><td>49.1</td><td>14.8</td><td>220.0</td><td>5150.0</td><td>1</td></tr><tr><td>Biscoe</td><td>48.4</td><td>16.3</td><td>220.0</td><td>5400.0</td><td>1</td></tr><tr><td>Biscoe</td><td>42.6</td><td>13.7</td><td>213.0</td><td>4950.0</td><td>1</td></tr><tr><td>Biscoe</td><td>44.4</td><td>17.3</td><td>219.0</td><td>5250.0</td><td>1</td></tr><tr><td>Biscoe</td><td>44.0</td><td>13.6</td><td>208.0</td><td>4350.0</td><td>1</td></tr><tr><td>Biscoe</td><td>48.7</td><td>15.7</td><td>208.0</td><td>5350.0</td><td>1</td></tr><tr><td>Biscoe</td><td>42.7</td><td>13.7</td><td>208.0</td><td>3950.0</td><td>1</td></tr><tr><td>Biscoe</td><td>49.6</td><td>16.0</td><td>225.0</td><td>5700.0</td><td>1</td></tr><tr><td>Biscoe</td><td>45.3</td><td>13.7</td><td>210.0</td><td>4300.0</td><td>1</td></tr><tr><td>Biscoe</td><td>49.6</td><td>15.0</td><td>216.0</td><td>4750.0</td><td>1</td></tr><tr><td>Biscoe</td><td>50.5</td><td>15.9</td><td>222.0</td><td>5550.0</td><td>1</td></tr><tr><td>Biscoe</td><td>43.6</td><td>13.9</td><td>217.0</td><td>4900.0</td><td>1</td></tr><tr><td>Biscoe</td><td>45.5</td><td>13.9</td><td>210.0</td><td>4200.0</td><td>1</td></tr><tr><td>Biscoe</td><td>50.5</td><td>15.9</td><td>225.0</td><td>5400.0</td><td>1</td></tr><tr><td>Biscoe</td><td>44.9</td><td>13.3</td><td>213.0</td><td>5100.0</td><td>1</td></tr><tr><td>Biscoe</td><td>45.2</td><td>15.8</td><td>215.0</td><td>5300.0</td><td>1</td></tr><tr><td>Biscoe</td><td>46.6</td><td>14.2</td><td>210.0</td><td>4850.0</td><td>1</td></tr><tr><td>Biscoe</td><td>48.5</td><td>14.1</td><td>220.0</td><td>5300.0</td><td>1</td></tr><tr><td>Biscoe</td><td>45.1</td><td>14.4</td><td>210.0</td><td>4400.0</td><td>1</td></tr><tr><td>Biscoe</td><td>50.1</td><td>15.0</td><td>225.0</td><td>5000.0</td><td>1</td></tr><tr><td>Biscoe</td><td>46.5</td><td>14.4</td><td>217.0</td><td>4900.0</td><td>1</td></tr><tr><td>Biscoe</td><td>45.0</td><td>15.4</td><td>220.0</td><td>5050.0</td><td>1</td></tr><tr><td>Biscoe</td><td>43.8</td><td>13.9</td><td>208.0</td><td>4300.0</td><td>1</td></tr><tr><td>Biscoe</td><td>45.5</td><td>15.0</td><td>220.0</td><td>5000.0</td><td>1</td></tr><tr><td>Biscoe</td><td>43.2</td><td>14.5</td><td>208.0</td><td>4450.0</td><td>1</td></tr><tr><td>Biscoe</td><td>50.4</td><td>15.3</td><td>224.0</td><td>5550.0</td><td>1</td></tr><tr><td>Biscoe</td><td>45.3</td><td>13.8</td><td>208.0</td><td>4200.0</td><td>1</td></tr><tr><td>Biscoe</td><td>46.2</td><td>14.9</td><td>221.0</td><td>5300.0</td><td>1</td></tr><tr><td>Biscoe</td><td>45.7</td><td>13.9</td><td>214.0</td><td>4400.0</td><td>1</td></tr><tr><td>Biscoe</td><td>54.3</td><td>15.7</td><td>231.0</td><td>5650.0</td><td>1</td></tr><tr><td>Biscoe</td><td>45.8</td><td>14.2</td><td>219.0</td><td>4700.0</td><td>1</td></tr><tr><td>Biscoe</td><td>49.8</td><td>16.8</td><td>230.0</td><td>5700.0</td><td>1</td></tr><tr><td>Biscoe</td><td>46.2</td><td>14.4</td><td>214.0</td><td>4650.0</td><td>1</td></tr><tr><td>Biscoe</td><td>49.5</td><td>16.2</td><td>229.0</td><td>5800.0</td><td>1</td></tr><tr><td>Biscoe</td><td>43.5</td><td>14.2</td><td>220.0</td><td>4700.0</td><td>1</td></tr><tr><td>Biscoe</td><td>50.7</td><td>15.0</td><td>223.0</td><td>5550.0</td><td>1</td></tr><tr><td>Biscoe</td><td>47.7</td><td>15.0</td><td>216.0</td><td>4750.0</td><td>1</td></tr><tr><td>Biscoe</td><td>46.4</td><td>15.6</td><td>221.0</td><td>5000.0</td><td>1</td></tr><tr><td>Biscoe</td><td>48.2</td><td>15.6</td><td>221.0</td><td>5100.0</td><td>1</td></tr><tr><td>Biscoe</td><td>46.5</td><td>14.8</td><td>217.0</td><td>5200.0</td><td>1</td></tr><tr><td>Biscoe</td><td>46.4</td><td>15.0</td><td>216.0</td><td>4700.0</td><td>1</td></tr><tr><td>Biscoe</td><td>48.6</td><td>16.0</td><td>230.0</td><td>5800.0</td><td>1</td></tr><tr><td>Biscoe</td><td>47.5</td><td>14.2</td><td>209.0</td><td>4600.0</td><td>1</td></tr><tr><td>Biscoe</td><td>51.1</td><td>16.3</td><td>220.0</td><td>6000.0</td><td>1</td></tr><tr><td>Biscoe</td><td>45.2</td><td>13.8</td><td>215.0</td><td>4750.0</td><td>1</td></tr><tr><td>Biscoe</td><td>45.2</td><td>16.4</td><td>223.0</td><td>5950.0</td><td>1</td></tr><tr><td>Biscoe</td><td>49.1</td><td>14.5</td><td>212.0</td><td>4625.0</td><td>1</td></tr><tr><td>Biscoe</td><td>52.5</td><td>15.6</td><td>221.0</td><td>5450.0</td><td>1</td></tr><tr><td>Biscoe</td><td>47.4</td><td>14.6</td><td>212.0</td><td>4725.0</td><td>1</td></tr><tr><td>Biscoe</td><td>50.0</td><td>15.9</td><td>224.0</td><td>5350.0</td><td>1</td></tr><tr><td>Biscoe</td><td>44.9</td><td>13.8</td><td>212.0</td><td>4750.0</td><td>1</td></tr><tr><td>Biscoe</td><td>50.8</td><td>17.3</td><td>228.0</td><td>5600.0</td><td>1</td></tr><tr><td>Biscoe</td><td>43.4</td><td>14.4</td><td>218.0</td><td>4600.0</td><td>1</td></tr><tr><td>Biscoe</td><td>51.3</td><td>14.2</td><td>218.0</td><td>5300.0</td><td>1</td></tr><tr><td>Biscoe</td><td>47.5</td><td>14.0</td><td>212.0</td><td>4875.0</td><td>1</td></tr><tr><td>Biscoe</td><td>52.1</td><td>17.0</td><td>230.0</td><td>5550.0</td><td>1</td></tr><tr><td>Biscoe</td><td>47.5</td><td>15.0</td><td>218.0</td><td>4950.0</td><td>1</td></tr><tr><td>Biscoe</td><td>52.2</td><td>17.1</td><td>228.0</td><td>5400.0</td><td>1</td></tr><tr><td>Biscoe</td><td>45.5</td><td>14.5</td><td>212.0</td><td>4750.0</td><td>1</td></tr><tr><td>Biscoe</td><td>49.5</td><td>16.1</td><td>224.0</td><td>5650.0</td><td>1</td></tr><tr><td>Biscoe</td><td>44.5</td><td>14.7</td><td>214.0</td><td>4850.0</td><td>1</td></tr><tr><td>Biscoe</td><td>50.8</td><td>15.7</td><td>226.0</td><td>5200.0</td><td>1</td></tr><tr><td>Biscoe</td><td>49.4</td><td>15.8</td><td>216.0</td><td>4925.0</td><td>1</td></tr><tr><td>Biscoe</td><td>46.9</td><td>14.6</td><td>222.0</td><td>4875.0</td><td>1</td></tr><tr><td>Biscoe</td><td>48.4</td><td>14.4</td><td>203.0</td><td>4625.0</td><td>1</td></tr><tr><td>Biscoe</td><td>51.1</td><td>16.5</td><td>225.0</td><td>5250.0</td><td>1</td></tr><tr><td>Biscoe</td><td>48.5</td><td>15.0</td><td>219.0</td><td>4850.0</td><td>1</td></tr><tr><td>Biscoe</td><td>55.9</td><td>17.0</td><td>228.0</td><td>5600.0</td><td>1</td></tr><tr><td>Biscoe</td><td>47.2</td><td>15.5</td><td>215.0</td><td>4975.0</td><td>1</td></tr><tr><td>Biscoe</td><td>49.1</td><td>15.0</td><td>228.0</td><td>5500.0</td><td>1</td></tr><tr><td>Biscoe</td><td>47.3</td><td>13.8</td><td>216.0</td><td>4725.0</td><td>1</td></tr><tr><td>Biscoe</td><td>46.8</td><td>16.1</td><td>215.0</td><td>5500.0</td><td>1</td></tr><tr><td>Biscoe</td><td>41.7</td><td>14.7</td><td>210.0</td><td>4700.0</td><td>1</td></tr><tr><td>Biscoe</td><td>53.4</td><td>15.8</td><td>219.0</td><td>5500.0</td><td>1</td></tr><tr><td>Biscoe</td><td>43.3</td><td>14.0</td><td>208.0</td><td>4575.0</td><td>1</td></tr><tr><td>Biscoe</td><td>48.1</td><td>15.1</td><td>209.0</td><td>5500.0</td><td>1</td></tr><tr><td>Biscoe</td><td>50.5</td><td>15.2</td><td>216.0</td><td>5000.0</td><td>1</td></tr><tr><td>Biscoe</td><td>49.8</td><td>15.9</td><td>229.0</td><td>5950.0</td><td>1</td></tr><tr><td>Biscoe</td><td>43.5</td><td>15.2</td><td>213.0</td><td>4650.0</td><td>1</td></tr><tr><td>Biscoe</td><td>51.5</td><td>16.3</td><td>230.0</td><td>5500.0</td><td>1</td></tr><tr><td>Biscoe</td><td>46.2</td><td>14.1</td><td>217.0</td><td>4375.0</td><td>1</td></tr><tr><td>Biscoe</td><td>55.1</td><td>16.0</td><td>230.0</td><td>5850.0</td><td>1</td></tr><tr><td>Biscoe</td><td>44.5</td><td>15.7</td><td>217.0</td><td>4875.0</td><td>1</td></tr><tr><td>Biscoe</td><td>48.8</td><td>16.2</td><td>222.0</td><td>6000.0</td><td>1</td></tr><tr><td>Biscoe</td><td>47.2</td><td>13.7</td><td>214.0</td><td>4925.0</td><td>1</td></tr><tr><td>Biscoe</td><td>46.8</td><td>14.3</td><td>215.0</td><td>4850.0</td><td>1</td></tr><tr><td>Biscoe</td><td>50.4</td><td>15.7</td><td>222.0</td><td>5750.0</td><td>1</td></tr><tr><td>Biscoe</td><td>45.2</td><td>14.8</td><td>212.0</td><td>5200.0</td><td>1</td></tr><tr><td>Biscoe</td><td>49.9</td><td>16.1</td><td>213.0</td><td>5400.0</td><td>1</td></tr><tr><td>Dream</td><td>46.5</td><td>17.9</td><td>192.0</td><td>3500.0</td><td>2</td></tr><tr><td>Dream</td><td>50.0</td><td>19.5</td><td>196.0</td><td>3900.0</td><td>2</td></tr><tr><td>Dream</td><td>51.3</td><td>19.2</td><td>193.0</td><td>3650.0</td><td>2</td></tr><tr><td>Dream</td><td>45.4</td><td>18.7</td><td>188.0</td><td>3525.0</td><td>2</td></tr><tr><td>Dream</td><td>52.7</td><td>19.8</td><td>197.0</td><td>3725.0</td><td>2</td></tr><tr><td>Dream</td><td>45.2</td><td>17.8</td><td>198.0</td><td>3950.0</td><td>2</td></tr><tr><td>Dream</td><td>46.1</td><td>18.2</td><td>178.0</td><td>3250.0</td><td>2</td></tr><tr><td>Dream</td><td>51.3</td><td>18.2</td><td>197.0</td><td>3750.0</td><td>2</td></tr><tr><td>Dream</td><td>46.0</td><td>18.9</td><td>195.0</td><td>4150.0</td><td>2</td></tr><tr><td>Dream</td><td>51.3</td><td>19.9</td><td>198.0</td><td>3700.0</td><td>2</td></tr><tr><td>Dream</td><td>46.6</td><td>17.8</td><td>193.0</td><td>3800.0</td><td>2</td></tr><tr><td>Dream</td><td>51.7</td><td>20.3</td><td>194.0</td><td>3775.0</td><td>2</td></tr><tr><td>Dream</td><td>47.0</td><td>17.3</td><td>185.0</td><td>3700.0</td><td>2</td></tr><tr><td>Dream</td><td>52.0</td><td>18.1</td><td>201.0</td><td>4050.0</td><td>2</td></tr><tr><td>Dream</td><td>45.9</td><td>17.1</td><td>190.0</td><td>3575.0</td><td>2</td></tr><tr><td>Dream</td><td>50.5</td><td>19.6</td><td>201.0</td><td>4050.0</td><td>2</td></tr><tr><td>Dream</td><td>50.3</td><td>20.0</td><td>197.0</td><td>3300.0</td><td>2</td></tr><tr><td>Dream</td><td>58.0</td><td>17.8</td><td>181.0</td><td>3700.0</td><td>2</td></tr><tr><td>Dream</td><td>46.4</td><td>18.6</td><td>190.0</td><td>3450.0</td><td>2</td></tr><tr><td>Dream</td><td>49.2</td><td>18.2</td><td>195.0</td><td>4400.0</td><td>2</td></tr><tr><td>Dream</td><td>42.4</td><td>17.3</td><td>181.0</td><td>3600.0</td><td>2</td></tr><tr><td>Dream</td><td>48.5</td><td>17.5</td><td>191.0</td><td>3400.0</td><td>2</td></tr><tr><td>Dream</td><td>43.2</td><td>16.6</td><td>187.0</td><td>2900.0</td><td>2</td></tr><tr><td>Dream</td><td>50.6</td><td>19.4</td><td>193.0</td><td>3800.0</td><td>2</td></tr><tr><td>Dream</td><td>46.7</td><td>17.9</td><td>195.0</td><td>3300.0</td><td>2</td></tr><tr><td>Dream</td><td>52.0</td><td>19.0</td><td>197.0</td><td>4150.0</td><td>2</td></tr><tr><td>Dream</td><td>50.5</td><td>18.4</td><td>200.0</td><td>3400.0</td><td>2</td></tr><tr><td>Dream</td><td>49.5</td><td>19.0</td><td>200.0</td><td>3800.0</td><td>2</td></tr><tr><td>Dream</td><td>46.4</td><td>17.8</td><td>191.0</td><td>3700.0</td><td>2</td></tr><tr><td>Dream</td><td>52.8</td><td>20.0</td><td>205.0</td><td>4550.0</td><td>2</td></tr><tr><td>Dream</td><td>40.9</td><td>16.6</td><td>187.0</td><td>3200.0</td><td>2</td></tr><tr><td>Dream</td><td>54.2</td><td>20.8</td><td>201.0</td><td>4300.0</td><td>2</td></tr><tr><td>Dream</td><td>42.5</td><td>16.7</td><td>187.0</td><td>3350.0</td><td>2</td></tr><tr><td>Dream</td><td>51.0</td><td>18.8</td><td>203.0</td><td>4100.0</td><td>2</td></tr><tr><td>Dream</td><td>49.7</td><td>18.6</td><td>195.0</td><td>3600.0</td><td>2</td></tr><tr><td>Dream</td><td>47.5</td><td>16.8</td><td>199.0</td><td>3900.0</td><td>2</td></tr><tr><td>Dream</td><td>47.6</td><td>18.3</td><td>195.0</td><td>3850.0</td><td>2</td></tr><tr><td>Dream</td><td>52.0</td><td>20.7</td><td>210.0</td><td>4800.0</td><td>2</td></tr><tr><td>Dream</td><td>46.9</td><td>16.6</td><td>192.0</td><td>2700.0</td><td>2</td></tr><tr><td>Dream</td><td>53.5</td><td>19.9</td><td>205.0</td><td>4500.0</td><td>2</td></tr><tr><td>Dream</td><td>49.0</td><td>19.5</td><td>210.0</td><td>3950.0</td><td>2</td></tr><tr><td>Dream</td><td>46.2</td><td>17.5</td><td>187.0</td><td>3650.0</td><td>2</td></tr><tr><td>Dream</td><td>50.9</td><td>19.1</td><td>196.0</td><td>3550.0</td><td>2</td></tr><tr><td>Dream</td><td>45.5</td><td>17.0</td><td>196.0</td><td>3500.0</td><td>2</td></tr><tr><td>Dream</td><td>50.9</td><td>17.9</td><td>196.0</td><td>3675.0</td><td>2</td></tr><tr><td>Dream</td><td>50.8</td><td>18.5</td><td>201.0</td><td>4450.0</td><td>2</td></tr><tr><td>Dream</td><td>50.1</td><td>17.9</td><td>190.0</td><td>3400.0</td><td>2</td></tr><tr><td>Dream</td><td>49.0</td><td>19.6</td><td>212.0</td><td>4300.0</td><td>2</td></tr><tr><td>Dream</td><td>51.5</td><td>18.7</td><td>187.0</td><td>3250.0</td><td>2</td></tr><tr><td>Dream</td><td>49.8</td><td>17.3</td><td>198.0</td><td>3675.0</td><td>2</td></tr><tr><td>Dream</td><td>48.1</td><td>16.4</td><td>199.0</td><td>3325.0</td><td>2</td></tr><tr><td>Dream</td><td>51.4</td><td>19.0</td><td>201.0</td><td>3950.0</td><td>2</td></tr><tr><td>Dream</td><td>45.7</td><td>17.3</td><td>193.0</td><td>3600.0</td><td>2</td></tr><tr><td>Dream</td><td>50.7</td><td>19.7</td><td>203.0</td><td>4050.0</td><td>2</td></tr><tr><td>Dream</td><td>42.5</td><td>17.3</td><td>187.0</td><td>3350.0</td><td>2</td></tr><tr><td>Dream</td><td>52.2</td><td>18.8</td><td>197.0</td><td>3450.0</td><td>2</td></tr><tr><td>Dream</td><td>45.2</td><td>16.6</td><td>191.0</td><td>3250.0</td><td>2</td></tr><tr><td>Dream</td><td>49.3</td><td>19.9</td><td>203.0</td><td>4050.0</td><td>2</td></tr><tr><td>Dream</td><td>50.2</td><td>18.8</td><td>202.0</td><td>3800.0</td><td>2</td></tr><tr><td>Dream</td><td>45.6</td><td>19.4</td><td>194.0</td><td>3525.0</td><td>2</td></tr><tr><td>Dream</td><td>51.9</td><td>19.5</td><td>206.0</td><td>3950.0</td><td>2</td></tr><tr><td>Dream</td><td>46.8</td><td>16.5</td><td>189.0</td><td>3650.0</td><td>2</td></tr><tr><td>Dream</td><td>45.7</td><td>17.0</td><td>195.0</td><td>3650.0</td><td>2</td></tr><tr><td>Dream</td><td>55.8</td><td>19.8</td><td>207.0</td><td>4000.0</td><td>2</td></tr><tr><td>Dream</td><td>43.5</td><td>18.1</td><td>202.0</td><td>3400.0</td><td>2</td></tr><tr><td>Dream</td><td>49.6</td><td>18.2</td><td>193.0</td><td>3775.0</td><td>2</td></tr><tr><td>Dream</td><td>50.8</td><td>19.0</td><td>210.0</td><td>4100.0</td><td>2</td></tr><tr><td>Dream</td><td>50.2</td><td>18.7</td><td>198.0</td><td>3775.0</td><td>2</td></tr></tbody></table></div>"
      ]
     },
     "metadata": {
      "application/vnd.databricks.v1+output": {
       "addedWidgets": {},
       "aggData": [],
       "aggError": "",
       "aggOverflow": false,
       "aggSchema": [],
       "aggSeriesLimitReached": false,
       "aggType": "",
       "arguments": {},
       "columnCustomDisplayInfos": {},
       "data": [
        [
         "Torgersen",
         39.1,
         18.7,
         181.0,
         3750.0,
         0
        ],
        [
         "Torgersen",
         39.5,
         17.4,
         186.0,
         3800.0,
         0
        ],
        [
         "Torgersen",
         40.3,
         18.0,
         195.0,
         3250.0,
         0
        ],
        [
         "Torgersen",
         36.7,
         19.3,
         193.0,
         3450.0,
         0
        ],
        [
         "Torgersen",
         39.3,
         20.6,
         190.0,
         3650.0,
         0
        ],
        [
         "Torgersen",
         38.9,
         17.8,
         181.0,
         3625.0,
         0
        ],
        [
         "Torgersen",
         39.2,
         19.6,
         195.0,
         4675.0,
         0
        ],
        [
         "Torgersen",
         34.1,
         18.1,
         193.0,
         3475.0,
         0
        ],
        [
         "Torgersen",
         42.0,
         20.2,
         190.0,
         4250.0,
         0
        ],
        [
         "Torgersen",
         37.8,
         17.1,
         186.0,
         3300.0,
         0
        ],
        [
         "Torgersen",
         37.8,
         17.3,
         180.0,
         3700.0,
         0
        ],
        [
         "Torgersen",
         41.1,
         17.6,
         182.0,
         3200.0,
         0
        ],
        [
         "Torgersen",
         38.6,
         21.2,
         191.0,
         3800.0,
         0
        ],
        [
         "Torgersen",
         34.6,
         21.1,
         198.0,
         4400.0,
         0
        ],
        [
         "Torgersen",
         36.6,
         17.8,
         185.0,
         3700.0,
         0
        ],
        [
         "Torgersen",
         38.7,
         19.0,
         195.0,
         3450.0,
         0
        ],
        [
         "Torgersen",
         42.5,
         20.7,
         197.0,
         4500.0,
         0
        ],
        [
         "Torgersen",
         34.4,
         18.4,
         184.0,
         3325.0,
         0
        ],
        [
         "Torgersen",
         46.0,
         21.5,
         194.0,
         4200.0,
         0
        ],
        [
         "Biscoe",
         37.8,
         18.3,
         174.0,
         3400.0,
         0
        ],
        [
         "Biscoe",
         37.7,
         18.7,
         180.0,
         3600.0,
         0
        ],
        [
         "Biscoe",
         35.9,
         19.2,
         189.0,
         3800.0,
         0
        ],
        [
         "Biscoe",
         38.2,
         18.1,
         185.0,
         3950.0,
         0
        ],
        [
         "Biscoe",
         38.8,
         17.2,
         180.0,
         3800.0,
         0
        ],
        [
         "Biscoe",
         35.3,
         18.9,
         187.0,
         3800.0,
         0
        ],
        [
         "Biscoe",
         40.6,
         18.6,
         183.0,
         3550.0,
         0
        ],
        [
         "Biscoe",
         40.5,
         17.9,
         187.0,
         3200.0,
         0
        ],
        [
         "Biscoe",
         37.9,
         18.6,
         172.0,
         3150.0,
         0
        ],
        [
         "Biscoe",
         40.5,
         18.9,
         180.0,
         3950.0,
         0
        ],
        [
         "Dream",
         39.5,
         16.7,
         178.0,
         3250.0,
         0
        ],
        [
         "Dream",
         37.2,
         18.1,
         178.0,
         3900.0,
         0
        ],
        [
         "Dream",
         39.5,
         17.8,
         188.0,
         3300.0,
         0
        ],
        [
         "Dream",
         40.9,
         18.9,
         184.0,
         3900.0,
         0
        ],
        [
         "Dream",
         36.4,
         17.0,
         195.0,
         3325.0,
         0
        ],
        [
         "Dream",
         39.2,
         21.1,
         196.0,
         4150.0,
         0
        ],
        [
         "Dream",
         38.8,
         20.0,
         190.0,
         3950.0,
         0
        ],
        [
         "Dream",
         42.2,
         18.5,
         180.0,
         3550.0,
         0
        ],
        [
         "Dream",
         37.6,
         19.3,
         181.0,
         3300.0,
         0
        ],
        [
         "Dream",
         39.8,
         19.1,
         184.0,
         4650.0,
         0
        ],
        [
         "Dream",
         36.5,
         18.0,
         182.0,
         3150.0,
         0
        ],
        [
         "Dream",
         40.8,
         18.4,
         195.0,
         3900.0,
         0
        ],
        [
         "Dream",
         36.0,
         18.5,
         186.0,
         3100.0,
         0
        ],
        [
         "Dream",
         44.1,
         19.7,
         196.0,
         4400.0,
         0
        ],
        [
         "Dream",
         37.0,
         16.9,
         185.0,
         3000.0,
         0
        ],
        [
         "Dream",
         39.6,
         18.8,
         190.0,
         4600.0,
         0
        ],
        [
         "Dream",
         41.1,
         19.0,
         182.0,
         3425.0,
         0
        ],
        [
         "Dream",
         37.5,
         18.9,
         179.0,
         2975.0,
         0
        ],
        [
         "Dream",
         36.0,
         17.9,
         190.0,
         3450.0,
         0
        ],
        [
         "Dream",
         42.3,
         21.2,
         191.0,
         4150.0,
         0
        ],
        [
         "Biscoe",
         39.6,
         17.7,
         186.0,
         3500.0,
         0
        ],
        [
         "Biscoe",
         40.1,
         18.9,
         188.0,
         4300.0,
         0
        ],
        [
         "Biscoe",
         35.0,
         17.9,
         190.0,
         3450.0,
         0
        ],
        [
         "Biscoe",
         42.0,
         19.5,
         200.0,
         4050.0,
         0
        ],
        [
         "Biscoe",
         34.5,
         18.1,
         187.0,
         2900.0,
         0
        ],
        [
         "Biscoe",
         41.4,
         18.6,
         191.0,
         3700.0,
         0
        ],
        [
         "Biscoe",
         39.0,
         17.5,
         186.0,
         3550.0,
         0
        ],
        [
         "Biscoe",
         40.6,
         18.8,
         193.0,
         3800.0,
         0
        ],
        [
         "Biscoe",
         36.5,
         16.6,
         181.0,
         2850.0,
         0
        ],
        [
         "Biscoe",
         37.6,
         19.1,
         194.0,
         3750.0,
         0
        ],
        [
         "Biscoe",
         35.7,
         16.9,
         185.0,
         3150.0,
         0
        ],
        [
         "Biscoe",
         41.3,
         21.1,
         195.0,
         4400.0,
         0
        ],
        [
         "Biscoe",
         37.6,
         17.0,
         185.0,
         3600.0,
         0
        ],
        [
         "Biscoe",
         41.1,
         18.2,
         192.0,
         4050.0,
         0
        ],
        [
         "Biscoe",
         36.4,
         17.1,
         184.0,
         2850.0,
         0
        ],
        [
         "Biscoe",
         41.6,
         18.0,
         192.0,
         3950.0,
         0
        ],
        [
         "Biscoe",
         35.5,
         16.2,
         195.0,
         3350.0,
         0
        ],
        [
         "Biscoe",
         41.1,
         19.1,
         188.0,
         4100.0,
         0
        ],
        [
         "Torgersen",
         35.9,
         16.6,
         190.0,
         3050.0,
         0
        ],
        [
         "Torgersen",
         41.8,
         19.4,
         198.0,
         4450.0,
         0
        ],
        [
         "Torgersen",
         33.5,
         19.0,
         190.0,
         3600.0,
         0
        ],
        [
         "Torgersen",
         39.7,
         18.4,
         190.0,
         3900.0,
         0
        ],
        [
         "Torgersen",
         39.6,
         17.2,
         196.0,
         3550.0,
         0
        ],
        [
         "Torgersen",
         45.8,
         18.9,
         197.0,
         4150.0,
         0
        ],
        [
         "Torgersen",
         35.5,
         17.5,
         190.0,
         3700.0,
         0
        ],
        [
         "Torgersen",
         42.8,
         18.5,
         195.0,
         4250.0,
         0
        ],
        [
         "Torgersen",
         40.9,
         16.8,
         191.0,
         3700.0,
         0
        ],
        [
         "Torgersen",
         37.2,
         19.4,
         184.0,
         3900.0,
         0
        ],
        [
         "Torgersen",
         36.2,
         16.1,
         187.0,
         3550.0,
         0
        ],
        [
         "Torgersen",
         42.1,
         19.1,
         195.0,
         4000.0,
         0
        ],
        [
         "Torgersen",
         34.6,
         17.2,
         189.0,
         3200.0,
         0
        ],
        [
         "Torgersen",
         42.9,
         17.6,
         196.0,
         4700.0,
         0
        ],
        [
         "Torgersen",
         36.7,
         18.8,
         187.0,
         3800.0,
         0
        ],
        [
         "Torgersen",
         35.1,
         19.4,
         193.0,
         4200.0,
         0
        ],
        [
         "Dream",
         37.3,
         17.8,
         191.0,
         3350.0,
         0
        ],
        [
         "Dream",
         41.3,
         20.3,
         194.0,
         3550.0,
         0
        ],
        [
         "Dream",
         36.3,
         19.5,
         190.0,
         3800.0,
         0
        ],
        [
         "Dream",
         36.9,
         18.6,
         189.0,
         3500.0,
         0
        ],
        [
         "Dream",
         38.3,
         19.2,
         189.0,
         3950.0,
         0
        ],
        [
         "Dream",
         38.9,
         18.8,
         190.0,
         3600.0,
         0
        ],
        [
         "Dream",
         35.7,
         18.0,
         202.0,
         3550.0,
         0
        ],
        [
         "Dream",
         41.1,
         18.1,
         205.0,
         4300.0,
         0
        ],
        [
         "Dream",
         34.0,
         17.1,
         185.0,
         3400.0,
         0
        ],
        [
         "Dream",
         39.6,
         18.1,
         186.0,
         4450.0,
         0
        ],
        [
         "Dream",
         36.2,
         17.3,
         187.0,
         3300.0,
         0
        ],
        [
         "Dream",
         40.8,
         18.9,
         208.0,
         4300.0,
         0
        ],
        [
         "Dream",
         38.1,
         18.6,
         190.0,
         3700.0,
         0
        ],
        [
         "Dream",
         40.3,
         18.5,
         196.0,
         4350.0,
         0
        ],
        [
         "Dream",
         33.1,
         16.1,
         178.0,
         2900.0,
         0
        ],
        [
         "Dream",
         43.2,
         18.5,
         192.0,
         4100.0,
         0
        ],
        [
         "Biscoe",
         35.0,
         17.9,
         192.0,
         3725.0,
         0
        ],
        [
         "Biscoe",
         41.0,
         20.0,
         203.0,
         4725.0,
         0
        ],
        [
         "Biscoe",
         37.7,
         16.0,
         183.0,
         3075.0,
         0
        ],
        [
         "Biscoe",
         37.8,
         20.0,
         190.0,
         4250.0,
         0
        ],
        [
         "Biscoe",
         37.9,
         18.6,
         193.0,
         2925.0,
         0
        ],
        [
         "Biscoe",
         39.7,
         18.9,
         184.0,
         3550.0,
         0
        ],
        [
         "Biscoe",
         38.6,
         17.2,
         199.0,
         3750.0,
         0
        ],
        [
         "Biscoe",
         38.2,
         20.0,
         190.0,
         3900.0,
         0
        ],
        [
         "Biscoe",
         38.1,
         17.0,
         181.0,
         3175.0,
         0
        ],
        [
         "Biscoe",
         43.2,
         19.0,
         197.0,
         4775.0,
         0
        ],
        [
         "Biscoe",
         38.1,
         16.5,
         198.0,
         3825.0,
         0
        ],
        [
         "Biscoe",
         45.6,
         20.3,
         191.0,
         4600.0,
         0
        ],
        [
         "Biscoe",
         39.7,
         17.7,
         193.0,
         3200.0,
         0
        ],
        [
         "Biscoe",
         42.2,
         19.5,
         197.0,
         4275.0,
         0
        ],
        [
         "Biscoe",
         39.6,
         20.7,
         191.0,
         3900.0,
         0
        ],
        [
         "Biscoe",
         42.7,
         18.3,
         196.0,
         4075.0,
         0
        ],
        [
         "Torgersen",
         38.6,
         17.0,
         188.0,
         2900.0,
         0
        ],
        [
         "Torgersen",
         37.3,
         20.5,
         199.0,
         3775.0,
         0
        ],
        [
         "Torgersen",
         35.7,
         17.0,
         189.0,
         3350.0,
         0
        ],
        [
         "Torgersen",
         41.1,
         18.6,
         189.0,
         3325.0,
         0
        ],
        [
         "Torgersen",
         36.2,
         17.2,
         187.0,
         3150.0,
         0
        ],
        [
         "Torgersen",
         37.7,
         19.8,
         198.0,
         3500.0,
         0
        ],
        [
         "Torgersen",
         40.2,
         17.0,
         176.0,
         3450.0,
         0
        ],
        [
         "Torgersen",
         41.4,
         18.5,
         202.0,
         3875.0,
         0
        ],
        [
         "Torgersen",
         35.2,
         15.9,
         186.0,
         3050.0,
         0
        ],
        [
         "Torgersen",
         40.6,
         19.0,
         199.0,
         4000.0,
         0
        ],
        [
         "Torgersen",
         38.8,
         17.6,
         191.0,
         3275.0,
         0
        ],
        [
         "Torgersen",
         41.5,
         18.3,
         195.0,
         4300.0,
         0
        ],
        [
         "Torgersen",
         39.0,
         17.1,
         191.0,
         3050.0,
         0
        ],
        [
         "Torgersen",
         44.1,
         18.0,
         210.0,
         4000.0,
         0
        ],
        [
         "Torgersen",
         38.5,
         17.9,
         190.0,
         3325.0,
         0
        ],
        [
         "Torgersen",
         43.1,
         19.2,
         197.0,
         3500.0,
         0
        ],
        [
         "Dream",
         36.8,
         18.5,
         193.0,
         3500.0,
         0
        ],
        [
         "Dream",
         37.5,
         18.5,
         199.0,
         4475.0,
         0
        ],
        [
         "Dream",
         38.1,
         17.6,
         187.0,
         3425.0,
         0
        ],
        [
         "Dream",
         41.1,
         17.5,
         190.0,
         3900.0,
         0
        ],
        [
         "Dream",
         35.6,
         17.5,
         191.0,
         3175.0,
         0
        ],
        [
         "Dream",
         40.2,
         20.1,
         200.0,
         3975.0,
         0
        ],
        [
         "Dream",
         37.0,
         16.5,
         185.0,
         3400.0,
         0
        ],
        [
         "Dream",
         39.7,
         17.9,
         193.0,
         4250.0,
         0
        ],
        [
         "Dream",
         40.2,
         17.1,
         193.0,
         3400.0,
         0
        ],
        [
         "Dream",
         40.6,
         17.2,
         187.0,
         3475.0,
         0
        ],
        [
         "Dream",
         32.1,
         15.5,
         188.0,
         3050.0,
         0
        ],
        [
         "Dream",
         40.7,
         17.0,
         190.0,
         3725.0,
         0
        ],
        [
         "Dream",
         37.3,
         16.8,
         192.0,
         3000.0,
         0
        ],
        [
         "Dream",
         39.0,
         18.7,
         185.0,
         3650.0,
         0
        ],
        [
         "Dream",
         39.2,
         18.6,
         190.0,
         4250.0,
         0
        ],
        [
         "Dream",
         36.6,
         18.4,
         184.0,
         3475.0,
         0
        ],
        [
         "Dream",
         36.0,
         17.8,
         195.0,
         3450.0,
         0
        ],
        [
         "Dream",
         37.8,
         18.1,
         193.0,
         3750.0,
         0
        ],
        [
         "Dream",
         36.0,
         17.1,
         187.0,
         3700.0,
         0
        ],
        [
         "Dream",
         41.5,
         18.5,
         201.0,
         4000.0,
         0
        ],
        [
         "Biscoe",
         46.1,
         13.2,
         211.0,
         4500.0,
         1
        ],
        [
         "Biscoe",
         50.0,
         16.3,
         230.0,
         5700.0,
         1
        ],
        [
         "Biscoe",
         48.7,
         14.1,
         210.0,
         4450.0,
         1
        ],
        [
         "Biscoe",
         50.0,
         15.2,
         218.0,
         5700.0,
         1
        ],
        [
         "Biscoe",
         47.6,
         14.5,
         215.0,
         5400.0,
         1
        ],
        [
         "Biscoe",
         46.5,
         13.5,
         210.0,
         4550.0,
         1
        ],
        [
         "Biscoe",
         45.4,
         14.6,
         211.0,
         4800.0,
         1
        ],
        [
         "Biscoe",
         46.7,
         15.3,
         219.0,
         5200.0,
         1
        ],
        [
         "Biscoe",
         43.3,
         13.4,
         209.0,
         4400.0,
         1
        ],
        [
         "Biscoe",
         46.8,
         15.4,
         215.0,
         5150.0,
         1
        ],
        [
         "Biscoe",
         40.9,
         13.7,
         214.0,
         4650.0,
         1
        ],
        [
         "Biscoe",
         49.0,
         16.1,
         216.0,
         5550.0,
         1
        ],
        [
         "Biscoe",
         45.5,
         13.7,
         214.0,
         4650.0,
         1
        ],
        [
         "Biscoe",
         48.4,
         14.6,
         213.0,
         5850.0,
         1
        ],
        [
         "Biscoe",
         45.8,
         14.6,
         210.0,
         4200.0,
         1
        ],
        [
         "Biscoe",
         49.3,
         15.7,
         217.0,
         5850.0,
         1
        ],
        [
         "Biscoe",
         42.0,
         13.5,
         210.0,
         4150.0,
         1
        ],
        [
         "Biscoe",
         49.2,
         15.2,
         221.0,
         6300.0,
         1
        ],
        [
         "Biscoe",
         46.2,
         14.5,
         209.0,
         4800.0,
         1
        ],
        [
         "Biscoe",
         48.7,
         15.1,
         222.0,
         5350.0,
         1
        ],
        [
         "Biscoe",
         50.2,
         14.3,
         218.0,
         5700.0,
         1
        ],
        [
         "Biscoe",
         45.1,
         14.5,
         215.0,
         5000.0,
         1
        ],
        [
         "Biscoe",
         46.5,
         14.5,
         213.0,
         4400.0,
         1
        ],
        [
         "Biscoe",
         46.3,
         15.8,
         215.0,
         5050.0,
         1
        ],
        [
         "Biscoe",
         42.9,
         13.1,
         215.0,
         5000.0,
         1
        ],
        [
         "Biscoe",
         46.1,
         15.1,
         215.0,
         5100.0,
         1
        ],
        [
         "Biscoe",
         44.5,
         14.3,
         216.0,
         4100.0,
         1
        ],
        [
         "Biscoe",
         47.8,
         15.0,
         215.0,
         5650.0,
         1
        ],
        [
         "Biscoe",
         48.2,
         14.3,
         210.0,
         4600.0,
         1
        ],
        [
         "Biscoe",
         50.0,
         15.3,
         220.0,
         5550.0,
         1
        ],
        [
         "Biscoe",
         47.3,
         15.3,
         222.0,
         5250.0,
         1
        ],
        [
         "Biscoe",
         42.8,
         14.2,
         209.0,
         4700.0,
         1
        ],
        [
         "Biscoe",
         45.1,
         14.5,
         207.0,
         5050.0,
         1
        ],
        [
         "Biscoe",
         59.6,
         17.0,
         230.0,
         6050.0,
         1
        ],
        [
         "Biscoe",
         49.1,
         14.8,
         220.0,
         5150.0,
         1
        ],
        [
         "Biscoe",
         48.4,
         16.3,
         220.0,
         5400.0,
         1
        ],
        [
         "Biscoe",
         42.6,
         13.7,
         213.0,
         4950.0,
         1
        ],
        [
         "Biscoe",
         44.4,
         17.3,
         219.0,
         5250.0,
         1
        ],
        [
         "Biscoe",
         44.0,
         13.6,
         208.0,
         4350.0,
         1
        ],
        [
         "Biscoe",
         48.7,
         15.7,
         208.0,
         5350.0,
         1
        ],
        [
         "Biscoe",
         42.7,
         13.7,
         208.0,
         3950.0,
         1
        ],
        [
         "Biscoe",
         49.6,
         16.0,
         225.0,
         5700.0,
         1
        ],
        [
         "Biscoe",
         45.3,
         13.7,
         210.0,
         4300.0,
         1
        ],
        [
         "Biscoe",
         49.6,
         15.0,
         216.0,
         4750.0,
         1
        ],
        [
         "Biscoe",
         50.5,
         15.9,
         222.0,
         5550.0,
         1
        ],
        [
         "Biscoe",
         43.6,
         13.9,
         217.0,
         4900.0,
         1
        ],
        [
         "Biscoe",
         45.5,
         13.9,
         210.0,
         4200.0,
         1
        ],
        [
         "Biscoe",
         50.5,
         15.9,
         225.0,
         5400.0,
         1
        ],
        [
         "Biscoe",
         44.9,
         13.3,
         213.0,
         5100.0,
         1
        ],
        [
         "Biscoe",
         45.2,
         15.8,
         215.0,
         5300.0,
         1
        ],
        [
         "Biscoe",
         46.6,
         14.2,
         210.0,
         4850.0,
         1
        ],
        [
         "Biscoe",
         48.5,
         14.1,
         220.0,
         5300.0,
         1
        ],
        [
         "Biscoe",
         45.1,
         14.4,
         210.0,
         4400.0,
         1
        ],
        [
         "Biscoe",
         50.1,
         15.0,
         225.0,
         5000.0,
         1
        ],
        [
         "Biscoe",
         46.5,
         14.4,
         217.0,
         4900.0,
         1
        ],
        [
         "Biscoe",
         45.0,
         15.4,
         220.0,
         5050.0,
         1
        ],
        [
         "Biscoe",
         43.8,
         13.9,
         208.0,
         4300.0,
         1
        ],
        [
         "Biscoe",
         45.5,
         15.0,
         220.0,
         5000.0,
         1
        ],
        [
         "Biscoe",
         43.2,
         14.5,
         208.0,
         4450.0,
         1
        ],
        [
         "Biscoe",
         50.4,
         15.3,
         224.0,
         5550.0,
         1
        ],
        [
         "Biscoe",
         45.3,
         13.8,
         208.0,
         4200.0,
         1
        ],
        [
         "Biscoe",
         46.2,
         14.9,
         221.0,
         5300.0,
         1
        ],
        [
         "Biscoe",
         45.7,
         13.9,
         214.0,
         4400.0,
         1
        ],
        [
         "Biscoe",
         54.3,
         15.7,
         231.0,
         5650.0,
         1
        ],
        [
         "Biscoe",
         45.8,
         14.2,
         219.0,
         4700.0,
         1
        ],
        [
         "Biscoe",
         49.8,
         16.8,
         230.0,
         5700.0,
         1
        ],
        [
         "Biscoe",
         46.2,
         14.4,
         214.0,
         4650.0,
         1
        ],
        [
         "Biscoe",
         49.5,
         16.2,
         229.0,
         5800.0,
         1
        ],
        [
         "Biscoe",
         43.5,
         14.2,
         220.0,
         4700.0,
         1
        ],
        [
         "Biscoe",
         50.7,
         15.0,
         223.0,
         5550.0,
         1
        ],
        [
         "Biscoe",
         47.7,
         15.0,
         216.0,
         4750.0,
         1
        ],
        [
         "Biscoe",
         46.4,
         15.6,
         221.0,
         5000.0,
         1
        ],
        [
         "Biscoe",
         48.2,
         15.6,
         221.0,
         5100.0,
         1
        ],
        [
         "Biscoe",
         46.5,
         14.8,
         217.0,
         5200.0,
         1
        ],
        [
         "Biscoe",
         46.4,
         15.0,
         216.0,
         4700.0,
         1
        ],
        [
         "Biscoe",
         48.6,
         16.0,
         230.0,
         5800.0,
         1
        ],
        [
         "Biscoe",
         47.5,
         14.2,
         209.0,
         4600.0,
         1
        ],
        [
         "Biscoe",
         51.1,
         16.3,
         220.0,
         6000.0,
         1
        ],
        [
         "Biscoe",
         45.2,
         13.8,
         215.0,
         4750.0,
         1
        ],
        [
         "Biscoe",
         45.2,
         16.4,
         223.0,
         5950.0,
         1
        ],
        [
         "Biscoe",
         49.1,
         14.5,
         212.0,
         4625.0,
         1
        ],
        [
         "Biscoe",
         52.5,
         15.6,
         221.0,
         5450.0,
         1
        ],
        [
         "Biscoe",
         47.4,
         14.6,
         212.0,
         4725.0,
         1
        ],
        [
         "Biscoe",
         50.0,
         15.9,
         224.0,
         5350.0,
         1
        ],
        [
         "Biscoe",
         44.9,
         13.8,
         212.0,
         4750.0,
         1
        ],
        [
         "Biscoe",
         50.8,
         17.3,
         228.0,
         5600.0,
         1
        ],
        [
         "Biscoe",
         43.4,
         14.4,
         218.0,
         4600.0,
         1
        ],
        [
         "Biscoe",
         51.3,
         14.2,
         218.0,
         5300.0,
         1
        ],
        [
         "Biscoe",
         47.5,
         14.0,
         212.0,
         4875.0,
         1
        ],
        [
         "Biscoe",
         52.1,
         17.0,
         230.0,
         5550.0,
         1
        ],
        [
         "Biscoe",
         47.5,
         15.0,
         218.0,
         4950.0,
         1
        ],
        [
         "Biscoe",
         52.2,
         17.1,
         228.0,
         5400.0,
         1
        ],
        [
         "Biscoe",
         45.5,
         14.5,
         212.0,
         4750.0,
         1
        ],
        [
         "Biscoe",
         49.5,
         16.1,
         224.0,
         5650.0,
         1
        ],
        [
         "Biscoe",
         44.5,
         14.7,
         214.0,
         4850.0,
         1
        ],
        [
         "Biscoe",
         50.8,
         15.7,
         226.0,
         5200.0,
         1
        ],
        [
         "Biscoe",
         49.4,
         15.8,
         216.0,
         4925.0,
         1
        ],
        [
         "Biscoe",
         46.9,
         14.6,
         222.0,
         4875.0,
         1
        ],
        [
         "Biscoe",
         48.4,
         14.4,
         203.0,
         4625.0,
         1
        ],
        [
         "Biscoe",
         51.1,
         16.5,
         225.0,
         5250.0,
         1
        ],
        [
         "Biscoe",
         48.5,
         15.0,
         219.0,
         4850.0,
         1
        ],
        [
         "Biscoe",
         55.9,
         17.0,
         228.0,
         5600.0,
         1
        ],
        [
         "Biscoe",
         47.2,
         15.5,
         215.0,
         4975.0,
         1
        ],
        [
         "Biscoe",
         49.1,
         15.0,
         228.0,
         5500.0,
         1
        ],
        [
         "Biscoe",
         47.3,
         13.8,
         216.0,
         4725.0,
         1
        ],
        [
         "Biscoe",
         46.8,
         16.1,
         215.0,
         5500.0,
         1
        ],
        [
         "Biscoe",
         41.7,
         14.7,
         210.0,
         4700.0,
         1
        ],
        [
         "Biscoe",
         53.4,
         15.8,
         219.0,
         5500.0,
         1
        ],
        [
         "Biscoe",
         43.3,
         14.0,
         208.0,
         4575.0,
         1
        ],
        [
         "Biscoe",
         48.1,
         15.1,
         209.0,
         5500.0,
         1
        ],
        [
         "Biscoe",
         50.5,
         15.2,
         216.0,
         5000.0,
         1
        ],
        [
         "Biscoe",
         49.8,
         15.9,
         229.0,
         5950.0,
         1
        ],
        [
         "Biscoe",
         43.5,
         15.2,
         213.0,
         4650.0,
         1
        ],
        [
         "Biscoe",
         51.5,
         16.3,
         230.0,
         5500.0,
         1
        ],
        [
         "Biscoe",
         46.2,
         14.1,
         217.0,
         4375.0,
         1
        ],
        [
         "Biscoe",
         55.1,
         16.0,
         230.0,
         5850.0,
         1
        ],
        [
         "Biscoe",
         44.5,
         15.7,
         217.0,
         4875.0,
         1
        ],
        [
         "Biscoe",
         48.8,
         16.2,
         222.0,
         6000.0,
         1
        ],
        [
         "Biscoe",
         47.2,
         13.7,
         214.0,
         4925.0,
         1
        ],
        [
         "Biscoe",
         46.8,
         14.3,
         215.0,
         4850.0,
         1
        ],
        [
         "Biscoe",
         50.4,
         15.7,
         222.0,
         5750.0,
         1
        ],
        [
         "Biscoe",
         45.2,
         14.8,
         212.0,
         5200.0,
         1
        ],
        [
         "Biscoe",
         49.9,
         16.1,
         213.0,
         5400.0,
         1
        ],
        [
         "Dream",
         46.5,
         17.9,
         192.0,
         3500.0,
         2
        ],
        [
         "Dream",
         50.0,
         19.5,
         196.0,
         3900.0,
         2
        ],
        [
         "Dream",
         51.3,
         19.2,
         193.0,
         3650.0,
         2
        ],
        [
         "Dream",
         45.4,
         18.7,
         188.0,
         3525.0,
         2
        ],
        [
         "Dream",
         52.7,
         19.8,
         197.0,
         3725.0,
         2
        ],
        [
         "Dream",
         45.2,
         17.8,
         198.0,
         3950.0,
         2
        ],
        [
         "Dream",
         46.1,
         18.2,
         178.0,
         3250.0,
         2
        ],
        [
         "Dream",
         51.3,
         18.2,
         197.0,
         3750.0,
         2
        ],
        [
         "Dream",
         46.0,
         18.9,
         195.0,
         4150.0,
         2
        ],
        [
         "Dream",
         51.3,
         19.9,
         198.0,
         3700.0,
         2
        ],
        [
         "Dream",
         46.6,
         17.8,
         193.0,
         3800.0,
         2
        ],
        [
         "Dream",
         51.7,
         20.3,
         194.0,
         3775.0,
         2
        ],
        [
         "Dream",
         47.0,
         17.3,
         185.0,
         3700.0,
         2
        ],
        [
         "Dream",
         52.0,
         18.1,
         201.0,
         4050.0,
         2
        ],
        [
         "Dream",
         45.9,
         17.1,
         190.0,
         3575.0,
         2
        ],
        [
         "Dream",
         50.5,
         19.6,
         201.0,
         4050.0,
         2
        ],
        [
         "Dream",
         50.3,
         20.0,
         197.0,
         3300.0,
         2
        ],
        [
         "Dream",
         58.0,
         17.8,
         181.0,
         3700.0,
         2
        ],
        [
         "Dream",
         46.4,
         18.6,
         190.0,
         3450.0,
         2
        ],
        [
         "Dream",
         49.2,
         18.2,
         195.0,
         4400.0,
         2
        ],
        [
         "Dream",
         42.4,
         17.3,
         181.0,
         3600.0,
         2
        ],
        [
         "Dream",
         48.5,
         17.5,
         191.0,
         3400.0,
         2
        ],
        [
         "Dream",
         43.2,
         16.6,
         187.0,
         2900.0,
         2
        ],
        [
         "Dream",
         50.6,
         19.4,
         193.0,
         3800.0,
         2
        ],
        [
         "Dream",
         46.7,
         17.9,
         195.0,
         3300.0,
         2
        ],
        [
         "Dream",
         52.0,
         19.0,
         197.0,
         4150.0,
         2
        ],
        [
         "Dream",
         50.5,
         18.4,
         200.0,
         3400.0,
         2
        ],
        [
         "Dream",
         49.5,
         19.0,
         200.0,
         3800.0,
         2
        ],
        [
         "Dream",
         46.4,
         17.8,
         191.0,
         3700.0,
         2
        ],
        [
         "Dream",
         52.8,
         20.0,
         205.0,
         4550.0,
         2
        ],
        [
         "Dream",
         40.9,
         16.6,
         187.0,
         3200.0,
         2
        ],
        [
         "Dream",
         54.2,
         20.8,
         201.0,
         4300.0,
         2
        ],
        [
         "Dream",
         42.5,
         16.7,
         187.0,
         3350.0,
         2
        ],
        [
         "Dream",
         51.0,
         18.8,
         203.0,
         4100.0,
         2
        ],
        [
         "Dream",
         49.7,
         18.6,
         195.0,
         3600.0,
         2
        ],
        [
         "Dream",
         47.5,
         16.8,
         199.0,
         3900.0,
         2
        ],
        [
         "Dream",
         47.6,
         18.3,
         195.0,
         3850.0,
         2
        ],
        [
         "Dream",
         52.0,
         20.7,
         210.0,
         4800.0,
         2
        ],
        [
         "Dream",
         46.9,
         16.6,
         192.0,
         2700.0,
         2
        ],
        [
         "Dream",
         53.5,
         19.9,
         205.0,
         4500.0,
         2
        ],
        [
         "Dream",
         49.0,
         19.5,
         210.0,
         3950.0,
         2
        ],
        [
         "Dream",
         46.2,
         17.5,
         187.0,
         3650.0,
         2
        ],
        [
         "Dream",
         50.9,
         19.1,
         196.0,
         3550.0,
         2
        ],
        [
         "Dream",
         45.5,
         17.0,
         196.0,
         3500.0,
         2
        ],
        [
         "Dream",
         50.9,
         17.9,
         196.0,
         3675.0,
         2
        ],
        [
         "Dream",
         50.8,
         18.5,
         201.0,
         4450.0,
         2
        ],
        [
         "Dream",
         50.1,
         17.9,
         190.0,
         3400.0,
         2
        ],
        [
         "Dream",
         49.0,
         19.6,
         212.0,
         4300.0,
         2
        ],
        [
         "Dream",
         51.5,
         18.7,
         187.0,
         3250.0,
         2
        ],
        [
         "Dream",
         49.8,
         17.3,
         198.0,
         3675.0,
         2
        ],
        [
         "Dream",
         48.1,
         16.4,
         199.0,
         3325.0,
         2
        ],
        [
         "Dream",
         51.4,
         19.0,
         201.0,
         3950.0,
         2
        ],
        [
         "Dream",
         45.7,
         17.3,
         193.0,
         3600.0,
         2
        ],
        [
         "Dream",
         50.7,
         19.7,
         203.0,
         4050.0,
         2
        ],
        [
         "Dream",
         42.5,
         17.3,
         187.0,
         3350.0,
         2
        ],
        [
         "Dream",
         52.2,
         18.8,
         197.0,
         3450.0,
         2
        ],
        [
         "Dream",
         45.2,
         16.6,
         191.0,
         3250.0,
         2
        ],
        [
         "Dream",
         49.3,
         19.9,
         203.0,
         4050.0,
         2
        ],
        [
         "Dream",
         50.2,
         18.8,
         202.0,
         3800.0,
         2
        ],
        [
         "Dream",
         45.6,
         19.4,
         194.0,
         3525.0,
         2
        ],
        [
         "Dream",
         51.9,
         19.5,
         206.0,
         3950.0,
         2
        ],
        [
         "Dream",
         46.8,
         16.5,
         189.0,
         3650.0,
         2
        ],
        [
         "Dream",
         45.7,
         17.0,
         195.0,
         3650.0,
         2
        ],
        [
         "Dream",
         55.8,
         19.8,
         207.0,
         4000.0,
         2
        ],
        [
         "Dream",
         43.5,
         18.1,
         202.0,
         3400.0,
         2
        ],
        [
         "Dream",
         49.6,
         18.2,
         193.0,
         3775.0,
         2
        ],
        [
         "Dream",
         50.8,
         19.0,
         210.0,
         4100.0,
         2
        ],
        [
         "Dream",
         50.2,
         18.7,
         198.0,
         3775.0,
         2
        ]
       ],
       "datasetInfos": [],
       "dbfsResultPath": null,
       "isJsonSchema": true,
       "metadata": {},
       "overflow": false,
       "plotOptions": {
        "customPlotOptions": {},
        "displayType": "table",
        "pivotAggregation": null,
        "pivotColumns": null,
        "xColumns": null,
        "yColumns": null
       },
       "removedWidgets": [],
       "schema": [
        {
         "metadata": "{}",
         "name": "Island",
         "type": "\"string\""
        },
        {
         "metadata": "{}",
         "name": "CulmenLength",
         "type": "\"float\""
        },
        {
         "metadata": "{}",
         "name": "CulmenDepth",
         "type": "\"float\""
        },
        {
         "metadata": "{}",
         "name": "FlipperLength",
         "type": "\"float\""
        },
        {
         "metadata": "{}",
         "name": "BodyMass",
         "type": "\"float\""
        },
        {
         "metadata": "{}",
         "name": "Species",
         "type": "\"integer\""
        }
       ],
       "type": "table"
      }
     },
     "output_type": "display_data"
    }
   ],
   "source": [
    "from pyspark.sql.types import *\n",
    "from pyspark.sql.functions import *\n",
    "   \n",
    "data = df.dropna().select(col(\"Island\").astype(\"string\"),\n",
    "                           col(\"CulmenLength\").astype(\"float\"),\n",
    "                          col(\"CulmenDepth\").astype(\"float\"),\n",
    "                          col(\"FlipperLength\").astype(\"float\"),\n",
    "                          col(\"BodyMass\").astype(\"float\"),\n",
    "                          col(\"Species\").astype(\"int\")\n",
    "                          )\n",
    "display(data)"
   ]
  },
  {
   "cell_type": "code",
   "execution_count": 0,
   "metadata": {
    "application/vnd.databricks.v1+cell": {
     "cellMetadata": {
      "byteLimit": 2048000,
      "rowLimit": 10000
     },
     "inputWidgets": {},
     "nuid": "dd9b5e7c-8123-4c37-9601-9963efcfaeba",
     "showTitle": false,
     "title": ""
    }
   },
   "outputs": [
    {
     "output_type": "stream",
     "name": "stdout",
     "output_type": "stream",
     "text": [
      "Training Rows: 258  Testing Rows: 84\n"
     ]
    }
   ],
   "source": [
    "splits = data.randomSplit([0.7, 0.3])\n",
    "train = splits[0]\n",
    "test = splits[1]\n",
    "print (\"Training Rows:\", train.count(), \" Testing Rows:\", test.count())"
   ]
  },
  {
   "cell_type": "code",
   "execution_count": 0,
   "metadata": {
    "application/vnd.databricks.v1+cell": {
     "cellMetadata": {
      "byteLimit": 2048000,
      "rowLimit": 10000
     },
     "inputWidgets": {},
     "nuid": "39a528f4-a18c-41ea-b9a9-fe31097e931f",
     "showTitle": false,
     "title": ""
    }
   },
   "outputs": [
    {
     "output_type": "display_data",
     "data": {
      "text/html": [
       "<style scoped>\n",
       "  .table-result-container {\n",
       "    max-height: 300px;\n",
       "    overflow: auto;\n",
       "  }\n",
       "  table, th, td {\n",
       "    border: 1px solid black;\n",
       "    border-collapse: collapse;\n",
       "  }\n",
       "  th, td {\n",
       "    padding: 5px;\n",
       "  }\n",
       "  th {\n",
       "    text-align: left;\n",
       "  }\n",
       "</style><div class='table-result-container'><table class='table-result'><thead style='background-color: white'><tr><th>CulmenLength</th><th>CulmenDepth</th><th>FlipperLength</th><th>BodyMass</th><th>Species</th><th>IslandIdx</th></tr></thead><tbody><tr><td>34.5</td><td>18.1</td><td>187.0</td><td>2900.0</td><td>0</td><td>0.0</td></tr><tr><td>35.0</td><td>17.9</td><td>190.0</td><td>3450.0</td><td>0</td><td>0.0</td></tr><tr><td>35.3</td><td>18.9</td><td>187.0</td><td>3800.0</td><td>0</td><td>0.0</td></tr><tr><td>35.5</td><td>16.2</td><td>195.0</td><td>3350.0</td><td>0</td><td>0.0</td></tr><tr><td>35.7</td><td>16.9</td><td>185.0</td><td>3150.0</td><td>0</td><td>0.0</td></tr><tr><td>35.9</td><td>19.2</td><td>189.0</td><td>3800.0</td><td>0</td><td>0.0</td></tr><tr><td>36.4</td><td>17.1</td><td>184.0</td><td>2850.0</td><td>0</td><td>0.0</td></tr><tr><td>37.6</td><td>17.0</td><td>185.0</td><td>3600.0</td><td>0</td><td>0.0</td></tr><tr><td>37.6</td><td>19.1</td><td>194.0</td><td>3750.0</td><td>0</td><td>0.0</td></tr><tr><td>37.7</td><td>18.7</td><td>180.0</td><td>3600.0</td><td>0</td><td>0.0</td></tr><tr><td>37.9</td><td>18.6</td><td>193.0</td><td>2925.0</td><td>0</td><td>0.0</td></tr><tr><td>38.1</td><td>16.5</td><td>198.0</td><td>3825.0</td><td>0</td><td>0.0</td></tr><tr><td>38.1</td><td>17.0</td><td>181.0</td><td>3175.0</td><td>0</td><td>0.0</td></tr><tr><td>38.2</td><td>18.1</td><td>185.0</td><td>3950.0</td><td>0</td><td>0.0</td></tr><tr><td>38.2</td><td>20.0</td><td>190.0</td><td>3900.0</td><td>0</td><td>0.0</td></tr><tr><td>38.6</td><td>17.2</td><td>199.0</td><td>3750.0</td><td>0</td><td>0.0</td></tr><tr><td>38.8</td><td>17.2</td><td>180.0</td><td>3800.0</td><td>0</td><td>0.0</td></tr><tr><td>39.0</td><td>17.5</td><td>186.0</td><td>3550.0</td><td>0</td><td>0.0</td></tr><tr><td>39.6</td><td>17.7</td><td>186.0</td><td>3500.0</td><td>0</td><td>0.0</td></tr><tr><td>39.6</td><td>20.7</td><td>191.0</td><td>3900.0</td><td>0</td><td>0.0</td></tr><tr><td>39.7</td><td>17.7</td><td>193.0</td><td>3200.0</td><td>0</td><td>0.0</td></tr><tr><td>40.1</td><td>18.9</td><td>188.0</td><td>4300.0</td><td>0</td><td>0.0</td></tr><tr><td>40.5</td><td>17.9</td><td>187.0</td><td>3200.0</td><td>0</td><td>0.0</td></tr><tr><td>40.5</td><td>18.9</td><td>180.0</td><td>3950.0</td><td>0</td><td>0.0</td></tr><tr><td>40.6</td><td>18.8</td><td>193.0</td><td>3800.0</td><td>0</td><td>0.0</td></tr><tr><td>40.9</td><td>13.7</td><td>214.0</td><td>4650.0</td><td>1</td><td>0.0</td></tr><tr><td>41.0</td><td>20.0</td><td>203.0</td><td>4725.0</td><td>0</td><td>0.0</td></tr><tr><td>41.1</td><td>18.2</td><td>192.0</td><td>4050.0</td><td>0</td><td>0.0</td></tr><tr><td>41.1</td><td>19.1</td><td>188.0</td><td>4100.0</td><td>0</td><td>0.0</td></tr><tr><td>41.3</td><td>21.1</td><td>195.0</td><td>4400.0</td><td>0</td><td>0.0</td></tr><tr><td>41.4</td><td>18.6</td><td>191.0</td><td>3700.0</td><td>0</td><td>0.0</td></tr><tr><td>41.6</td><td>18.0</td><td>192.0</td><td>3950.0</td><td>0</td><td>0.0</td></tr><tr><td>41.7</td><td>14.7</td><td>210.0</td><td>4700.0</td><td>1</td><td>0.0</td></tr><tr><td>42.0</td><td>13.5</td><td>210.0</td><td>4150.0</td><td>1</td><td>0.0</td></tr><tr><td>42.0</td><td>19.5</td><td>200.0</td><td>4050.0</td><td>0</td><td>0.0</td></tr><tr><td>42.6</td><td>13.7</td><td>213.0</td><td>4950.0</td><td>1</td><td>0.0</td></tr><tr><td>42.7</td><td>13.7</td><td>208.0</td><td>3950.0</td><td>1</td><td>0.0</td></tr><tr><td>42.8</td><td>14.2</td><td>209.0</td><td>4700.0</td><td>1</td><td>0.0</td></tr><tr><td>42.9</td><td>13.1</td><td>215.0</td><td>5000.0</td><td>1</td><td>0.0</td></tr><tr><td>43.2</td><td>14.5</td><td>208.0</td><td>4450.0</td><td>1</td><td>0.0</td></tr><tr><td>43.2</td><td>19.0</td><td>197.0</td><td>4775.0</td><td>0</td><td>0.0</td></tr><tr><td>43.3</td><td>14.0</td><td>208.0</td><td>4575.0</td><td>1</td><td>0.0</td></tr><tr><td>43.5</td><td>15.2</td><td>213.0</td><td>4650.0</td><td>1</td><td>0.0</td></tr><tr><td>43.8</td><td>13.9</td><td>208.0</td><td>4300.0</td><td>1</td><td>0.0</td></tr><tr><td>44.0</td><td>13.6</td><td>208.0</td><td>4350.0</td><td>1</td><td>0.0</td></tr><tr><td>44.4</td><td>17.3</td><td>219.0</td><td>5250.0</td><td>1</td><td>0.0</td></tr><tr><td>44.5</td><td>14.3</td><td>216.0</td><td>4100.0</td><td>1</td><td>0.0</td></tr><tr><td>44.5</td><td>14.7</td><td>214.0</td><td>4850.0</td><td>1</td><td>0.0</td></tr><tr><td>44.5</td><td>15.7</td><td>217.0</td><td>4875.0</td><td>1</td><td>0.0</td></tr><tr><td>44.9</td><td>13.3</td><td>213.0</td><td>5100.0</td><td>1</td><td>0.0</td></tr><tr><td>45.1</td><td>14.5</td><td>207.0</td><td>5050.0</td><td>1</td><td>0.0</td></tr><tr><td>45.1</td><td>14.5</td><td>215.0</td><td>5000.0</td><td>1</td><td>0.0</td></tr><tr><td>45.2</td><td>13.8</td><td>215.0</td><td>4750.0</td><td>1</td><td>0.0</td></tr><tr><td>45.2</td><td>14.8</td><td>212.0</td><td>5200.0</td><td>1</td><td>0.0</td></tr><tr><td>45.2</td><td>15.8</td><td>215.0</td><td>5300.0</td><td>1</td><td>0.0</td></tr><tr><td>45.3</td><td>13.7</td><td>210.0</td><td>4300.0</td><td>1</td><td>0.0</td></tr><tr><td>45.5</td><td>14.5</td><td>212.0</td><td>4750.0</td><td>1</td><td>0.0</td></tr><tr><td>45.5</td><td>15.0</td><td>220.0</td><td>5000.0</td><td>1</td><td>0.0</td></tr><tr><td>45.6</td><td>20.3</td><td>191.0</td><td>4600.0</td><td>0</td><td>0.0</td></tr><tr><td>45.7</td><td>13.9</td><td>214.0</td><td>4400.0</td><td>1</td><td>0.0</td></tr><tr><td>45.8</td><td>14.2</td><td>219.0</td><td>4700.0</td><td>1</td><td>0.0</td></tr><tr><td>45.8</td><td>14.6</td><td>210.0</td><td>4200.0</td><td>1</td><td>0.0</td></tr><tr><td>46.1</td><td>13.2</td><td>211.0</td><td>4500.0</td><td>1</td><td>0.0</td></tr><tr><td>46.1</td><td>15.1</td><td>215.0</td><td>5100.0</td><td>1</td><td>0.0</td></tr><tr><td>46.2</td><td>14.1</td><td>217.0</td><td>4375.0</td><td>1</td><td>0.0</td></tr><tr><td>46.2</td><td>14.4</td><td>214.0</td><td>4650.0</td><td>1</td><td>0.0</td></tr><tr><td>46.2</td><td>14.5</td><td>209.0</td><td>4800.0</td><td>1</td><td>0.0</td></tr><tr><td>46.2</td><td>14.9</td><td>221.0</td><td>5300.0</td><td>1</td><td>0.0</td></tr><tr><td>46.3</td><td>15.8</td><td>215.0</td><td>5050.0</td><td>1</td><td>0.0</td></tr><tr><td>46.4</td><td>15.0</td><td>216.0</td><td>4700.0</td><td>1</td><td>0.0</td></tr><tr><td>46.4</td><td>15.6</td><td>221.0</td><td>5000.0</td><td>1</td><td>0.0</td></tr><tr><td>46.5</td><td>13.5</td><td>210.0</td><td>4550.0</td><td>1</td><td>0.0</td></tr><tr><td>46.5</td><td>14.4</td><td>217.0</td><td>4900.0</td><td>1</td><td>0.0</td></tr><tr><td>46.5</td><td>14.5</td><td>213.0</td><td>4400.0</td><td>1</td><td>0.0</td></tr><tr><td>46.6</td><td>14.2</td><td>210.0</td><td>4850.0</td><td>1</td><td>0.0</td></tr><tr><td>46.7</td><td>15.3</td><td>219.0</td><td>5200.0</td><td>1</td><td>0.0</td></tr><tr><td>46.8</td><td>14.3</td><td>215.0</td><td>4850.0</td><td>1</td><td>0.0</td></tr><tr><td>46.8</td><td>15.4</td><td>215.0</td><td>5150.0</td><td>1</td><td>0.0</td></tr><tr><td>46.8</td><td>16.1</td><td>215.0</td><td>5500.0</td><td>1</td><td>0.0</td></tr><tr><td>47.3</td><td>15.3</td><td>222.0</td><td>5250.0</td><td>1</td><td>0.0</td></tr><tr><td>47.4</td><td>14.6</td><td>212.0</td><td>4725.0</td><td>1</td><td>0.0</td></tr><tr><td>47.5</td><td>14.0</td><td>212.0</td><td>4875.0</td><td>1</td><td>0.0</td></tr><tr><td>47.5</td><td>14.2</td><td>209.0</td><td>4600.0</td><td>1</td><td>0.0</td></tr><tr><td>47.5</td><td>15.0</td><td>218.0</td><td>4950.0</td><td>1</td><td>0.0</td></tr><tr><td>47.6</td><td>14.5</td><td>215.0</td><td>5400.0</td><td>1</td><td>0.0</td></tr><tr><td>47.7</td><td>15.0</td><td>216.0</td><td>4750.0</td><td>1</td><td>0.0</td></tr><tr><td>47.8</td><td>15.0</td><td>215.0</td><td>5650.0</td><td>1</td><td>0.0</td></tr><tr><td>48.1</td><td>15.1</td><td>209.0</td><td>5500.0</td><td>1</td><td>0.0</td></tr><tr><td>48.2</td><td>14.3</td><td>210.0</td><td>4600.0</td><td>1</td><td>0.0</td></tr><tr><td>48.4</td><td>14.4</td><td>203.0</td><td>4625.0</td><td>1</td><td>0.0</td></tr><tr><td>48.4</td><td>14.6</td><td>213.0</td><td>5850.0</td><td>1</td><td>0.0</td></tr><tr><td>48.4</td><td>16.3</td><td>220.0</td><td>5400.0</td><td>1</td><td>0.0</td></tr><tr><td>48.5</td><td>14.1</td><td>220.0</td><td>5300.0</td><td>1</td><td>0.0</td></tr><tr><td>48.6</td><td>16.0</td><td>230.0</td><td>5800.0</td><td>1</td><td>0.0</td></tr><tr><td>48.7</td><td>14.1</td><td>210.0</td><td>4450.0</td><td>1</td><td>0.0</td></tr><tr><td>48.8</td><td>16.2</td><td>222.0</td><td>6000.0</td><td>1</td><td>0.0</td></tr><tr><td>49.1</td><td>14.5</td><td>212.0</td><td>4625.0</td><td>1</td><td>0.0</td></tr><tr><td>49.1</td><td>14.8</td><td>220.0</td><td>5150.0</td><td>1</td><td>0.0</td></tr><tr><td>49.2</td><td>15.2</td><td>221.0</td><td>6300.0</td><td>1</td><td>0.0</td></tr><tr><td>49.3</td><td>15.7</td><td>217.0</td><td>5850.0</td><td>1</td><td>0.0</td></tr><tr><td>49.4</td><td>15.8</td><td>216.0</td><td>4925.0</td><td>1</td><td>0.0</td></tr><tr><td>49.5</td><td>16.1</td><td>224.0</td><td>5650.0</td><td>1</td><td>0.0</td></tr><tr><td>49.6</td><td>15.0</td><td>216.0</td><td>4750.0</td><td>1</td><td>0.0</td></tr><tr><td>49.8</td><td>15.9</td><td>229.0</td><td>5950.0</td><td>1</td><td>0.0</td></tr><tr><td>49.8</td><td>16.8</td><td>230.0</td><td>5700.0</td><td>1</td><td>0.0</td></tr><tr><td>49.9</td><td>16.1</td><td>213.0</td><td>5400.0</td><td>1</td><td>0.0</td></tr><tr><td>50.0</td><td>15.2</td><td>218.0</td><td>5700.0</td><td>1</td><td>0.0</td></tr><tr><td>50.0</td><td>15.3</td><td>220.0</td><td>5550.0</td><td>1</td><td>0.0</td></tr><tr><td>50.0</td><td>15.9</td><td>224.0</td><td>5350.0</td><td>1</td><td>0.0</td></tr><tr><td>50.0</td><td>16.3</td><td>230.0</td><td>5700.0</td><td>1</td><td>0.0</td></tr><tr><td>50.1</td><td>15.0</td><td>225.0</td><td>5000.0</td><td>1</td><td>0.0</td></tr><tr><td>50.2</td><td>14.3</td><td>218.0</td><td>5700.0</td><td>1</td><td>0.0</td></tr><tr><td>50.4</td><td>15.3</td><td>224.0</td><td>5550.0</td><td>1</td><td>0.0</td></tr><tr><td>50.5</td><td>15.2</td><td>216.0</td><td>5000.0</td><td>1</td><td>0.0</td></tr><tr><td>50.5</td><td>15.9</td><td>222.0</td><td>5550.0</td><td>1</td><td>0.0</td></tr><tr><td>50.7</td><td>15.0</td><td>223.0</td><td>5550.0</td><td>1</td><td>0.0</td></tr><tr><td>50.8</td><td>15.7</td><td>226.0</td><td>5200.0</td><td>1</td><td>0.0</td></tr><tr><td>50.8</td><td>17.3</td><td>228.0</td><td>5600.0</td><td>1</td><td>0.0</td></tr><tr><td>51.1</td><td>16.3</td><td>220.0</td><td>6000.0</td><td>1</td><td>0.0</td></tr><tr><td>51.1</td><td>16.5</td><td>225.0</td><td>5250.0</td><td>1</td><td>0.0</td></tr><tr><td>51.3</td><td>14.2</td><td>218.0</td><td>5300.0</td><td>1</td><td>0.0</td></tr><tr><td>51.5</td><td>16.3</td><td>230.0</td><td>5500.0</td><td>1</td><td>0.0</td></tr><tr><td>52.1</td><td>17.0</td><td>230.0</td><td>5550.0</td><td>1</td><td>0.0</td></tr><tr><td>52.2</td><td>17.1</td><td>228.0</td><td>5400.0</td><td>1</td><td>0.0</td></tr><tr><td>52.5</td><td>15.6</td><td>221.0</td><td>5450.0</td><td>1</td><td>0.0</td></tr><tr><td>53.4</td><td>15.8</td><td>219.0</td><td>5500.0</td><td>1</td><td>0.0</td></tr><tr><td>54.3</td><td>15.7</td><td>231.0</td><td>5650.0</td><td>1</td><td>0.0</td></tr><tr><td>59.6</td><td>17.0</td><td>230.0</td><td>6050.0</td><td>1</td><td>0.0</td></tr><tr><td>32.1</td><td>15.5</td><td>188.0</td><td>3050.0</td><td>0</td><td>1.0</td></tr><tr><td>34.0</td><td>17.1</td><td>185.0</td><td>3400.0</td><td>0</td><td>1.0</td></tr><tr><td>35.6</td><td>17.5</td><td>191.0</td><td>3175.0</td><td>0</td><td>1.0</td></tr><tr><td>36.0</td><td>17.1</td><td>187.0</td><td>3700.0</td><td>0</td><td>1.0</td></tr><tr><td>36.0</td><td>17.8</td><td>195.0</td><td>3450.0</td><td>0</td><td>1.0</td></tr><tr><td>36.0</td><td>17.9</td><td>190.0</td><td>3450.0</td><td>0</td><td>1.0</td></tr><tr><td>36.0</td><td>18.5</td><td>186.0</td><td>3100.0</td><td>0</td><td>1.0</td></tr><tr><td>36.4</td><td>17.0</td><td>195.0</td><td>3325.0</td><td>0</td><td>1.0</td></tr><tr><td>36.5</td><td>18.0</td><td>182.0</td><td>3150.0</td><td>0</td><td>1.0</td></tr><tr><td>36.9</td><td>18.6</td><td>189.0</td><td>3500.0</td><td>0</td><td>1.0</td></tr><tr><td>37.0</td><td>16.9</td><td>185.0</td><td>3000.0</td><td>0</td><td>1.0</td></tr><tr><td>37.3</td><td>16.8</td><td>192.0</td><td>3000.0</td><td>0</td><td>1.0</td></tr><tr><td>37.3</td><td>17.8</td><td>191.0</td><td>3350.0</td><td>0</td><td>1.0</td></tr><tr><td>37.5</td><td>18.9</td><td>179.0</td><td>2975.0</td><td>0</td><td>1.0</td></tr><tr><td>37.6</td><td>19.3</td><td>181.0</td><td>3300.0</td><td>0</td><td>1.0</td></tr><tr><td>38.1</td><td>17.6</td><td>187.0</td><td>3425.0</td><td>0</td><td>1.0</td></tr><tr><td>38.1</td><td>18.6</td><td>190.0</td><td>3700.0</td><td>0</td><td>1.0</td></tr><tr><td>38.8</td><td>20.0</td><td>190.0</td><td>3950.0</td><td>0</td><td>1.0</td></tr><tr><td>38.9</td><td>18.8</td><td>190.0</td><td>3600.0</td><td>0</td><td>1.0</td></tr><tr><td>39.0</td><td>18.7</td><td>185.0</td><td>3650.0</td><td>0</td><td>1.0</td></tr><tr><td>39.5</td><td>16.7</td><td>178.0</td><td>3250.0</td><td>0</td><td>1.0</td></tr><tr><td>39.5</td><td>17.8</td><td>188.0</td><td>3300.0</td><td>0</td><td>1.0</td></tr><tr><td>39.6</td><td>18.1</td><td>186.0</td><td>4450.0</td><td>0</td><td>1.0</td></tr><tr><td>39.6</td><td>18.8</td><td>190.0</td><td>4600.0</td><td>0</td><td>1.0</td></tr><tr><td>39.7</td><td>17.9</td><td>193.0</td><td>4250.0</td><td>0</td><td>1.0</td></tr><tr><td>39.8</td><td>19.1</td><td>184.0</td><td>4650.0</td><td>0</td><td>1.0</td></tr><tr><td>40.3</td><td>18.5</td><td>196.0</td><td>4350.0</td><td>0</td><td>1.0</td></tr><tr><td>40.7</td><td>17.0</td><td>190.0</td><td>3725.0</td><td>0</td><td>1.0</td></tr><tr><td>40.8</td><td>18.4</td><td>195.0</td><td>3900.0</td><td>0</td><td>1.0</td></tr><tr><td>40.8</td><td>18.9</td><td>208.0</td><td>4300.0</td><td>0</td><td>1.0</td></tr><tr><td>40.9</td><td>18.9</td><td>184.0</td><td>3900.0</td><td>0</td><td>1.0</td></tr><tr><td>41.1</td><td>17.5</td><td>190.0</td><td>3900.0</td><td>0</td><td>1.0</td></tr><tr><td>41.1</td><td>18.1</td><td>205.0</td><td>4300.0</td><td>0</td><td>1.0</td></tr><tr><td>41.1</td><td>19.0</td><td>182.0</td><td>3425.0</td><td>0</td><td>1.0</td></tr><tr><td>41.3</td><td>20.3</td><td>194.0</td><td>3550.0</td><td>0</td><td>1.0</td></tr><tr><td>42.2</td><td>18.5</td><td>180.0</td><td>3550.0</td><td>0</td><td>1.0</td></tr><tr><td>42.4</td><td>17.3</td><td>181.0</td><td>3600.0</td><td>2</td><td>1.0</td></tr><tr><td>42.5</td><td>16.7</td><td>187.0</td><td>3350.0</td><td>2</td><td>1.0</td></tr><tr><td>42.5</td><td>17.3</td><td>187.0</td><td>3350.0</td><td>2</td><td>1.0</td></tr><tr><td>43.2</td><td>18.5</td><td>192.0</td><td>4100.0</td><td>0</td><td>1.0</td></tr><tr><td>44.1</td><td>19.7</td><td>196.0</td><td>4400.0</td><td>0</td><td>1.0</td></tr><tr><td>45.2</td><td>16.6</td><td>191.0</td><td>3250.0</td><td>2</td><td>1.0</td></tr><tr><td>45.2</td><td>17.8</td><td>198.0</td><td>3950.0</td><td>2</td><td>1.0</td></tr><tr><td>45.4</td><td>18.7</td><td>188.0</td><td>3525.0</td><td>2</td><td>1.0</td></tr><tr><td>45.5</td><td>17.0</td><td>196.0</td><td>3500.0</td><td>2</td><td>1.0</td></tr><tr><td>45.6</td><td>19.4</td><td>194.0</td><td>3525.0</td><td>2</td><td>1.0</td></tr><tr><td>45.7</td><td>17.0</td><td>195.0</td><td>3650.0</td><td>2</td><td>1.0</td></tr><tr><td>45.7</td><td>17.3</td><td>193.0</td><td>3600.0</td><td>2</td><td>1.0</td></tr><tr><td>45.9</td><td>17.1</td><td>190.0</td><td>3575.0</td><td>2</td><td>1.0</td></tr><tr><td>46.0</td><td>18.9</td><td>195.0</td><td>4150.0</td><td>2</td><td>1.0</td></tr><tr><td>46.1</td><td>18.2</td><td>178.0</td><td>3250.0</td><td>2</td><td>1.0</td></tr><tr><td>46.5</td><td>17.9</td><td>192.0</td><td>3500.0</td><td>2</td><td>1.0</td></tr><tr><td>46.6</td><td>17.8</td><td>193.0</td><td>3800.0</td><td>2</td><td>1.0</td></tr><tr><td>46.7</td><td>17.9</td><td>195.0</td><td>3300.0</td><td>2</td><td>1.0</td></tr><tr><td>46.8</td><td>16.5</td><td>189.0</td><td>3650.0</td><td>2</td><td>1.0</td></tr><tr><td>46.9</td><td>16.6</td><td>192.0</td><td>2700.0</td><td>2</td><td>1.0</td></tr><tr><td>47.0</td><td>17.3</td><td>185.0</td><td>3700.0</td><td>2</td><td>1.0</td></tr><tr><td>47.6</td><td>18.3</td><td>195.0</td><td>3850.0</td><td>2</td><td>1.0</td></tr><tr><td>48.1</td><td>16.4</td><td>199.0</td><td>3325.0</td><td>2</td><td>1.0</td></tr><tr><td>48.5</td><td>17.5</td><td>191.0</td><td>3400.0</td><td>2</td><td>1.0</td></tr><tr><td>49.0</td><td>19.6</td><td>212.0</td><td>4300.0</td><td>2</td><td>1.0</td></tr><tr><td>49.2</td><td>18.2</td><td>195.0</td><td>4400.0</td><td>2</td><td>1.0</td></tr><tr><td>49.3</td><td>19.9</td><td>203.0</td><td>4050.0</td><td>2</td><td>1.0</td></tr><tr><td>49.5</td><td>19.0</td><td>200.0</td><td>3800.0</td><td>2</td><td>1.0</td></tr><tr><td>49.6</td><td>18.2</td><td>193.0</td><td>3775.0</td><td>2</td><td>1.0</td></tr><tr><td>49.7</td><td>18.6</td><td>195.0</td><td>3600.0</td><td>2</td><td>1.0</td></tr><tr><td>49.8</td><td>17.3</td><td>198.0</td><td>3675.0</td><td>2</td><td>1.0</td></tr><tr><td>50.1</td><td>17.9</td><td>190.0</td><td>3400.0</td><td>2</td><td>1.0</td></tr><tr><td>50.2</td><td>18.7</td><td>198.0</td><td>3775.0</td><td>2</td><td>1.0</td></tr><tr><td>50.2</td><td>18.8</td><td>202.0</td><td>3800.0</td><td>2</td><td>1.0</td></tr><tr><td>50.5</td><td>18.4</td><td>200.0</td><td>3400.0</td><td>2</td><td>1.0</td></tr><tr><td>50.6</td><td>19.4</td><td>193.0</td><td>3800.0</td><td>2</td><td>1.0</td></tr><tr><td>50.7</td><td>19.7</td><td>203.0</td><td>4050.0</td><td>2</td><td>1.0</td></tr><tr><td>50.8</td><td>18.5</td><td>201.0</td><td>4450.0</td><td>2</td><td>1.0</td></tr><tr><td>50.9</td><td>17.9</td><td>196.0</td><td>3675.0</td><td>2</td><td>1.0</td></tr><tr><td>50.9</td><td>19.1</td><td>196.0</td><td>3550.0</td><td>2</td><td>1.0</td></tr><tr><td>51.0</td><td>18.8</td><td>203.0</td><td>4100.0</td><td>2</td><td>1.0</td></tr><tr><td>51.3</td><td>19.2</td><td>193.0</td><td>3650.0</td><td>2</td><td>1.0</td></tr><tr><td>51.3</td><td>19.9</td><td>198.0</td><td>3700.0</td><td>2</td><td>1.0</td></tr><tr><td>51.4</td><td>19.0</td><td>201.0</td><td>3950.0</td><td>2</td><td>1.0</td></tr><tr><td>51.5</td><td>18.7</td><td>187.0</td><td>3250.0</td><td>2</td><td>1.0</td></tr><tr><td>51.7</td><td>20.3</td><td>194.0</td><td>3775.0</td><td>2</td><td>1.0</td></tr><tr><td>51.9</td><td>19.5</td><td>206.0</td><td>3950.0</td><td>2</td><td>1.0</td></tr><tr><td>52.0</td><td>18.1</td><td>201.0</td><td>4050.0</td><td>2</td><td>1.0</td></tr><tr><td>52.0</td><td>19.0</td><td>197.0</td><td>4150.0</td><td>2</td><td>1.0</td></tr><tr><td>52.0</td><td>20.7</td><td>210.0</td><td>4800.0</td><td>2</td><td>1.0</td></tr><tr><td>52.2</td><td>18.8</td><td>197.0</td><td>3450.0</td><td>2</td><td>1.0</td></tr><tr><td>52.7</td><td>19.8</td><td>197.0</td><td>3725.0</td><td>2</td><td>1.0</td></tr><tr><td>52.8</td><td>20.0</td><td>205.0</td><td>4550.0</td><td>2</td><td>1.0</td></tr><tr><td>53.5</td><td>19.9</td><td>205.0</td><td>4500.0</td><td>2</td><td>1.0</td></tr><tr><td>54.2</td><td>20.8</td><td>201.0</td><td>4300.0</td><td>2</td><td>1.0</td></tr><tr><td>55.8</td><td>19.8</td><td>207.0</td><td>4000.0</td><td>2</td><td>1.0</td></tr><tr><td>33.5</td><td>19.0</td><td>190.0</td><td>3600.0</td><td>0</td><td>2.0</td></tr><tr><td>34.1</td><td>18.1</td><td>193.0</td><td>3475.0</td><td>0</td><td>2.0</td></tr><tr><td>34.4</td><td>18.4</td><td>184.0</td><td>3325.0</td><td>0</td><td>2.0</td></tr><tr><td>34.6</td><td>17.2</td><td>189.0</td><td>3200.0</td><td>0</td><td>2.0</td></tr><tr><td>34.6</td><td>21.1</td><td>198.0</td><td>4400.0</td><td>0</td><td>2.0</td></tr><tr><td>35.2</td><td>15.9</td><td>186.0</td><td>3050.0</td><td>0</td><td>2.0</td></tr><tr><td>35.7</td><td>17.0</td><td>189.0</td><td>3350.0</td><td>0</td><td>2.0</td></tr><tr><td>35.9</td><td>16.6</td><td>190.0</td><td>3050.0</td><td>0</td><td>2.0</td></tr><tr><td>36.2</td><td>17.2</td><td>187.0</td><td>3150.0</td><td>0</td><td>2.0</td></tr><tr><td>36.6</td><td>17.8</td><td>185.0</td><td>3700.0</td><td>0</td><td>2.0</td></tr><tr><td>37.2</td><td>19.4</td><td>184.0</td><td>3900.0</td><td>0</td><td>2.0</td></tr><tr><td>37.7</td><td>19.8</td><td>198.0</td><td>3500.0</td><td>0</td><td>2.0</td></tr><tr><td>37.8</td><td>17.1</td><td>186.0</td><td>3300.0</td><td>0</td><td>2.0</td></tr><tr><td>37.8</td><td>17.3</td><td>180.0</td><td>3700.0</td><td>0</td><td>2.0</td></tr><tr><td>38.5</td><td>17.9</td><td>190.0</td><td>3325.0</td><td>0</td><td>2.0</td></tr><tr><td>38.6</td><td>17.0</td><td>188.0</td><td>2900.0</td><td>0</td><td>2.0</td></tr><tr><td>38.6</td><td>21.2</td><td>191.0</td><td>3800.0</td><td>0</td><td>2.0</td></tr><tr><td>38.7</td><td>19.0</td><td>195.0</td><td>3450.0</td><td>0</td><td>2.0</td></tr><tr><td>38.8</td><td>17.6</td><td>191.0</td><td>3275.0</td><td>0</td><td>2.0</td></tr><tr><td>39.0</td><td>17.1</td><td>191.0</td><td>3050.0</td><td>0</td><td>2.0</td></tr><tr><td>39.1</td><td>18.7</td><td>181.0</td><td>3750.0</td><td>0</td><td>2.0</td></tr><tr><td>39.3</td><td>20.6</td><td>190.0</td><td>3650.0</td><td>0</td><td>2.0</td></tr><tr><td>39.6</td><td>17.2</td><td>196.0</td><td>3550.0</td><td>0</td><td>2.0</td></tr><tr><td>39.7</td><td>18.4</td><td>190.0</td><td>3900.0</td><td>0</td><td>2.0</td></tr><tr><td>40.3</td><td>18.0</td><td>195.0</td><td>3250.0</td><td>0</td><td>2.0</td></tr><tr><td>40.6</td><td>19.0</td><td>199.0</td><td>4000.0</td><td>0</td><td>2.0</td></tr><tr><td>41.1</td><td>17.6</td><td>182.0</td><td>3200.0</td><td>0</td><td>2.0</td></tr><tr><td>41.1</td><td>18.6</td><td>189.0</td><td>3325.0</td><td>0</td><td>2.0</td></tr><tr><td>41.4</td><td>18.5</td><td>202.0</td><td>3875.0</td><td>0</td><td>2.0</td></tr><tr><td>41.5</td><td>18.3</td><td>195.0</td><td>4300.0</td><td>0</td><td>2.0</td></tr><tr><td>41.8</td><td>19.4</td><td>198.0</td><td>4450.0</td><td>0</td><td>2.0</td></tr><tr><td>42.0</td><td>20.2</td><td>190.0</td><td>4250.0</td><td>0</td><td>2.0</td></tr><tr><td>42.1</td><td>19.1</td><td>195.0</td><td>4000.0</td><td>0</td><td>2.0</td></tr><tr><td>42.5</td><td>20.7</td><td>197.0</td><td>4500.0</td><td>0</td><td>2.0</td></tr><tr><td>42.8</td><td>18.5</td><td>195.0</td><td>4250.0</td><td>0</td><td>2.0</td></tr><tr><td>43.1</td><td>19.2</td><td>197.0</td><td>3500.0</td><td>0</td><td>2.0</td></tr><tr><td>45.8</td><td>18.9</td><td>197.0</td><td>4150.0</td><td>0</td><td>2.0</td></tr><tr><td>46.0</td><td>21.5</td><td>194.0</td><td>4200.0</td><td>0</td><td>2.0</td></tr></tbody></table></div>"
      ]
     },
     "metadata": {
      "application/vnd.databricks.v1+output": {
       "addedWidgets": {},
       "aggData": [],
       "aggError": "",
       "aggOverflow": false,
       "aggSchema": [],
       "aggSeriesLimitReached": false,
       "aggType": "",
       "arguments": {},
       "columnCustomDisplayInfos": {},
       "data": [
        [
         34.5,
         18.1,
         187.0,
         2900.0,
         0,
         0.0
        ],
        [
         35.0,
         17.9,
         190.0,
         3450.0,
         0,
         0.0
        ],
        [
         35.3,
         18.9,
         187.0,
         3800.0,
         0,
         0.0
        ],
        [
         35.5,
         16.2,
         195.0,
         3350.0,
         0,
         0.0
        ],
        [
         35.7,
         16.9,
         185.0,
         3150.0,
         0,
         0.0
        ],
        [
         35.9,
         19.2,
         189.0,
         3800.0,
         0,
         0.0
        ],
        [
         36.4,
         17.1,
         184.0,
         2850.0,
         0,
         0.0
        ],
        [
         37.6,
         17.0,
         185.0,
         3600.0,
         0,
         0.0
        ],
        [
         37.6,
         19.1,
         194.0,
         3750.0,
         0,
         0.0
        ],
        [
         37.7,
         18.7,
         180.0,
         3600.0,
         0,
         0.0
        ],
        [
         37.9,
         18.6,
         193.0,
         2925.0,
         0,
         0.0
        ],
        [
         38.1,
         16.5,
         198.0,
         3825.0,
         0,
         0.0
        ],
        [
         38.1,
         17.0,
         181.0,
         3175.0,
         0,
         0.0
        ],
        [
         38.2,
         18.1,
         185.0,
         3950.0,
         0,
         0.0
        ],
        [
         38.2,
         20.0,
         190.0,
         3900.0,
         0,
         0.0
        ],
        [
         38.6,
         17.2,
         199.0,
         3750.0,
         0,
         0.0
        ],
        [
         38.8,
         17.2,
         180.0,
         3800.0,
         0,
         0.0
        ],
        [
         39.0,
         17.5,
         186.0,
         3550.0,
         0,
         0.0
        ],
        [
         39.6,
         17.7,
         186.0,
         3500.0,
         0,
         0.0
        ],
        [
         39.6,
         20.7,
         191.0,
         3900.0,
         0,
         0.0
        ],
        [
         39.7,
         17.7,
         193.0,
         3200.0,
         0,
         0.0
        ],
        [
         40.1,
         18.9,
         188.0,
         4300.0,
         0,
         0.0
        ],
        [
         40.5,
         17.9,
         187.0,
         3200.0,
         0,
         0.0
        ],
        [
         40.5,
         18.9,
         180.0,
         3950.0,
         0,
         0.0
        ],
        [
         40.6,
         18.8,
         193.0,
         3800.0,
         0,
         0.0
        ],
        [
         40.9,
         13.7,
         214.0,
         4650.0,
         1,
         0.0
        ],
        [
         41.0,
         20.0,
         203.0,
         4725.0,
         0,
         0.0
        ],
        [
         41.1,
         18.2,
         192.0,
         4050.0,
         0,
         0.0
        ],
        [
         41.1,
         19.1,
         188.0,
         4100.0,
         0,
         0.0
        ],
        [
         41.3,
         21.1,
         195.0,
         4400.0,
         0,
         0.0
        ],
        [
         41.4,
         18.6,
         191.0,
         3700.0,
         0,
         0.0
        ],
        [
         41.6,
         18.0,
         192.0,
         3950.0,
         0,
         0.0
        ],
        [
         41.7,
         14.7,
         210.0,
         4700.0,
         1,
         0.0
        ],
        [
         42.0,
         13.5,
         210.0,
         4150.0,
         1,
         0.0
        ],
        [
         42.0,
         19.5,
         200.0,
         4050.0,
         0,
         0.0
        ],
        [
         42.6,
         13.7,
         213.0,
         4950.0,
         1,
         0.0
        ],
        [
         42.7,
         13.7,
         208.0,
         3950.0,
         1,
         0.0
        ],
        [
         42.8,
         14.2,
         209.0,
         4700.0,
         1,
         0.0
        ],
        [
         42.9,
         13.1,
         215.0,
         5000.0,
         1,
         0.0
        ],
        [
         43.2,
         14.5,
         208.0,
         4450.0,
         1,
         0.0
        ],
        [
         43.2,
         19.0,
         197.0,
         4775.0,
         0,
         0.0
        ],
        [
         43.3,
         14.0,
         208.0,
         4575.0,
         1,
         0.0
        ],
        [
         43.5,
         15.2,
         213.0,
         4650.0,
         1,
         0.0
        ],
        [
         43.8,
         13.9,
         208.0,
         4300.0,
         1,
         0.0
        ],
        [
         44.0,
         13.6,
         208.0,
         4350.0,
         1,
         0.0
        ],
        [
         44.4,
         17.3,
         219.0,
         5250.0,
         1,
         0.0
        ],
        [
         44.5,
         14.3,
         216.0,
         4100.0,
         1,
         0.0
        ],
        [
         44.5,
         14.7,
         214.0,
         4850.0,
         1,
         0.0
        ],
        [
         44.5,
         15.7,
         217.0,
         4875.0,
         1,
         0.0
        ],
        [
         44.9,
         13.3,
         213.0,
         5100.0,
         1,
         0.0
        ],
        [
         45.1,
         14.5,
         207.0,
         5050.0,
         1,
         0.0
        ],
        [
         45.1,
         14.5,
         215.0,
         5000.0,
         1,
         0.0
        ],
        [
         45.2,
         13.8,
         215.0,
         4750.0,
         1,
         0.0
        ],
        [
         45.2,
         14.8,
         212.0,
         5200.0,
         1,
         0.0
        ],
        [
         45.2,
         15.8,
         215.0,
         5300.0,
         1,
         0.0
        ],
        [
         45.3,
         13.7,
         210.0,
         4300.0,
         1,
         0.0
        ],
        [
         45.5,
         14.5,
         212.0,
         4750.0,
         1,
         0.0
        ],
        [
         45.5,
         15.0,
         220.0,
         5000.0,
         1,
         0.0
        ],
        [
         45.6,
         20.3,
         191.0,
         4600.0,
         0,
         0.0
        ],
        [
         45.7,
         13.9,
         214.0,
         4400.0,
         1,
         0.0
        ],
        [
         45.8,
         14.2,
         219.0,
         4700.0,
         1,
         0.0
        ],
        [
         45.8,
         14.6,
         210.0,
         4200.0,
         1,
         0.0
        ],
        [
         46.1,
         13.2,
         211.0,
         4500.0,
         1,
         0.0
        ],
        [
         46.1,
         15.1,
         215.0,
         5100.0,
         1,
         0.0
        ],
        [
         46.2,
         14.1,
         217.0,
         4375.0,
         1,
         0.0
        ],
        [
         46.2,
         14.4,
         214.0,
         4650.0,
         1,
         0.0
        ],
        [
         46.2,
         14.5,
         209.0,
         4800.0,
         1,
         0.0
        ],
        [
         46.2,
         14.9,
         221.0,
         5300.0,
         1,
         0.0
        ],
        [
         46.3,
         15.8,
         215.0,
         5050.0,
         1,
         0.0
        ],
        [
         46.4,
         15.0,
         216.0,
         4700.0,
         1,
         0.0
        ],
        [
         46.4,
         15.6,
         221.0,
         5000.0,
         1,
         0.0
        ],
        [
         46.5,
         13.5,
         210.0,
         4550.0,
         1,
         0.0
        ],
        [
         46.5,
         14.4,
         217.0,
         4900.0,
         1,
         0.0
        ],
        [
         46.5,
         14.5,
         213.0,
         4400.0,
         1,
         0.0
        ],
        [
         46.6,
         14.2,
         210.0,
         4850.0,
         1,
         0.0
        ],
        [
         46.7,
         15.3,
         219.0,
         5200.0,
         1,
         0.0
        ],
        [
         46.8,
         14.3,
         215.0,
         4850.0,
         1,
         0.0
        ],
        [
         46.8,
         15.4,
         215.0,
         5150.0,
         1,
         0.0
        ],
        [
         46.8,
         16.1,
         215.0,
         5500.0,
         1,
         0.0
        ],
        [
         47.3,
         15.3,
         222.0,
         5250.0,
         1,
         0.0
        ],
        [
         47.4,
         14.6,
         212.0,
         4725.0,
         1,
         0.0
        ],
        [
         47.5,
         14.0,
         212.0,
         4875.0,
         1,
         0.0
        ],
        [
         47.5,
         14.2,
         209.0,
         4600.0,
         1,
         0.0
        ],
        [
         47.5,
         15.0,
         218.0,
         4950.0,
         1,
         0.0
        ],
        [
         47.6,
         14.5,
         215.0,
         5400.0,
         1,
         0.0
        ],
        [
         47.7,
         15.0,
         216.0,
         4750.0,
         1,
         0.0
        ],
        [
         47.8,
         15.0,
         215.0,
         5650.0,
         1,
         0.0
        ],
        [
         48.1,
         15.1,
         209.0,
         5500.0,
         1,
         0.0
        ],
        [
         48.2,
         14.3,
         210.0,
         4600.0,
         1,
         0.0
        ],
        [
         48.4,
         14.4,
         203.0,
         4625.0,
         1,
         0.0
        ],
        [
         48.4,
         14.6,
         213.0,
         5850.0,
         1,
         0.0
        ],
        [
         48.4,
         16.3,
         220.0,
         5400.0,
         1,
         0.0
        ],
        [
         48.5,
         14.1,
         220.0,
         5300.0,
         1,
         0.0
        ],
        [
         48.6,
         16.0,
         230.0,
         5800.0,
         1,
         0.0
        ],
        [
         48.7,
         14.1,
         210.0,
         4450.0,
         1,
         0.0
        ],
        [
         48.8,
         16.2,
         222.0,
         6000.0,
         1,
         0.0
        ],
        [
         49.1,
         14.5,
         212.0,
         4625.0,
         1,
         0.0
        ],
        [
         49.1,
         14.8,
         220.0,
         5150.0,
         1,
         0.0
        ],
        [
         49.2,
         15.2,
         221.0,
         6300.0,
         1,
         0.0
        ],
        [
         49.3,
         15.7,
         217.0,
         5850.0,
         1,
         0.0
        ],
        [
         49.4,
         15.8,
         216.0,
         4925.0,
         1,
         0.0
        ],
        [
         49.5,
         16.1,
         224.0,
         5650.0,
         1,
         0.0
        ],
        [
         49.6,
         15.0,
         216.0,
         4750.0,
         1,
         0.0
        ],
        [
         49.8,
         15.9,
         229.0,
         5950.0,
         1,
         0.0
        ],
        [
         49.8,
         16.8,
         230.0,
         5700.0,
         1,
         0.0
        ],
        [
         49.9,
         16.1,
         213.0,
         5400.0,
         1,
         0.0
        ],
        [
         50.0,
         15.2,
         218.0,
         5700.0,
         1,
         0.0
        ],
        [
         50.0,
         15.3,
         220.0,
         5550.0,
         1,
         0.0
        ],
        [
         50.0,
         15.9,
         224.0,
         5350.0,
         1,
         0.0
        ],
        [
         50.0,
         16.3,
         230.0,
         5700.0,
         1,
         0.0
        ],
        [
         50.1,
         15.0,
         225.0,
         5000.0,
         1,
         0.0
        ],
        [
         50.2,
         14.3,
         218.0,
         5700.0,
         1,
         0.0
        ],
        [
         50.4,
         15.3,
         224.0,
         5550.0,
         1,
         0.0
        ],
        [
         50.5,
         15.2,
         216.0,
         5000.0,
         1,
         0.0
        ],
        [
         50.5,
         15.9,
         222.0,
         5550.0,
         1,
         0.0
        ],
        [
         50.7,
         15.0,
         223.0,
         5550.0,
         1,
         0.0
        ],
        [
         50.8,
         15.7,
         226.0,
         5200.0,
         1,
         0.0
        ],
        [
         50.8,
         17.3,
         228.0,
         5600.0,
         1,
         0.0
        ],
        [
         51.1,
         16.3,
         220.0,
         6000.0,
         1,
         0.0
        ],
        [
         51.1,
         16.5,
         225.0,
         5250.0,
         1,
         0.0
        ],
        [
         51.3,
         14.2,
         218.0,
         5300.0,
         1,
         0.0
        ],
        [
         51.5,
         16.3,
         230.0,
         5500.0,
         1,
         0.0
        ],
        [
         52.1,
         17.0,
         230.0,
         5550.0,
         1,
         0.0
        ],
        [
         52.2,
         17.1,
         228.0,
         5400.0,
         1,
         0.0
        ],
        [
         52.5,
         15.6,
         221.0,
         5450.0,
         1,
         0.0
        ],
        [
         53.4,
         15.8,
         219.0,
         5500.0,
         1,
         0.0
        ],
        [
         54.3,
         15.7,
         231.0,
         5650.0,
         1,
         0.0
        ],
        [
         59.6,
         17.0,
         230.0,
         6050.0,
         1,
         0.0
        ],
        [
         32.1,
         15.5,
         188.0,
         3050.0,
         0,
         1.0
        ],
        [
         34.0,
         17.1,
         185.0,
         3400.0,
         0,
         1.0
        ],
        [
         35.6,
         17.5,
         191.0,
         3175.0,
         0,
         1.0
        ],
        [
         36.0,
         17.1,
         187.0,
         3700.0,
         0,
         1.0
        ],
        [
         36.0,
         17.8,
         195.0,
         3450.0,
         0,
         1.0
        ],
        [
         36.0,
         17.9,
         190.0,
         3450.0,
         0,
         1.0
        ],
        [
         36.0,
         18.5,
         186.0,
         3100.0,
         0,
         1.0
        ],
        [
         36.4,
         17.0,
         195.0,
         3325.0,
         0,
         1.0
        ],
        [
         36.5,
         18.0,
         182.0,
         3150.0,
         0,
         1.0
        ],
        [
         36.9,
         18.6,
         189.0,
         3500.0,
         0,
         1.0
        ],
        [
         37.0,
         16.9,
         185.0,
         3000.0,
         0,
         1.0
        ],
        [
         37.3,
         16.8,
         192.0,
         3000.0,
         0,
         1.0
        ],
        [
         37.3,
         17.8,
         191.0,
         3350.0,
         0,
         1.0
        ],
        [
         37.5,
         18.9,
         179.0,
         2975.0,
         0,
         1.0
        ],
        [
         37.6,
         19.3,
         181.0,
         3300.0,
         0,
         1.0
        ],
        [
         38.1,
         17.6,
         187.0,
         3425.0,
         0,
         1.0
        ],
        [
         38.1,
         18.6,
         190.0,
         3700.0,
         0,
         1.0
        ],
        [
         38.8,
         20.0,
         190.0,
         3950.0,
         0,
         1.0
        ],
        [
         38.9,
         18.8,
         190.0,
         3600.0,
         0,
         1.0
        ],
        [
         39.0,
         18.7,
         185.0,
         3650.0,
         0,
         1.0
        ],
        [
         39.5,
         16.7,
         178.0,
         3250.0,
         0,
         1.0
        ],
        [
         39.5,
         17.8,
         188.0,
         3300.0,
         0,
         1.0
        ],
        [
         39.6,
         18.1,
         186.0,
         4450.0,
         0,
         1.0
        ],
        [
         39.6,
         18.8,
         190.0,
         4600.0,
         0,
         1.0
        ],
        [
         39.7,
         17.9,
         193.0,
         4250.0,
         0,
         1.0
        ],
        [
         39.8,
         19.1,
         184.0,
         4650.0,
         0,
         1.0
        ],
        [
         40.3,
         18.5,
         196.0,
         4350.0,
         0,
         1.0
        ],
        [
         40.7,
         17.0,
         190.0,
         3725.0,
         0,
         1.0
        ],
        [
         40.8,
         18.4,
         195.0,
         3900.0,
         0,
         1.0
        ],
        [
         40.8,
         18.9,
         208.0,
         4300.0,
         0,
         1.0
        ],
        [
         40.9,
         18.9,
         184.0,
         3900.0,
         0,
         1.0
        ],
        [
         41.1,
         17.5,
         190.0,
         3900.0,
         0,
         1.0
        ],
        [
         41.1,
         18.1,
         205.0,
         4300.0,
         0,
         1.0
        ],
        [
         41.1,
         19.0,
         182.0,
         3425.0,
         0,
         1.0
        ],
        [
         41.3,
         20.3,
         194.0,
         3550.0,
         0,
         1.0
        ],
        [
         42.2,
         18.5,
         180.0,
         3550.0,
         0,
         1.0
        ],
        [
         42.4,
         17.3,
         181.0,
         3600.0,
         2,
         1.0
        ],
        [
         42.5,
         16.7,
         187.0,
         3350.0,
         2,
         1.0
        ],
        [
         42.5,
         17.3,
         187.0,
         3350.0,
         2,
         1.0
        ],
        [
         43.2,
         18.5,
         192.0,
         4100.0,
         0,
         1.0
        ],
        [
         44.1,
         19.7,
         196.0,
         4400.0,
         0,
         1.0
        ],
        [
         45.2,
         16.6,
         191.0,
         3250.0,
         2,
         1.0
        ],
        [
         45.2,
         17.8,
         198.0,
         3950.0,
         2,
         1.0
        ],
        [
         45.4,
         18.7,
         188.0,
         3525.0,
         2,
         1.0
        ],
        [
         45.5,
         17.0,
         196.0,
         3500.0,
         2,
         1.0
        ],
        [
         45.6,
         19.4,
         194.0,
         3525.0,
         2,
         1.0
        ],
        [
         45.7,
         17.0,
         195.0,
         3650.0,
         2,
         1.0
        ],
        [
         45.7,
         17.3,
         193.0,
         3600.0,
         2,
         1.0
        ],
        [
         45.9,
         17.1,
         190.0,
         3575.0,
         2,
         1.0
        ],
        [
         46.0,
         18.9,
         195.0,
         4150.0,
         2,
         1.0
        ],
        [
         46.1,
         18.2,
         178.0,
         3250.0,
         2,
         1.0
        ],
        [
         46.5,
         17.9,
         192.0,
         3500.0,
         2,
         1.0
        ],
        [
         46.6,
         17.8,
         193.0,
         3800.0,
         2,
         1.0
        ],
        [
         46.7,
         17.9,
         195.0,
         3300.0,
         2,
         1.0
        ],
        [
         46.8,
         16.5,
         189.0,
         3650.0,
         2,
         1.0
        ],
        [
         46.9,
         16.6,
         192.0,
         2700.0,
         2,
         1.0
        ],
        [
         47.0,
         17.3,
         185.0,
         3700.0,
         2,
         1.0
        ],
        [
         47.6,
         18.3,
         195.0,
         3850.0,
         2,
         1.0
        ],
        [
         48.1,
         16.4,
         199.0,
         3325.0,
         2,
         1.0
        ],
        [
         48.5,
         17.5,
         191.0,
         3400.0,
         2,
         1.0
        ],
        [
         49.0,
         19.6,
         212.0,
         4300.0,
         2,
         1.0
        ],
        [
         49.2,
         18.2,
         195.0,
         4400.0,
         2,
         1.0
        ],
        [
         49.3,
         19.9,
         203.0,
         4050.0,
         2,
         1.0
        ],
        [
         49.5,
         19.0,
         200.0,
         3800.0,
         2,
         1.0
        ],
        [
         49.6,
         18.2,
         193.0,
         3775.0,
         2,
         1.0
        ],
        [
         49.7,
         18.6,
         195.0,
         3600.0,
         2,
         1.0
        ],
        [
         49.8,
         17.3,
         198.0,
         3675.0,
         2,
         1.0
        ],
        [
         50.1,
         17.9,
         190.0,
         3400.0,
         2,
         1.0
        ],
        [
         50.2,
         18.7,
         198.0,
         3775.0,
         2,
         1.0
        ],
        [
         50.2,
         18.8,
         202.0,
         3800.0,
         2,
         1.0
        ],
        [
         50.5,
         18.4,
         200.0,
         3400.0,
         2,
         1.0
        ],
        [
         50.6,
         19.4,
         193.0,
         3800.0,
         2,
         1.0
        ],
        [
         50.7,
         19.7,
         203.0,
         4050.0,
         2,
         1.0
        ],
        [
         50.8,
         18.5,
         201.0,
         4450.0,
         2,
         1.0
        ],
        [
         50.9,
         17.9,
         196.0,
         3675.0,
         2,
         1.0
        ],
        [
         50.9,
         19.1,
         196.0,
         3550.0,
         2,
         1.0
        ],
        [
         51.0,
         18.8,
         203.0,
         4100.0,
         2,
         1.0
        ],
        [
         51.3,
         19.2,
         193.0,
         3650.0,
         2,
         1.0
        ],
        [
         51.3,
         19.9,
         198.0,
         3700.0,
         2,
         1.0
        ],
        [
         51.4,
         19.0,
         201.0,
         3950.0,
         2,
         1.0
        ],
        [
         51.5,
         18.7,
         187.0,
         3250.0,
         2,
         1.0
        ],
        [
         51.7,
         20.3,
         194.0,
         3775.0,
         2,
         1.0
        ],
        [
         51.9,
         19.5,
         206.0,
         3950.0,
         2,
         1.0
        ],
        [
         52.0,
         18.1,
         201.0,
         4050.0,
         2,
         1.0
        ],
        [
         52.0,
         19.0,
         197.0,
         4150.0,
         2,
         1.0
        ],
        [
         52.0,
         20.7,
         210.0,
         4800.0,
         2,
         1.0
        ],
        [
         52.2,
         18.8,
         197.0,
         3450.0,
         2,
         1.0
        ],
        [
         52.7,
         19.8,
         197.0,
         3725.0,
         2,
         1.0
        ],
        [
         52.8,
         20.0,
         205.0,
         4550.0,
         2,
         1.0
        ],
        [
         53.5,
         19.9,
         205.0,
         4500.0,
         2,
         1.0
        ],
        [
         54.2,
         20.8,
         201.0,
         4300.0,
         2,
         1.0
        ],
        [
         55.8,
         19.8,
         207.0,
         4000.0,
         2,
         1.0
        ],
        [
         33.5,
         19.0,
         190.0,
         3600.0,
         0,
         2.0
        ],
        [
         34.1,
         18.1,
         193.0,
         3475.0,
         0,
         2.0
        ],
        [
         34.4,
         18.4,
         184.0,
         3325.0,
         0,
         2.0
        ],
        [
         34.6,
         17.2,
         189.0,
         3200.0,
         0,
         2.0
        ],
        [
         34.6,
         21.1,
         198.0,
         4400.0,
         0,
         2.0
        ],
        [
         35.2,
         15.9,
         186.0,
         3050.0,
         0,
         2.0
        ],
        [
         35.7,
         17.0,
         189.0,
         3350.0,
         0,
         2.0
        ],
        [
         35.9,
         16.6,
         190.0,
         3050.0,
         0,
         2.0
        ],
        [
         36.2,
         17.2,
         187.0,
         3150.0,
         0,
         2.0
        ],
        [
         36.6,
         17.8,
         185.0,
         3700.0,
         0,
         2.0
        ],
        [
         37.2,
         19.4,
         184.0,
         3900.0,
         0,
         2.0
        ],
        [
         37.7,
         19.8,
         198.0,
         3500.0,
         0,
         2.0
        ],
        [
         37.8,
         17.1,
         186.0,
         3300.0,
         0,
         2.0
        ],
        [
         37.8,
         17.3,
         180.0,
         3700.0,
         0,
         2.0
        ],
        [
         38.5,
         17.9,
         190.0,
         3325.0,
         0,
         2.0
        ],
        [
         38.6,
         17.0,
         188.0,
         2900.0,
         0,
         2.0
        ],
        [
         38.6,
         21.2,
         191.0,
         3800.0,
         0,
         2.0
        ],
        [
         38.7,
         19.0,
         195.0,
         3450.0,
         0,
         2.0
        ],
        [
         38.8,
         17.6,
         191.0,
         3275.0,
         0,
         2.0
        ],
        [
         39.0,
         17.1,
         191.0,
         3050.0,
         0,
         2.0
        ],
        [
         39.1,
         18.7,
         181.0,
         3750.0,
         0,
         2.0
        ],
        [
         39.3,
         20.6,
         190.0,
         3650.0,
         0,
         2.0
        ],
        [
         39.6,
         17.2,
         196.0,
         3550.0,
         0,
         2.0
        ],
        [
         39.7,
         18.4,
         190.0,
         3900.0,
         0,
         2.0
        ],
        [
         40.3,
         18.0,
         195.0,
         3250.0,
         0,
         2.0
        ],
        [
         40.6,
         19.0,
         199.0,
         4000.0,
         0,
         2.0
        ],
        [
         41.1,
         17.6,
         182.0,
         3200.0,
         0,
         2.0
        ],
        [
         41.1,
         18.6,
         189.0,
         3325.0,
         0,
         2.0
        ],
        [
         41.4,
         18.5,
         202.0,
         3875.0,
         0,
         2.0
        ],
        [
         41.5,
         18.3,
         195.0,
         4300.0,
         0,
         2.0
        ],
        [
         41.8,
         19.4,
         198.0,
         4450.0,
         0,
         2.0
        ],
        [
         42.0,
         20.2,
         190.0,
         4250.0,
         0,
         2.0
        ],
        [
         42.1,
         19.1,
         195.0,
         4000.0,
         0,
         2.0
        ],
        [
         42.5,
         20.7,
         197.0,
         4500.0,
         0,
         2.0
        ],
        [
         42.8,
         18.5,
         195.0,
         4250.0,
         0,
         2.0
        ],
        [
         43.1,
         19.2,
         197.0,
         3500.0,
         0,
         2.0
        ],
        [
         45.8,
         18.9,
         197.0,
         4150.0,
         0,
         2.0
        ],
        [
         46.0,
         21.5,
         194.0,
         4200.0,
         0,
         2.0
        ]
       ],
       "datasetInfos": [],
       "dbfsResultPath": null,
       "isJsonSchema": true,
       "metadata": {},
       "overflow": false,
       "plotOptions": {
        "customPlotOptions": {},
        "displayType": "table",
        "pivotAggregation": null,
        "pivotColumns": null,
        "xColumns": null,
        "yColumns": null
       },
       "removedWidgets": [],
       "schema": [
        {
         "metadata": "{}",
         "name": "CulmenLength",
         "type": "\"float\""
        },
        {
         "metadata": "{}",
         "name": "CulmenDepth",
         "type": "\"float\""
        },
        {
         "metadata": "{}",
         "name": "FlipperLength",
         "type": "\"float\""
        },
        {
         "metadata": "{}",
         "name": "BodyMass",
         "type": "\"float\""
        },
        {
         "metadata": "{}",
         "name": "Species",
         "type": "\"integer\""
        },
        {
         "metadata": "{\"ml_attr\":{\"vals\":[\"Biscoe\",\"Dream\",\"Torgersen\"],\"type\":\"nominal\",\"name\":\"IslandIdx\"}}",
         "name": "IslandIdx",
         "type": "\"double\""
        }
       ],
       "type": "table"
      }
     },
     "output_type": "display_data"
    }
   ],
   "source": [
    "from pyspark.ml.feature import StringIndexer\n",
    "\n",
    "indexer = StringIndexer(inputCol=\"Island\", outputCol=\"IslandIdx\")\n",
    "indexedData = indexer.fit(train).transform(train).drop(\"Island\")\n",
    "display(indexedData)"
   ]
  },
  {
   "cell_type": "code",
   "execution_count": 0,
   "metadata": {
    "application/vnd.databricks.v1+cell": {
     "cellMetadata": {
      "byteLimit": 2048000,
      "rowLimit": 10000
     },
     "inputWidgets": {},
     "nuid": "0a70ba3c-94b0-42d4-9975-c4a434376172",
     "showTitle": false,
     "title": ""
    }
   },
   "outputs": [
    {
     "output_type": "display_data",
     "data": {
      "text/html": [
       "<style scoped>\n",
       "  .table-result-container {\n",
       "    max-height: 300px;\n",
       "    overflow: auto;\n",
       "  }\n",
       "  table, th, td {\n",
       "    border: 1px solid black;\n",
       "    border-collapse: collapse;\n",
       "  }\n",
       "  th, td {\n",
       "    padding: 5px;\n",
       "  }\n",
       "  th {\n",
       "    text-align: left;\n",
       "  }\n",
       "</style><div class='table-result-container'><table class='table-result'><thead style='background-color: white'><tr><th>numericFeatures</th><th>normalizedFeatures</th></tr></thead><tbody><tr><td>Map(vectorType -> dense, length -> 4, values -> List(34.5, 18.100000381469727, 187.0, 2900.0))</td><td>Map(vectorType -> dense, length -> 4, values -> List(0.08727278275923295, 0.5952381222696814, 0.16981132075471697, 0.05555555555555555))</td></tr><tr><td>Map(vectorType -> dense, length -> 4, values -> List(35.0, 17.899999618530273, 190.0, 3450.0))</td><td>Map(vectorType -> dense, length -> 4, values -> List(0.10545460094105114, 0.5714285065527647, 0.22641509433962265, 0.20833333333333334))</td></tr><tr><td>Map(vectorType -> dense, length -> 4, values -> List(35.29999923706055, 18.899999618530273, 187.0, 3800.0))</td><td>Map(vectorType -> dense, length -> 4, values -> List(0.1163636641068892, 0.6904761310067009, 0.16981132075471697, 0.3055555555555556))</td></tr><tr><td>Map(vectorType -> dense, length -> 4, values -> List(35.5, 16.200000762939453, 195.0, 3350.0))</td><td>Map(vectorType -> dense, length -> 4, values -> List(0.12363641912286931, 0.3690476812202672, 0.32075471698113206, 0.18055555555555555))</td></tr><tr><td>Map(vectorType -> dense, length -> 4, values -> List(35.70000076293945, 16.899999618530273, 185.0, 3150.0))</td><td>Map(vectorType -> dense, length -> 4, values -> List(0.13090917413884942, 0.4523808820988284, 0.1320754716981132, 0.125))</td></tr><tr><td>Map(vectorType -> dense, length -> 4, values -> List(35.900001525878906, 19.200000762939453, 189.0, 3800.0))</td><td>Map(vectorType -> dense, length -> 4, values -> List(0.13818192915482955, 0.726190554582076, 0.20754716981132074, 0.3055555555555556))</td></tr><tr><td>Map(vectorType -> dense, length -> 4, values -> List(36.400001525878906, 17.100000381469727, 184.0, 2850.0))</td><td>Map(vectorType -> dense, length -> 4, values -> List(0.1563637473366477, 0.47619049781574513, 0.11320754716981132, 0.041666666666666664))</td></tr><tr><td>Map(vectorType -> dense, length -> 4, values -> List(37.599998474121094, 17.0, 185.0, 3600.0))</td><td>Map(vectorType -> dense, length -> 4, values -> List(0.19999999999999998, 0.46428568995728675, 0.1320754716981132, 0.25))</td></tr><tr><td>Map(vectorType -> dense, length -> 4, values -> List(37.599998474121094, 19.100000381469727, 194.0, 3750.0))</td><td>Map(vectorType -> dense, length -> 4, values -> List(0.19999999999999998, 0.7142857467236177, 0.3018867924528302, 0.2916666666666667))</td></tr><tr><td>Map(vectorType -> dense, length -> 4, values -> List(37.70000076293945, 18.700000762939453, 180.0, 3600.0))</td><td>Map(vectorType -> dense, length -> 4, values -> List(0.20363644686612214, 0.6666667423551079, 0.03773584905660377, 0.25))</td></tr><tr><td>Map(vectorType -> dense, length -> 4, values -> List(37.900001525878906, 18.600000381469727, 193.0, 2925.0))</td><td>Map(vectorType -> dense, length -> 4, values -> List(0.21090920188210227, 0.6547619344966495, 0.2830188679245283, 0.0625))</td></tr><tr><td>Map(vectorType -> dense, length -> 4, values -> List(38.099998474121094, 16.5, 198.0, 3825.0))</td><td>Map(vectorType -> dense, length -> 4, values -> List(0.21818181818181817, 0.40476187773031863, 0.3773584905660377, 0.3125))</td></tr><tr><td>Map(vectorType -> dense, length -> 4, values -> List(38.099998474121094, 17.0, 181.0, 3175.0))</td><td>Map(vectorType -> dense, length -> 4, values -> List(0.21818181818181817, 0.46428568995728675, 0.05660377358490566, 0.13194444444444445))</td></tr><tr><td>Map(vectorType -> dense, length -> 4, values -> List(38.20000076293945, 18.100000381469727, 185.0, 3950.0))</td><td>Map(vectorType -> dense, length -> 4, values -> List(0.22181826504794033, 0.5952381222696814, 0.1320754716981132, 0.3472222222222222))</td></tr><tr><td>Map(vectorType -> dense, length -> 4, values -> List(38.20000076293945, 20.0, 190.0, 3900.0))</td><td>Map(vectorType -> dense, length -> 4, values -> List(0.22181826504794033, 0.8214285633190956, 0.22641509433962265, 0.3333333333333333))</td></tr><tr><td>Map(vectorType -> dense, length -> 4, values -> List(38.599998474121094, 17.200000762939453, 199.0, 3750.0))</td><td>Map(vectorType -> dense, length -> 4, values -> List(0.23636363636363636, 0.4880953056742035, 0.3962264150943396, 0.2916666666666667))</td></tr><tr><td>Map(vectorType -> dense, length -> 4, values -> List(38.79999923706055, 17.200000762939453, 180.0, 3800.0))</td><td>Map(vectorType -> dense, length -> 4, values -> List(0.24363639137961646, 0.4880953056742035, 0.03773584905660377, 0.3055555555555556))</td></tr><tr><td>Map(vectorType -> dense, length -> 4, values -> List(39.0, 17.5, 186.0, 3550.0))</td><td>Map(vectorType -> dense, length -> 4, values -> List(0.2509091463955966, 0.5238095021842549, 0.1509433962264151, 0.2361111111111111))</td></tr><tr><td>Map(vectorType -> dense, length -> 4, values -> List(39.599998474121094, 17.700000762939453, 186.0, 3500.0))</td><td>Map(vectorType -> dense, length -> 4, values -> List(0.2727272727272727, 0.5476191179011717, 0.1509433962264151, 0.2222222222222222))</td></tr><tr><td>Map(vectorType -> dense, length -> 4, values -> List(39.599998474121094, 20.700000762939453, 191.0, 3900.0))</td><td>Map(vectorType -> dense, length -> 4, values -> List(0.2727272727272727, 0.9047619912629805, 0.24528301886792453, 0.3333333333333333))</td></tr><tr><td>Map(vectorType -> dense, length -> 4, values -> List(39.70000076293945, 17.700000762939453, 193.0, 3200.0))</td><td>Map(vectorType -> dense, length -> 4, values -> List(0.2763637195933949, 0.5476191179011717, 0.2830188679245283, 0.1388888888888889))</td></tr><tr><td>Map(vectorType -> dense, length -> 4, values -> List(40.099998474121094, 18.899999618530273, 188.0, 4300.0))</td><td>Map(vectorType -> dense, length -> 4, values -> List(0.2909090909090909, 0.6904761310067009, 0.18867924528301885, 0.4444444444444444))</td></tr><tr><td>Map(vectorType -> dense, length -> 4, values -> List(40.5, 17.899999618530273, 187.0, 3200.0))</td><td>Map(vectorType -> dense, length -> 4, values -> List(0.30545460094105115, 0.5714285065527647, 0.16981132075471697, 0.1388888888888889))</td></tr><tr><td>Map(vectorType -> dense, length -> 4, values -> List(40.5, 18.899999618530273, 180.0, 3950.0))</td><td>Map(vectorType -> dense, length -> 4, values -> List(0.30545460094105115, 0.6904761310067009, 0.03773584905660377, 0.3472222222222222))</td></tr><tr><td>Map(vectorType -> dense, length -> 4, values -> List(40.599998474121094, 18.799999237060547, 193.0, 3800.0))</td><td>Map(vectorType -> dense, length -> 4, values -> List(0.3090909090909091, 0.6785713231482425, 0.2830188679245283, 0.3055555555555556))</td></tr><tr><td>Map(vectorType -> dense, length -> 4, values -> List(40.900001525878906, 13.699999809265137, 214.0, 4650.0))</td><td>Map(vectorType -> dense, length -> 4, values -> List(0.32000011097301134, 0.07142850655276464, 0.6792452830188679, 0.5416666666666666))</td></tr><tr><td>Map(vectorType -> dense, length -> 4, values -> List(41.0, 20.0, 203.0, 4725.0))</td><td>Map(vectorType -> dense, length -> 4, values -> List(0.3236364191228693, 0.8214285633190956, 0.4716981132075472, 0.5625))</td></tr><tr><td>Map(vectorType -> dense, length -> 4, values -> List(41.099998474121094, 18.200000762939453, 192.0, 4050.0))</td><td>Map(vectorType -> dense, length -> 4, values -> List(0.32727272727272727, 0.6071429301281398, 0.2641509433962264, 0.375))</td></tr><tr><td>Map(vectorType -> dense, length -> 4, values -> List(41.099998474121094, 19.100000381469727, 188.0, 4100.0))</td><td>Map(vectorType -> dense, length -> 4, values -> List(0.32727272727272727, 0.7142857467236177, 0.18867924528301885, 0.3888888888888889))</td></tr><tr><td>Map(vectorType -> dense, length -> 4, values -> List(41.29999923706055, 21.100000381469727, 195.0, 4400.0))</td><td>Map(vectorType -> dense, length -> 4, values -> List(0.3345454822887074, 0.9523809956314903, 0.32075471698113206, 0.4722222222222222))</td></tr><tr><td>Map(vectorType -> dense, length -> 4, values -> List(41.400001525878906, 18.600000381469727, 191.0, 3700.0))</td><td>Map(vectorType -> dense, length -> 4, values -> List(0.33818192915482953, 0.6547619344966495, 0.24528301886792453, 0.2777777777777778))</td></tr><tr><td>Map(vectorType -> dense, length -> 4, values -> List(41.599998474121094, 18.0, 192.0, 3950.0))</td><td>Map(vectorType -> dense, length -> 4, values -> List(0.34545454545454546, 0.583333314411223, 0.2641509433962264, 0.3472222222222222))</td></tr><tr><td>Map(vectorType -> dense, length -> 4, values -> List(41.70000076293945, 14.699999809265137, 210.0, 4700.0))</td><td>Map(vectorType -> dense, length -> 4, values -> List(0.3490909923206676, 0.19047613100670094, 0.6037735849056604, 0.5555555555555556))</td></tr><tr><td>Map(vectorType -> dense, length -> 4, values -> List(42.0, 13.5, 210.0, 4150.0))</td><td>Map(vectorType -> dense, length -> 4, values -> List(0.36000005548650565, 0.047619004368509764, 0.6037735849056604, 0.4027777777777778))</td></tr><tr><td>Map(vectorType -> dense, length -> 4, values -> List(42.0, 19.5, 200.0, 4050.0))</td><td>Map(vectorType -> dense, length -> 4, values -> List(0.36000005548650565, 0.7619047510921274, 0.4150943396226415, 0.375))</td></tr><tr><td>Map(vectorType -> dense, length -> 4, values -> List(42.599998474121094, 13.699999809265137, 213.0, 4950.0))</td><td>Map(vectorType -> dense, length -> 4, values -> List(0.3818181818181818, 0.07142850655276464, 0.660377358490566, 0.625))</td></tr><tr><td>Map(vectorType -> dense, length -> 4, values -> List(42.70000076293945, 13.699999809265137, 208.0, 3950.0))</td><td>Map(vectorType -> dense, length -> 4, values -> List(0.38545462868430397, 0.07142850655276464, 0.5660377358490566, 0.3472222222222222))</td></tr><tr><td>Map(vectorType -> dense, length -> 4, values -> List(42.79999923706055, 14.199999809265137, 209.0, 4700.0))</td><td>Map(vectorType -> dense, length -> 4, values -> List(0.3890909368341619, 0.1309523187797328, 0.5849056603773585, 0.5555555555555556))</td></tr><tr><td>Map(vectorType -> dense, length -> 4, values -> List(42.900001525878906, 13.100000381469727, 215.0, 5000.0))</td><td>Map(vectorType -> dense, length -> 4, values -> List(0.3927273837002841, 0.0, 0.6981132075471698, 0.6388888888888888))</td></tr><tr><td>Map(vectorType -> dense, length -> 4, values -> List(43.20000076293945, 14.5, 208.0, 4450.0))</td><td>Map(vectorType -> dense, length -> 4, values -> List(0.40363644686612216, 0.16666662882244604, 0.5660377358490566, 0.4861111111111111))</td></tr><tr><td>Map(vectorType -> dense, length -> 4, values -> List(43.20000076293945, 19.0, 197.0, 4775.0))</td><td>Map(vectorType -> dense, length -> 4, values -> List(0.40363644686612216, 0.7023809388651593, 0.3584905660377358, 0.5763888888888888))</td></tr><tr><td>Map(vectorType -> dense, length -> 4, values -> List(43.29999923706055, 14.0, 208.0, 4575.0))</td><td>Map(vectorType -> dense, length -> 4, values -> List(0.4072727550159801, 0.1071428165954779, 0.5660377358490566, 0.5208333333333334))</td></tr><tr><td>Map(vectorType -> dense, length -> 4, values -> List(43.5, 15.199999809265137, 213.0, 4650.0))</td><td>Map(vectorType -> dense, length -> 4, values -> List(0.4145455100319602, 0.24999994323366906, 0.660377358490566, 0.5416666666666666))</td></tr><tr><td>Map(vectorType -> dense, length -> 4, values -> List(43.79999923706055, 13.899999618530273, 208.0, 4300.0))</td><td>Map(vectorType -> dense, length -> 4, values -> List(0.4254545731977983, 0.09523800873701953, 0.5660377358490566, 0.4444444444444444))</td></tr><tr><td>Map(vectorType -> dense, length -> 4, values -> List(44.0, 13.600000381469727, 208.0, 4350.0))</td><td>Map(vectorType -> dense, length -> 4, values -> List(0.4327273282137784, 0.05952381222696814, 0.5660377358490566, 0.4583333333333333))</td></tr><tr><td>Map(vectorType -> dense, length -> 4, values -> List(44.400001525878906, 17.299999237060547, 219.0, 5250.0))</td><td>Map(vectorType -> dense, length -> 4, values -> List(0.4472728382457386, 0.4999998864673381, 0.7735849056603773, 0.7083333333333334))</td></tr><tr><td>Map(vectorType -> dense, length -> 4, values -> List(44.5, 14.300000190734863, 216.0, 4100.0))</td><td>Map(vectorType -> dense, length -> 4, values -> List(0.4509091463955966, 0.14285712663819117, 0.7169811320754716, 0.3888888888888889))</td></tr><tr><td>Map(vectorType -> dense, length -> 4, values -> List(44.5, 14.699999809265137, 214.0, 4850.0))</td><td>Map(vectorType -> dense, length -> 4, values -> List(0.4509091463955966, 0.19047613100670094, 0.6792452830188679, 0.5972222222222222))</td></tr><tr><td>Map(vectorType -> dense, length -> 4, values -> List(44.5, 15.699999809265137, 217.0, 4875.0))</td><td>Map(vectorType -> dense, length -> 4, values -> List(0.4509091463955966, 0.3095237554606372, 0.7358490566037735, 0.6041666666666666))</td></tr><tr><td>Map(vectorType -> dense, length -> 4, values -> List(44.900001525878906, 13.300000190734863, 213.0, 5100.0))</td><td>Map(vectorType -> dense, length -> 4, values -> List(0.4654546564275568, 0.023809502184254882, 0.660377358490566, 0.6666666666666666))</td></tr><tr><td>Map(vectorType -> dense, length -> 4, values -> List(45.099998474121094, 14.5, 207.0, 5050.0))</td><td>Map(vectorType -> dense, length -> 4, values -> List(0.4727272727272727, 0.16666662882244604, 0.5471698113207547, 0.6527777777777778))</td></tr><tr><td>Map(vectorType -> dense, length -> 4, values -> List(45.099998474121094, 14.5, 215.0, 5000.0))</td><td>Map(vectorType -> dense, length -> 4, values -> List(0.4727272727272727, 0.16666662882244604, 0.6981132075471698, 0.6388888888888888))</td></tr><tr><td>Map(vectorType -> dense, length -> 4, values -> List(45.20000076293945, 13.800000190734863, 215.0, 4750.0))</td><td>Map(vectorType -> dense, length -> 4, values -> List(0.47636371959339485, 0.08333331441122302, 0.6981132075471698, 0.5694444444444444))</td></tr><tr><td>Map(vectorType -> dense, length -> 4, values -> List(45.20000076293945, 14.800000190734863, 212.0, 5200.0))</td><td>Map(vectorType -> dense, length -> 4, values -> List(0.47636371959339485, 0.20238093886515932, 0.6415094339622641, 0.6944444444444444))</td></tr><tr><td>Map(vectorType -> dense, length -> 4, values -> List(45.20000076293945, 15.800000190734863, 215.0, 5300.0))</td><td>Map(vectorType -> dense, length -> 4, values -> List(0.47636371959339485, 0.3214285633190956, 0.6981132075471698, 0.7222222222222222))</td></tr><tr><td>Map(vectorType -> dense, length -> 4, values -> List(45.29999923706055, 13.699999809265137, 210.0, 4300.0))</td><td>Map(vectorType -> dense, length -> 4, values -> List(0.48000002774325284, 0.07142850655276464, 0.6037735849056604, 0.4444444444444444))</td></tr><tr><td>Map(vectorType -> dense, length -> 4, values -> List(45.5, 14.5, 212.0, 4750.0))</td><td>Map(vectorType -> dense, length -> 4, values -> List(0.4872727827592329, 0.16666662882244604, 0.6415094339622641, 0.5694444444444444))</td></tr><tr><td>Map(vectorType -> dense, length -> 4, values -> List(45.5, 15.0, 220.0, 5000.0))</td><td>Map(vectorType -> dense, length -> 4, values -> List(0.4872727827592329, 0.2261904410494142, 0.7924528301886792, 0.6388888888888888))</td></tr><tr><td>Map(vectorType -> dense, length -> 4, values -> List(45.599998474121094, 20.299999237060547, 191.0, 4600.0))</td><td>Map(vectorType -> dense, length -> 4, values -> List(0.4909090909090909, 0.857142759829147, 0.24528301886792453, 0.5277777777777778))</td></tr><tr><td>Map(vectorType -> dense, length -> 4, values -> List(45.70000076293945, 13.899999618530273, 214.0, 4400.0))</td><td>Map(vectorType -> dense, length -> 4, values -> List(0.49454553777521304, 0.09523800873701953, 0.6792452830188679, 0.4722222222222222))</td></tr><tr><td>Map(vectorType -> dense, length -> 4, values -> List(45.79999923706055, 14.199999809265137, 219.0, 4700.0))</td><td>Map(vectorType -> dense, length -> 4, values -> List(0.498181845925071, 0.1309523187797328, 0.7735849056603773, 0.5555555555555556))</td></tr><tr><td>Map(vectorType -> dense, length -> 4, values -> List(45.79999923706055, 14.600000381469727, 210.0, 4200.0))</td><td>Map(vectorType -> dense, length -> 4, values -> List(0.498181845925071, 0.17857143668090442, 0.6037735849056604, 0.4166666666666667))</td></tr><tr><td>Map(vectorType -> dense, length -> 4, values -> List(46.099998474121094, 13.199999809265137, 211.0, 4500.0))</td><td>Map(vectorType -> dense, length -> 4, values -> List(0.509090909090909, 0.011904694325796506, 0.6226415094339622, 0.5))</td></tr><tr><td>Map(vectorType -> dense, length -> 4, values -> List(46.099998474121094, 15.100000381469727, 215.0, 5100.0))</td><td>Map(vectorType -> dense, length -> 4, values -> List(0.509090909090909, 0.23809524890787256, 0.6981132075471698, 0.6666666666666666))</td></tr><tr><td>Map(vectorType -> dense, length -> 4, values -> List(46.20000076293945, 14.100000381469727, 217.0, 4375.0))</td><td>Map(vectorType -> dense, length -> 4, values -> List(0.5127273559570312, 0.11904762445393628, 0.7358490566037735, 0.4652777777777778))</td></tr><tr><td>Map(vectorType -> dense, length -> 4, values -> List(46.20000076293945, 14.399999618530273, 214.0, 4650.0))</td><td>Map(vectorType -> dense, length -> 4, values -> List(0.5127273559570312, 0.15476182096398766, 0.6792452830188679, 0.5416666666666666))</td></tr><tr><td>Map(vectorType -> dense, length -> 4, values -> List(46.20000076293945, 14.5, 209.0, 4800.0))</td><td>Map(vectorType -> dense, length -> 4, values -> List(0.5127273559570312, 0.16666662882244604, 0.5849056603773585, 0.5833333333333334))</td></tr><tr><td>Map(vectorType -> dense, length -> 4, values -> List(46.20000076293945, 14.899999618530273, 221.0, 5300.0))</td><td>Map(vectorType -> dense, length -> 4, values -> List(0.5127273559570312, 0.2142856331909558, 0.8113207547169811, 0.7222222222222222))</td></tr><tr><td>Map(vectorType -> dense, length -> 4, values -> List(46.29999923706055, 15.800000190734863, 215.0, 5050.0))</td><td>Map(vectorType -> dense, length -> 4, values -> List(0.5163636641068892, 0.3214285633190956, 0.6981132075471698, 0.6527777777777778))</td></tr><tr><td>Map(vectorType -> dense, length -> 4, values -> List(46.400001525878906, 15.0, 216.0, 4700.0))</td><td>Map(vectorType -> dense, length -> 4, values -> List(0.5200001109730114, 0.2261904410494142, 0.7169811320754716, 0.5555555555555556))</td></tr><tr><td>Map(vectorType -> dense, length -> 4, values -> List(46.400001525878906, 15.600000381469727, 221.0, 5000.0))</td><td>Map(vectorType -> dense, length -> 4, values -> List(0.5200001109730114, 0.2976190611348407, 0.8113207547169811, 0.6388888888888888))</td></tr><tr><td>Map(vectorType -> dense, length -> 4, values -> List(46.5, 13.5, 210.0, 4550.0))</td><td>Map(vectorType -> dense, length -> 4, values -> List(0.5236364191228693, 0.047619004368509764, 0.6037735849056604, 0.5138888888888888))</td></tr><tr><td>Map(vectorType -> dense, length -> 4, values -> List(46.5, 14.399999618530273, 217.0, 4900.0))</td><td>Map(vectorType -> dense, length -> 4, values -> List(0.5236364191228693, 0.15476182096398766, 0.7358490566037735, 0.6111111111111112))</td></tr><tr><td>Map(vectorType -> dense, length -> 4, values -> List(46.5, 14.5, 213.0, 4400.0))</td><td>Map(vectorType -> dense, length -> 4, values -> List(0.5236364191228693, 0.16666662882244604, 0.660377358490566, 0.4722222222222222))</td></tr><tr><td>Map(vectorType -> dense, length -> 4, values -> List(46.599998474121094, 14.199999809265137, 210.0, 4850.0))</td><td>Map(vectorType -> dense, length -> 4, values -> List(0.5272727272727272, 0.1309523187797328, 0.6037735849056604, 0.5972222222222222))</td></tr><tr><td>Map(vectorType -> dense, length -> 4, values -> List(46.70000076293945, 15.300000190734863, 219.0, 5200.0))</td><td>Map(vectorType -> dense, length -> 4, values -> List(0.5309091741388494, 0.26190475109212746, 0.7735849056603773, 0.6944444444444444))</td></tr><tr><td>Map(vectorType -> dense, length -> 4, values -> List(46.79999923706055, 14.300000190734863, 215.0, 4850.0))</td><td>Map(vectorType -> dense, length -> 4, values -> List(0.5345454822887074, 0.14285712663819117, 0.6981132075471698, 0.5972222222222222))</td></tr><tr><td>Map(vectorType -> dense, length -> 4, values -> List(46.79999923706055, 15.399999618530273, 215.0, 5150.0))</td><td>Map(vectorType -> dense, length -> 4, values -> List(0.5345454822887074, 0.27380944541792396, 0.6981132075471698, 0.6805555555555556))</td></tr><tr><td>Map(vectorType -> dense, length -> 4, values -> List(46.79999923706055, 16.100000381469727, 215.0, 5500.0))</td><td>Map(vectorType -> dense, length -> 4, values -> List(0.5345454822887074, 0.35714287336180883, 0.6981132075471698, 0.7777777777777778))</td></tr><tr><td>Map(vectorType -> dense, length -> 4, values -> List(47.29999923706055, 15.300000190734863, 222.0, 5250.0))</td><td>Map(vectorType -> dense, length -> 4, values -> List(0.5527273004705255, 0.26190475109212746, 0.830188679245283, 0.7083333333333334))</td></tr><tr><td>Map(vectorType -> dense, length -> 4, values -> List(47.400001525878906, 14.600000381469727, 212.0, 4725.0))</td><td>Map(vectorType -> dense, length -> 4, values -> List(0.5563637473366477, 0.17857143668090442, 0.6415094339622641, 0.5625))</td></tr><tr><td>Map(vectorType -> dense, length -> 4, values -> List(47.5, 14.0, 212.0, 4875.0))</td><td>Map(vectorType -> dense, length -> 4, values -> List(0.5600000554865057, 0.1071428165954779, 0.6415094339622641, 0.6041666666666666))</td></tr><tr><td>Map(vectorType -> dense, length -> 4, values -> List(47.5, 14.199999809265137, 209.0, 4600.0))</td><td>Map(vectorType -> dense, length -> 4, values -> List(0.5600000554865057, 0.1309523187797328, 0.5849056603773585, 0.5277777777777778))</td></tr><tr><td>Map(vectorType -> dense, length -> 4, values -> List(47.5, 15.0, 218.0, 4950.0))</td><td>Map(vectorType -> dense, length -> 4, values -> List(0.5600000554865057, 0.2261904410494142, 0.7547169811320754, 0.625))</td></tr><tr><td>Map(vectorType -> dense, length -> 4, values -> List(47.599998474121094, 14.5, 215.0, 5400.0))</td><td>Map(vectorType -> dense, length -> 4, values -> List(0.5636363636363636, 0.16666662882244604, 0.6981132075471698, 0.75))</td></tr><tr><td>Map(vectorType -> dense, length -> 4, values -> List(47.70000076293945, 15.0, 216.0, 4750.0))</td><td>Map(vectorType -> dense, length -> 4, values -> List(0.5672728105024858, 0.2261904410494142, 0.7169811320754716, 0.5694444444444444))</td></tr><tr><td>Map(vectorType -> dense, length -> 4, values -> List(47.79999923706055, 15.0, 215.0, 5650.0))</td><td>Map(vectorType -> dense, length -> 4, values -> List(0.5709091186523437, 0.2261904410494142, 0.6981132075471698, 0.8194444444444444))</td></tr><tr><td>Map(vectorType -> dense, length -> 4, values -> List(48.099998474121094, 15.100000381469727, 209.0, 5500.0))</td><td>Map(vectorType -> dense, length -> 4, values -> List(0.5818181818181818, 0.23809524890787256, 0.5849056603773585, 0.7777777777777778))</td></tr><tr><td>Map(vectorType -> dense, length -> 4, values -> List(48.20000076293945, 14.300000190734863, 210.0, 4600.0))</td><td>Map(vectorType -> dense, length -> 4, values -> List(0.585454628684304, 0.14285712663819117, 0.6037735849056604, 0.5277777777777778))</td></tr><tr><td>Map(vectorType -> dense, length -> 4, values -> List(48.400001525878906, 14.399999618530273, 203.0, 4625.0))</td><td>Map(vectorType -> dense, length -> 4, values -> List(0.5927273837002841, 0.15476182096398766, 0.4716981132075472, 0.5347222222222222))</td></tr><tr><td>Map(vectorType -> dense, length -> 4, values -> List(48.400001525878906, 14.600000381469727, 213.0, 5850.0))</td><td>Map(vectorType -> dense, length -> 4, values -> List(0.5927273837002841, 0.17857143668090442, 0.660377358490566, 0.875))</td></tr><tr><td>Map(vectorType -> dense, length -> 4, values -> List(48.400001525878906, 16.299999237060547, 220.0, 5400.0))</td><td>Map(vectorType -> dense, length -> 4, values -> List(0.5927273837002841, 0.3809522620134019, 0.7924528301886792, 0.75))</td></tr><tr><td>Map(vectorType -> dense, length -> 4, values -> List(48.5, 14.100000381469727, 220.0, 5300.0))</td><td>Map(vectorType -> dense, length -> 4, values -> List(0.596363691850142, 0.11904762445393628, 0.7924528301886792, 0.7222222222222222))</td></tr><tr><td>Map(vectorType -> dense, length -> 4, values -> List(48.599998474121094, 16.0, 230.0, 5800.0))</td><td>Map(vectorType -> dense, length -> 4, values -> List(0.6, 0.34523806550335046, 0.9811320754716981, 0.8611111111111112))</td></tr><tr><td>Map(vectorType -> dense, length -> 4, values -> List(48.70000076293945, 14.100000381469727, 210.0, 4450.0))</td><td>Map(vectorType -> dense, length -> 4, values -> List(0.6036364468661222, 0.11904762445393628, 0.6037735849056604, 0.4861111111111111))</td></tr><tr><td>Map(vectorType -> dense, length -> 4, values -> List(48.79999923706055, 16.200000762939453, 222.0, 6000.0))</td><td>Map(vectorType -> dense, length -> 4, values -> List(0.6072727550159801, 0.3690476812202672, 0.830188679245283, 0.9166666666666666))</td></tr><tr><td>Map(vectorType -> dense, length -> 4, values -> List(49.099998474121094, 14.5, 212.0, 4625.0))</td><td>Map(vectorType -> dense, length -> 4, values -> List(0.6181818181818182, 0.16666662882244604, 0.6415094339622641, 0.5347222222222222))</td></tr><tr><td>Map(vectorType -> dense, length -> 4, values -> List(49.099998474121094, 14.800000190734863, 220.0, 5150.0))</td><td>Map(vectorType -> dense, length -> 4, values -> List(0.6181818181818182, 0.20238093886515932, 0.7924528301886792, 0.6805555555555556))</td></tr><tr><td>Map(vectorType -> dense, length -> 4, values -> List(49.20000076293945, 15.199999809265137, 221.0, 6300.0))</td><td>Map(vectorType -> dense, length -> 4, values -> List(0.6218182650479404, 0.24999994323366906, 0.8113207547169811, 1.0))</td></tr><tr><td>Map(vectorType -> dense, length -> 4, values -> List(49.29999923706055, 15.699999809265137, 217.0, 5850.0))</td><td>Map(vectorType -> dense, length -> 4, values -> List(0.6254545731977983, 0.3095237554606372, 0.7358490566037735, 0.875))</td></tr><tr><td>Map(vectorType -> dense, length -> 4, values -> List(49.400001525878906, 15.800000190734863, 216.0, 4925.0))</td><td>Map(vectorType -> dense, length -> 4, values -> List(0.6290910200639204, 0.3214285633190956, 0.7169811320754716, 0.6180555555555556))</td></tr><tr><td>Map(vectorType -> dense, length -> 4, values -> List(49.5, 16.100000381469727, 224.0, 5650.0))</td><td>Map(vectorType -> dense, length -> 4, values -> List(0.6327273282137784, 0.35714287336180883, 0.8679245283018867, 0.8194444444444444))</td></tr><tr><td>Map(vectorType -> dense, length -> 4, values -> List(49.599998474121094, 15.0, 216.0, 4750.0))</td><td>Map(vectorType -> dense, length -> 4, values -> List(0.6363636363636364, 0.2261904410494142, 0.7169811320754716, 0.5694444444444444))</td></tr><tr><td>Map(vectorType -> dense, length -> 4, values -> List(49.79999923706055, 15.899999618530273, 229.0, 5950.0))</td><td>Map(vectorType -> dense, length -> 4, values -> List(0.6436363913796165, 0.3333332576448921, 0.9622641509433962, 0.9027777777777778))</td></tr><tr><td>Map(vectorType -> dense, length -> 4, values -> List(49.79999923706055, 16.799999237060547, 230.0, 5700.0))</td><td>Map(vectorType -> dense, length -> 4, values -> List(0.6436363913796165, 0.44047607424037, 0.9811320754716981, 0.8333333333333334))</td></tr><tr><td>Map(vectorType -> dense, length -> 4, values -> List(49.900001525878906, 16.100000381469727, 213.0, 5400.0))</td><td>Map(vectorType -> dense, length -> 4, values -> List(0.6472728382457386, 0.35714287336180883, 0.660377358490566, 0.75))</td></tr><tr><td>Map(vectorType -> dense, length -> 4, values -> List(50.0, 15.199999809265137, 218.0, 5700.0))</td><td>Map(vectorType -> dense, length -> 4, values -> List(0.6509091463955966, 0.24999994323366906, 0.7547169811320754, 0.8333333333333334))</td></tr><tr><td>Map(vectorType -> dense, length -> 4, values -> List(50.0, 15.300000190734863, 220.0, 5550.0))</td><td>Map(vectorType -> dense, length -> 4, values -> List(0.6509091463955966, 0.26190475109212746, 0.7924528301886792, 0.7916666666666666))</td></tr><tr><td>Map(vectorType -> dense, length -> 4, values -> List(50.0, 15.899999618530273, 224.0, 5350.0))</td><td>Map(vectorType -> dense, length -> 4, values -> List(0.6509091463955966, 0.3333332576448921, 0.8679245283018867, 0.7361111111111112))</td></tr><tr><td>Map(vectorType -> dense, length -> 4, values -> List(50.0, 16.299999237060547, 230.0, 5700.0))</td><td>Map(vectorType -> dense, length -> 4, values -> List(0.6509091463955966, 0.3809522620134019, 0.9811320754716981, 0.8333333333333334))</td></tr><tr><td>Map(vectorType -> dense, length -> 4, values -> List(50.099998474121094, 15.0, 225.0, 5000.0))</td><td>Map(vectorType -> dense, length -> 4, values -> List(0.6545454545454545, 0.2261904410494142, 0.8867924528301886, 0.6388888888888888))</td></tr><tr><td>Map(vectorType -> dense, length -> 4, values -> List(50.20000076293945, 14.300000190734863, 218.0, 5700.0))</td><td>Map(vectorType -> dense, length -> 4, values -> List(0.6581819014115766, 0.14285712663819117, 0.7547169811320754, 0.8333333333333334))</td></tr><tr><td>Map(vectorType -> dense, length -> 4, values -> List(50.400001525878906, 15.300000190734863, 224.0, 5550.0))</td><td>Map(vectorType -> dense, length -> 4, values -> List(0.6654546564275567, 0.26190475109212746, 0.8679245283018867, 0.7916666666666666))</td></tr><tr><td>Map(vectorType -> dense, length -> 4, values -> List(50.5, 15.199999809265137, 216.0, 5000.0))</td><td>Map(vectorType -> dense, length -> 4, values -> List(0.6690909645774148, 0.24999994323366906, 0.7169811320754716, 0.6388888888888888))</td></tr><tr><td>Map(vectorType -> dense, length -> 4, values -> List(50.5, 15.899999618530273, 222.0, 5550.0))</td><td>Map(vectorType -> dense, length -> 4, values -> List(0.6690909645774148, 0.3333332576448921, 0.830188679245283, 0.7916666666666666))</td></tr><tr><td>Map(vectorType -> dense, length -> 4, values -> List(50.70000076293945, 15.0, 223.0, 5550.0))</td><td>Map(vectorType -> dense, length -> 4, values -> List(0.6763637195933948, 0.2261904410494142, 0.8490566037735848, 0.7916666666666666))</td></tr><tr><td>Map(vectorType -> dense, length -> 4, values -> List(50.79999923706055, 15.699999809265137, 226.0, 5200.0))</td><td>Map(vectorType -> dense, length -> 4, values -> List(0.6800000277432529, 0.3095237554606372, 0.9056603773584906, 0.6944444444444444))</td></tr><tr><td>Map(vectorType -> dense, length -> 4, values -> List(50.79999923706055, 17.299999237060547, 228.0, 5600.0))</td><td>Map(vectorType -> dense, length -> 4, values -> List(0.6800000277432529, 0.4999998864673381, 0.9433962264150944, 0.8055555555555556))</td></tr><tr><td>Map(vectorType -> dense, length -> 4, values -> List(51.099998474121094, 16.299999237060547, 220.0, 6000.0))</td><td>Map(vectorType -> dense, length -> 4, values -> List(0.6909090909090909, 0.3809522620134019, 0.7924528301886792, 0.9166666666666666))</td></tr><tr><td>Map(vectorType -> dense, length -> 4, values -> List(51.099998474121094, 16.5, 225.0, 5250.0))</td><td>Map(vectorType -> dense, length -> 4, values -> List(0.6909090909090909, 0.40476187773031863, 0.8867924528301886, 0.7083333333333334))</td></tr><tr><td>Map(vectorType -> dense, length -> 4, values -> List(51.29999923706055, 14.199999809265137, 218.0, 5300.0))</td><td>Map(vectorType -> dense, length -> 4, values -> List(0.698181845925071, 0.1309523187797328, 0.7547169811320754, 0.7222222222222222))</td></tr><tr><td>Map(vectorType -> dense, length -> 4, values -> List(51.5, 16.299999237060547, 230.0, 5500.0))</td><td>Map(vectorType -> dense, length -> 4, values -> List(0.7054546009410511, 0.3809522620134019, 0.9811320754716981, 0.7777777777777778))</td></tr><tr><td>Map(vectorType -> dense, length -> 4, values -> List(52.099998474121094, 17.0, 230.0, 5550.0))</td><td>Map(vectorType -> dense, length -> 4, values -> List(0.7272727272727273, 0.46428568995728675, 0.9811320754716981, 0.7916666666666666))</td></tr><tr><td>Map(vectorType -> dense, length -> 4, values -> List(52.20000076293945, 17.100000381469727, 228.0, 5400.0))</td><td>Map(vectorType -> dense, length -> 4, values -> List(0.7309091741388494, 0.47619049781574513, 0.9433962264150944, 0.75))</td></tr><tr><td>Map(vectorType -> dense, length -> 4, values -> List(52.5, 15.600000381469727, 221.0, 5450.0))</td><td>Map(vectorType -> dense, length -> 4, values -> List(0.7418182373046874, 0.2976190611348407, 0.8113207547169811, 0.7638888888888888))</td></tr><tr><td>Map(vectorType -> dense, length -> 4, values -> List(53.400001525878906, 15.800000190734863, 219.0, 5500.0))</td><td>Map(vectorType -> dense, length -> 4, values -> List(0.7745455655184659, 0.3214285633190956, 0.7735849056603773, 0.7777777777777778))</td></tr><tr><td>Map(vectorType -> dense, length -> 4, values -> List(54.29999923706055, 15.699999809265137, 231.0, 5650.0))</td><td>Map(vectorType -> dense, length -> 4, values -> List(0.8072727550159801, 0.3095237554606372, 1.0, 0.8194444444444444))</td></tr><tr><td>Map(vectorType -> dense, length -> 4, values -> List(59.599998474121094, 17.0, 230.0, 6050.0))</td><td>Map(vectorType -> dense, length -> 4, values -> List(1.0, 0.46428568995728675, 0.9811320754716981, 0.9305555555555556))</td></tr><tr><td>Map(vectorType -> dense, length -> 4, values -> List(32.099998474121094, 15.5, 188.0, 3050.0))</td><td>Map(vectorType -> dense, length -> 4, values -> List(0.0, 0.28571425327638234, 0.18867924528301885, 0.09722222222222222))</td></tr><tr><td>Map(vectorType -> dense, length -> 4, values -> List(34.0, 17.100000381469727, 185.0, 3400.0))</td><td>Map(vectorType -> dense, length -> 4, values -> List(0.06909096457741477, 0.47619049781574513, 0.1320754716981132, 0.19444444444444445))</td></tr><tr><td>Map(vectorType -> dense, length -> 4, values -> List(35.599998474121094, 17.5, 191.0, 3175.0))</td><td>Map(vectorType -> dense, length -> 4, values -> List(0.12727272727272726, 0.5238095021842549, 0.24528301886792453, 0.13194444444444445))</td></tr><tr><td>Map(vectorType -> dense, length -> 4, values -> List(36.0, 17.100000381469727, 187.0, 3700.0))</td><td>Map(vectorType -> dense, length -> 4, values -> List(0.14181823730468748, 0.47619049781574513, 0.16981132075471697, 0.2777777777777778))</td></tr><tr><td>Map(vectorType -> dense, length -> 4, values -> List(36.0, 17.799999237060547, 195.0, 3450.0))</td><td>Map(vectorType -> dense, length -> 4, values -> List(0.14181823730468748, 0.5595236986943063, 0.32075471698113206, 0.20833333333333334))</td></tr><tr><td>Map(vectorType -> dense, length -> 4, values -> List(36.0, 17.899999618530273, 190.0, 3450.0))</td><td>Map(vectorType -> dense, length -> 4, values -> List(0.14181823730468748, 0.5714285065527647, 0.22641509433962265, 0.20833333333333334))</td></tr><tr><td>Map(vectorType -> dense, length -> 4, values -> List(36.0, 18.5, 186.0, 3100.0))</td><td>Map(vectorType -> dense, length -> 4, values -> List(0.14181823730468748, 0.6428571266381912, 0.1509433962264151, 0.1111111111111111))</td></tr><tr><td>Map(vectorType -> dense, length -> 4, values -> List(36.400001525878906, 17.0, 195.0, 3325.0))</td><td>Map(vectorType -> dense, length -> 4, values -> List(0.1563637473366477, 0.46428568995728675, 0.32075471698113206, 0.1736111111111111))</td></tr><tr><td>Map(vectorType -> dense, length -> 4, values -> List(36.5, 18.0, 182.0, 3150.0))</td><td>Map(vectorType -> dense, length -> 4, values -> List(0.16000005548650567, 0.583333314411223, 0.07547169811320754, 0.125))</td></tr><tr><td>Map(vectorType -> dense, length -> 4, values -> List(36.900001525878906, 18.600000381469727, 189.0, 3500.0))</td><td>Map(vectorType -> dense, length -> 4, values -> List(0.1745455655184659, 0.6547619344966495, 0.20754716981132074, 0.2222222222222222))</td></tr><tr><td>Map(vectorType -> dense, length -> 4, values -> List(37.0, 16.899999618530273, 185.0, 3000.0))</td><td>Map(vectorType -> dense, length -> 4, values -> List(0.17818187366832386, 0.4523808820988284, 0.1320754716981132, 0.08333333333333333))</td></tr><tr><td>Map(vectorType -> dense, length -> 4, values -> List(37.29999923706055, 16.799999237060547, 192.0, 3000.0))</td><td>Map(vectorType -> dense, length -> 4, values -> List(0.18909093683416192, 0.44047607424037, 0.2641509433962264, 0.08333333333333333))</td></tr><tr><td>Map(vectorType -> dense, length -> 4, values -> List(37.29999923706055, 17.799999237060547, 191.0, 3350.0))</td><td>Map(vectorType -> dense, length -> 4, values -> List(0.18909093683416192, 0.5595236986943063, 0.24528301886792453, 0.18055555555555555))</td></tr><tr><td>Map(vectorType -> dense, length -> 4, values -> List(37.5, 18.899999618530273, 179.0, 2975.0))</td><td>Map(vectorType -> dense, length -> 4, values -> List(0.19636369185014205, 0.6904761310067009, 0.018867924528301886, 0.0763888888888889))</td></tr><tr><td>Map(vectorType -> dense, length -> 4, values -> List(37.599998474121094, 19.299999237060547, 181.0, 3300.0))</td><td>Map(vectorType -> dense, length -> 4, values -> List(0.19999999999999998, 0.7380951353752107, 0.05660377358490566, 0.16666666666666666))</td></tr><tr><td>Map(vectorType -> dense, length -> 4, values -> List(38.099998474121094, 17.600000381469727, 187.0, 3425.0))</td><td>Map(vectorType -> dense, length -> 4, values -> List(0.21818181818181817, 0.5357143100427133, 0.16981132075471697, 0.2013888888888889))</td></tr><tr><td>Map(vectorType -> dense, length -> 4, values -> List(38.099998474121094, 18.600000381469727, 190.0, 3700.0))</td><td>Map(vectorType -> dense, length -> 4, values -> List(0.21818181818181817, 0.6547619344966495, 0.22641509433962265, 0.2777777777777778))</td></tr><tr><td>Map(vectorType -> dense, length -> 4, values -> List(38.79999923706055, 20.0, 190.0, 3950.0))</td><td>Map(vectorType -> dense, length -> 4, values -> List(0.24363639137961646, 0.8214285633190956, 0.22641509433962265, 0.3472222222222222))</td></tr><tr><td>Map(vectorType -> dense, length -> 4, values -> List(38.900001525878906, 18.799999237060547, 190.0, 3600.0))</td><td>Map(vectorType -> dense, length -> 4, values -> List(0.24727283824573862, 0.6785713231482425, 0.22641509433962265, 0.25))</td></tr><tr><td>Map(vectorType -> dense, length -> 4, values -> List(39.0, 18.700000762939453, 185.0, 3650.0))</td><td>Map(vectorType -> dense, length -> 4, values -> List(0.2509091463955966, 0.6666667423551079, 0.1320754716981132, 0.2638888888888889))</td></tr><tr><td>Map(vectorType -> dense, length -> 4, values -> List(39.5, 16.700000762939453, 178.0, 3250.0))</td><td>Map(vectorType -> dense, length -> 4, values -> List(0.26909096457741477, 0.4285714934472354, 0.0, 0.1527777777777778))</td></tr><tr><td>Map(vectorType -> dense, length -> 4, values -> List(39.5, 17.799999237060547, 188.0, 3300.0))</td><td>Map(vectorType -> dense, length -> 4, values -> List(0.26909096457741477, 0.5595236986943063, 0.18867924528301885, 0.16666666666666666))</td></tr><tr><td>Map(vectorType -> dense, length -> 4, values -> List(39.599998474121094, 18.100000381469727, 186.0, 4450.0))</td><td>Map(vectorType -> dense, length -> 4, values -> List(0.2727272727272727, 0.5952381222696814, 0.1509433962264151, 0.4861111111111111))</td></tr><tr><td>Map(vectorType -> dense, length -> 4, values -> List(39.599998474121094, 18.799999237060547, 190.0, 4600.0))</td><td>Map(vectorType -> dense, length -> 4, values -> List(0.2727272727272727, 0.6785713231482425, 0.22641509433962265, 0.5277777777777778))</td></tr><tr><td>Map(vectorType -> dense, length -> 4, values -> List(39.70000076293945, 17.899999618530273, 193.0, 4250.0))</td><td>Map(vectorType -> dense, length -> 4, values -> List(0.2763637195933949, 0.5714285065527647, 0.2830188679245283, 0.4305555555555556))</td></tr><tr><td>Map(vectorType -> dense, length -> 4, values -> List(39.79999923706055, 19.100000381469727, 184.0, 4650.0))</td><td>Map(vectorType -> dense, length -> 4, values -> List(0.28000002774325283, 0.7142857467236177, 0.11320754716981132, 0.5416666666666666))</td></tr><tr><td>Map(vectorType -> dense, length -> 4, values -> List(40.29999923706055, 18.5, 196.0, 4350.0))</td><td>Map(vectorType -> dense, length -> 4, values -> List(0.298181845925071, 0.6428571266381912, 0.33962264150943394, 0.4583333333333333))</td></tr><tr><td>Map(vectorType -> dense, length -> 4, values -> List(40.70000076293945, 17.0, 190.0, 3725.0))</td><td>Map(vectorType -> dense, length -> 4, values -> List(0.3127273559570312, 0.46428568995728675, 0.22641509433962265, 0.2847222222222222))</td></tr><tr><td>Map(vectorType -> dense, length -> 4, values -> List(40.79999923706055, 18.399999618530273, 195.0, 3900.0))</td><td>Map(vectorType -> dense, length -> 4, values -> List(0.3163636641068892, 0.6309523187797328, 0.32075471698113206, 0.3333333333333333))</td></tr><tr><td>Map(vectorType -> dense, length -> 4, values -> List(40.79999923706055, 18.899999618530273, 208.0, 4300.0))</td><td>Map(vectorType -> dense, length -> 4, values -> List(0.3163636641068892, 0.6904761310067009, 0.5660377358490566, 0.4444444444444444))</td></tr><tr><td>Map(vectorType -> dense, length -> 4, values -> List(40.900001525878906, 18.899999618530273, 184.0, 3900.0))</td><td>Map(vectorType -> dense, length -> 4, values -> List(0.32000011097301134, 0.6904761310067009, 0.11320754716981132, 0.3333333333333333))</td></tr><tr><td>Map(vectorType -> dense, length -> 4, values -> List(41.099998474121094, 17.5, 190.0, 3900.0))</td><td>Map(vectorType -> dense, length -> 4, values -> List(0.32727272727272727, 0.5238095021842549, 0.22641509433962265, 0.3333333333333333))</td></tr><tr><td>Map(vectorType -> dense, length -> 4, values -> List(41.099998474121094, 18.100000381469727, 205.0, 4300.0))</td><td>Map(vectorType -> dense, length -> 4, values -> List(0.32727272727272727, 0.5952381222696814, 0.5094339622641509, 0.4444444444444444))</td></tr><tr><td>Map(vectorType -> dense, length -> 4, values -> List(41.099998474121094, 19.0, 182.0, 3425.0))</td><td>Map(vectorType -> dense, length -> 4, values -> List(0.32727272727272727, 0.7023809388651593, 0.07547169811320754, 0.2013888888888889))</td></tr><tr><td>Map(vectorType -> dense, length -> 4, values -> List(41.29999923706055, 20.299999237060547, 194.0, 3550.0))</td><td>Map(vectorType -> dense, length -> 4, values -> List(0.3345454822887074, 0.857142759829147, 0.3018867924528302, 0.2361111111111111))</td></tr><tr><td>Map(vectorType -> dense, length -> 4, values -> List(42.20000076293945, 18.5, 180.0, 3550.0))</td><td>Map(vectorType -> dense, length -> 4, values -> List(0.3672728105024858, 0.6428571266381912, 0.03773584905660377, 0.2361111111111111))</td></tr><tr><td>Map(vectorType -> dense, length -> 4, values -> List(42.400001525878906, 17.299999237060547, 181.0, 3600.0))</td><td>Map(vectorType -> dense, length -> 4, values -> List(0.3745455655184659, 0.4999998864673381, 0.05660377358490566, 0.25))</td></tr><tr><td>Map(vectorType -> dense, length -> 4, values -> List(42.5, 16.700000762939453, 187.0, 3350.0))</td><td>Map(vectorType -> dense, length -> 4, values -> List(0.37818187366832384, 0.4285714934472354, 0.16981132075471697, 0.18055555555555555))</td></tr><tr><td>Map(vectorType -> dense, length -> 4, values -> List(42.5, 17.299999237060547, 187.0, 3350.0))</td><td>Map(vectorType -> dense, length -> 4, values -> List(0.37818187366832384, 0.4999998864673381, 0.16981132075471697, 0.18055555555555555))</td></tr><tr><td>Map(vectorType -> dense, length -> 4, values -> List(43.20000076293945, 18.5, 192.0, 4100.0))</td><td>Map(vectorType -> dense, length -> 4, values -> List(0.40363644686612216, 0.6428571266381912, 0.2641509433962264, 0.3888888888888889))</td></tr><tr><td>Map(vectorType -> dense, length -> 4, values -> List(44.099998474121094, 19.700000762939453, 196.0, 4400.0))</td><td>Map(vectorType -> dense, length -> 4, values -> List(0.43636363636363634, 0.7857143668090442, 0.33962264150943394, 0.4722222222222222))</td></tr><tr><td>Map(vectorType -> dense, length -> 4, values -> List(45.20000076293945, 16.600000381469727, 191.0, 3250.0))</td><td>Map(vectorType -> dense, length -> 4, values -> List(0.47636371959339485, 0.416666685588777, 0.24528301886792453, 0.1527777777777778))</td></tr><tr><td>Map(vectorType -> dense, length -> 4, values -> List(45.20000076293945, 17.799999237060547, 198.0, 3950.0))</td><td>Map(vectorType -> dense, length -> 4, values -> List(0.47636371959339485, 0.5595236986943063, 0.3773584905660377, 0.3472222222222222))</td></tr><tr><td>Map(vectorType -> dense, length -> 4, values -> List(45.400001525878906, 18.700000762939453, 188.0, 3525.0))</td><td>Map(vectorType -> dense, length -> 4, values -> List(0.483636474609375, 0.6666667423551079, 0.18867924528301885, 0.22916666666666666))</td></tr><tr><td>Map(vectorType -> dense, length -> 4, values -> List(45.5, 17.0, 196.0, 3500.0))</td><td>Map(vectorType -> dense, length -> 4, values -> List(0.4872727827592329, 0.46428568995728675, 0.33962264150943394, 0.2222222222222222))</td></tr><tr><td>Map(vectorType -> dense, length -> 4, values -> List(45.599998474121094, 19.399999618530273, 194.0, 3525.0))</td><td>Map(vectorType -> dense, length -> 4, values -> List(0.4909090909090909, 0.749999943233669, 0.3018867924528302, 0.22916666666666666))</td></tr><tr><td>Map(vectorType -> dense, length -> 4, values -> List(45.70000076293945, 17.0, 195.0, 3650.0))</td><td>Map(vectorType -> dense, length -> 4, values -> List(0.49454553777521304, 0.46428568995728675, 0.32075471698113206, 0.2638888888888889))</td></tr><tr><td>Map(vectorType -> dense, length -> 4, values -> List(45.70000076293945, 17.299999237060547, 193.0, 3600.0))</td><td>Map(vectorType -> dense, length -> 4, values -> List(0.49454553777521304, 0.4999998864673381, 0.2830188679245283, 0.25))</td></tr><tr><td>Map(vectorType -> dense, length -> 4, values -> List(45.900001525878906, 17.100000381469727, 190.0, 3575.0))</td><td>Map(vectorType -> dense, length -> 4, values -> List(0.5018182927911932, 0.47619049781574513, 0.22641509433962265, 0.24305555555555555))</td></tr><tr><td>Map(vectorType -> dense, length -> 4, values -> List(46.0, 18.899999618530273, 195.0, 4150.0))</td><td>Map(vectorType -> dense, length -> 4, values -> List(0.5054546009410511, 0.6904761310067009, 0.32075471698113206, 0.4027777777777778))</td></tr><tr><td>Map(vectorType -> dense, length -> 4, values -> List(46.099998474121094, 18.200000762939453, 178.0, 3250.0))</td><td>Map(vectorType -> dense, length -> 4, values -> List(0.509090909090909, 0.6071429301281398, 0.0, 0.1527777777777778))</td></tr><tr><td>Map(vectorType -> dense, length -> 4, values -> List(46.5, 17.899999618530273, 192.0, 3500.0))</td><td>Map(vectorType -> dense, length -> 4, values -> List(0.5236364191228693, 0.5714285065527647, 0.2641509433962264, 0.2222222222222222))</td></tr><tr><td>Map(vectorType -> dense, length -> 4, values -> List(46.599998474121094, 17.799999237060547, 193.0, 3800.0))</td><td>Map(vectorType -> dense, length -> 4, values -> List(0.5272727272727272, 0.5595236986943063, 0.2830188679245283, 0.3055555555555556))</td></tr><tr><td>Map(vectorType -> dense, length -> 4, values -> List(46.70000076293945, 17.899999618530273, 195.0, 3300.0))</td><td>Map(vectorType -> dense, length -> 4, values -> List(0.5309091741388494, 0.5714285065527647, 0.32075471698113206, 0.16666666666666666))</td></tr><tr><td>Map(vectorType -> dense, length -> 4, values -> List(46.79999923706055, 16.5, 189.0, 3650.0))</td><td>Map(vectorType -> dense, length -> 4, values -> List(0.5345454822887074, 0.40476187773031863, 0.20754716981132074, 0.2638888888888889))</td></tr><tr><td>Map(vectorType -> dense, length -> 4, values -> List(46.900001525878906, 16.600000381469727, 192.0, 2700.0))</td><td>Map(vectorType -> dense, length -> 4, values -> List(0.5381819291548295, 0.416666685588777, 0.2641509433962264, 0.0))</td></tr><tr><td>Map(vectorType -> dense, length -> 4, values -> List(47.0, 17.299999237060547, 185.0, 3700.0))</td><td>Map(vectorType -> dense, length -> 4, values -> List(0.5418182373046875, 0.4999998864673381, 0.1320754716981132, 0.2777777777777778))</td></tr><tr><td>Map(vectorType -> dense, length -> 4, values -> List(47.599998474121094, 18.299999237060547, 195.0, 3850.0))</td><td>Map(vectorType -> dense, length -> 4, values -> List(0.5636363636363636, 0.6190475109212744, 0.32075471698113206, 0.3194444444444444))</td></tr><tr><td>Map(vectorType -> dense, length -> 4, values -> List(48.099998474121094, 16.399999618530273, 199.0, 3325.0))</td><td>Map(vectorType -> dense, length -> 4, values -> List(0.5818181818181818, 0.39285706987186025, 0.3962264150943396, 0.1736111111111111))</td></tr><tr><td>Map(vectorType -> dense, length -> 4, values -> List(48.5, 17.5, 191.0, 3400.0))</td><td>Map(vectorType -> dense, length -> 4, values -> List(0.596363691850142, 0.5238095021842549, 0.24528301886792453, 0.19444444444444445))</td></tr><tr><td>Map(vectorType -> dense, length -> 4, values -> List(49.0, 19.600000381469727, 212.0, 4300.0))</td><td>Map(vectorType -> dense, length -> 4, values -> List(0.6145455100319602, 0.7738095589505858, 0.6415094339622641, 0.4444444444444444))</td></tr><tr><td>Map(vectorType -> dense, length -> 4, values -> List(49.20000076293945, 18.200000762939453, 195.0, 4400.0))</td><td>Map(vectorType -> dense, length -> 4, values -> List(0.6218182650479404, 0.6071429301281398, 0.32075471698113206, 0.4722222222222222))</td></tr><tr><td>Map(vectorType -> dense, length -> 4, values -> List(49.29999923706055, 19.899999618530273, 203.0, 4050.0))</td><td>Map(vectorType -> dense, length -> 4, values -> List(0.6254545731977983, 0.8095237554606373, 0.4716981132075472, 0.375))</td></tr><tr><td>Map(vectorType -> dense, length -> 4, values -> List(49.5, 19.0, 200.0, 3800.0))</td><td>Map(vectorType -> dense, length -> 4, values -> List(0.6327273282137784, 0.7023809388651593, 0.4150943396226415, 0.3055555555555556))</td></tr><tr><td>Map(vectorType -> dense, length -> 4, values -> List(49.599998474121094, 18.200000762939453, 193.0, 3775.0))</td><td>Map(vectorType -> dense, length -> 4, values -> List(0.6363636363636364, 0.6071429301281398, 0.2830188679245283, 0.2986111111111111))</td></tr><tr><td>Map(vectorType -> dense, length -> 4, values -> List(49.70000076293945, 18.600000381469727, 195.0, 3600.0))</td><td>Map(vectorType -> dense, length -> 4, values -> List(0.6400000832297585, 0.6547619344966495, 0.32075471698113206, 0.25))</td></tr><tr><td>Map(vectorType -> dense, length -> 4, values -> List(49.79999923706055, 17.299999237060547, 198.0, 3675.0))</td><td>Map(vectorType -> dense, length -> 4, values -> List(0.6436363913796165, 0.4999998864673381, 0.3773584905660377, 0.2708333333333333))</td></tr><tr><td>Map(vectorType -> dense, length -> 4, values -> List(50.099998474121094, 17.899999618530273, 190.0, 3400.0))</td><td>Map(vectorType -> dense, length -> 4, values -> List(0.6545454545454545, 0.5714285065527647, 0.22641509433962265, 0.19444444444444445))</td></tr><tr><td>Map(vectorType -> dense, length -> 4, values -> List(50.20000076293945, 18.700000762939453, 198.0, 3775.0))</td><td>Map(vectorType -> dense, length -> 4, values -> List(0.6581819014115766, 0.6666667423551079, 0.3773584905660377, 0.2986111111111111))</td></tr><tr><td>Map(vectorType -> dense, length -> 4, values -> List(50.20000076293945, 18.799999237060547, 202.0, 3800.0))</td><td>Map(vectorType -> dense, length -> 4, values -> List(0.6581819014115766, 0.6785713231482425, 0.4528301886792453, 0.3055555555555556))</td></tr><tr><td>Map(vectorType -> dense, length -> 4, values -> List(50.5, 18.399999618530273, 200.0, 3400.0))</td><td>Map(vectorType -> dense, length -> 4, values -> List(0.6690909645774148, 0.6309523187797328, 0.4150943396226415, 0.19444444444444445))</td></tr><tr><td>Map(vectorType -> dense, length -> 4, values -> List(50.599998474121094, 19.399999618530273, 193.0, 3800.0))</td><td>Map(vectorType -> dense, length -> 4, values -> List(0.6727272727272727, 0.749999943233669, 0.2830188679245283, 0.3055555555555556))</td></tr><tr><td>Map(vectorType -> dense, length -> 4, values -> List(50.70000076293945, 19.700000762939453, 203.0, 4050.0))</td><td>Map(vectorType -> dense, length -> 4, values -> List(0.6763637195933948, 0.7857143668090442, 0.4716981132075472, 0.375))</td></tr><tr><td>Map(vectorType -> dense, length -> 4, values -> List(50.79999923706055, 18.5, 201.0, 4450.0))</td><td>Map(vectorType -> dense, length -> 4, values -> List(0.6800000277432529, 0.6428571266381912, 0.43396226415094336, 0.4861111111111111))</td></tr><tr><td>Map(vectorType -> dense, length -> 4, values -> List(50.900001525878906, 17.899999618530273, 196.0, 3675.0))</td><td>Map(vectorType -> dense, length -> 4, values -> List(0.6836364746093749, 0.5714285065527647, 0.33962264150943394, 0.2708333333333333))</td></tr><tr><td>Map(vectorType -> dense, length -> 4, values -> List(50.900001525878906, 19.100000381469727, 196.0, 3550.0))</td><td>Map(vectorType -> dense, length -> 4, values -> List(0.6836364746093749, 0.7142857467236177, 0.33962264150943394, 0.2361111111111111))</td></tr><tr><td>Map(vectorType -> dense, length -> 4, values -> List(51.0, 18.799999237060547, 203.0, 4100.0))</td><td>Map(vectorType -> dense, length -> 4, values -> List(0.6872727827592329, 0.6785713231482425, 0.4716981132075472, 0.3888888888888889))</td></tr><tr><td>Map(vectorType -> dense, length -> 4, values -> List(51.29999923706055, 19.200000762939453, 193.0, 3650.0))</td><td>Map(vectorType -> dense, length -> 4, values -> List(0.698181845925071, 0.726190554582076, 0.2830188679245283, 0.2638888888888889))</td></tr><tr><td>Map(vectorType -> dense, length -> 4, values -> List(51.29999923706055, 19.899999618530273, 198.0, 3700.0))</td><td>Map(vectorType -> dense, length -> 4, values -> List(0.698181845925071, 0.8095237554606373, 0.3773584905660377, 0.2777777777777778))</td></tr><tr><td>Map(vectorType -> dense, length -> 4, values -> List(51.400001525878906, 19.0, 201.0, 3950.0))</td><td>Map(vectorType -> dense, length -> 4, values -> List(0.7018182927911931, 0.7023809388651593, 0.43396226415094336, 0.3472222222222222))</td></tr><tr><td>Map(vectorType -> dense, length -> 4, values -> List(51.5, 18.700000762939453, 187.0, 3250.0))</td><td>Map(vectorType -> dense, length -> 4, values -> List(0.7054546009410511, 0.6666667423551079, 0.16981132075471697, 0.1527777777777778))</td></tr><tr><td>Map(vectorType -> dense, length -> 4, values -> List(51.70000076293945, 20.299999237060547, 194.0, 3775.0))</td><td>Map(vectorType -> dense, length -> 4, values -> List(0.7127273559570312, 0.857142759829147, 0.3018867924528302, 0.2986111111111111))</td></tr><tr><td>Map(vectorType -> dense, length -> 4, values -> List(51.900001525878906, 19.5, 206.0, 3950.0))</td><td>Map(vectorType -> dense, length -> 4, values -> List(0.7200001109730113, 0.7619047510921274, 0.5283018867924528, 0.3472222222222222))</td></tr><tr><td>Map(vectorType -> dense, length -> 4, values -> List(52.0, 18.100000381469727, 201.0, 4050.0))</td><td>Map(vectorType -> dense, length -> 4, values -> List(0.7236364191228692, 0.5952381222696814, 0.43396226415094336, 0.375))</td></tr><tr><td>Map(vectorType -> dense, length -> 4, values -> List(52.0, 19.0, 197.0, 4150.0))</td><td>Map(vectorType -> dense, length -> 4, values -> List(0.7236364191228692, 0.7023809388651593, 0.3584905660377358, 0.4027777777777778))</td></tr><tr><td>Map(vectorType -> dense, length -> 4, values -> List(52.0, 20.700000762939453, 210.0, 4800.0))</td><td>Map(vectorType -> dense, length -> 4, values -> List(0.7236364191228692, 0.9047619912629805, 0.6037735849056604, 0.5833333333333334))</td></tr><tr><td>Map(vectorType -> dense, length -> 4, values -> List(52.20000076293945, 18.799999237060547, 197.0, 3450.0))</td><td>Map(vectorType -> dense, length -> 4, values -> List(0.7309091741388494, 0.6785713231482425, 0.3584905660377358, 0.20833333333333334))</td></tr><tr><td>Map(vectorType -> dense, length -> 4, values -> List(52.70000076293945, 19.799999237060547, 197.0, 3725.0))</td><td>Map(vectorType -> dense, length -> 4, values -> List(0.7490909923206676, 0.7976189476021789, 0.3584905660377358, 0.2847222222222222))</td></tr><tr><td>Map(vectorType -> dense, length -> 4, values -> List(52.79999923706055, 20.0, 205.0, 4550.0))</td><td>Map(vectorType -> dense, length -> 4, values -> List(0.7527273004705255, 0.8214285633190956, 0.5094339622641509, 0.5138888888888888))</td></tr><tr><td>Map(vectorType -> dense, length -> 4, values -> List(53.5, 19.899999618530273, 205.0, 4500.0))</td><td>Map(vectorType -> dense, length -> 4, values -> List(0.7781818736683238, 0.8095237554606373, 0.5094339622641509, 0.5))</td></tr><tr><td>Map(vectorType -> dense, length -> 4, values -> List(54.20000076293945, 20.799999237060547, 201.0, 4300.0))</td><td>Map(vectorType -> dense, length -> 4, values -> List(0.8036364468661221, 0.9166665720561151, 0.43396226415094336, 0.4444444444444444))</td></tr><tr><td>Map(vectorType -> dense, length -> 4, values -> List(55.79999923706055, 19.799999237060547, 207.0, 4000.0))</td><td>Map(vectorType -> dense, length -> 4, values -> List(0.8618182095614346, 0.7976189476021789, 0.5471698113207547, 0.3611111111111111))</td></tr><tr><td>Map(vectorType -> dense, length -> 4, values -> List(33.5, 19.0, 190.0, 3600.0))</td><td>Map(vectorType -> dense, length -> 4, values -> List(0.050909146395596586, 0.7023809388651593, 0.22641509433962265, 0.25))</td></tr><tr><td>Map(vectorType -> dense, length -> 4, values -> List(34.099998474121094, 18.100000381469727, 193.0, 3475.0))</td><td>Map(vectorType -> dense, length -> 4, values -> List(0.07272727272727272, 0.5952381222696814, 0.2830188679245283, 0.2152777777777778))</td></tr><tr><td>Map(vectorType -> dense, length -> 4, values -> List(34.400001525878906, 18.399999618530273, 184.0, 3325.0))</td><td>Map(vectorType -> dense, length -> 4, values -> List(0.083636474609375, 0.6309523187797328, 0.11320754716981132, 0.1736111111111111))</td></tr><tr><td>Map(vectorType -> dense, length -> 4, values -> List(34.599998474121094, 17.200000762939453, 189.0, 3200.0))</td><td>Map(vectorType -> dense, length -> 4, values -> List(0.09090909090909091, 0.4880953056742035, 0.20754716981132074, 0.1388888888888889))</td></tr><tr><td>Map(vectorType -> dense, length -> 4, values -> List(34.599998474121094, 21.100000381469727, 198.0, 4400.0))</td><td>Map(vectorType -> dense, length -> 4, values -> List(0.09090909090909091, 0.9523809956314903, 0.3773584905660377, 0.4722222222222222))</td></tr><tr><td>Map(vectorType -> dense, length -> 4, values -> List(35.20000076293945, 15.899999618530273, 186.0, 3050.0))</td><td>Map(vectorType -> dense, length -> 4, values -> List(0.11272735595703125, 0.3333332576448921, 0.1509433962264151, 0.09722222222222222))</td></tr><tr><td>Map(vectorType -> dense, length -> 4, values -> List(35.70000076293945, 17.0, 189.0, 3350.0))</td><td>Map(vectorType -> dense, length -> 4, values -> List(0.13090917413884942, 0.46428568995728675, 0.20754716981132074, 0.18055555555555555))</td></tr><tr><td>Map(vectorType -> dense, length -> 4, values -> List(35.900001525878906, 16.600000381469727, 190.0, 3050.0))</td><td>Map(vectorType -> dense, length -> 4, values -> List(0.13818192915482955, 0.416666685588777, 0.22641509433962265, 0.09722222222222222))</td></tr><tr><td>Map(vectorType -> dense, length -> 4, values -> List(36.20000076293945, 17.200000762939453, 187.0, 3150.0))</td><td>Map(vectorType -> dense, length -> 4, values -> List(0.1490909923206676, 0.4880953056742035, 0.16981132075471697, 0.125))</td></tr><tr><td>Map(vectorType -> dense, length -> 4, values -> List(36.599998474121094, 17.799999237060547, 185.0, 3700.0))</td><td>Map(vectorType -> dense, length -> 4, values -> List(0.16363636363636364, 0.5595236986943063, 0.1320754716981132, 0.2777777777777778))</td></tr><tr><td>Map(vectorType -> dense, length -> 4, values -> List(37.20000076293945, 19.399999618530273, 184.0, 3900.0))</td><td>Map(vectorType -> dense, length -> 4, values -> List(0.18545462868430396, 0.749999943233669, 0.11320754716981132, 0.3333333333333333))</td></tr><tr><td>Map(vectorType -> dense, length -> 4, values -> List(37.70000076293945, 19.799999237060547, 198.0, 3500.0))</td><td>Map(vectorType -> dense, length -> 4, values -> List(0.20363644686612214, 0.7976189476021789, 0.3773584905660377, 0.2222222222222222))</td></tr><tr><td>Map(vectorType -> dense, length -> 4, values -> List(37.79999923706055, 17.100000381469727, 186.0, 3300.0))</td><td>Map(vectorType -> dense, length -> 4, values -> List(0.2072727550159801, 0.47619049781574513, 0.1509433962264151, 0.16666666666666666))</td></tr><tr><td>Map(vectorType -> dense, length -> 4, values -> List(37.79999923706055, 17.299999237060547, 180.0, 3700.0))</td><td>Map(vectorType -> dense, length -> 4, values -> List(0.2072727550159801, 0.4999998864673381, 0.03773584905660377, 0.2777777777777778))</td></tr><tr><td>Map(vectorType -> dense, length -> 4, values -> List(38.5, 17.899999618530273, 190.0, 3325.0))</td><td>Map(vectorType -> dense, length -> 4, values -> List(0.2327273282137784, 0.5714285065527647, 0.22641509433962265, 0.1736111111111111))</td></tr><tr><td>Map(vectorType -> dense, length -> 4, values -> List(38.599998474121094, 17.0, 188.0, 2900.0))</td><td>Map(vectorType -> dense, length -> 4, values -> List(0.23636363636363636, 0.46428568995728675, 0.18867924528301885, 0.05555555555555555))</td></tr><tr><td>Map(vectorType -> dense, length -> 4, values -> List(38.599998474121094, 21.200000762939453, 191.0, 3800.0))</td><td>Map(vectorType -> dense, length -> 4, values -> List(0.23636363636363636, 0.9642858034899486, 0.24528301886792453, 0.3055555555555556))</td></tr><tr><td>Map(vectorType -> dense, length -> 4, values -> List(38.70000076293945, 19.0, 195.0, 3450.0))</td><td>Map(vectorType -> dense, length -> 4, values -> List(0.24000008322975852, 0.7023809388651593, 0.32075471698113206, 0.20833333333333334))</td></tr><tr><td>Map(vectorType -> dense, length -> 4, values -> List(38.79999923706055, 17.600000381469727, 191.0, 3275.0))</td><td>Map(vectorType -> dense, length -> 4, values -> List(0.24363639137961646, 0.5357143100427133, 0.24528301886792453, 0.1597222222222222))</td></tr><tr><td>Map(vectorType -> dense, length -> 4, values -> List(39.0, 17.100000381469727, 191.0, 3050.0))</td><td>Map(vectorType -> dense, length -> 4, values -> List(0.2509091463955966, 0.47619049781574513, 0.24528301886792453, 0.09722222222222222))</td></tr><tr><td>Map(vectorType -> dense, length -> 4, values -> List(39.099998474121094, 18.700000762939453, 181.0, 3750.0))</td><td>Map(vectorType -> dense, length -> 4, values -> List(0.2545454545454545, 0.6666667423551079, 0.05660377358490566, 0.2916666666666667))</td></tr><tr><td>Map(vectorType -> dense, length -> 4, values -> List(39.29999923706055, 20.600000381469727, 190.0, 3650.0))</td><td>Map(vectorType -> dense, length -> 4, values -> List(0.26181820956143464, 0.8928571834045221, 0.22641509433962265, 0.2638888888888889))</td></tr><tr><td>Map(vectorType -> dense, length -> 4, values -> List(39.599998474121094, 17.200000762939453, 196.0, 3550.0))</td><td>Map(vectorType -> dense, length -> 4, values -> List(0.2727272727272727, 0.4880953056742035, 0.33962264150943394, 0.2361111111111111))</td></tr><tr><td>Map(vectorType -> dense, length -> 4, values -> List(39.70000076293945, 18.399999618530273, 190.0, 3900.0))</td><td>Map(vectorType -> dense, length -> 4, values -> List(0.2763637195933949, 0.6309523187797328, 0.22641509433962265, 0.3333333333333333))</td></tr><tr><td>Map(vectorType -> dense, length -> 4, values -> List(40.29999923706055, 18.0, 195.0, 3250.0))</td><td>Map(vectorType -> dense, length -> 4, values -> List(0.298181845925071, 0.583333314411223, 0.32075471698113206, 0.1527777777777778))</td></tr><tr><td>Map(vectorType -> dense, length -> 4, values -> List(40.599998474121094, 19.0, 199.0, 4000.0))</td><td>Map(vectorType -> dense, length -> 4, values -> List(0.3090909090909091, 0.7023809388651593, 0.3962264150943396, 0.3611111111111111))</td></tr><tr><td>Map(vectorType -> dense, length -> 4, values -> List(41.099998474121094, 17.600000381469727, 182.0, 3200.0))</td><td>Map(vectorType -> dense, length -> 4, values -> List(0.32727272727272727, 0.5357143100427133, 0.07547169811320754, 0.1388888888888889))</td></tr><tr><td>Map(vectorType -> dense, length -> 4, values -> List(41.099998474121094, 18.600000381469727, 189.0, 3325.0))</td><td>Map(vectorType -> dense, length -> 4, values -> List(0.32727272727272727, 0.6547619344966495, 0.20754716981132074, 0.1736111111111111))</td></tr><tr><td>Map(vectorType -> dense, length -> 4, values -> List(41.400001525878906, 18.5, 202.0, 3875.0))</td><td>Map(vectorType -> dense, length -> 4, values -> List(0.33818192915482953, 0.6428571266381912, 0.4528301886792453, 0.3263888888888889))</td></tr><tr><td>Map(vectorType -> dense, length -> 4, values -> List(41.5, 18.299999237060547, 195.0, 4300.0))</td><td>Map(vectorType -> dense, length -> 4, values -> List(0.34181823730468747, 0.6190475109212744, 0.32075471698113206, 0.4444444444444444))</td></tr><tr><td>Map(vectorType -> dense, length -> 4, values -> List(41.79999923706055, 19.399999618530273, 198.0, 4450.0))</td><td>Map(vectorType -> dense, length -> 4, values -> List(0.35272730047052553, 0.749999943233669, 0.3773584905660377, 0.4861111111111111))</td></tr><tr><td>Map(vectorType -> dense, length -> 4, values -> List(42.0, 20.200000762939453, 190.0, 4250.0))</td><td>Map(vectorType -> dense, length -> 4, values -> List(0.36000005548650565, 0.8452381790360124, 0.22641509433962265, 0.4305555555555556))</td></tr><tr><td>Map(vectorType -> dense, length -> 4, values -> List(42.099998474121094, 19.100000381469727, 195.0, 4000.0))</td><td>Map(vectorType -> dense, length -> 4, values -> List(0.36363636363636365, 0.7142857467236177, 0.32075471698113206, 0.3611111111111111))</td></tr><tr><td>Map(vectorType -> dense, length -> 4, values -> List(42.5, 20.700000762939453, 197.0, 4500.0))</td><td>Map(vectorType -> dense, length -> 4, values -> List(0.37818187366832384, 0.9047619912629805, 0.3584905660377358, 0.5))</td></tr><tr><td>Map(vectorType -> dense, length -> 4, values -> List(42.79999923706055, 18.5, 195.0, 4250.0))</td><td>Map(vectorType -> dense, length -> 4, values -> List(0.3890909368341619, 0.6428571266381912, 0.32075471698113206, 0.4305555555555556))</td></tr><tr><td>Map(vectorType -> dense, length -> 4, values -> List(43.099998474121094, 19.200000762939453, 197.0, 3500.0))</td><td>Map(vectorType -> dense, length -> 4, values -> List(0.39999999999999997, 0.726190554582076, 0.3584905660377358, 0.2222222222222222))</td></tr><tr><td>Map(vectorType -> dense, length -> 4, values -> List(45.79999923706055, 18.899999618530273, 197.0, 4150.0))</td><td>Map(vectorType -> dense, length -> 4, values -> List(0.498181845925071, 0.6904761310067009, 0.3584905660377358, 0.4027777777777778))</td></tr><tr><td>Map(vectorType -> dense, length -> 4, values -> List(46.0, 21.5, 194.0, 4200.0))</td><td>Map(vectorType -> dense, length -> 4, values -> List(0.5054546009410511, 1.0, 0.3018867924528302, 0.4166666666666667))</td></tr></tbody></table></div>"
      ]
     },
     "metadata": {
      "application/vnd.databricks.v1+output": {
       "addedWidgets": {},
       "aggData": [],
       "aggError": "",
       "aggOverflow": false,
       "aggSchema": [],
       "aggSeriesLimitReached": false,
       "aggType": "",
       "arguments": {},
       "columnCustomDisplayInfos": {},
       "data": [
        [
         {
          "length": 4,
          "values": [
           34.5,
           18.100000381469727,
           187.0,
           2900.0
          ],
          "vectorType": "dense"
         },
         {
          "length": 4,
          "values": [
           0.08727278275923295,
           0.5952381222696814,
           0.16981132075471697,
           0.05555555555555555
          ],
          "vectorType": "dense"
         }
        ],
        [
         {
          "length": 4,
          "values": [
           35.0,
           17.899999618530273,
           190.0,
           3450.0
          ],
          "vectorType": "dense"
         },
         {
          "length": 4,
          "values": [
           0.10545460094105114,
           0.5714285065527647,
           0.22641509433962265,
           0.20833333333333334
          ],
          "vectorType": "dense"
         }
        ],
        [
         {
          "length": 4,
          "values": [
           35.29999923706055,
           18.899999618530273,
           187.0,
           3800.0
          ],
          "vectorType": "dense"
         },
         {
          "length": 4,
          "values": [
           0.1163636641068892,
           0.6904761310067009,
           0.16981132075471697,
           0.3055555555555556
          ],
          "vectorType": "dense"
         }
        ],
        [
         {
          "length": 4,
          "values": [
           35.5,
           16.200000762939453,
           195.0,
           3350.0
          ],
          "vectorType": "dense"
         },
         {
          "length": 4,
          "values": [
           0.12363641912286931,
           0.3690476812202672,
           0.32075471698113206,
           0.18055555555555555
          ],
          "vectorType": "dense"
         }
        ],
        [
         {
          "length": 4,
          "values": [
           35.70000076293945,
           16.899999618530273,
           185.0,
           3150.0
          ],
          "vectorType": "dense"
         },
         {
          "length": 4,
          "values": [
           0.13090917413884942,
           0.4523808820988284,
           0.1320754716981132,
           0.125
          ],
          "vectorType": "dense"
         }
        ],
        [
         {
          "length": 4,
          "values": [
           35.900001525878906,
           19.200000762939453,
           189.0,
           3800.0
          ],
          "vectorType": "dense"
         },
         {
          "length": 4,
          "values": [
           0.13818192915482955,
           0.726190554582076,
           0.20754716981132074,
           0.3055555555555556
          ],
          "vectorType": "dense"
         }
        ],
        [
         {
          "length": 4,
          "values": [
           36.400001525878906,
           17.100000381469727,
           184.0,
           2850.0
          ],
          "vectorType": "dense"
         },
         {
          "length": 4,
          "values": [
           0.1563637473366477,
           0.47619049781574513,
           0.11320754716981132,
           0.041666666666666664
          ],
          "vectorType": "dense"
         }
        ],
        [
         {
          "length": 4,
          "values": [
           37.599998474121094,
           17.0,
           185.0,
           3600.0
          ],
          "vectorType": "dense"
         },
         {
          "length": 4,
          "values": [
           0.19999999999999998,
           0.46428568995728675,
           0.1320754716981132,
           0.25
          ],
          "vectorType": "dense"
         }
        ],
        [
         {
          "length": 4,
          "values": [
           37.599998474121094,
           19.100000381469727,
           194.0,
           3750.0
          ],
          "vectorType": "dense"
         },
         {
          "length": 4,
          "values": [
           0.19999999999999998,
           0.7142857467236177,
           0.3018867924528302,
           0.2916666666666667
          ],
          "vectorType": "dense"
         }
        ],
        [
         {
          "length": 4,
          "values": [
           37.70000076293945,
           18.700000762939453,
           180.0,
           3600.0
          ],
          "vectorType": "dense"
         },
         {
          "length": 4,
          "values": [
           0.20363644686612214,
           0.6666667423551079,
           0.03773584905660377,
           0.25
          ],
          "vectorType": "dense"
         }
        ],
        [
         {
          "length": 4,
          "values": [
           37.900001525878906,
           18.600000381469727,
           193.0,
           2925.0
          ],
          "vectorType": "dense"
         },
         {
          "length": 4,
          "values": [
           0.21090920188210227,
           0.6547619344966495,
           0.2830188679245283,
           0.0625
          ],
          "vectorType": "dense"
         }
        ],
        [
         {
          "length": 4,
          "values": [
           38.099998474121094,
           16.5,
           198.0,
           3825.0
          ],
          "vectorType": "dense"
         },
         {
          "length": 4,
          "values": [
           0.21818181818181817,
           0.40476187773031863,
           0.3773584905660377,
           0.3125
          ],
          "vectorType": "dense"
         }
        ],
        [
         {
          "length": 4,
          "values": [
           38.099998474121094,
           17.0,
           181.0,
           3175.0
          ],
          "vectorType": "dense"
         },
         {
          "length": 4,
          "values": [
           0.21818181818181817,
           0.46428568995728675,
           0.05660377358490566,
           0.13194444444444445
          ],
          "vectorType": "dense"
         }
        ],
        [
         {
          "length": 4,
          "values": [
           38.20000076293945,
           18.100000381469727,
           185.0,
           3950.0
          ],
          "vectorType": "dense"
         },
         {
          "length": 4,
          "values": [
           0.22181826504794033,
           0.5952381222696814,
           0.1320754716981132,
           0.3472222222222222
          ],
          "vectorType": "dense"
         }
        ],
        [
         {
          "length": 4,
          "values": [
           38.20000076293945,
           20.0,
           190.0,
           3900.0
          ],
          "vectorType": "dense"
         },
         {
          "length": 4,
          "values": [
           0.22181826504794033,
           0.8214285633190956,
           0.22641509433962265,
           0.3333333333333333
          ],
          "vectorType": "dense"
         }
        ],
        [
         {
          "length": 4,
          "values": [
           38.599998474121094,
           17.200000762939453,
           199.0,
           3750.0
          ],
          "vectorType": "dense"
         },
         {
          "length": 4,
          "values": [
           0.23636363636363636,
           0.4880953056742035,
           0.3962264150943396,
           0.2916666666666667
          ],
          "vectorType": "dense"
         }
        ],
        [
         {
          "length": 4,
          "values": [
           38.79999923706055,
           17.200000762939453,
           180.0,
           3800.0
          ],
          "vectorType": "dense"
         },
         {
          "length": 4,
          "values": [
           0.24363639137961646,
           0.4880953056742035,
           0.03773584905660377,
           0.3055555555555556
          ],
          "vectorType": "dense"
         }
        ],
        [
         {
          "length": 4,
          "values": [
           39.0,
           17.5,
           186.0,
           3550.0
          ],
          "vectorType": "dense"
         },
         {
          "length": 4,
          "values": [
           0.2509091463955966,
           0.5238095021842549,
           0.1509433962264151,
           0.2361111111111111
          ],
          "vectorType": "dense"
         }
        ],
        [
         {
          "length": 4,
          "values": [
           39.599998474121094,
           17.700000762939453,
           186.0,
           3500.0
          ],
          "vectorType": "dense"
         },
         {
          "length": 4,
          "values": [
           0.2727272727272727,
           0.5476191179011717,
           0.1509433962264151,
           0.2222222222222222
          ],
          "vectorType": "dense"
         }
        ],
        [
         {
          "length": 4,
          "values": [
           39.599998474121094,
           20.700000762939453,
           191.0,
           3900.0
          ],
          "vectorType": "dense"
         },
         {
          "length": 4,
          "values": [
           0.2727272727272727,
           0.9047619912629805,
           0.24528301886792453,
           0.3333333333333333
          ],
          "vectorType": "dense"
         }
        ],
        [
         {
          "length": 4,
          "values": [
           39.70000076293945,
           17.700000762939453,
           193.0,
           3200.0
          ],
          "vectorType": "dense"
         },
         {
          "length": 4,
          "values": [
           0.2763637195933949,
           0.5476191179011717,
           0.2830188679245283,
           0.1388888888888889
          ],
          "vectorType": "dense"
         }
        ],
        [
         {
          "length": 4,
          "values": [
           40.099998474121094,
           18.899999618530273,
           188.0,
           4300.0
          ],
          "vectorType": "dense"
         },
         {
          "length": 4,
          "values": [
           0.2909090909090909,
           0.6904761310067009,
           0.18867924528301885,
           0.4444444444444444
          ],
          "vectorType": "dense"
         }
        ],
        [
         {
          "length": 4,
          "values": [
           40.5,
           17.899999618530273,
           187.0,
           3200.0
          ],
          "vectorType": "dense"
         },
         {
          "length": 4,
          "values": [
           0.30545460094105115,
           0.5714285065527647,
           0.16981132075471697,
           0.1388888888888889
          ],
          "vectorType": "dense"
         }
        ],
        [
         {
          "length": 4,
          "values": [
           40.5,
           18.899999618530273,
           180.0,
           3950.0
          ],
          "vectorType": "dense"
         },
         {
          "length": 4,
          "values": [
           0.30545460094105115,
           0.6904761310067009,
           0.03773584905660377,
           0.3472222222222222
          ],
          "vectorType": "dense"
         }
        ],
        [
         {
          "length": 4,
          "values": [
           40.599998474121094,
           18.799999237060547,
           193.0,
           3800.0
          ],
          "vectorType": "dense"
         },
         {
          "length": 4,
          "values": [
           0.3090909090909091,
           0.6785713231482425,
           0.2830188679245283,
           0.3055555555555556
          ],
          "vectorType": "dense"
         }
        ],
        [
         {
          "length": 4,
          "values": [
           40.900001525878906,
           13.699999809265137,
           214.0,
           4650.0
          ],
          "vectorType": "dense"
         },
         {
          "length": 4,
          "values": [
           0.32000011097301134,
           0.07142850655276464,
           0.6792452830188679,
           0.5416666666666666
          ],
          "vectorType": "dense"
         }
        ],
        [
         {
          "length": 4,
          "values": [
           41.0,
           20.0,
           203.0,
           4725.0
          ],
          "vectorType": "dense"
         },
         {
          "length": 4,
          "values": [
           0.3236364191228693,
           0.8214285633190956,
           0.4716981132075472,
           0.5625
          ],
          "vectorType": "dense"
         }
        ],
        [
         {
          "length": 4,
          "values": [
           41.099998474121094,
           18.200000762939453,
           192.0,
           4050.0
          ],
          "vectorType": "dense"
         },
         {
          "length": 4,
          "values": [
           0.32727272727272727,
           0.6071429301281398,
           0.2641509433962264,
           0.375
          ],
          "vectorType": "dense"
         }
        ],
        [
         {
          "length": 4,
          "values": [
           41.099998474121094,
           19.100000381469727,
           188.0,
           4100.0
          ],
          "vectorType": "dense"
         },
         {
          "length": 4,
          "values": [
           0.32727272727272727,
           0.7142857467236177,
           0.18867924528301885,
           0.3888888888888889
          ],
          "vectorType": "dense"
         }
        ],
        [
         {
          "length": 4,
          "values": [
           41.29999923706055,
           21.100000381469727,
           195.0,
           4400.0
          ],
          "vectorType": "dense"
         },
         {
          "length": 4,
          "values": [
           0.3345454822887074,
           0.9523809956314903,
           0.32075471698113206,
           0.4722222222222222
          ],
          "vectorType": "dense"
         }
        ],
        [
         {
          "length": 4,
          "values": [
           41.400001525878906,
           18.600000381469727,
           191.0,
           3700.0
          ],
          "vectorType": "dense"
         },
         {
          "length": 4,
          "values": [
           0.33818192915482953,
           0.6547619344966495,
           0.24528301886792453,
           0.2777777777777778
          ],
          "vectorType": "dense"
         }
        ],
        [
         {
          "length": 4,
          "values": [
           41.599998474121094,
           18.0,
           192.0,
           3950.0
          ],
          "vectorType": "dense"
         },
         {
          "length": 4,
          "values": [
           0.34545454545454546,
           0.583333314411223,
           0.2641509433962264,
           0.3472222222222222
          ],
          "vectorType": "dense"
         }
        ],
        [
         {
          "length": 4,
          "values": [
           41.70000076293945,
           14.699999809265137,
           210.0,
           4700.0
          ],
          "vectorType": "dense"
         },
         {
          "length": 4,
          "values": [
           0.3490909923206676,
           0.19047613100670094,
           0.6037735849056604,
           0.5555555555555556
          ],
          "vectorType": "dense"
         }
        ],
        [
         {
          "length": 4,
          "values": [
           42.0,
           13.5,
           210.0,
           4150.0
          ],
          "vectorType": "dense"
         },
         {
          "length": 4,
          "values": [
           0.36000005548650565,
           0.047619004368509764,
           0.6037735849056604,
           0.4027777777777778
          ],
          "vectorType": "dense"
         }
        ],
        [
         {
          "length": 4,
          "values": [
           42.0,
           19.5,
           200.0,
           4050.0
          ],
          "vectorType": "dense"
         },
         {
          "length": 4,
          "values": [
           0.36000005548650565,
           0.7619047510921274,
           0.4150943396226415,
           0.375
          ],
          "vectorType": "dense"
         }
        ],
        [
         {
          "length": 4,
          "values": [
           42.599998474121094,
           13.699999809265137,
           213.0,
           4950.0
          ],
          "vectorType": "dense"
         },
         {
          "length": 4,
          "values": [
           0.3818181818181818,
           0.07142850655276464,
           0.660377358490566,
           0.625
          ],
          "vectorType": "dense"
         }
        ],
        [
         {
          "length": 4,
          "values": [
           42.70000076293945,
           13.699999809265137,
           208.0,
           3950.0
          ],
          "vectorType": "dense"
         },
         {
          "length": 4,
          "values": [
           0.38545462868430397,
           0.07142850655276464,
           0.5660377358490566,
           0.3472222222222222
          ],
          "vectorType": "dense"
         }
        ],
        [
         {
          "length": 4,
          "values": [
           42.79999923706055,
           14.199999809265137,
           209.0,
           4700.0
          ],
          "vectorType": "dense"
         },
         {
          "length": 4,
          "values": [
           0.3890909368341619,
           0.1309523187797328,
           0.5849056603773585,
           0.5555555555555556
          ],
          "vectorType": "dense"
         }
        ],
        [
         {
          "length": 4,
          "values": [
           42.900001525878906,
           13.100000381469727,
           215.0,
           5000.0
          ],
          "vectorType": "dense"
         },
         {
          "length": 4,
          "values": [
           0.3927273837002841,
           0.0,
           0.6981132075471698,
           0.6388888888888888
          ],
          "vectorType": "dense"
         }
        ],
        [
         {
          "length": 4,
          "values": [
           43.20000076293945,
           14.5,
           208.0,
           4450.0
          ],
          "vectorType": "dense"
         },
         {
          "length": 4,
          "values": [
           0.40363644686612216,
           0.16666662882244604,
           0.5660377358490566,
           0.4861111111111111
          ],
          "vectorType": "dense"
         }
        ],
        [
         {
          "length": 4,
          "values": [
           43.20000076293945,
           19.0,
           197.0,
           4775.0
          ],
          "vectorType": "dense"
         },
         {
          "length": 4,
          "values": [
           0.40363644686612216,
           0.7023809388651593,
           0.3584905660377358,
           0.5763888888888888
          ],
          "vectorType": "dense"
         }
        ],
        [
         {
          "length": 4,
          "values": [
           43.29999923706055,
           14.0,
           208.0,
           4575.0
          ],
          "vectorType": "dense"
         },
         {
          "length": 4,
          "values": [
           0.4072727550159801,
           0.1071428165954779,
           0.5660377358490566,
           0.5208333333333334
          ],
          "vectorType": "dense"
         }
        ],
        [
         {
          "length": 4,
          "values": [
           43.5,
           15.199999809265137,
           213.0,
           4650.0
          ],
          "vectorType": "dense"
         },
         {
          "length": 4,
          "values": [
           0.4145455100319602,
           0.24999994323366906,
           0.660377358490566,
           0.5416666666666666
          ],
          "vectorType": "dense"
         }
        ],
        [
         {
          "length": 4,
          "values": [
           43.79999923706055,
           13.899999618530273,
           208.0,
           4300.0
          ],
          "vectorType": "dense"
         },
         {
          "length": 4,
          "values": [
           0.4254545731977983,
           0.09523800873701953,
           0.5660377358490566,
           0.4444444444444444
          ],
          "vectorType": "dense"
         }
        ],
        [
         {
          "length": 4,
          "values": [
           44.0,
           13.600000381469727,
           208.0,
           4350.0
          ],
          "vectorType": "dense"
         },
         {
          "length": 4,
          "values": [
           0.4327273282137784,
           0.05952381222696814,
           0.5660377358490566,
           0.4583333333333333
          ],
          "vectorType": "dense"
         }
        ],
        [
         {
          "length": 4,
          "values": [
           44.400001525878906,
           17.299999237060547,
           219.0,
           5250.0
          ],
          "vectorType": "dense"
         },
         {
          "length": 4,
          "values": [
           0.4472728382457386,
           0.4999998864673381,
           0.7735849056603773,
           0.7083333333333334
          ],
          "vectorType": "dense"
         }
        ],
        [
         {
          "length": 4,
          "values": [
           44.5,
           14.300000190734863,
           216.0,
           4100.0
          ],
          "vectorType": "dense"
         },
         {
          "length": 4,
          "values": [
           0.4509091463955966,
           0.14285712663819117,
           0.7169811320754716,
           0.3888888888888889
          ],
          "vectorType": "dense"
         }
        ],
        [
         {
          "length": 4,
          "values": [
           44.5,
           14.699999809265137,
           214.0,
           4850.0
          ],
          "vectorType": "dense"
         },
         {
          "length": 4,
          "values": [
           0.4509091463955966,
           0.19047613100670094,
           0.6792452830188679,
           0.5972222222222222
          ],
          "vectorType": "dense"
         }
        ],
        [
         {
          "length": 4,
          "values": [
           44.5,
           15.699999809265137,
           217.0,
           4875.0
          ],
          "vectorType": "dense"
         },
         {
          "length": 4,
          "values": [
           0.4509091463955966,
           0.3095237554606372,
           0.7358490566037735,
           0.6041666666666666
          ],
          "vectorType": "dense"
         }
        ],
        [
         {
          "length": 4,
          "values": [
           44.900001525878906,
           13.300000190734863,
           213.0,
           5100.0
          ],
          "vectorType": "dense"
         },
         {
          "length": 4,
          "values": [
           0.4654546564275568,
           0.023809502184254882,
           0.660377358490566,
           0.6666666666666666
          ],
          "vectorType": "dense"
         }
        ],
        [
         {
          "length": 4,
          "values": [
           45.099998474121094,
           14.5,
           207.0,
           5050.0
          ],
          "vectorType": "dense"
         },
         {
          "length": 4,
          "values": [
           0.4727272727272727,
           0.16666662882244604,
           0.5471698113207547,
           0.6527777777777778
          ],
          "vectorType": "dense"
         }
        ],
        [
         {
          "length": 4,
          "values": [
           45.099998474121094,
           14.5,
           215.0,
           5000.0
          ],
          "vectorType": "dense"
         },
         {
          "length": 4,
          "values": [
           0.4727272727272727,
           0.16666662882244604,
           0.6981132075471698,
           0.6388888888888888
          ],
          "vectorType": "dense"
         }
        ],
        [
         {
          "length": 4,
          "values": [
           45.20000076293945,
           13.800000190734863,
           215.0,
           4750.0
          ],
          "vectorType": "dense"
         },
         {
          "length": 4,
          "values": [
           0.47636371959339485,
           0.08333331441122302,
           0.6981132075471698,
           0.5694444444444444
          ],
          "vectorType": "dense"
         }
        ],
        [
         {
          "length": 4,
          "values": [
           45.20000076293945,
           14.800000190734863,
           212.0,
           5200.0
          ],
          "vectorType": "dense"
         },
         {
          "length": 4,
          "values": [
           0.47636371959339485,
           0.20238093886515932,
           0.6415094339622641,
           0.6944444444444444
          ],
          "vectorType": "dense"
         }
        ],
        [
         {
          "length": 4,
          "values": [
           45.20000076293945,
           15.800000190734863,
           215.0,
           5300.0
          ],
          "vectorType": "dense"
         },
         {
          "length": 4,
          "values": [
           0.47636371959339485,
           0.3214285633190956,
           0.6981132075471698,
           0.7222222222222222
          ],
          "vectorType": "dense"
         }
        ],
        [
         {
          "length": 4,
          "values": [
           45.29999923706055,
           13.699999809265137,
           210.0,
           4300.0
          ],
          "vectorType": "dense"
         },
         {
          "length": 4,
          "values": [
           0.48000002774325284,
           0.07142850655276464,
           0.6037735849056604,
           0.4444444444444444
          ],
          "vectorType": "dense"
         }
        ],
        [
         {
          "length": 4,
          "values": [
           45.5,
           14.5,
           212.0,
           4750.0
          ],
          "vectorType": "dense"
         },
         {
          "length": 4,
          "values": [
           0.4872727827592329,
           0.16666662882244604,
           0.6415094339622641,
           0.5694444444444444
          ],
          "vectorType": "dense"
         }
        ],
        [
         {
          "length": 4,
          "values": [
           45.5,
           15.0,
           220.0,
           5000.0
          ],
          "vectorType": "dense"
         },
         {
          "length": 4,
          "values": [
           0.4872727827592329,
           0.2261904410494142,
           0.7924528301886792,
           0.6388888888888888
          ],
          "vectorType": "dense"
         }
        ],
        [
         {
          "length": 4,
          "values": [
           45.599998474121094,
           20.299999237060547,
           191.0,
           4600.0
          ],
          "vectorType": "dense"
         },
         {
          "length": 4,
          "values": [
           0.4909090909090909,
           0.857142759829147,
           0.24528301886792453,
           0.5277777777777778
          ],
          "vectorType": "dense"
         }
        ],
        [
         {
          "length": 4,
          "values": [
           45.70000076293945,
           13.899999618530273,
           214.0,
           4400.0
          ],
          "vectorType": "dense"
         },
         {
          "length": 4,
          "values": [
           0.49454553777521304,
           0.09523800873701953,
           0.6792452830188679,
           0.4722222222222222
          ],
          "vectorType": "dense"
         }
        ],
        [
         {
          "length": 4,
          "values": [
           45.79999923706055,
           14.199999809265137,
           219.0,
           4700.0
          ],
          "vectorType": "dense"
         },
         {
          "length": 4,
          "values": [
           0.498181845925071,
           0.1309523187797328,
           0.7735849056603773,
           0.5555555555555556
          ],
          "vectorType": "dense"
         }
        ],
        [
         {
          "length": 4,
          "values": [
           45.79999923706055,
           14.600000381469727,
           210.0,
           4200.0
          ],
          "vectorType": "dense"
         },
         {
          "length": 4,
          "values": [
           0.498181845925071,
           0.17857143668090442,
           0.6037735849056604,
           0.4166666666666667
          ],
          "vectorType": "dense"
         }
        ],
        [
         {
          "length": 4,
          "values": [
           46.099998474121094,
           13.199999809265137,
           211.0,
           4500.0
          ],
          "vectorType": "dense"
         },
         {
          "length": 4,
          "values": [
           0.509090909090909,
           0.011904694325796506,
           0.6226415094339622,
           0.5
          ],
          "vectorType": "dense"
         }
        ],
        [
         {
          "length": 4,
          "values": [
           46.099998474121094,
           15.100000381469727,
           215.0,
           5100.0
          ],
          "vectorType": "dense"
         },
         {
          "length": 4,
          "values": [
           0.509090909090909,
           0.23809524890787256,
           0.6981132075471698,
           0.6666666666666666
          ],
          "vectorType": "dense"
         }
        ],
        [
         {
          "length": 4,
          "values": [
           46.20000076293945,
           14.100000381469727,
           217.0,
           4375.0
          ],
          "vectorType": "dense"
         },
         {
          "length": 4,
          "values": [
           0.5127273559570312,
           0.11904762445393628,
           0.7358490566037735,
           0.4652777777777778
          ],
          "vectorType": "dense"
         }
        ],
        [
         {
          "length": 4,
          "values": [
           46.20000076293945,
           14.399999618530273,
           214.0,
           4650.0
          ],
          "vectorType": "dense"
         },
         {
          "length": 4,
          "values": [
           0.5127273559570312,
           0.15476182096398766,
           0.6792452830188679,
           0.5416666666666666
          ],
          "vectorType": "dense"
         }
        ],
        [
         {
          "length": 4,
          "values": [
           46.20000076293945,
           14.5,
           209.0,
           4800.0
          ],
          "vectorType": "dense"
         },
         {
          "length": 4,
          "values": [
           0.5127273559570312,
           0.16666662882244604,
           0.5849056603773585,
           0.5833333333333334
          ],
          "vectorType": "dense"
         }
        ],
        [
         {
          "length": 4,
          "values": [
           46.20000076293945,
           14.899999618530273,
           221.0,
           5300.0
          ],
          "vectorType": "dense"
         },
         {
          "length": 4,
          "values": [
           0.5127273559570312,
           0.2142856331909558,
           0.8113207547169811,
           0.7222222222222222
          ],
          "vectorType": "dense"
         }
        ],
        [
         {
          "length": 4,
          "values": [
           46.29999923706055,
           15.800000190734863,
           215.0,
           5050.0
          ],
          "vectorType": "dense"
         },
         {
          "length": 4,
          "values": [
           0.5163636641068892,
           0.3214285633190956,
           0.6981132075471698,
           0.6527777777777778
          ],
          "vectorType": "dense"
         }
        ],
        [
         {
          "length": 4,
          "values": [
           46.400001525878906,
           15.0,
           216.0,
           4700.0
          ],
          "vectorType": "dense"
         },
         {
          "length": 4,
          "values": [
           0.5200001109730114,
           0.2261904410494142,
           0.7169811320754716,
           0.5555555555555556
          ],
          "vectorType": "dense"
         }
        ],
        [
         {
          "length": 4,
          "values": [
           46.400001525878906,
           15.600000381469727,
           221.0,
           5000.0
          ],
          "vectorType": "dense"
         },
         {
          "length": 4,
          "values": [
           0.5200001109730114,
           0.2976190611348407,
           0.8113207547169811,
           0.6388888888888888
          ],
          "vectorType": "dense"
         }
        ],
        [
         {
          "length": 4,
          "values": [
           46.5,
           13.5,
           210.0,
           4550.0
          ],
          "vectorType": "dense"
         },
         {
          "length": 4,
          "values": [
           0.5236364191228693,
           0.047619004368509764,
           0.6037735849056604,
           0.5138888888888888
          ],
          "vectorType": "dense"
         }
        ],
        [
         {
          "length": 4,
          "values": [
           46.5,
           14.399999618530273,
           217.0,
           4900.0
          ],
          "vectorType": "dense"
         },
         {
          "length": 4,
          "values": [
           0.5236364191228693,
           0.15476182096398766,
           0.7358490566037735,
           0.6111111111111112
          ],
          "vectorType": "dense"
         }
        ],
        [
         {
          "length": 4,
          "values": [
           46.5,
           14.5,
           213.0,
           4400.0
          ],
          "vectorType": "dense"
         },
         {
          "length": 4,
          "values": [
           0.5236364191228693,
           0.16666662882244604,
           0.660377358490566,
           0.4722222222222222
          ],
          "vectorType": "dense"
         }
        ],
        [
         {
          "length": 4,
          "values": [
           46.599998474121094,
           14.199999809265137,
           210.0,
           4850.0
          ],
          "vectorType": "dense"
         },
         {
          "length": 4,
          "values": [
           0.5272727272727272,
           0.1309523187797328,
           0.6037735849056604,
           0.5972222222222222
          ],
          "vectorType": "dense"
         }
        ],
        [
         {
          "length": 4,
          "values": [
           46.70000076293945,
           15.300000190734863,
           219.0,
           5200.0
          ],
          "vectorType": "dense"
         },
         {
          "length": 4,
          "values": [
           0.5309091741388494,
           0.26190475109212746,
           0.7735849056603773,
           0.6944444444444444
          ],
          "vectorType": "dense"
         }
        ],
        [
         {
          "length": 4,
          "values": [
           46.79999923706055,
           14.300000190734863,
           215.0,
           4850.0
          ],
          "vectorType": "dense"
         },
         {
          "length": 4,
          "values": [
           0.5345454822887074,
           0.14285712663819117,
           0.6981132075471698,
           0.5972222222222222
          ],
          "vectorType": "dense"
         }
        ],
        [
         {
          "length": 4,
          "values": [
           46.79999923706055,
           15.399999618530273,
           215.0,
           5150.0
          ],
          "vectorType": "dense"
         },
         {
          "length": 4,
          "values": [
           0.5345454822887074,
           0.27380944541792396,
           0.6981132075471698,
           0.6805555555555556
          ],
          "vectorType": "dense"
         }
        ],
        [
         {
          "length": 4,
          "values": [
           46.79999923706055,
           16.100000381469727,
           215.0,
           5500.0
          ],
          "vectorType": "dense"
         },
         {
          "length": 4,
          "values": [
           0.5345454822887074,
           0.35714287336180883,
           0.6981132075471698,
           0.7777777777777778
          ],
          "vectorType": "dense"
         }
        ],
        [
         {
          "length": 4,
          "values": [
           47.29999923706055,
           15.300000190734863,
           222.0,
           5250.0
          ],
          "vectorType": "dense"
         },
         {
          "length": 4,
          "values": [
           0.5527273004705255,
           0.26190475109212746,
           0.830188679245283,
           0.7083333333333334
          ],
          "vectorType": "dense"
         }
        ],
        [
         {
          "length": 4,
          "values": [
           47.400001525878906,
           14.600000381469727,
           212.0,
           4725.0
          ],
          "vectorType": "dense"
         },
         {
          "length": 4,
          "values": [
           0.5563637473366477,
           0.17857143668090442,
           0.6415094339622641,
           0.5625
          ],
          "vectorType": "dense"
         }
        ],
        [
         {
          "length": 4,
          "values": [
           47.5,
           14.0,
           212.0,
           4875.0
          ],
          "vectorType": "dense"
         },
         {
          "length": 4,
          "values": [
           0.5600000554865057,
           0.1071428165954779,
           0.6415094339622641,
           0.6041666666666666
          ],
          "vectorType": "dense"
         }
        ],
        [
         {
          "length": 4,
          "values": [
           47.5,
           14.199999809265137,
           209.0,
           4600.0
          ],
          "vectorType": "dense"
         },
         {
          "length": 4,
          "values": [
           0.5600000554865057,
           0.1309523187797328,
           0.5849056603773585,
           0.5277777777777778
          ],
          "vectorType": "dense"
         }
        ],
        [
         {
          "length": 4,
          "values": [
           47.5,
           15.0,
           218.0,
           4950.0
          ],
          "vectorType": "dense"
         },
         {
          "length": 4,
          "values": [
           0.5600000554865057,
           0.2261904410494142,
           0.7547169811320754,
           0.625
          ],
          "vectorType": "dense"
         }
        ],
        [
         {
          "length": 4,
          "values": [
           47.599998474121094,
           14.5,
           215.0,
           5400.0
          ],
          "vectorType": "dense"
         },
         {
          "length": 4,
          "values": [
           0.5636363636363636,
           0.16666662882244604,
           0.6981132075471698,
           0.75
          ],
          "vectorType": "dense"
         }
        ],
        [
         {
          "length": 4,
          "values": [
           47.70000076293945,
           15.0,
           216.0,
           4750.0
          ],
          "vectorType": "dense"
         },
         {
          "length": 4,
          "values": [
           0.5672728105024858,
           0.2261904410494142,
           0.7169811320754716,
           0.5694444444444444
          ],
          "vectorType": "dense"
         }
        ],
        [
         {
          "length": 4,
          "values": [
           47.79999923706055,
           15.0,
           215.0,
           5650.0
          ],
          "vectorType": "dense"
         },
         {
          "length": 4,
          "values": [
           0.5709091186523437,
           0.2261904410494142,
           0.6981132075471698,
           0.8194444444444444
          ],
          "vectorType": "dense"
         }
        ],
        [
         {
          "length": 4,
          "values": [
           48.099998474121094,
           15.100000381469727,
           209.0,
           5500.0
          ],
          "vectorType": "dense"
         },
         {
          "length": 4,
          "values": [
           0.5818181818181818,
           0.23809524890787256,
           0.5849056603773585,
           0.7777777777777778
          ],
          "vectorType": "dense"
         }
        ],
        [
         {
          "length": 4,
          "values": [
           48.20000076293945,
           14.300000190734863,
           210.0,
           4600.0
          ],
          "vectorType": "dense"
         },
         {
          "length": 4,
          "values": [
           0.585454628684304,
           0.14285712663819117,
           0.6037735849056604,
           0.5277777777777778
          ],
          "vectorType": "dense"
         }
        ],
        [
         {
          "length": 4,
          "values": [
           48.400001525878906,
           14.399999618530273,
           203.0,
           4625.0
          ],
          "vectorType": "dense"
         },
         {
          "length": 4,
          "values": [
           0.5927273837002841,
           0.15476182096398766,
           0.4716981132075472,
           0.5347222222222222
          ],
          "vectorType": "dense"
         }
        ],
        [
         {
          "length": 4,
          "values": [
           48.400001525878906,
           14.600000381469727,
           213.0,
           5850.0
          ],
          "vectorType": "dense"
         },
         {
          "length": 4,
          "values": [
           0.5927273837002841,
           0.17857143668090442,
           0.660377358490566,
           0.875
          ],
          "vectorType": "dense"
         }
        ],
        [
         {
          "length": 4,
          "values": [
           48.400001525878906,
           16.299999237060547,
           220.0,
           5400.0
          ],
          "vectorType": "dense"
         },
         {
          "length": 4,
          "values": [
           0.5927273837002841,
           0.3809522620134019,
           0.7924528301886792,
           0.75
          ],
          "vectorType": "dense"
         }
        ],
        [
         {
          "length": 4,
          "values": [
           48.5,
           14.100000381469727,
           220.0,
           5300.0
          ],
          "vectorType": "dense"
         },
         {
          "length": 4,
          "values": [
           0.596363691850142,
           0.11904762445393628,
           0.7924528301886792,
           0.7222222222222222
          ],
          "vectorType": "dense"
         }
        ],
        [
         {
          "length": 4,
          "values": [
           48.599998474121094,
           16.0,
           230.0,
           5800.0
          ],
          "vectorType": "dense"
         },
         {
          "length": 4,
          "values": [
           0.6,
           0.34523806550335046,
           0.9811320754716981,
           0.8611111111111112
          ],
          "vectorType": "dense"
         }
        ],
        [
         {
          "length": 4,
          "values": [
           48.70000076293945,
           14.100000381469727,
           210.0,
           4450.0
          ],
          "vectorType": "dense"
         },
         {
          "length": 4,
          "values": [
           0.6036364468661222,
           0.11904762445393628,
           0.6037735849056604,
           0.4861111111111111
          ],
          "vectorType": "dense"
         }
        ],
        [
         {
          "length": 4,
          "values": [
           48.79999923706055,
           16.200000762939453,
           222.0,
           6000.0
          ],
          "vectorType": "dense"
         },
         {
          "length": 4,
          "values": [
           0.6072727550159801,
           0.3690476812202672,
           0.830188679245283,
           0.9166666666666666
          ],
          "vectorType": "dense"
         }
        ],
        [
         {
          "length": 4,
          "values": [
           49.099998474121094,
           14.5,
           212.0,
           4625.0
          ],
          "vectorType": "dense"
         },
         {
          "length": 4,
          "values": [
           0.6181818181818182,
           0.16666662882244604,
           0.6415094339622641,
           0.5347222222222222
          ],
          "vectorType": "dense"
         }
        ],
        [
         {
          "length": 4,
          "values": [
           49.099998474121094,
           14.800000190734863,
           220.0,
           5150.0
          ],
          "vectorType": "dense"
         },
         {
          "length": 4,
          "values": [
           0.6181818181818182,
           0.20238093886515932,
           0.7924528301886792,
           0.6805555555555556
          ],
          "vectorType": "dense"
         }
        ],
        [
         {
          "length": 4,
          "values": [
           49.20000076293945,
           15.199999809265137,
           221.0,
           6300.0
          ],
          "vectorType": "dense"
         },
         {
          "length": 4,
          "values": [
           0.6218182650479404,
           0.24999994323366906,
           0.8113207547169811,
           1.0
          ],
          "vectorType": "dense"
         }
        ],
        [
         {
          "length": 4,
          "values": [
           49.29999923706055,
           15.699999809265137,
           217.0,
           5850.0
          ],
          "vectorType": "dense"
         },
         {
          "length": 4,
          "values": [
           0.6254545731977983,
           0.3095237554606372,
           0.7358490566037735,
           0.875
          ],
          "vectorType": "dense"
         }
        ],
        [
         {
          "length": 4,
          "values": [
           49.400001525878906,
           15.800000190734863,
           216.0,
           4925.0
          ],
          "vectorType": "dense"
         },
         {
          "length": 4,
          "values": [
           0.6290910200639204,
           0.3214285633190956,
           0.7169811320754716,
           0.6180555555555556
          ],
          "vectorType": "dense"
         }
        ],
        [
         {
          "length": 4,
          "values": [
           49.5,
           16.100000381469727,
           224.0,
           5650.0
          ],
          "vectorType": "dense"
         },
         {
          "length": 4,
          "values": [
           0.6327273282137784,
           0.35714287336180883,
           0.8679245283018867,
           0.8194444444444444
          ],
          "vectorType": "dense"
         }
        ],
        [
         {
          "length": 4,
          "values": [
           49.599998474121094,
           15.0,
           216.0,
           4750.0
          ],
          "vectorType": "dense"
         },
         {
          "length": 4,
          "values": [
           0.6363636363636364,
           0.2261904410494142,
           0.7169811320754716,
           0.5694444444444444
          ],
          "vectorType": "dense"
         }
        ],
        [
         {
          "length": 4,
          "values": [
           49.79999923706055,
           15.899999618530273,
           229.0,
           5950.0
          ],
          "vectorType": "dense"
         },
         {
          "length": 4,
          "values": [
           0.6436363913796165,
           0.3333332576448921,
           0.9622641509433962,
           0.9027777777777778
          ],
          "vectorType": "dense"
         }
        ],
        [
         {
          "length": 4,
          "values": [
           49.79999923706055,
           16.799999237060547,
           230.0,
           5700.0
          ],
          "vectorType": "dense"
         },
         {
          "length": 4,
          "values": [
           0.6436363913796165,
           0.44047607424037,
           0.9811320754716981,
           0.8333333333333334
          ],
          "vectorType": "dense"
         }
        ],
        [
         {
          "length": 4,
          "values": [
           49.900001525878906,
           16.100000381469727,
           213.0,
           5400.0
          ],
          "vectorType": "dense"
         },
         {
          "length": 4,
          "values": [
           0.6472728382457386,
           0.35714287336180883,
           0.660377358490566,
           0.75
          ],
          "vectorType": "dense"
         }
        ],
        [
         {
          "length": 4,
          "values": [
           50.0,
           15.199999809265137,
           218.0,
           5700.0
          ],
          "vectorType": "dense"
         },
         {
          "length": 4,
          "values": [
           0.6509091463955966,
           0.24999994323366906,
           0.7547169811320754,
           0.8333333333333334
          ],
          "vectorType": "dense"
         }
        ],
        [
         {
          "length": 4,
          "values": [
           50.0,
           15.300000190734863,
           220.0,
           5550.0
          ],
          "vectorType": "dense"
         },
         {
          "length": 4,
          "values": [
           0.6509091463955966,
           0.26190475109212746,
           0.7924528301886792,
           0.7916666666666666
          ],
          "vectorType": "dense"
         }
        ],
        [
         {
          "length": 4,
          "values": [
           50.0,
           15.899999618530273,
           224.0,
           5350.0
          ],
          "vectorType": "dense"
         },
         {
          "length": 4,
          "values": [
           0.6509091463955966,
           0.3333332576448921,
           0.8679245283018867,
           0.7361111111111112
          ],
          "vectorType": "dense"
         }
        ],
        [
         {
          "length": 4,
          "values": [
           50.0,
           16.299999237060547,
           230.0,
           5700.0
          ],
          "vectorType": "dense"
         },
         {
          "length": 4,
          "values": [
           0.6509091463955966,
           0.3809522620134019,
           0.9811320754716981,
           0.8333333333333334
          ],
          "vectorType": "dense"
         }
        ],
        [
         {
          "length": 4,
          "values": [
           50.099998474121094,
           15.0,
           225.0,
           5000.0
          ],
          "vectorType": "dense"
         },
         {
          "length": 4,
          "values": [
           0.6545454545454545,
           0.2261904410494142,
           0.8867924528301886,
           0.6388888888888888
          ],
          "vectorType": "dense"
         }
        ],
        [
         {
          "length": 4,
          "values": [
           50.20000076293945,
           14.300000190734863,
           218.0,
           5700.0
          ],
          "vectorType": "dense"
         },
         {
          "length": 4,
          "values": [
           0.6581819014115766,
           0.14285712663819117,
           0.7547169811320754,
           0.8333333333333334
          ],
          "vectorType": "dense"
         }
        ],
        [
         {
          "length": 4,
          "values": [
           50.400001525878906,
           15.300000190734863,
           224.0,
           5550.0
          ],
          "vectorType": "dense"
         },
         {
          "length": 4,
          "values": [
           0.6654546564275567,
           0.26190475109212746,
           0.8679245283018867,
           0.7916666666666666
          ],
          "vectorType": "dense"
         }
        ],
        [
         {
          "length": 4,
          "values": [
           50.5,
           15.199999809265137,
           216.0,
           5000.0
          ],
          "vectorType": "dense"
         },
         {
          "length": 4,
          "values": [
           0.6690909645774148,
           0.24999994323366906,
           0.7169811320754716,
           0.6388888888888888
          ],
          "vectorType": "dense"
         }
        ],
        [
         {
          "length": 4,
          "values": [
           50.5,
           15.899999618530273,
           222.0,
           5550.0
          ],
          "vectorType": "dense"
         },
         {
          "length": 4,
          "values": [
           0.6690909645774148,
           0.3333332576448921,
           0.830188679245283,
           0.7916666666666666
          ],
          "vectorType": "dense"
         }
        ],
        [
         {
          "length": 4,
          "values": [
           50.70000076293945,
           15.0,
           223.0,
           5550.0
          ],
          "vectorType": "dense"
         },
         {
          "length": 4,
          "values": [
           0.6763637195933948,
           0.2261904410494142,
           0.8490566037735848,
           0.7916666666666666
          ],
          "vectorType": "dense"
         }
        ],
        [
         {
          "length": 4,
          "values": [
           50.79999923706055,
           15.699999809265137,
           226.0,
           5200.0
          ],
          "vectorType": "dense"
         },
         {
          "length": 4,
          "values": [
           0.6800000277432529,
           0.3095237554606372,
           0.9056603773584906,
           0.6944444444444444
          ],
          "vectorType": "dense"
         }
        ],
        [
         {
          "length": 4,
          "values": [
           50.79999923706055,
           17.299999237060547,
           228.0,
           5600.0
          ],
          "vectorType": "dense"
         },
         {
          "length": 4,
          "values": [
           0.6800000277432529,
           0.4999998864673381,
           0.9433962264150944,
           0.8055555555555556
          ],
          "vectorType": "dense"
         }
        ],
        [
         {
          "length": 4,
          "values": [
           51.099998474121094,
           16.299999237060547,
           220.0,
           6000.0
          ],
          "vectorType": "dense"
         },
         {
          "length": 4,
          "values": [
           0.6909090909090909,
           0.3809522620134019,
           0.7924528301886792,
           0.9166666666666666
          ],
          "vectorType": "dense"
         }
        ],
        [
         {
          "length": 4,
          "values": [
           51.099998474121094,
           16.5,
           225.0,
           5250.0
          ],
          "vectorType": "dense"
         },
         {
          "length": 4,
          "values": [
           0.6909090909090909,
           0.40476187773031863,
           0.8867924528301886,
           0.7083333333333334
          ],
          "vectorType": "dense"
         }
        ],
        [
         {
          "length": 4,
          "values": [
           51.29999923706055,
           14.199999809265137,
           218.0,
           5300.0
          ],
          "vectorType": "dense"
         },
         {
          "length": 4,
          "values": [
           0.698181845925071,
           0.1309523187797328,
           0.7547169811320754,
           0.7222222222222222
          ],
          "vectorType": "dense"
         }
        ],
        [
         {
          "length": 4,
          "values": [
           51.5,
           16.299999237060547,
           230.0,
           5500.0
          ],
          "vectorType": "dense"
         },
         {
          "length": 4,
          "values": [
           0.7054546009410511,
           0.3809522620134019,
           0.9811320754716981,
           0.7777777777777778
          ],
          "vectorType": "dense"
         }
        ],
        [
         {
          "length": 4,
          "values": [
           52.099998474121094,
           17.0,
           230.0,
           5550.0
          ],
          "vectorType": "dense"
         },
         {
          "length": 4,
          "values": [
           0.7272727272727273,
           0.46428568995728675,
           0.9811320754716981,
           0.7916666666666666
          ],
          "vectorType": "dense"
         }
        ],
        [
         {
          "length": 4,
          "values": [
           52.20000076293945,
           17.100000381469727,
           228.0,
           5400.0
          ],
          "vectorType": "dense"
         },
         {
          "length": 4,
          "values": [
           0.7309091741388494,
           0.47619049781574513,
           0.9433962264150944,
           0.75
          ],
          "vectorType": "dense"
         }
        ],
        [
         {
          "length": 4,
          "values": [
           52.5,
           15.600000381469727,
           221.0,
           5450.0
          ],
          "vectorType": "dense"
         },
         {
          "length": 4,
          "values": [
           0.7418182373046874,
           0.2976190611348407,
           0.8113207547169811,
           0.7638888888888888
          ],
          "vectorType": "dense"
         }
        ],
        [
         {
          "length": 4,
          "values": [
           53.400001525878906,
           15.800000190734863,
           219.0,
           5500.0
          ],
          "vectorType": "dense"
         },
         {
          "length": 4,
          "values": [
           0.7745455655184659,
           0.3214285633190956,
           0.7735849056603773,
           0.7777777777777778
          ],
          "vectorType": "dense"
         }
        ],
        [
         {
          "length": 4,
          "values": [
           54.29999923706055,
           15.699999809265137,
           231.0,
           5650.0
          ],
          "vectorType": "dense"
         },
         {
          "length": 4,
          "values": [
           0.8072727550159801,
           0.3095237554606372,
           1.0,
           0.8194444444444444
          ],
          "vectorType": "dense"
         }
        ],
        [
         {
          "length": 4,
          "values": [
           59.599998474121094,
           17.0,
           230.0,
           6050.0
          ],
          "vectorType": "dense"
         },
         {
          "length": 4,
          "values": [
           1.0,
           0.46428568995728675,
           0.9811320754716981,
           0.9305555555555556
          ],
          "vectorType": "dense"
         }
        ],
        [
         {
          "length": 4,
          "values": [
           32.099998474121094,
           15.5,
           188.0,
           3050.0
          ],
          "vectorType": "dense"
         },
         {
          "length": 4,
          "values": [
           0.0,
           0.28571425327638234,
           0.18867924528301885,
           0.09722222222222222
          ],
          "vectorType": "dense"
         }
        ],
        [
         {
          "length": 4,
          "values": [
           34.0,
           17.100000381469727,
           185.0,
           3400.0
          ],
          "vectorType": "dense"
         },
         {
          "length": 4,
          "values": [
           0.06909096457741477,
           0.47619049781574513,
           0.1320754716981132,
           0.19444444444444445
          ],
          "vectorType": "dense"
         }
        ],
        [
         {
          "length": 4,
          "values": [
           35.599998474121094,
           17.5,
           191.0,
           3175.0
          ],
          "vectorType": "dense"
         },
         {
          "length": 4,
          "values": [
           0.12727272727272726,
           0.5238095021842549,
           0.24528301886792453,
           0.13194444444444445
          ],
          "vectorType": "dense"
         }
        ],
        [
         {
          "length": 4,
          "values": [
           36.0,
           17.100000381469727,
           187.0,
           3700.0
          ],
          "vectorType": "dense"
         },
         {
          "length": 4,
          "values": [
           0.14181823730468748,
           0.47619049781574513,
           0.16981132075471697,
           0.2777777777777778
          ],
          "vectorType": "dense"
         }
        ],
        [
         {
          "length": 4,
          "values": [
           36.0,
           17.799999237060547,
           195.0,
           3450.0
          ],
          "vectorType": "dense"
         },
         {
          "length": 4,
          "values": [
           0.14181823730468748,
           0.5595236986943063,
           0.32075471698113206,
           0.20833333333333334
          ],
          "vectorType": "dense"
         }
        ],
        [
         {
          "length": 4,
          "values": [
           36.0,
           17.899999618530273,
           190.0,
           3450.0
          ],
          "vectorType": "dense"
         },
         {
          "length": 4,
          "values": [
           0.14181823730468748,
           0.5714285065527647,
           0.22641509433962265,
           0.20833333333333334
          ],
          "vectorType": "dense"
         }
        ],
        [
         {
          "length": 4,
          "values": [
           36.0,
           18.5,
           186.0,
           3100.0
          ],
          "vectorType": "dense"
         },
         {
          "length": 4,
          "values": [
           0.14181823730468748,
           0.6428571266381912,
           0.1509433962264151,
           0.1111111111111111
          ],
          "vectorType": "dense"
         }
        ],
        [
         {
          "length": 4,
          "values": [
           36.400001525878906,
           17.0,
           195.0,
           3325.0
          ],
          "vectorType": "dense"
         },
         {
          "length": 4,
          "values": [
           0.1563637473366477,
           0.46428568995728675,
           0.32075471698113206,
           0.1736111111111111
          ],
          "vectorType": "dense"
         }
        ],
        [
         {
          "length": 4,
          "values": [
           36.5,
           18.0,
           182.0,
           3150.0
          ],
          "vectorType": "dense"
         },
         {
          "length": 4,
          "values": [
           0.16000005548650567,
           0.583333314411223,
           0.07547169811320754,
           0.125
          ],
          "vectorType": "dense"
         }
        ],
        [
         {
          "length": 4,
          "values": [
           36.900001525878906,
           18.600000381469727,
           189.0,
           3500.0
          ],
          "vectorType": "dense"
         },
         {
          "length": 4,
          "values": [
           0.1745455655184659,
           0.6547619344966495,
           0.20754716981132074,
           0.2222222222222222
          ],
          "vectorType": "dense"
         }
        ],
        [
         {
          "length": 4,
          "values": [
           37.0,
           16.899999618530273,
           185.0,
           3000.0
          ],
          "vectorType": "dense"
         },
         {
          "length": 4,
          "values": [
           0.17818187366832386,
           0.4523808820988284,
           0.1320754716981132,
           0.08333333333333333
          ],
          "vectorType": "dense"
         }
        ],
        [
         {
          "length": 4,
          "values": [
           37.29999923706055,
           16.799999237060547,
           192.0,
           3000.0
          ],
          "vectorType": "dense"
         },
         {
          "length": 4,
          "values": [
           0.18909093683416192,
           0.44047607424037,
           0.2641509433962264,
           0.08333333333333333
          ],
          "vectorType": "dense"
         }
        ],
        [
         {
          "length": 4,
          "values": [
           37.29999923706055,
           17.799999237060547,
           191.0,
           3350.0
          ],
          "vectorType": "dense"
         },
         {
          "length": 4,
          "values": [
           0.18909093683416192,
           0.5595236986943063,
           0.24528301886792453,
           0.18055555555555555
          ],
          "vectorType": "dense"
         }
        ],
        [
         {
          "length": 4,
          "values": [
           37.5,
           18.899999618530273,
           179.0,
           2975.0
          ],
          "vectorType": "dense"
         },
         {
          "length": 4,
          "values": [
           0.19636369185014205,
           0.6904761310067009,
           0.018867924528301886,
           0.0763888888888889
          ],
          "vectorType": "dense"
         }
        ],
        [
         {
          "length": 4,
          "values": [
           37.599998474121094,
           19.299999237060547,
           181.0,
           3300.0
          ],
          "vectorType": "dense"
         },
         {
          "length": 4,
          "values": [
           0.19999999999999998,
           0.7380951353752107,
           0.05660377358490566,
           0.16666666666666666
          ],
          "vectorType": "dense"
         }
        ],
        [
         {
          "length": 4,
          "values": [
           38.099998474121094,
           17.600000381469727,
           187.0,
           3425.0
          ],
          "vectorType": "dense"
         },
         {
          "length": 4,
          "values": [
           0.21818181818181817,
           0.5357143100427133,
           0.16981132075471697,
           0.2013888888888889
          ],
          "vectorType": "dense"
         }
        ],
        [
         {
          "length": 4,
          "values": [
           38.099998474121094,
           18.600000381469727,
           190.0,
           3700.0
          ],
          "vectorType": "dense"
         },
         {
          "length": 4,
          "values": [
           0.21818181818181817,
           0.6547619344966495,
           0.22641509433962265,
           0.2777777777777778
          ],
          "vectorType": "dense"
         }
        ],
        [
         {
          "length": 4,
          "values": [
           38.79999923706055,
           20.0,
           190.0,
           3950.0
          ],
          "vectorType": "dense"
         },
         {
          "length": 4,
          "values": [
           0.24363639137961646,
           0.8214285633190956,
           0.22641509433962265,
           0.3472222222222222
          ],
          "vectorType": "dense"
         }
        ],
        [
         {
          "length": 4,
          "values": [
           38.900001525878906,
           18.799999237060547,
           190.0,
           3600.0
          ],
          "vectorType": "dense"
         },
         {
          "length": 4,
          "values": [
           0.24727283824573862,
           0.6785713231482425,
           0.22641509433962265,
           0.25
          ],
          "vectorType": "dense"
         }
        ],
        [
         {
          "length": 4,
          "values": [
           39.0,
           18.700000762939453,
           185.0,
           3650.0
          ],
          "vectorType": "dense"
         },
         {
          "length": 4,
          "values": [
           0.2509091463955966,
           0.6666667423551079,
           0.1320754716981132,
           0.2638888888888889
          ],
          "vectorType": "dense"
         }
        ],
        [
         {
          "length": 4,
          "values": [
           39.5,
           16.700000762939453,
           178.0,
           3250.0
          ],
          "vectorType": "dense"
         },
         {
          "length": 4,
          "values": [
           0.26909096457741477,
           0.4285714934472354,
           0.0,
           0.1527777777777778
          ],
          "vectorType": "dense"
         }
        ],
        [
         {
          "length": 4,
          "values": [
           39.5,
           17.799999237060547,
           188.0,
           3300.0
          ],
          "vectorType": "dense"
         },
         {
          "length": 4,
          "values": [
           0.26909096457741477,
           0.5595236986943063,
           0.18867924528301885,
           0.16666666666666666
          ],
          "vectorType": "dense"
         }
        ],
        [
         {
          "length": 4,
          "values": [
           39.599998474121094,
           18.100000381469727,
           186.0,
           4450.0
          ],
          "vectorType": "dense"
         },
         {
          "length": 4,
          "values": [
           0.2727272727272727,
           0.5952381222696814,
           0.1509433962264151,
           0.4861111111111111
          ],
          "vectorType": "dense"
         }
        ],
        [
         {
          "length": 4,
          "values": [
           39.599998474121094,
           18.799999237060547,
           190.0,
           4600.0
          ],
          "vectorType": "dense"
         },
         {
          "length": 4,
          "values": [
           0.2727272727272727,
           0.6785713231482425,
           0.22641509433962265,
           0.5277777777777778
          ],
          "vectorType": "dense"
         }
        ],
        [
         {
          "length": 4,
          "values": [
           39.70000076293945,
           17.899999618530273,
           193.0,
           4250.0
          ],
          "vectorType": "dense"
         },
         {
          "length": 4,
          "values": [
           0.2763637195933949,
           0.5714285065527647,
           0.2830188679245283,
           0.4305555555555556
          ],
          "vectorType": "dense"
         }
        ],
        [
         {
          "length": 4,
          "values": [
           39.79999923706055,
           19.100000381469727,
           184.0,
           4650.0
          ],
          "vectorType": "dense"
         },
         {
          "length": 4,
          "values": [
           0.28000002774325283,
           0.7142857467236177,
           0.11320754716981132,
           0.5416666666666666
          ],
          "vectorType": "dense"
         }
        ],
        [
         {
          "length": 4,
          "values": [
           40.29999923706055,
           18.5,
           196.0,
           4350.0
          ],
          "vectorType": "dense"
         },
         {
          "length": 4,
          "values": [
           0.298181845925071,
           0.6428571266381912,
           0.33962264150943394,
           0.4583333333333333
          ],
          "vectorType": "dense"
         }
        ],
        [
         {
          "length": 4,
          "values": [
           40.70000076293945,
           17.0,
           190.0,
           3725.0
          ],
          "vectorType": "dense"
         },
         {
          "length": 4,
          "values": [
           0.3127273559570312,
           0.46428568995728675,
           0.22641509433962265,
           0.2847222222222222
          ],
          "vectorType": "dense"
         }
        ],
        [
         {
          "length": 4,
          "values": [
           40.79999923706055,
           18.399999618530273,
           195.0,
           3900.0
          ],
          "vectorType": "dense"
         },
         {
          "length": 4,
          "values": [
           0.3163636641068892,
           0.6309523187797328,
           0.32075471698113206,
           0.3333333333333333
          ],
          "vectorType": "dense"
         }
        ],
        [
         {
          "length": 4,
          "values": [
           40.79999923706055,
           18.899999618530273,
           208.0,
           4300.0
          ],
          "vectorType": "dense"
         },
         {
          "length": 4,
          "values": [
           0.3163636641068892,
           0.6904761310067009,
           0.5660377358490566,
           0.4444444444444444
          ],
          "vectorType": "dense"
         }
        ],
        [
         {
          "length": 4,
          "values": [
           40.900001525878906,
           18.899999618530273,
           184.0,
           3900.0
          ],
          "vectorType": "dense"
         },
         {
          "length": 4,
          "values": [
           0.32000011097301134,
           0.6904761310067009,
           0.11320754716981132,
           0.3333333333333333
          ],
          "vectorType": "dense"
         }
        ],
        [
         {
          "length": 4,
          "values": [
           41.099998474121094,
           17.5,
           190.0,
           3900.0
          ],
          "vectorType": "dense"
         },
         {
          "length": 4,
          "values": [
           0.32727272727272727,
           0.5238095021842549,
           0.22641509433962265,
           0.3333333333333333
          ],
          "vectorType": "dense"
         }
        ],
        [
         {
          "length": 4,
          "values": [
           41.099998474121094,
           18.100000381469727,
           205.0,
           4300.0
          ],
          "vectorType": "dense"
         },
         {
          "length": 4,
          "values": [
           0.32727272727272727,
           0.5952381222696814,
           0.5094339622641509,
           0.4444444444444444
          ],
          "vectorType": "dense"
         }
        ],
        [
         {
          "length": 4,
          "values": [
           41.099998474121094,
           19.0,
           182.0,
           3425.0
          ],
          "vectorType": "dense"
         },
         {
          "length": 4,
          "values": [
           0.32727272727272727,
           0.7023809388651593,
           0.07547169811320754,
           0.2013888888888889
          ],
          "vectorType": "dense"
         }
        ],
        [
         {
          "length": 4,
          "values": [
           41.29999923706055,
           20.299999237060547,
           194.0,
           3550.0
          ],
          "vectorType": "dense"
         },
         {
          "length": 4,
          "values": [
           0.3345454822887074,
           0.857142759829147,
           0.3018867924528302,
           0.2361111111111111
          ],
          "vectorType": "dense"
         }
        ],
        [
         {
          "length": 4,
          "values": [
           42.20000076293945,
           18.5,
           180.0,
           3550.0
          ],
          "vectorType": "dense"
         },
         {
          "length": 4,
          "values": [
           0.3672728105024858,
           0.6428571266381912,
           0.03773584905660377,
           0.2361111111111111
          ],
          "vectorType": "dense"
         }
        ],
        [
         {
          "length": 4,
          "values": [
           42.400001525878906,
           17.299999237060547,
           181.0,
           3600.0
          ],
          "vectorType": "dense"
         },
         {
          "length": 4,
          "values": [
           0.3745455655184659,
           0.4999998864673381,
           0.05660377358490566,
           0.25
          ],
          "vectorType": "dense"
         }
        ],
        [
         {
          "length": 4,
          "values": [
           42.5,
           16.700000762939453,
           187.0,
           3350.0
          ],
          "vectorType": "dense"
         },
         {
          "length": 4,
          "values": [
           0.37818187366832384,
           0.4285714934472354,
           0.16981132075471697,
           0.18055555555555555
          ],
          "vectorType": "dense"
         }
        ],
        [
         {
          "length": 4,
          "values": [
           42.5,
           17.299999237060547,
           187.0,
           3350.0
          ],
          "vectorType": "dense"
         },
         {
          "length": 4,
          "values": [
           0.37818187366832384,
           0.4999998864673381,
           0.16981132075471697,
           0.18055555555555555
          ],
          "vectorType": "dense"
         }
        ],
        [
         {
          "length": 4,
          "values": [
           43.20000076293945,
           18.5,
           192.0,
           4100.0
          ],
          "vectorType": "dense"
         },
         {
          "length": 4,
          "values": [
           0.40363644686612216,
           0.6428571266381912,
           0.2641509433962264,
           0.3888888888888889
          ],
          "vectorType": "dense"
         }
        ],
        [
         {
          "length": 4,
          "values": [
           44.099998474121094,
           19.700000762939453,
           196.0,
           4400.0
          ],
          "vectorType": "dense"
         },
         {
          "length": 4,
          "values": [
           0.43636363636363634,
           0.7857143668090442,
           0.33962264150943394,
           0.4722222222222222
          ],
          "vectorType": "dense"
         }
        ],
        [
         {
          "length": 4,
          "values": [
           45.20000076293945,
           16.600000381469727,
           191.0,
           3250.0
          ],
          "vectorType": "dense"
         },
         {
          "length": 4,
          "values": [
           0.47636371959339485,
           0.416666685588777,
           0.24528301886792453,
           0.1527777777777778
          ],
          "vectorType": "dense"
         }
        ],
        [
         {
          "length": 4,
          "values": [
           45.20000076293945,
           17.799999237060547,
           198.0,
           3950.0
          ],
          "vectorType": "dense"
         },
         {
          "length": 4,
          "values": [
           0.47636371959339485,
           0.5595236986943063,
           0.3773584905660377,
           0.3472222222222222
          ],
          "vectorType": "dense"
         }
        ],
        [
         {
          "length": 4,
          "values": [
           45.400001525878906,
           18.700000762939453,
           188.0,
           3525.0
          ],
          "vectorType": "dense"
         },
         {
          "length": 4,
          "values": [
           0.483636474609375,
           0.6666667423551079,
           0.18867924528301885,
           0.22916666666666666
          ],
          "vectorType": "dense"
         }
        ],
        [
         {
          "length": 4,
          "values": [
           45.5,
           17.0,
           196.0,
           3500.0
          ],
          "vectorType": "dense"
         },
         {
          "length": 4,
          "values": [
           0.4872727827592329,
           0.46428568995728675,
           0.33962264150943394,
           0.2222222222222222
          ],
          "vectorType": "dense"
         }
        ],
        [
         {
          "length": 4,
          "values": [
           45.599998474121094,
           19.399999618530273,
           194.0,
           3525.0
          ],
          "vectorType": "dense"
         },
         {
          "length": 4,
          "values": [
           0.4909090909090909,
           0.749999943233669,
           0.3018867924528302,
           0.22916666666666666
          ],
          "vectorType": "dense"
         }
        ],
        [
         {
          "length": 4,
          "values": [
           45.70000076293945,
           17.0,
           195.0,
           3650.0
          ],
          "vectorType": "dense"
         },
         {
          "length": 4,
          "values": [
           0.49454553777521304,
           0.46428568995728675,
           0.32075471698113206,
           0.2638888888888889
          ],
          "vectorType": "dense"
         }
        ],
        [
         {
          "length": 4,
          "values": [
           45.70000076293945,
           17.299999237060547,
           193.0,
           3600.0
          ],
          "vectorType": "dense"
         },
         {
          "length": 4,
          "values": [
           0.49454553777521304,
           0.4999998864673381,
           0.2830188679245283,
           0.25
          ],
          "vectorType": "dense"
         }
        ],
        [
         {
          "length": 4,
          "values": [
           45.900001525878906,
           17.100000381469727,
           190.0,
           3575.0
          ],
          "vectorType": "dense"
         },
         {
          "length": 4,
          "values": [
           0.5018182927911932,
           0.47619049781574513,
           0.22641509433962265,
           0.24305555555555555
          ],
          "vectorType": "dense"
         }
        ],
        [
         {
          "length": 4,
          "values": [
           46.0,
           18.899999618530273,
           195.0,
           4150.0
          ],
          "vectorType": "dense"
         },
         {
          "length": 4,
          "values": [
           0.5054546009410511,
           0.6904761310067009,
           0.32075471698113206,
           0.4027777777777778
          ],
          "vectorType": "dense"
         }
        ],
        [
         {
          "length": 4,
          "values": [
           46.099998474121094,
           18.200000762939453,
           178.0,
           3250.0
          ],
          "vectorType": "dense"
         },
         {
          "length": 4,
          "values": [
           0.509090909090909,
           0.6071429301281398,
           0.0,
           0.1527777777777778
          ],
          "vectorType": "dense"
         }
        ],
        [
         {
          "length": 4,
          "values": [
           46.5,
           17.899999618530273,
           192.0,
           3500.0
          ],
          "vectorType": "dense"
         },
         {
          "length": 4,
          "values": [
           0.5236364191228693,
           0.5714285065527647,
           0.2641509433962264,
           0.2222222222222222
          ],
          "vectorType": "dense"
         }
        ],
        [
         {
          "length": 4,
          "values": [
           46.599998474121094,
           17.799999237060547,
           193.0,
           3800.0
          ],
          "vectorType": "dense"
         },
         {
          "length": 4,
          "values": [
           0.5272727272727272,
           0.5595236986943063,
           0.2830188679245283,
           0.3055555555555556
          ],
          "vectorType": "dense"
         }
        ],
        [
         {
          "length": 4,
          "values": [
           46.70000076293945,
           17.899999618530273,
           195.0,
           3300.0
          ],
          "vectorType": "dense"
         },
         {
          "length": 4,
          "values": [
           0.5309091741388494,
           0.5714285065527647,
           0.32075471698113206,
           0.16666666666666666
          ],
          "vectorType": "dense"
         }
        ],
        [
         {
          "length": 4,
          "values": [
           46.79999923706055,
           16.5,
           189.0,
           3650.0
          ],
          "vectorType": "dense"
         },
         {
          "length": 4,
          "values": [
           0.5345454822887074,
           0.40476187773031863,
           0.20754716981132074,
           0.2638888888888889
          ],
          "vectorType": "dense"
         }
        ],
        [
         {
          "length": 4,
          "values": [
           46.900001525878906,
           16.600000381469727,
           192.0,
           2700.0
          ],
          "vectorType": "dense"
         },
         {
          "length": 4,
          "values": [
           0.5381819291548295,
           0.416666685588777,
           0.2641509433962264,
           0.0
          ],
          "vectorType": "dense"
         }
        ],
        [
         {
          "length": 4,
          "values": [
           47.0,
           17.299999237060547,
           185.0,
           3700.0
          ],
          "vectorType": "dense"
         },
         {
          "length": 4,
          "values": [
           0.5418182373046875,
           0.4999998864673381,
           0.1320754716981132,
           0.2777777777777778
          ],
          "vectorType": "dense"
         }
        ],
        [
         {
          "length": 4,
          "values": [
           47.599998474121094,
           18.299999237060547,
           195.0,
           3850.0
          ],
          "vectorType": "dense"
         },
         {
          "length": 4,
          "values": [
           0.5636363636363636,
           0.6190475109212744,
           0.32075471698113206,
           0.3194444444444444
          ],
          "vectorType": "dense"
         }
        ],
        [
         {
          "length": 4,
          "values": [
           48.099998474121094,
           16.399999618530273,
           199.0,
           3325.0
          ],
          "vectorType": "dense"
         },
         {
          "length": 4,
          "values": [
           0.5818181818181818,
           0.39285706987186025,
           0.3962264150943396,
           0.1736111111111111
          ],
          "vectorType": "dense"
         }
        ],
        [
         {
          "length": 4,
          "values": [
           48.5,
           17.5,
           191.0,
           3400.0
          ],
          "vectorType": "dense"
         },
         {
          "length": 4,
          "values": [
           0.596363691850142,
           0.5238095021842549,
           0.24528301886792453,
           0.19444444444444445
          ],
          "vectorType": "dense"
         }
        ],
        [
         {
          "length": 4,
          "values": [
           49.0,
           19.600000381469727,
           212.0,
           4300.0
          ],
          "vectorType": "dense"
         },
         {
          "length": 4,
          "values": [
           0.6145455100319602,
           0.7738095589505858,
           0.6415094339622641,
           0.4444444444444444
          ],
          "vectorType": "dense"
         }
        ],
        [
         {
          "length": 4,
          "values": [
           49.20000076293945,
           18.200000762939453,
           195.0,
           4400.0
          ],
          "vectorType": "dense"
         },
         {
          "length": 4,
          "values": [
           0.6218182650479404,
           0.6071429301281398,
           0.32075471698113206,
           0.4722222222222222
          ],
          "vectorType": "dense"
         }
        ],
        [
         {
          "length": 4,
          "values": [
           49.29999923706055,
           19.899999618530273,
           203.0,
           4050.0
          ],
          "vectorType": "dense"
         },
         {
          "length": 4,
          "values": [
           0.6254545731977983,
           0.8095237554606373,
           0.4716981132075472,
           0.375
          ],
          "vectorType": "dense"
         }
        ],
        [
         {
          "length": 4,
          "values": [
           49.5,
           19.0,
           200.0,
           3800.0
          ],
          "vectorType": "dense"
         },
         {
          "length": 4,
          "values": [
           0.6327273282137784,
           0.7023809388651593,
           0.4150943396226415,
           0.3055555555555556
          ],
          "vectorType": "dense"
         }
        ],
        [
         {
          "length": 4,
          "values": [
           49.599998474121094,
           18.200000762939453,
           193.0,
           3775.0
          ],
          "vectorType": "dense"
         },
         {
          "length": 4,
          "values": [
           0.6363636363636364,
           0.6071429301281398,
           0.2830188679245283,
           0.2986111111111111
          ],
          "vectorType": "dense"
         }
        ],
        [
         {
          "length": 4,
          "values": [
           49.70000076293945,
           18.600000381469727,
           195.0,
           3600.0
          ],
          "vectorType": "dense"
         },
         {
          "length": 4,
          "values": [
           0.6400000832297585,
           0.6547619344966495,
           0.32075471698113206,
           0.25
          ],
          "vectorType": "dense"
         }
        ],
        [
         {
          "length": 4,
          "values": [
           49.79999923706055,
           17.299999237060547,
           198.0,
           3675.0
          ],
          "vectorType": "dense"
         },
         {
          "length": 4,
          "values": [
           0.6436363913796165,
           0.4999998864673381,
           0.3773584905660377,
           0.2708333333333333
          ],
          "vectorType": "dense"
         }
        ],
        [
         {
          "length": 4,
          "values": [
           50.099998474121094,
           17.899999618530273,
           190.0,
           3400.0
          ],
          "vectorType": "dense"
         },
         {
          "length": 4,
          "values": [
           0.6545454545454545,
           0.5714285065527647,
           0.22641509433962265,
           0.19444444444444445
          ],
          "vectorType": "dense"
         }
        ],
        [
         {
          "length": 4,
          "values": [
           50.20000076293945,
           18.700000762939453,
           198.0,
           3775.0
          ],
          "vectorType": "dense"
         },
         {
          "length": 4,
          "values": [
           0.6581819014115766,
           0.6666667423551079,
           0.3773584905660377,
           0.2986111111111111
          ],
          "vectorType": "dense"
         }
        ],
        [
         {
          "length": 4,
          "values": [
           50.20000076293945,
           18.799999237060547,
           202.0,
           3800.0
          ],
          "vectorType": "dense"
         },
         {
          "length": 4,
          "values": [
           0.6581819014115766,
           0.6785713231482425,
           0.4528301886792453,
           0.3055555555555556
          ],
          "vectorType": "dense"
         }
        ],
        [
         {
          "length": 4,
          "values": [
           50.5,
           18.399999618530273,
           200.0,
           3400.0
          ],
          "vectorType": "dense"
         },
         {
          "length": 4,
          "values": [
           0.6690909645774148,
           0.6309523187797328,
           0.4150943396226415,
           0.19444444444444445
          ],
          "vectorType": "dense"
         }
        ],
        [
         {
          "length": 4,
          "values": [
           50.599998474121094,
           19.399999618530273,
           193.0,
           3800.0
          ],
          "vectorType": "dense"
         },
         {
          "length": 4,
          "values": [
           0.6727272727272727,
           0.749999943233669,
           0.2830188679245283,
           0.3055555555555556
          ],
          "vectorType": "dense"
         }
        ],
        [
         {
          "length": 4,
          "values": [
           50.70000076293945,
           19.700000762939453,
           203.0,
           4050.0
          ],
          "vectorType": "dense"
         },
         {
          "length": 4,
          "values": [
           0.6763637195933948,
           0.7857143668090442,
           0.4716981132075472,
           0.375
          ],
          "vectorType": "dense"
         }
        ],
        [
         {
          "length": 4,
          "values": [
           50.79999923706055,
           18.5,
           201.0,
           4450.0
          ],
          "vectorType": "dense"
         },
         {
          "length": 4,
          "values": [
           0.6800000277432529,
           0.6428571266381912,
           0.43396226415094336,
           0.4861111111111111
          ],
          "vectorType": "dense"
         }
        ],
        [
         {
          "length": 4,
          "values": [
           50.900001525878906,
           17.899999618530273,
           196.0,
           3675.0
          ],
          "vectorType": "dense"
         },
         {
          "length": 4,
          "values": [
           0.6836364746093749,
           0.5714285065527647,
           0.33962264150943394,
           0.2708333333333333
          ],
          "vectorType": "dense"
         }
        ],
        [
         {
          "length": 4,
          "values": [
           50.900001525878906,
           19.100000381469727,
           196.0,
           3550.0
          ],
          "vectorType": "dense"
         },
         {
          "length": 4,
          "values": [
           0.6836364746093749,
           0.7142857467236177,
           0.33962264150943394,
           0.2361111111111111
          ],
          "vectorType": "dense"
         }
        ],
        [
         {
          "length": 4,
          "values": [
           51.0,
           18.799999237060547,
           203.0,
           4100.0
          ],
          "vectorType": "dense"
         },
         {
          "length": 4,
          "values": [
           0.6872727827592329,
           0.6785713231482425,
           0.4716981132075472,
           0.3888888888888889
          ],
          "vectorType": "dense"
         }
        ],
        [
         {
          "length": 4,
          "values": [
           51.29999923706055,
           19.200000762939453,
           193.0,
           3650.0
          ],
          "vectorType": "dense"
         },
         {
          "length": 4,
          "values": [
           0.698181845925071,
           0.726190554582076,
           0.2830188679245283,
           0.2638888888888889
          ],
          "vectorType": "dense"
         }
        ],
        [
         {
          "length": 4,
          "values": [
           51.29999923706055,
           19.899999618530273,
           198.0,
           3700.0
          ],
          "vectorType": "dense"
         },
         {
          "length": 4,
          "values": [
           0.698181845925071,
           0.8095237554606373,
           0.3773584905660377,
           0.2777777777777778
          ],
          "vectorType": "dense"
         }
        ],
        [
         {
          "length": 4,
          "values": [
           51.400001525878906,
           19.0,
           201.0,
           3950.0
          ],
          "vectorType": "dense"
         },
         {
          "length": 4,
          "values": [
           0.7018182927911931,
           0.7023809388651593,
           0.43396226415094336,
           0.3472222222222222
          ],
          "vectorType": "dense"
         }
        ],
        [
         {
          "length": 4,
          "values": [
           51.5,
           18.700000762939453,
           187.0,
           3250.0
          ],
          "vectorType": "dense"
         },
         {
          "length": 4,
          "values": [
           0.7054546009410511,
           0.6666667423551079,
           0.16981132075471697,
           0.1527777777777778
          ],
          "vectorType": "dense"
         }
        ],
        [
         {
          "length": 4,
          "values": [
           51.70000076293945,
           20.299999237060547,
           194.0,
           3775.0
          ],
          "vectorType": "dense"
         },
         {
          "length": 4,
          "values": [
           0.7127273559570312,
           0.857142759829147,
           0.3018867924528302,
           0.2986111111111111
          ],
          "vectorType": "dense"
         }
        ],
        [
         {
          "length": 4,
          "values": [
           51.900001525878906,
           19.5,
           206.0,
           3950.0
          ],
          "vectorType": "dense"
         },
         {
          "length": 4,
          "values": [
           0.7200001109730113,
           0.7619047510921274,
           0.5283018867924528,
           0.3472222222222222
          ],
          "vectorType": "dense"
         }
        ],
        [
         {
          "length": 4,
          "values": [
           52.0,
           18.100000381469727,
           201.0,
           4050.0
          ],
          "vectorType": "dense"
         },
         {
          "length": 4,
          "values": [
           0.7236364191228692,
           0.5952381222696814,
           0.43396226415094336,
           0.375
          ],
          "vectorType": "dense"
         }
        ],
        [
         {
          "length": 4,
          "values": [
           52.0,
           19.0,
           197.0,
           4150.0
          ],
          "vectorType": "dense"
         },
         {
          "length": 4,
          "values": [
           0.7236364191228692,
           0.7023809388651593,
           0.3584905660377358,
           0.4027777777777778
          ],
          "vectorType": "dense"
         }
        ],
        [
         {
          "length": 4,
          "values": [
           52.0,
           20.700000762939453,
           210.0,
           4800.0
          ],
          "vectorType": "dense"
         },
         {
          "length": 4,
          "values": [
           0.7236364191228692,
           0.9047619912629805,
           0.6037735849056604,
           0.5833333333333334
          ],
          "vectorType": "dense"
         }
        ],
        [
         {
          "length": 4,
          "values": [
           52.20000076293945,
           18.799999237060547,
           197.0,
           3450.0
          ],
          "vectorType": "dense"
         },
         {
          "length": 4,
          "values": [
           0.7309091741388494,
           0.6785713231482425,
           0.3584905660377358,
           0.20833333333333334
          ],
          "vectorType": "dense"
         }
        ],
        [
         {
          "length": 4,
          "values": [
           52.70000076293945,
           19.799999237060547,
           197.0,
           3725.0
          ],
          "vectorType": "dense"
         },
         {
          "length": 4,
          "values": [
           0.7490909923206676,
           0.7976189476021789,
           0.3584905660377358,
           0.2847222222222222
          ],
          "vectorType": "dense"
         }
        ],
        [
         {
          "length": 4,
          "values": [
           52.79999923706055,
           20.0,
           205.0,
           4550.0
          ],
          "vectorType": "dense"
         },
         {
          "length": 4,
          "values": [
           0.7527273004705255,
           0.8214285633190956,
           0.5094339622641509,
           0.5138888888888888
          ],
          "vectorType": "dense"
         }
        ],
        [
         {
          "length": 4,
          "values": [
           53.5,
           19.899999618530273,
           205.0,
           4500.0
          ],
          "vectorType": "dense"
         },
         {
          "length": 4,
          "values": [
           0.7781818736683238,
           0.8095237554606373,
           0.5094339622641509,
           0.5
          ],
          "vectorType": "dense"
         }
        ],
        [
         {
          "length": 4,
          "values": [
           54.20000076293945,
           20.799999237060547,
           201.0,
           4300.0
          ],
          "vectorType": "dense"
         },
         {
          "length": 4,
          "values": [
           0.8036364468661221,
           0.9166665720561151,
           0.43396226415094336,
           0.4444444444444444
          ],
          "vectorType": "dense"
         }
        ],
        [
         {
          "length": 4,
          "values": [
           55.79999923706055,
           19.799999237060547,
           207.0,
           4000.0
          ],
          "vectorType": "dense"
         },
         {
          "length": 4,
          "values": [
           0.8618182095614346,
           0.7976189476021789,
           0.5471698113207547,
           0.3611111111111111
          ],
          "vectorType": "dense"
         }
        ],
        [
         {
          "length": 4,
          "values": [
           33.5,
           19.0,
           190.0,
           3600.0
          ],
          "vectorType": "dense"
         },
         {
          "length": 4,
          "values": [
           0.050909146395596586,
           0.7023809388651593,
           0.22641509433962265,
           0.25
          ],
          "vectorType": "dense"
         }
        ],
        [
         {
          "length": 4,
          "values": [
           34.099998474121094,
           18.100000381469727,
           193.0,
           3475.0
          ],
          "vectorType": "dense"
         },
         {
          "length": 4,
          "values": [
           0.07272727272727272,
           0.5952381222696814,
           0.2830188679245283,
           0.2152777777777778
          ],
          "vectorType": "dense"
         }
        ],
        [
         {
          "length": 4,
          "values": [
           34.400001525878906,
           18.399999618530273,
           184.0,
           3325.0
          ],
          "vectorType": "dense"
         },
         {
          "length": 4,
          "values": [
           0.083636474609375,
           0.6309523187797328,
           0.11320754716981132,
           0.1736111111111111
          ],
          "vectorType": "dense"
         }
        ],
        [
         {
          "length": 4,
          "values": [
           34.599998474121094,
           17.200000762939453,
           189.0,
           3200.0
          ],
          "vectorType": "dense"
         },
         {
          "length": 4,
          "values": [
           0.09090909090909091,
           0.4880953056742035,
           0.20754716981132074,
           0.1388888888888889
          ],
          "vectorType": "dense"
         }
        ],
        [
         {
          "length": 4,
          "values": [
           34.599998474121094,
           21.100000381469727,
           198.0,
           4400.0
          ],
          "vectorType": "dense"
         },
         {
          "length": 4,
          "values": [
           0.09090909090909091,
           0.9523809956314903,
           0.3773584905660377,
           0.4722222222222222
          ],
          "vectorType": "dense"
         }
        ],
        [
         {
          "length": 4,
          "values": [
           35.20000076293945,
           15.899999618530273,
           186.0,
           3050.0
          ],
          "vectorType": "dense"
         },
         {
          "length": 4,
          "values": [
           0.11272735595703125,
           0.3333332576448921,
           0.1509433962264151,
           0.09722222222222222
          ],
          "vectorType": "dense"
         }
        ],
        [
         {
          "length": 4,
          "values": [
           35.70000076293945,
           17.0,
           189.0,
           3350.0
          ],
          "vectorType": "dense"
         },
         {
          "length": 4,
          "values": [
           0.13090917413884942,
           0.46428568995728675,
           0.20754716981132074,
           0.18055555555555555
          ],
          "vectorType": "dense"
         }
        ],
        [
         {
          "length": 4,
          "values": [
           35.900001525878906,
           16.600000381469727,
           190.0,
           3050.0
          ],
          "vectorType": "dense"
         },
         {
          "length": 4,
          "values": [
           0.13818192915482955,
           0.416666685588777,
           0.22641509433962265,
           0.09722222222222222
          ],
          "vectorType": "dense"
         }
        ],
        [
         {
          "length": 4,
          "values": [
           36.20000076293945,
           17.200000762939453,
           187.0,
           3150.0
          ],
          "vectorType": "dense"
         },
         {
          "length": 4,
          "values": [
           0.1490909923206676,
           0.4880953056742035,
           0.16981132075471697,
           0.125
          ],
          "vectorType": "dense"
         }
        ],
        [
         {
          "length": 4,
          "values": [
           36.599998474121094,
           17.799999237060547,
           185.0,
           3700.0
          ],
          "vectorType": "dense"
         },
         {
          "length": 4,
          "values": [
           0.16363636363636364,
           0.5595236986943063,
           0.1320754716981132,
           0.2777777777777778
          ],
          "vectorType": "dense"
         }
        ],
        [
         {
          "length": 4,
          "values": [
           37.20000076293945,
           19.399999618530273,
           184.0,
           3900.0
          ],
          "vectorType": "dense"
         },
         {
          "length": 4,
          "values": [
           0.18545462868430396,
           0.749999943233669,
           0.11320754716981132,
           0.3333333333333333
          ],
          "vectorType": "dense"
         }
        ],
        [
         {
          "length": 4,
          "values": [
           37.70000076293945,
           19.799999237060547,
           198.0,
           3500.0
          ],
          "vectorType": "dense"
         },
         {
          "length": 4,
          "values": [
           0.20363644686612214,
           0.7976189476021789,
           0.3773584905660377,
           0.2222222222222222
          ],
          "vectorType": "dense"
         }
        ],
        [
         {
          "length": 4,
          "values": [
           37.79999923706055,
           17.100000381469727,
           186.0,
           3300.0
          ],
          "vectorType": "dense"
         },
         {
          "length": 4,
          "values": [
           0.2072727550159801,
           0.47619049781574513,
           0.1509433962264151,
           0.16666666666666666
          ],
          "vectorType": "dense"
         }
        ],
        [
         {
          "length": 4,
          "values": [
           37.79999923706055,
           17.299999237060547,
           180.0,
           3700.0
          ],
          "vectorType": "dense"
         },
         {
          "length": 4,
          "values": [
           0.2072727550159801,
           0.4999998864673381,
           0.03773584905660377,
           0.2777777777777778
          ],
          "vectorType": "dense"
         }
        ],
        [
         {
          "length": 4,
          "values": [
           38.5,
           17.899999618530273,
           190.0,
           3325.0
          ],
          "vectorType": "dense"
         },
         {
          "length": 4,
          "values": [
           0.2327273282137784,
           0.5714285065527647,
           0.22641509433962265,
           0.1736111111111111
          ],
          "vectorType": "dense"
         }
        ],
        [
         {
          "length": 4,
          "values": [
           38.599998474121094,
           17.0,
           188.0,
           2900.0
          ],
          "vectorType": "dense"
         },
         {
          "length": 4,
          "values": [
           0.23636363636363636,
           0.46428568995728675,
           0.18867924528301885,
           0.05555555555555555
          ],
          "vectorType": "dense"
         }
        ],
        [
         {
          "length": 4,
          "values": [
           38.599998474121094,
           21.200000762939453,
           191.0,
           3800.0
          ],
          "vectorType": "dense"
         },
         {
          "length": 4,
          "values": [
           0.23636363636363636,
           0.9642858034899486,
           0.24528301886792453,
           0.3055555555555556
          ],
          "vectorType": "dense"
         }
        ],
        [
         {
          "length": 4,
          "values": [
           38.70000076293945,
           19.0,
           195.0,
           3450.0
          ],
          "vectorType": "dense"
         },
         {
          "length": 4,
          "values": [
           0.24000008322975852,
           0.7023809388651593,
           0.32075471698113206,
           0.20833333333333334
          ],
          "vectorType": "dense"
         }
        ],
        [
         {
          "length": 4,
          "values": [
           38.79999923706055,
           17.600000381469727,
           191.0,
           3275.0
          ],
          "vectorType": "dense"
         },
         {
          "length": 4,
          "values": [
           0.24363639137961646,
           0.5357143100427133,
           0.24528301886792453,
           0.1597222222222222
          ],
          "vectorType": "dense"
         }
        ],
        [
         {
          "length": 4,
          "values": [
           39.0,
           17.100000381469727,
           191.0,
           3050.0
          ],
          "vectorType": "dense"
         },
         {
          "length": 4,
          "values": [
           0.2509091463955966,
           0.47619049781574513,
           0.24528301886792453,
           0.09722222222222222
          ],
          "vectorType": "dense"
         }
        ],
        [
         {
          "length": 4,
          "values": [
           39.099998474121094,
           18.700000762939453,
           181.0,
           3750.0
          ],
          "vectorType": "dense"
         },
         {
          "length": 4,
          "values": [
           0.2545454545454545,
           0.6666667423551079,
           0.05660377358490566,
           0.2916666666666667
          ],
          "vectorType": "dense"
         }
        ],
        [
         {
          "length": 4,
          "values": [
           39.29999923706055,
           20.600000381469727,
           190.0,
           3650.0
          ],
          "vectorType": "dense"
         },
         {
          "length": 4,
          "values": [
           0.26181820956143464,
           0.8928571834045221,
           0.22641509433962265,
           0.2638888888888889
          ],
          "vectorType": "dense"
         }
        ],
        [
         {
          "length": 4,
          "values": [
           39.599998474121094,
           17.200000762939453,
           196.0,
           3550.0
          ],
          "vectorType": "dense"
         },
         {
          "length": 4,
          "values": [
           0.2727272727272727,
           0.4880953056742035,
           0.33962264150943394,
           0.2361111111111111
          ],
          "vectorType": "dense"
         }
        ],
        [
         {
          "length": 4,
          "values": [
           39.70000076293945,
           18.399999618530273,
           190.0,
           3900.0
          ],
          "vectorType": "dense"
         },
         {
          "length": 4,
          "values": [
           0.2763637195933949,
           0.6309523187797328,
           0.22641509433962265,
           0.3333333333333333
          ],
          "vectorType": "dense"
         }
        ],
        [
         {
          "length": 4,
          "values": [
           40.29999923706055,
           18.0,
           195.0,
           3250.0
          ],
          "vectorType": "dense"
         },
         {
          "length": 4,
          "values": [
           0.298181845925071,
           0.583333314411223,
           0.32075471698113206,
           0.1527777777777778
          ],
          "vectorType": "dense"
         }
        ],
        [
         {
          "length": 4,
          "values": [
           40.599998474121094,
           19.0,
           199.0,
           4000.0
          ],
          "vectorType": "dense"
         },
         {
          "length": 4,
          "values": [
           0.3090909090909091,
           0.7023809388651593,
           0.3962264150943396,
           0.3611111111111111
          ],
          "vectorType": "dense"
         }
        ],
        [
         {
          "length": 4,
          "values": [
           41.099998474121094,
           17.600000381469727,
           182.0,
           3200.0
          ],
          "vectorType": "dense"
         },
         {
          "length": 4,
          "values": [
           0.32727272727272727,
           0.5357143100427133,
           0.07547169811320754,
           0.1388888888888889
          ],
          "vectorType": "dense"
         }
        ],
        [
         {
          "length": 4,
          "values": [
           41.099998474121094,
           18.600000381469727,
           189.0,
           3325.0
          ],
          "vectorType": "dense"
         },
         {
          "length": 4,
          "values": [
           0.32727272727272727,
           0.6547619344966495,
           0.20754716981132074,
           0.1736111111111111
          ],
          "vectorType": "dense"
         }
        ],
        [
         {
          "length": 4,
          "values": [
           41.400001525878906,
           18.5,
           202.0,
           3875.0
          ],
          "vectorType": "dense"
         },
         {
          "length": 4,
          "values": [
           0.33818192915482953,
           0.6428571266381912,
           0.4528301886792453,
           0.3263888888888889
          ],
          "vectorType": "dense"
         }
        ],
        [
         {
          "length": 4,
          "values": [
           41.5,
           18.299999237060547,
           195.0,
           4300.0
          ],
          "vectorType": "dense"
         },
         {
          "length": 4,
          "values": [
           0.34181823730468747,
           0.6190475109212744,
           0.32075471698113206,
           0.4444444444444444
          ],
          "vectorType": "dense"
         }
        ],
        [
         {
          "length": 4,
          "values": [
           41.79999923706055,
           19.399999618530273,
           198.0,
           4450.0
          ],
          "vectorType": "dense"
         },
         {
          "length": 4,
          "values": [
           0.35272730047052553,
           0.749999943233669,
           0.3773584905660377,
           0.4861111111111111
          ],
          "vectorType": "dense"
         }
        ],
        [
         {
          "length": 4,
          "values": [
           42.0,
           20.200000762939453,
           190.0,
           4250.0
          ],
          "vectorType": "dense"
         },
         {
          "length": 4,
          "values": [
           0.36000005548650565,
           0.8452381790360124,
           0.22641509433962265,
           0.4305555555555556
          ],
          "vectorType": "dense"
         }
        ],
        [
         {
          "length": 4,
          "values": [
           42.099998474121094,
           19.100000381469727,
           195.0,
           4000.0
          ],
          "vectorType": "dense"
         },
         {
          "length": 4,
          "values": [
           0.36363636363636365,
           0.7142857467236177,
           0.32075471698113206,
           0.3611111111111111
          ],
          "vectorType": "dense"
         }
        ],
        [
         {
          "length": 4,
          "values": [
           42.5,
           20.700000762939453,
           197.0,
           4500.0
          ],
          "vectorType": "dense"
         },
         {
          "length": 4,
          "values": [
           0.37818187366832384,
           0.9047619912629805,
           0.3584905660377358,
           0.5
          ],
          "vectorType": "dense"
         }
        ],
        [
         {
          "length": 4,
          "values": [
           42.79999923706055,
           18.5,
           195.0,
           4250.0
          ],
          "vectorType": "dense"
         },
         {
          "length": 4,
          "values": [
           0.3890909368341619,
           0.6428571266381912,
           0.32075471698113206,
           0.4305555555555556
          ],
          "vectorType": "dense"
         }
        ],
        [
         {
          "length": 4,
          "values": [
           43.099998474121094,
           19.200000762939453,
           197.0,
           3500.0
          ],
          "vectorType": "dense"
         },
         {
          "length": 4,
          "values": [
           0.39999999999999997,
           0.726190554582076,
           0.3584905660377358,
           0.2222222222222222
          ],
          "vectorType": "dense"
         }
        ],
        [
         {
          "length": 4,
          "values": [
           45.79999923706055,
           18.899999618530273,
           197.0,
           4150.0
          ],
          "vectorType": "dense"
         },
         {
          "length": 4,
          "values": [
           0.498181845925071,
           0.6904761310067009,
           0.3584905660377358,
           0.4027777777777778
          ],
          "vectorType": "dense"
         }
        ],
        [
         {
          "length": 4,
          "values": [
           46.0,
           21.5,
           194.0,
           4200.0
          ],
          "vectorType": "dense"
         },
         {
          "length": 4,
          "values": [
           0.5054546009410511,
           1.0,
           0.3018867924528302,
           0.4166666666666667
          ],
          "vectorType": "dense"
         }
        ]
       ],
       "datasetInfos": [],
       "dbfsResultPath": null,
       "isJsonSchema": true,
       "metadata": {},
       "overflow": false,
       "plotOptions": {
        "customPlotOptions": {},
        "displayType": "table",
        "pivotAggregation": null,
        "pivotColumns": null,
        "xColumns": null,
        "yColumns": null
       },
       "removedWidgets": [],
       "schema": [
        {
         "metadata": "{\"ml_attr\":{\"attrs\":{\"numeric\":[{\"idx\":0,\"name\":\"CulmenLength\"},{\"idx\":1,\"name\":\"CulmenDepth\"},{\"idx\":2,\"name\":\"FlipperLength\"},{\"idx\":3,\"name\":\"BodyMass\"}]},\"num_attrs\":4}}",
         "name": "numericFeatures",
         "type": "{\"type\":\"udt\",\"class\":\"org.apache.spark.ml.linalg.VectorUDT\",\"pyClass\":\"pyspark.ml.linalg.VectorUDT\",\"sqlType\":{\"type\":\"struct\",\"fields\":[{\"name\":\"type\",\"type\":\"byte\",\"nullable\":false,\"metadata\":{}},{\"name\":\"size\",\"type\":\"integer\",\"nullable\":true,\"metadata\":{}},{\"name\":\"indices\",\"type\":{\"type\":\"array\",\"elementType\":\"integer\",\"containsNull\":false},\"nullable\":true,\"metadata\":{}},{\"name\":\"values\",\"type\":{\"type\":\"array\",\"elementType\":\"double\",\"containsNull\":false},\"nullable\":true,\"metadata\":{}}]}}"
        },
        {
         "metadata": "{\"ml_attr\":{\"num_attrs\":4}}",
         "name": "normalizedFeatures",
         "type": "{\"type\":\"udt\",\"class\":\"org.apache.spark.ml.linalg.VectorUDT\",\"pyClass\":\"pyspark.ml.linalg.VectorUDT\",\"sqlType\":{\"type\":\"struct\",\"fields\":[{\"name\":\"type\",\"type\":\"byte\",\"nullable\":false,\"metadata\":{}},{\"name\":\"size\",\"type\":\"integer\",\"nullable\":true,\"metadata\":{}},{\"name\":\"indices\",\"type\":{\"type\":\"array\",\"elementType\":\"integer\",\"containsNull\":false},\"nullable\":true,\"metadata\":{}},{\"name\":\"values\",\"type\":{\"type\":\"array\",\"elementType\":\"double\",\"containsNull\":false},\"nullable\":true,\"metadata\":{}}]}}"
        }
       ],
       "type": "table"
      }
     },
     "output_type": "display_data"
    }
   ],
   "source": [
    "from pyspark.ml.feature import VectorAssembler, MinMaxScaler\n",
    "\n",
    "# Create a vector column containing all numeric features\n",
    "numericFeatures = [\"CulmenLength\", \"CulmenDepth\", \"FlipperLength\", \"BodyMass\"]\n",
    "numericColVector = VectorAssembler(inputCols=numericFeatures, outputCol=\"numericFeatures\")\n",
    "vectorizedData = numericColVector.transform(indexedData)\n",
    "   \n",
    "# Use a MinMax scaler to normalize the numeric values in the vector\n",
    "minMax = MinMaxScaler(inputCol = numericColVector.getOutputCol(), outputCol=\"normalizedFeatures\")\n",
    "scaledData = minMax.fit(vectorizedData).transform(vectorizedData)\n",
    "   \n",
    "# Display the data with numeric feature vectors (before and after scaling)\n",
    "compareNumerics = scaledData.select(\"numericFeatures\", \"normalizedFeatures\")\n",
    "display(compareNumerics)"
   ]
  },
  {
   "cell_type": "code",
   "execution_count": 0,
   "metadata": {
    "application/vnd.databricks.v1+cell": {
     "cellMetadata": {
      "byteLimit": 2048000,
      "rowLimit": 10000
     },
     "inputWidgets": {},
     "nuid": "62e5cdb8-63e8-4f17-a06b-672b809bf22c",
     "showTitle": false,
     "title": ""
    }
   },
   "outputs": [
    {
     "output_type": "display_data",
     "data": {
      "text/html": [
       "<style scoped>\n",
       "  .table-result-container {\n",
       "    max-height: 300px;\n",
       "    overflow: auto;\n",
       "  }\n",
       "  table, th, td {\n",
       "    border: 1px solid black;\n",
       "    border-collapse: collapse;\n",
       "  }\n",
       "  th, td {\n",
       "    padding: 5px;\n",
       "  }\n",
       "  th {\n",
       "    text-align: left;\n",
       "  }\n",
       "</style><div class='table-result-container'><table class='table-result'><thead style='background-color: white'><tr><th>features</th><th>label</th></tr></thead><tbody><tr><td>Map(vectorType -> dense, length -> 5, values -> List(0.0, 0.08727278275923295, 0.5952381222696814, 0.16981132075471697, 0.05555555555555555))</td><td>0</td></tr><tr><td>Map(vectorType -> dense, length -> 5, values -> List(0.0, 0.10545460094105114, 0.5714285065527647, 0.22641509433962265, 0.20833333333333334))</td><td>0</td></tr><tr><td>Map(vectorType -> dense, length -> 5, values -> List(0.0, 0.1163636641068892, 0.6904761310067009, 0.16981132075471697, 0.3055555555555556))</td><td>0</td></tr><tr><td>Map(vectorType -> dense, length -> 5, values -> List(0.0, 0.12363641912286931, 0.3690476812202672, 0.32075471698113206, 0.18055555555555555))</td><td>0</td></tr><tr><td>Map(vectorType -> dense, length -> 5, values -> List(0.0, 0.13090917413884942, 0.4523808820988284, 0.1320754716981132, 0.125))</td><td>0</td></tr><tr><td>Map(vectorType -> dense, length -> 5, values -> List(0.0, 0.13818192915482955, 0.726190554582076, 0.20754716981132074, 0.3055555555555556))</td><td>0</td></tr><tr><td>Map(vectorType -> dense, length -> 5, values -> List(0.0, 0.1563637473366477, 0.47619049781574513, 0.11320754716981132, 0.041666666666666664))</td><td>0</td></tr><tr><td>Map(vectorType -> dense, length -> 5, values -> List(0.0, 0.19999999999999998, 0.46428568995728675, 0.1320754716981132, 0.25))</td><td>0</td></tr><tr><td>Map(vectorType -> dense, length -> 5, values -> List(0.0, 0.19999999999999998, 0.7142857467236177, 0.3018867924528302, 0.2916666666666667))</td><td>0</td></tr><tr><td>Map(vectorType -> dense, length -> 5, values -> List(0.0, 0.20363644686612214, 0.6666667423551079, 0.03773584905660377, 0.25))</td><td>0</td></tr><tr><td>Map(vectorType -> dense, length -> 5, values -> List(0.0, 0.21090920188210227, 0.6547619344966495, 0.2830188679245283, 0.0625))</td><td>0</td></tr><tr><td>Map(vectorType -> dense, length -> 5, values -> List(0.0, 0.21818181818181817, 0.40476187773031863, 0.3773584905660377, 0.3125))</td><td>0</td></tr><tr><td>Map(vectorType -> dense, length -> 5, values -> List(0.0, 0.21818181818181817, 0.46428568995728675, 0.05660377358490566, 0.13194444444444445))</td><td>0</td></tr><tr><td>Map(vectorType -> dense, length -> 5, values -> List(0.0, 0.22181826504794033, 0.5952381222696814, 0.1320754716981132, 0.3472222222222222))</td><td>0</td></tr><tr><td>Map(vectorType -> dense, length -> 5, values -> List(0.0, 0.22181826504794033, 0.8214285633190956, 0.22641509433962265, 0.3333333333333333))</td><td>0</td></tr><tr><td>Map(vectorType -> dense, length -> 5, values -> List(0.0, 0.23636363636363636, 0.4880953056742035, 0.3962264150943396, 0.2916666666666667))</td><td>0</td></tr><tr><td>Map(vectorType -> dense, length -> 5, values -> List(0.0, 0.24363639137961646, 0.4880953056742035, 0.03773584905660377, 0.3055555555555556))</td><td>0</td></tr><tr><td>Map(vectorType -> dense, length -> 5, values -> List(0.0, 0.2509091463955966, 0.5238095021842549, 0.1509433962264151, 0.2361111111111111))</td><td>0</td></tr><tr><td>Map(vectorType -> dense, length -> 5, values -> List(0.0, 0.2727272727272727, 0.5476191179011717, 0.1509433962264151, 0.2222222222222222))</td><td>0</td></tr><tr><td>Map(vectorType -> dense, length -> 5, values -> List(0.0, 0.2727272727272727, 0.9047619912629805, 0.24528301886792453, 0.3333333333333333))</td><td>0</td></tr><tr><td>Map(vectorType -> dense, length -> 5, values -> List(0.0, 0.2763637195933949, 0.5476191179011717, 0.2830188679245283, 0.1388888888888889))</td><td>0</td></tr><tr><td>Map(vectorType -> dense, length -> 5, values -> List(0.0, 0.2909090909090909, 0.6904761310067009, 0.18867924528301885, 0.4444444444444444))</td><td>0</td></tr><tr><td>Map(vectorType -> dense, length -> 5, values -> List(0.0, 0.30545460094105115, 0.5714285065527647, 0.16981132075471697, 0.1388888888888889))</td><td>0</td></tr><tr><td>Map(vectorType -> dense, length -> 5, values -> List(0.0, 0.30545460094105115, 0.6904761310067009, 0.03773584905660377, 0.3472222222222222))</td><td>0</td></tr><tr><td>Map(vectorType -> dense, length -> 5, values -> List(0.0, 0.3090909090909091, 0.6785713231482425, 0.2830188679245283, 0.3055555555555556))</td><td>0</td></tr><tr><td>Map(vectorType -> dense, length -> 5, values -> List(0.0, 0.32000011097301134, 0.07142850655276464, 0.6792452830188679, 0.5416666666666666))</td><td>1</td></tr><tr><td>Map(vectorType -> dense, length -> 5, values -> List(0.0, 0.3236364191228693, 0.8214285633190956, 0.4716981132075472, 0.5625))</td><td>0</td></tr><tr><td>Map(vectorType -> dense, length -> 5, values -> List(0.0, 0.32727272727272727, 0.6071429301281398, 0.2641509433962264, 0.375))</td><td>0</td></tr><tr><td>Map(vectorType -> dense, length -> 5, values -> List(0.0, 0.32727272727272727, 0.7142857467236177, 0.18867924528301885, 0.3888888888888889))</td><td>0</td></tr><tr><td>Map(vectorType -> dense, length -> 5, values -> List(0.0, 0.3345454822887074, 0.9523809956314903, 0.32075471698113206, 0.4722222222222222))</td><td>0</td></tr><tr><td>Map(vectorType -> dense, length -> 5, values -> List(0.0, 0.33818192915482953, 0.6547619344966495, 0.24528301886792453, 0.2777777777777778))</td><td>0</td></tr><tr><td>Map(vectorType -> dense, length -> 5, values -> List(0.0, 0.34545454545454546, 0.583333314411223, 0.2641509433962264, 0.3472222222222222))</td><td>0</td></tr><tr><td>Map(vectorType -> dense, length -> 5, values -> List(0.0, 0.3490909923206676, 0.19047613100670094, 0.6037735849056604, 0.5555555555555556))</td><td>1</td></tr><tr><td>Map(vectorType -> dense, length -> 5, values -> List(0.0, 0.36000005548650565, 0.047619004368509764, 0.6037735849056604, 0.4027777777777778))</td><td>1</td></tr><tr><td>Map(vectorType -> dense, length -> 5, values -> List(0.0, 0.36000005548650565, 0.7619047510921274, 0.4150943396226415, 0.375))</td><td>0</td></tr><tr><td>Map(vectorType -> dense, length -> 5, values -> List(0.0, 0.3818181818181818, 0.07142850655276464, 0.660377358490566, 0.625))</td><td>1</td></tr><tr><td>Map(vectorType -> dense, length -> 5, values -> List(0.0, 0.38545462868430397, 0.07142850655276464, 0.5660377358490566, 0.3472222222222222))</td><td>1</td></tr><tr><td>Map(vectorType -> dense, length -> 5, values -> List(0.0, 0.3890909368341619, 0.1309523187797328, 0.5849056603773585, 0.5555555555555556))</td><td>1</td></tr><tr><td>Map(vectorType -> dense, length -> 5, values -> List(0.0, 0.3927273837002841, 0.0, 0.6981132075471698, 0.6388888888888888))</td><td>1</td></tr><tr><td>Map(vectorType -> dense, length -> 5, values -> List(0.0, 0.40363644686612216, 0.16666662882244604, 0.5660377358490566, 0.4861111111111111))</td><td>1</td></tr><tr><td>Map(vectorType -> dense, length -> 5, values -> List(0.0, 0.40363644686612216, 0.7023809388651593, 0.3584905660377358, 0.5763888888888888))</td><td>0</td></tr><tr><td>Map(vectorType -> dense, length -> 5, values -> List(0.0, 0.4072727550159801, 0.1071428165954779, 0.5660377358490566, 0.5208333333333334))</td><td>1</td></tr><tr><td>Map(vectorType -> dense, length -> 5, values -> List(0.0, 0.4145455100319602, 0.24999994323366906, 0.660377358490566, 0.5416666666666666))</td><td>1</td></tr><tr><td>Map(vectorType -> dense, length -> 5, values -> List(0.0, 0.4254545731977983, 0.09523800873701953, 0.5660377358490566, 0.4444444444444444))</td><td>1</td></tr><tr><td>Map(vectorType -> dense, length -> 5, values -> List(0.0, 0.4327273282137784, 0.05952381222696814, 0.5660377358490566, 0.4583333333333333))</td><td>1</td></tr><tr><td>Map(vectorType -> dense, length -> 5, values -> List(0.0, 0.4472728382457386, 0.4999998864673381, 0.7735849056603773, 0.7083333333333334))</td><td>1</td></tr><tr><td>Map(vectorType -> dense, length -> 5, values -> List(0.0, 0.4509091463955966, 0.14285712663819117, 0.7169811320754716, 0.3888888888888889))</td><td>1</td></tr><tr><td>Map(vectorType -> dense, length -> 5, values -> List(0.0, 0.4509091463955966, 0.19047613100670094, 0.6792452830188679, 0.5972222222222222))</td><td>1</td></tr><tr><td>Map(vectorType -> dense, length -> 5, values -> List(0.0, 0.4509091463955966, 0.3095237554606372, 0.7358490566037735, 0.6041666666666666))</td><td>1</td></tr><tr><td>Map(vectorType -> dense, length -> 5, values -> List(0.0, 0.4654546564275568, 0.023809502184254882, 0.660377358490566, 0.6666666666666666))</td><td>1</td></tr><tr><td>Map(vectorType -> dense, length -> 5, values -> List(0.0, 0.4727272727272727, 0.16666662882244604, 0.5471698113207547, 0.6527777777777778))</td><td>1</td></tr><tr><td>Map(vectorType -> dense, length -> 5, values -> List(0.0, 0.4727272727272727, 0.16666662882244604, 0.6981132075471698, 0.6388888888888888))</td><td>1</td></tr><tr><td>Map(vectorType -> dense, length -> 5, values -> List(0.0, 0.47636371959339485, 0.08333331441122302, 0.6981132075471698, 0.5694444444444444))</td><td>1</td></tr><tr><td>Map(vectorType -> dense, length -> 5, values -> List(0.0, 0.47636371959339485, 0.20238093886515932, 0.6415094339622641, 0.6944444444444444))</td><td>1</td></tr><tr><td>Map(vectorType -> dense, length -> 5, values -> List(0.0, 0.47636371959339485, 0.3214285633190956, 0.6981132075471698, 0.7222222222222222))</td><td>1</td></tr><tr><td>Map(vectorType -> dense, length -> 5, values -> List(0.0, 0.48000002774325284, 0.07142850655276464, 0.6037735849056604, 0.4444444444444444))</td><td>1</td></tr><tr><td>Map(vectorType -> dense, length -> 5, values -> List(0.0, 0.4872727827592329, 0.16666662882244604, 0.6415094339622641, 0.5694444444444444))</td><td>1</td></tr><tr><td>Map(vectorType -> dense, length -> 5, values -> List(0.0, 0.4872727827592329, 0.2261904410494142, 0.7924528301886792, 0.6388888888888888))</td><td>1</td></tr><tr><td>Map(vectorType -> dense, length -> 5, values -> List(0.0, 0.4909090909090909, 0.857142759829147, 0.24528301886792453, 0.5277777777777778))</td><td>0</td></tr><tr><td>Map(vectorType -> dense, length -> 5, values -> List(0.0, 0.49454553777521304, 0.09523800873701953, 0.6792452830188679, 0.4722222222222222))</td><td>1</td></tr><tr><td>Map(vectorType -> dense, length -> 5, values -> List(0.0, 0.498181845925071, 0.1309523187797328, 0.7735849056603773, 0.5555555555555556))</td><td>1</td></tr><tr><td>Map(vectorType -> dense, length -> 5, values -> List(0.0, 0.498181845925071, 0.17857143668090442, 0.6037735849056604, 0.4166666666666667))</td><td>1</td></tr><tr><td>Map(vectorType -> dense, length -> 5, values -> List(0.0, 0.509090909090909, 0.011904694325796506, 0.6226415094339622, 0.5))</td><td>1</td></tr><tr><td>Map(vectorType -> dense, length -> 5, values -> List(0.0, 0.509090909090909, 0.23809524890787256, 0.6981132075471698, 0.6666666666666666))</td><td>1</td></tr><tr><td>Map(vectorType -> dense, length -> 5, values -> List(0.0, 0.5127273559570312, 0.11904762445393628, 0.7358490566037735, 0.4652777777777778))</td><td>1</td></tr><tr><td>Map(vectorType -> dense, length -> 5, values -> List(0.0, 0.5127273559570312, 0.15476182096398766, 0.6792452830188679, 0.5416666666666666))</td><td>1</td></tr><tr><td>Map(vectorType -> dense, length -> 5, values -> List(0.0, 0.5127273559570312, 0.16666662882244604, 0.5849056603773585, 0.5833333333333334))</td><td>1</td></tr><tr><td>Map(vectorType -> dense, length -> 5, values -> List(0.0, 0.5127273559570312, 0.2142856331909558, 0.8113207547169811, 0.7222222222222222))</td><td>1</td></tr><tr><td>Map(vectorType -> dense, length -> 5, values -> List(0.0, 0.5163636641068892, 0.3214285633190956, 0.6981132075471698, 0.6527777777777778))</td><td>1</td></tr><tr><td>Map(vectorType -> dense, length -> 5, values -> List(0.0, 0.5200001109730114, 0.2261904410494142, 0.7169811320754716, 0.5555555555555556))</td><td>1</td></tr><tr><td>Map(vectorType -> dense, length -> 5, values -> List(0.0, 0.5200001109730114, 0.2976190611348407, 0.8113207547169811, 0.6388888888888888))</td><td>1</td></tr><tr><td>Map(vectorType -> dense, length -> 5, values -> List(0.0, 0.5236364191228693, 0.047619004368509764, 0.6037735849056604, 0.5138888888888888))</td><td>1</td></tr><tr><td>Map(vectorType -> dense, length -> 5, values -> List(0.0, 0.5236364191228693, 0.15476182096398766, 0.7358490566037735, 0.6111111111111112))</td><td>1</td></tr><tr><td>Map(vectorType -> dense, length -> 5, values -> List(0.0, 0.5236364191228693, 0.16666662882244604, 0.660377358490566, 0.4722222222222222))</td><td>1</td></tr><tr><td>Map(vectorType -> dense, length -> 5, values -> List(0.0, 0.5272727272727272, 0.1309523187797328, 0.6037735849056604, 0.5972222222222222))</td><td>1</td></tr><tr><td>Map(vectorType -> dense, length -> 5, values -> List(0.0, 0.5309091741388494, 0.26190475109212746, 0.7735849056603773, 0.6944444444444444))</td><td>1</td></tr><tr><td>Map(vectorType -> dense, length -> 5, values -> List(0.0, 0.5345454822887074, 0.14285712663819117, 0.6981132075471698, 0.5972222222222222))</td><td>1</td></tr><tr><td>Map(vectorType -> dense, length -> 5, values -> List(0.0, 0.5345454822887074, 0.27380944541792396, 0.6981132075471698, 0.6805555555555556))</td><td>1</td></tr><tr><td>Map(vectorType -> dense, length -> 5, values -> List(0.0, 0.5345454822887074, 0.35714287336180883, 0.6981132075471698, 0.7777777777777778))</td><td>1</td></tr><tr><td>Map(vectorType -> dense, length -> 5, values -> List(0.0, 0.5527273004705255, 0.26190475109212746, 0.830188679245283, 0.7083333333333334))</td><td>1</td></tr><tr><td>Map(vectorType -> dense, length -> 5, values -> List(0.0, 0.5563637473366477, 0.17857143668090442, 0.6415094339622641, 0.5625))</td><td>1</td></tr><tr><td>Map(vectorType -> dense, length -> 5, values -> List(0.0, 0.5600000554865057, 0.1071428165954779, 0.6415094339622641, 0.6041666666666666))</td><td>1</td></tr><tr><td>Map(vectorType -> dense, length -> 5, values -> List(0.0, 0.5600000554865057, 0.1309523187797328, 0.5849056603773585, 0.5277777777777778))</td><td>1</td></tr><tr><td>Map(vectorType -> dense, length -> 5, values -> List(0.0, 0.5600000554865057, 0.2261904410494142, 0.7547169811320754, 0.625))</td><td>1</td></tr><tr><td>Map(vectorType -> dense, length -> 5, values -> List(0.0, 0.5636363636363636, 0.16666662882244604, 0.6981132075471698, 0.75))</td><td>1</td></tr><tr><td>Map(vectorType -> dense, length -> 5, values -> List(0.0, 0.5672728105024858, 0.2261904410494142, 0.7169811320754716, 0.5694444444444444))</td><td>1</td></tr><tr><td>Map(vectorType -> dense, length -> 5, values -> List(0.0, 0.5709091186523437, 0.2261904410494142, 0.6981132075471698, 0.8194444444444444))</td><td>1</td></tr><tr><td>Map(vectorType -> dense, length -> 5, values -> List(0.0, 0.5818181818181818, 0.23809524890787256, 0.5849056603773585, 0.7777777777777778))</td><td>1</td></tr><tr><td>Map(vectorType -> dense, length -> 5, values -> List(0.0, 0.585454628684304, 0.14285712663819117, 0.6037735849056604, 0.5277777777777778))</td><td>1</td></tr><tr><td>Map(vectorType -> dense, length -> 5, values -> List(0.0, 0.5927273837002841, 0.15476182096398766, 0.4716981132075472, 0.5347222222222222))</td><td>1</td></tr><tr><td>Map(vectorType -> dense, length -> 5, values -> List(0.0, 0.5927273837002841, 0.17857143668090442, 0.660377358490566, 0.875))</td><td>1</td></tr><tr><td>Map(vectorType -> dense, length -> 5, values -> List(0.0, 0.5927273837002841, 0.3809522620134019, 0.7924528301886792, 0.75))</td><td>1</td></tr><tr><td>Map(vectorType -> dense, length -> 5, values -> List(0.0, 0.596363691850142, 0.11904762445393628, 0.7924528301886792, 0.7222222222222222))</td><td>1</td></tr><tr><td>Map(vectorType -> dense, length -> 5, values -> List(0.0, 0.6, 0.34523806550335046, 0.9811320754716981, 0.8611111111111112))</td><td>1</td></tr><tr><td>Map(vectorType -> dense, length -> 5, values -> List(0.0, 0.6036364468661222, 0.11904762445393628, 0.6037735849056604, 0.4861111111111111))</td><td>1</td></tr><tr><td>Map(vectorType -> dense, length -> 5, values -> List(0.0, 0.6072727550159801, 0.3690476812202672, 0.830188679245283, 0.9166666666666666))</td><td>1</td></tr><tr><td>Map(vectorType -> dense, length -> 5, values -> List(0.0, 0.6181818181818182, 0.16666662882244604, 0.6415094339622641, 0.5347222222222222))</td><td>1</td></tr><tr><td>Map(vectorType -> dense, length -> 5, values -> List(0.0, 0.6181818181818182, 0.20238093886515932, 0.7924528301886792, 0.6805555555555556))</td><td>1</td></tr><tr><td>Map(vectorType -> dense, length -> 5, values -> List(0.0, 0.6218182650479404, 0.24999994323366906, 0.8113207547169811, 1.0))</td><td>1</td></tr><tr><td>Map(vectorType -> dense, length -> 5, values -> List(0.0, 0.6254545731977983, 0.3095237554606372, 0.7358490566037735, 0.875))</td><td>1</td></tr><tr><td>Map(vectorType -> dense, length -> 5, values -> List(0.0, 0.6290910200639204, 0.3214285633190956, 0.7169811320754716, 0.6180555555555556))</td><td>1</td></tr><tr><td>Map(vectorType -> dense, length -> 5, values -> List(0.0, 0.6327273282137784, 0.35714287336180883, 0.8679245283018867, 0.8194444444444444))</td><td>1</td></tr><tr><td>Map(vectorType -> dense, length -> 5, values -> List(0.0, 0.6363636363636364, 0.2261904410494142, 0.7169811320754716, 0.5694444444444444))</td><td>1</td></tr><tr><td>Map(vectorType -> dense, length -> 5, values -> List(0.0, 0.6436363913796165, 0.3333332576448921, 0.9622641509433962, 0.9027777777777778))</td><td>1</td></tr><tr><td>Map(vectorType -> dense, length -> 5, values -> List(0.0, 0.6436363913796165, 0.44047607424037, 0.9811320754716981, 0.8333333333333334))</td><td>1</td></tr><tr><td>Map(vectorType -> dense, length -> 5, values -> List(0.0, 0.6472728382457386, 0.35714287336180883, 0.660377358490566, 0.75))</td><td>1</td></tr><tr><td>Map(vectorType -> dense, length -> 5, values -> List(0.0, 0.6509091463955966, 0.24999994323366906, 0.7547169811320754, 0.8333333333333334))</td><td>1</td></tr><tr><td>Map(vectorType -> dense, length -> 5, values -> List(0.0, 0.6509091463955966, 0.26190475109212746, 0.7924528301886792, 0.7916666666666666))</td><td>1</td></tr><tr><td>Map(vectorType -> dense, length -> 5, values -> List(0.0, 0.6509091463955966, 0.3333332576448921, 0.8679245283018867, 0.7361111111111112))</td><td>1</td></tr><tr><td>Map(vectorType -> dense, length -> 5, values -> List(0.0, 0.6509091463955966, 0.3809522620134019, 0.9811320754716981, 0.8333333333333334))</td><td>1</td></tr><tr><td>Map(vectorType -> dense, length -> 5, values -> List(0.0, 0.6545454545454545, 0.2261904410494142, 0.8867924528301886, 0.6388888888888888))</td><td>1</td></tr><tr><td>Map(vectorType -> dense, length -> 5, values -> List(0.0, 0.6581819014115766, 0.14285712663819117, 0.7547169811320754, 0.8333333333333334))</td><td>1</td></tr><tr><td>Map(vectorType -> dense, length -> 5, values -> List(0.0, 0.6654546564275567, 0.26190475109212746, 0.8679245283018867, 0.7916666666666666))</td><td>1</td></tr><tr><td>Map(vectorType -> dense, length -> 5, values -> List(0.0, 0.6690909645774148, 0.24999994323366906, 0.7169811320754716, 0.6388888888888888))</td><td>1</td></tr><tr><td>Map(vectorType -> dense, length -> 5, values -> List(0.0, 0.6690909645774148, 0.3333332576448921, 0.830188679245283, 0.7916666666666666))</td><td>1</td></tr><tr><td>Map(vectorType -> dense, length -> 5, values -> List(0.0, 0.6763637195933948, 0.2261904410494142, 0.8490566037735848, 0.7916666666666666))</td><td>1</td></tr><tr><td>Map(vectorType -> dense, length -> 5, values -> List(0.0, 0.6800000277432529, 0.3095237554606372, 0.9056603773584906, 0.6944444444444444))</td><td>1</td></tr><tr><td>Map(vectorType -> dense, length -> 5, values -> List(0.0, 0.6800000277432529, 0.4999998864673381, 0.9433962264150944, 0.8055555555555556))</td><td>1</td></tr><tr><td>Map(vectorType -> dense, length -> 5, values -> List(0.0, 0.6909090909090909, 0.3809522620134019, 0.7924528301886792, 0.9166666666666666))</td><td>1</td></tr><tr><td>Map(vectorType -> dense, length -> 5, values -> List(0.0, 0.6909090909090909, 0.40476187773031863, 0.8867924528301886, 0.7083333333333334))</td><td>1</td></tr><tr><td>Map(vectorType -> dense, length -> 5, values -> List(0.0, 0.698181845925071, 0.1309523187797328, 0.7547169811320754, 0.7222222222222222))</td><td>1</td></tr><tr><td>Map(vectorType -> dense, length -> 5, values -> List(0.0, 0.7054546009410511, 0.3809522620134019, 0.9811320754716981, 0.7777777777777778))</td><td>1</td></tr><tr><td>Map(vectorType -> dense, length -> 5, values -> List(0.0, 0.7272727272727273, 0.46428568995728675, 0.9811320754716981, 0.7916666666666666))</td><td>1</td></tr><tr><td>Map(vectorType -> dense, length -> 5, values -> List(0.0, 0.7309091741388494, 0.47619049781574513, 0.9433962264150944, 0.75))</td><td>1</td></tr><tr><td>Map(vectorType -> dense, length -> 5, values -> List(0.0, 0.7418182373046874, 0.2976190611348407, 0.8113207547169811, 0.7638888888888888))</td><td>1</td></tr><tr><td>Map(vectorType -> dense, length -> 5, values -> List(0.0, 0.7745455655184659, 0.3214285633190956, 0.7735849056603773, 0.7777777777777778))</td><td>1</td></tr><tr><td>Map(vectorType -> dense, length -> 5, values -> List(0.0, 0.8072727550159801, 0.3095237554606372, 1.0, 0.8194444444444444))</td><td>1</td></tr><tr><td>Map(vectorType -> dense, length -> 5, values -> List(0.0, 1.0, 0.46428568995728675, 0.9811320754716981, 0.9305555555555556))</td><td>1</td></tr><tr><td>Map(vectorType -> dense, length -> 5, values -> List(1.0, 0.0, 0.28571425327638234, 0.18867924528301885, 0.09722222222222222))</td><td>0</td></tr><tr><td>Map(vectorType -> dense, length -> 5, values -> List(1.0, 0.06909096457741477, 0.47619049781574513, 0.1320754716981132, 0.19444444444444445))</td><td>0</td></tr><tr><td>Map(vectorType -> dense, length -> 5, values -> List(1.0, 0.12727272727272726, 0.5238095021842549, 0.24528301886792453, 0.13194444444444445))</td><td>0</td></tr><tr><td>Map(vectorType -> dense, length -> 5, values -> List(1.0, 0.14181823730468748, 0.47619049781574513, 0.16981132075471697, 0.2777777777777778))</td><td>0</td></tr><tr><td>Map(vectorType -> dense, length -> 5, values -> List(1.0, 0.14181823730468748, 0.5595236986943063, 0.32075471698113206, 0.20833333333333334))</td><td>0</td></tr><tr><td>Map(vectorType -> dense, length -> 5, values -> List(1.0, 0.14181823730468748, 0.5714285065527647, 0.22641509433962265, 0.20833333333333334))</td><td>0</td></tr><tr><td>Map(vectorType -> dense, length -> 5, values -> List(1.0, 0.14181823730468748, 0.6428571266381912, 0.1509433962264151, 0.1111111111111111))</td><td>0</td></tr><tr><td>Map(vectorType -> dense, length -> 5, values -> List(1.0, 0.1563637473366477, 0.46428568995728675, 0.32075471698113206, 0.1736111111111111))</td><td>0</td></tr><tr><td>Map(vectorType -> dense, length -> 5, values -> List(1.0, 0.16000005548650567, 0.583333314411223, 0.07547169811320754, 0.125))</td><td>0</td></tr><tr><td>Map(vectorType -> dense, length -> 5, values -> List(1.0, 0.1745455655184659, 0.6547619344966495, 0.20754716981132074, 0.2222222222222222))</td><td>0</td></tr><tr><td>Map(vectorType -> dense, length -> 5, values -> List(1.0, 0.17818187366832386, 0.4523808820988284, 0.1320754716981132, 0.08333333333333333))</td><td>0</td></tr><tr><td>Map(vectorType -> dense, length -> 5, values -> List(1.0, 0.18909093683416192, 0.44047607424037, 0.2641509433962264, 0.08333333333333333))</td><td>0</td></tr><tr><td>Map(vectorType -> dense, length -> 5, values -> List(1.0, 0.18909093683416192, 0.5595236986943063, 0.24528301886792453, 0.18055555555555555))</td><td>0</td></tr><tr><td>Map(vectorType -> dense, length -> 5, values -> List(1.0, 0.19636369185014205, 0.6904761310067009, 0.018867924528301886, 0.0763888888888889))</td><td>0</td></tr><tr><td>Map(vectorType -> dense, length -> 5, values -> List(1.0, 0.19999999999999998, 0.7380951353752107, 0.05660377358490566, 0.16666666666666666))</td><td>0</td></tr><tr><td>Map(vectorType -> dense, length -> 5, values -> List(1.0, 0.21818181818181817, 0.5357143100427133, 0.16981132075471697, 0.2013888888888889))</td><td>0</td></tr><tr><td>Map(vectorType -> dense, length -> 5, values -> List(1.0, 0.21818181818181817, 0.6547619344966495, 0.22641509433962265, 0.2777777777777778))</td><td>0</td></tr><tr><td>Map(vectorType -> dense, length -> 5, values -> List(1.0, 0.24363639137961646, 0.8214285633190956, 0.22641509433962265, 0.3472222222222222))</td><td>0</td></tr><tr><td>Map(vectorType -> dense, length -> 5, values -> List(1.0, 0.24727283824573862, 0.6785713231482425, 0.22641509433962265, 0.25))</td><td>0</td></tr><tr><td>Map(vectorType -> dense, length -> 5, values -> List(1.0, 0.2509091463955966, 0.6666667423551079, 0.1320754716981132, 0.2638888888888889))</td><td>0</td></tr><tr><td>Map(vectorType -> dense, length -> 5, values -> List(1.0, 0.26909096457741477, 0.4285714934472354, 0.0, 0.1527777777777778))</td><td>0</td></tr><tr><td>Map(vectorType -> dense, length -> 5, values -> List(1.0, 0.26909096457741477, 0.5595236986943063, 0.18867924528301885, 0.16666666666666666))</td><td>0</td></tr><tr><td>Map(vectorType -> dense, length -> 5, values -> List(1.0, 0.2727272727272727, 0.5952381222696814, 0.1509433962264151, 0.4861111111111111))</td><td>0</td></tr><tr><td>Map(vectorType -> dense, length -> 5, values -> List(1.0, 0.2727272727272727, 0.6785713231482425, 0.22641509433962265, 0.5277777777777778))</td><td>0</td></tr><tr><td>Map(vectorType -> dense, length -> 5, values -> List(1.0, 0.2763637195933949, 0.5714285065527647, 0.2830188679245283, 0.4305555555555556))</td><td>0</td></tr><tr><td>Map(vectorType -> dense, length -> 5, values -> List(1.0, 0.28000002774325283, 0.7142857467236177, 0.11320754716981132, 0.5416666666666666))</td><td>0</td></tr><tr><td>Map(vectorType -> dense, length -> 5, values -> List(1.0, 0.298181845925071, 0.6428571266381912, 0.33962264150943394, 0.4583333333333333))</td><td>0</td></tr><tr><td>Map(vectorType -> dense, length -> 5, values -> List(1.0, 0.3127273559570312, 0.46428568995728675, 0.22641509433962265, 0.2847222222222222))</td><td>0</td></tr><tr><td>Map(vectorType -> dense, length -> 5, values -> List(1.0, 0.3163636641068892, 0.6309523187797328, 0.32075471698113206, 0.3333333333333333))</td><td>0</td></tr><tr><td>Map(vectorType -> dense, length -> 5, values -> List(1.0, 0.3163636641068892, 0.6904761310067009, 0.5660377358490566, 0.4444444444444444))</td><td>0</td></tr><tr><td>Map(vectorType -> dense, length -> 5, values -> List(1.0, 0.32000011097301134, 0.6904761310067009, 0.11320754716981132, 0.3333333333333333))</td><td>0</td></tr><tr><td>Map(vectorType -> dense, length -> 5, values -> List(1.0, 0.32727272727272727, 0.5238095021842549, 0.22641509433962265, 0.3333333333333333))</td><td>0</td></tr><tr><td>Map(vectorType -> dense, length -> 5, values -> List(1.0, 0.32727272727272727, 0.5952381222696814, 0.5094339622641509, 0.4444444444444444))</td><td>0</td></tr><tr><td>Map(vectorType -> dense, length -> 5, values -> List(1.0, 0.32727272727272727, 0.7023809388651593, 0.07547169811320754, 0.2013888888888889))</td><td>0</td></tr><tr><td>Map(vectorType -> dense, length -> 5, values -> List(1.0, 0.3345454822887074, 0.857142759829147, 0.3018867924528302, 0.2361111111111111))</td><td>0</td></tr><tr><td>Map(vectorType -> dense, length -> 5, values -> List(1.0, 0.3672728105024858, 0.6428571266381912, 0.03773584905660377, 0.2361111111111111))</td><td>0</td></tr><tr><td>Map(vectorType -> dense, length -> 5, values -> List(1.0, 0.3745455655184659, 0.4999998864673381, 0.05660377358490566, 0.25))</td><td>2</td></tr><tr><td>Map(vectorType -> dense, length -> 5, values -> List(1.0, 0.37818187366832384, 0.4285714934472354, 0.16981132075471697, 0.18055555555555555))</td><td>2</td></tr><tr><td>Map(vectorType -> dense, length -> 5, values -> List(1.0, 0.37818187366832384, 0.4999998864673381, 0.16981132075471697, 0.18055555555555555))</td><td>2</td></tr><tr><td>Map(vectorType -> dense, length -> 5, values -> List(1.0, 0.40363644686612216, 0.6428571266381912, 0.2641509433962264, 0.3888888888888889))</td><td>0</td></tr><tr><td>Map(vectorType -> dense, length -> 5, values -> List(1.0, 0.43636363636363634, 0.7857143668090442, 0.33962264150943394, 0.4722222222222222))</td><td>0</td></tr><tr><td>Map(vectorType -> dense, length -> 5, values -> List(1.0, 0.47636371959339485, 0.416666685588777, 0.24528301886792453, 0.1527777777777778))</td><td>2</td></tr><tr><td>Map(vectorType -> dense, length -> 5, values -> List(1.0, 0.47636371959339485, 0.5595236986943063, 0.3773584905660377, 0.3472222222222222))</td><td>2</td></tr><tr><td>Map(vectorType -> dense, length -> 5, values -> List(1.0, 0.483636474609375, 0.6666667423551079, 0.18867924528301885, 0.22916666666666666))</td><td>2</td></tr><tr><td>Map(vectorType -> dense, length -> 5, values -> List(1.0, 0.4872727827592329, 0.46428568995728675, 0.33962264150943394, 0.2222222222222222))</td><td>2</td></tr><tr><td>Map(vectorType -> dense, length -> 5, values -> List(1.0, 0.4909090909090909, 0.749999943233669, 0.3018867924528302, 0.22916666666666666))</td><td>2</td></tr><tr><td>Map(vectorType -> dense, length -> 5, values -> List(1.0, 0.49454553777521304, 0.46428568995728675, 0.32075471698113206, 0.2638888888888889))</td><td>2</td></tr><tr><td>Map(vectorType -> dense, length -> 5, values -> List(1.0, 0.49454553777521304, 0.4999998864673381, 0.2830188679245283, 0.25))</td><td>2</td></tr><tr><td>Map(vectorType -> dense, length -> 5, values -> List(1.0, 0.5018182927911932, 0.47619049781574513, 0.22641509433962265, 0.24305555555555555))</td><td>2</td></tr><tr><td>Map(vectorType -> dense, length -> 5, values -> List(1.0, 0.5054546009410511, 0.6904761310067009, 0.32075471698113206, 0.4027777777777778))</td><td>2</td></tr><tr><td>Map(vectorType -> dense, length -> 5, values -> List(1.0, 0.509090909090909, 0.6071429301281398, 0.0, 0.1527777777777778))</td><td>2</td></tr><tr><td>Map(vectorType -> dense, length -> 5, values -> List(1.0, 0.5236364191228693, 0.5714285065527647, 0.2641509433962264, 0.2222222222222222))</td><td>2</td></tr><tr><td>Map(vectorType -> dense, length -> 5, values -> List(1.0, 0.5272727272727272, 0.5595236986943063, 0.2830188679245283, 0.3055555555555556))</td><td>2</td></tr><tr><td>Map(vectorType -> dense, length -> 5, values -> List(1.0, 0.5309091741388494, 0.5714285065527647, 0.32075471698113206, 0.16666666666666666))</td><td>2</td></tr><tr><td>Map(vectorType -> dense, length -> 5, values -> List(1.0, 0.5345454822887074, 0.40476187773031863, 0.20754716981132074, 0.2638888888888889))</td><td>2</td></tr><tr><td>Map(vectorType -> dense, length -> 5, values -> List(1.0, 0.5381819291548295, 0.416666685588777, 0.2641509433962264, 0.0))</td><td>2</td></tr><tr><td>Map(vectorType -> dense, length -> 5, values -> List(1.0, 0.5418182373046875, 0.4999998864673381, 0.1320754716981132, 0.2777777777777778))</td><td>2</td></tr><tr><td>Map(vectorType -> dense, length -> 5, values -> List(1.0, 0.5636363636363636, 0.6190475109212744, 0.32075471698113206, 0.3194444444444444))</td><td>2</td></tr><tr><td>Map(vectorType -> dense, length -> 5, values -> List(1.0, 0.5818181818181818, 0.39285706987186025, 0.3962264150943396, 0.1736111111111111))</td><td>2</td></tr><tr><td>Map(vectorType -> dense, length -> 5, values -> List(1.0, 0.596363691850142, 0.5238095021842549, 0.24528301886792453, 0.19444444444444445))</td><td>2</td></tr><tr><td>Map(vectorType -> dense, length -> 5, values -> List(1.0, 0.6145455100319602, 0.7738095589505858, 0.6415094339622641, 0.4444444444444444))</td><td>2</td></tr><tr><td>Map(vectorType -> dense, length -> 5, values -> List(1.0, 0.6218182650479404, 0.6071429301281398, 0.32075471698113206, 0.4722222222222222))</td><td>2</td></tr><tr><td>Map(vectorType -> dense, length -> 5, values -> List(1.0, 0.6254545731977983, 0.8095237554606373, 0.4716981132075472, 0.375))</td><td>2</td></tr><tr><td>Map(vectorType -> dense, length -> 5, values -> List(1.0, 0.6327273282137784, 0.7023809388651593, 0.4150943396226415, 0.3055555555555556))</td><td>2</td></tr><tr><td>Map(vectorType -> dense, length -> 5, values -> List(1.0, 0.6363636363636364, 0.6071429301281398, 0.2830188679245283, 0.2986111111111111))</td><td>2</td></tr><tr><td>Map(vectorType -> dense, length -> 5, values -> List(1.0, 0.6400000832297585, 0.6547619344966495, 0.32075471698113206, 0.25))</td><td>2</td></tr><tr><td>Map(vectorType -> dense, length -> 5, values -> List(1.0, 0.6436363913796165, 0.4999998864673381, 0.3773584905660377, 0.2708333333333333))</td><td>2</td></tr><tr><td>Map(vectorType -> dense, length -> 5, values -> List(1.0, 0.6545454545454545, 0.5714285065527647, 0.22641509433962265, 0.19444444444444445))</td><td>2</td></tr><tr><td>Map(vectorType -> dense, length -> 5, values -> List(1.0, 0.6581819014115766, 0.6666667423551079, 0.3773584905660377, 0.2986111111111111))</td><td>2</td></tr><tr><td>Map(vectorType -> dense, length -> 5, values -> List(1.0, 0.6581819014115766, 0.6785713231482425, 0.4528301886792453, 0.3055555555555556))</td><td>2</td></tr><tr><td>Map(vectorType -> dense, length -> 5, values -> List(1.0, 0.6690909645774148, 0.6309523187797328, 0.4150943396226415, 0.19444444444444445))</td><td>2</td></tr><tr><td>Map(vectorType -> dense, length -> 5, values -> List(1.0, 0.6727272727272727, 0.749999943233669, 0.2830188679245283, 0.3055555555555556))</td><td>2</td></tr><tr><td>Map(vectorType -> dense, length -> 5, values -> List(1.0, 0.6763637195933948, 0.7857143668090442, 0.4716981132075472, 0.375))</td><td>2</td></tr><tr><td>Map(vectorType -> dense, length -> 5, values -> List(1.0, 0.6800000277432529, 0.6428571266381912, 0.43396226415094336, 0.4861111111111111))</td><td>2</td></tr><tr><td>Map(vectorType -> dense, length -> 5, values -> List(1.0, 0.6836364746093749, 0.5714285065527647, 0.33962264150943394, 0.2708333333333333))</td><td>2</td></tr><tr><td>Map(vectorType -> dense, length -> 5, values -> List(1.0, 0.6836364746093749, 0.7142857467236177, 0.33962264150943394, 0.2361111111111111))</td><td>2</td></tr><tr><td>Map(vectorType -> dense, length -> 5, values -> List(1.0, 0.6872727827592329, 0.6785713231482425, 0.4716981132075472, 0.3888888888888889))</td><td>2</td></tr><tr><td>Map(vectorType -> dense, length -> 5, values -> List(1.0, 0.698181845925071, 0.726190554582076, 0.2830188679245283, 0.2638888888888889))</td><td>2</td></tr><tr><td>Map(vectorType -> dense, length -> 5, values -> List(1.0, 0.698181845925071, 0.8095237554606373, 0.3773584905660377, 0.2777777777777778))</td><td>2</td></tr><tr><td>Map(vectorType -> dense, length -> 5, values -> List(1.0, 0.7018182927911931, 0.7023809388651593, 0.43396226415094336, 0.3472222222222222))</td><td>2</td></tr><tr><td>Map(vectorType -> dense, length -> 5, values -> List(1.0, 0.7054546009410511, 0.6666667423551079, 0.16981132075471697, 0.1527777777777778))</td><td>2</td></tr><tr><td>Map(vectorType -> dense, length -> 5, values -> List(1.0, 0.7127273559570312, 0.857142759829147, 0.3018867924528302, 0.2986111111111111))</td><td>2</td></tr><tr><td>Map(vectorType -> dense, length -> 5, values -> List(1.0, 0.7200001109730113, 0.7619047510921274, 0.5283018867924528, 0.3472222222222222))</td><td>2</td></tr><tr><td>Map(vectorType -> dense, length -> 5, values -> List(1.0, 0.7236364191228692, 0.5952381222696814, 0.43396226415094336, 0.375))</td><td>2</td></tr><tr><td>Map(vectorType -> dense, length -> 5, values -> List(1.0, 0.7236364191228692, 0.7023809388651593, 0.3584905660377358, 0.4027777777777778))</td><td>2</td></tr><tr><td>Map(vectorType -> dense, length -> 5, values -> List(1.0, 0.7236364191228692, 0.9047619912629805, 0.6037735849056604, 0.5833333333333334))</td><td>2</td></tr><tr><td>Map(vectorType -> dense, length -> 5, values -> List(1.0, 0.7309091741388494, 0.6785713231482425, 0.3584905660377358, 0.20833333333333334))</td><td>2</td></tr><tr><td>Map(vectorType -> dense, length -> 5, values -> List(1.0, 0.7490909923206676, 0.7976189476021789, 0.3584905660377358, 0.2847222222222222))</td><td>2</td></tr><tr><td>Map(vectorType -> dense, length -> 5, values -> List(1.0, 0.7527273004705255, 0.8214285633190956, 0.5094339622641509, 0.5138888888888888))</td><td>2</td></tr><tr><td>Map(vectorType -> dense, length -> 5, values -> List(1.0, 0.7781818736683238, 0.8095237554606373, 0.5094339622641509, 0.5))</td><td>2</td></tr><tr><td>Map(vectorType -> dense, length -> 5, values -> List(1.0, 0.8036364468661221, 0.9166665720561151, 0.43396226415094336, 0.4444444444444444))</td><td>2</td></tr><tr><td>Map(vectorType -> dense, length -> 5, values -> List(1.0, 0.8618182095614346, 0.7976189476021789, 0.5471698113207547, 0.3611111111111111))</td><td>2</td></tr><tr><td>Map(vectorType -> dense, length -> 5, values -> List(2.0, 0.050909146395596586, 0.7023809388651593, 0.22641509433962265, 0.25))</td><td>0</td></tr><tr><td>Map(vectorType -> dense, length -> 5, values -> List(2.0, 0.07272727272727272, 0.5952381222696814, 0.2830188679245283, 0.2152777777777778))</td><td>0</td></tr><tr><td>Map(vectorType -> dense, length -> 5, values -> List(2.0, 0.083636474609375, 0.6309523187797328, 0.11320754716981132, 0.1736111111111111))</td><td>0</td></tr><tr><td>Map(vectorType -> dense, length -> 5, values -> List(2.0, 0.09090909090909091, 0.4880953056742035, 0.20754716981132074, 0.1388888888888889))</td><td>0</td></tr><tr><td>Map(vectorType -> dense, length -> 5, values -> List(2.0, 0.09090909090909091, 0.9523809956314903, 0.3773584905660377, 0.4722222222222222))</td><td>0</td></tr><tr><td>Map(vectorType -> dense, length -> 5, values -> List(2.0, 0.11272735595703125, 0.3333332576448921, 0.1509433962264151, 0.09722222222222222))</td><td>0</td></tr><tr><td>Map(vectorType -> dense, length -> 5, values -> List(2.0, 0.13090917413884942, 0.46428568995728675, 0.20754716981132074, 0.18055555555555555))</td><td>0</td></tr><tr><td>Map(vectorType -> dense, length -> 5, values -> List(2.0, 0.13818192915482955, 0.416666685588777, 0.22641509433962265, 0.09722222222222222))</td><td>0</td></tr><tr><td>Map(vectorType -> dense, length -> 5, values -> List(2.0, 0.1490909923206676, 0.4880953056742035, 0.16981132075471697, 0.125))</td><td>0</td></tr><tr><td>Map(vectorType -> dense, length -> 5, values -> List(2.0, 0.16363636363636364, 0.5595236986943063, 0.1320754716981132, 0.2777777777777778))</td><td>0</td></tr><tr><td>Map(vectorType -> dense, length -> 5, values -> List(2.0, 0.18545462868430396, 0.749999943233669, 0.11320754716981132, 0.3333333333333333))</td><td>0</td></tr><tr><td>Map(vectorType -> dense, length -> 5, values -> List(2.0, 0.20363644686612214, 0.7976189476021789, 0.3773584905660377, 0.2222222222222222))</td><td>0</td></tr><tr><td>Map(vectorType -> dense, length -> 5, values -> List(2.0, 0.2072727550159801, 0.47619049781574513, 0.1509433962264151, 0.16666666666666666))</td><td>0</td></tr><tr><td>Map(vectorType -> dense, length -> 5, values -> List(2.0, 0.2072727550159801, 0.4999998864673381, 0.03773584905660377, 0.2777777777777778))</td><td>0</td></tr><tr><td>Map(vectorType -> dense, length -> 5, values -> List(2.0, 0.2327273282137784, 0.5714285065527647, 0.22641509433962265, 0.1736111111111111))</td><td>0</td></tr><tr><td>Map(vectorType -> dense, length -> 5, values -> List(2.0, 0.23636363636363636, 0.46428568995728675, 0.18867924528301885, 0.05555555555555555))</td><td>0</td></tr><tr><td>Map(vectorType -> dense, length -> 5, values -> List(2.0, 0.23636363636363636, 0.9642858034899486, 0.24528301886792453, 0.3055555555555556))</td><td>0</td></tr><tr><td>Map(vectorType -> dense, length -> 5, values -> List(2.0, 0.24000008322975852, 0.7023809388651593, 0.32075471698113206, 0.20833333333333334))</td><td>0</td></tr><tr><td>Map(vectorType -> dense, length -> 5, values -> List(2.0, 0.24363639137961646, 0.5357143100427133, 0.24528301886792453, 0.1597222222222222))</td><td>0</td></tr><tr><td>Map(vectorType -> dense, length -> 5, values -> List(2.0, 0.2509091463955966, 0.47619049781574513, 0.24528301886792453, 0.09722222222222222))</td><td>0</td></tr><tr><td>Map(vectorType -> dense, length -> 5, values -> List(2.0, 0.2545454545454545, 0.6666667423551079, 0.05660377358490566, 0.2916666666666667))</td><td>0</td></tr><tr><td>Map(vectorType -> dense, length -> 5, values -> List(2.0, 0.26181820956143464, 0.8928571834045221, 0.22641509433962265, 0.2638888888888889))</td><td>0</td></tr><tr><td>Map(vectorType -> dense, length -> 5, values -> List(2.0, 0.2727272727272727, 0.4880953056742035, 0.33962264150943394, 0.2361111111111111))</td><td>0</td></tr><tr><td>Map(vectorType -> dense, length -> 5, values -> List(2.0, 0.2763637195933949, 0.6309523187797328, 0.22641509433962265, 0.3333333333333333))</td><td>0</td></tr><tr><td>Map(vectorType -> dense, length -> 5, values -> List(2.0, 0.298181845925071, 0.583333314411223, 0.32075471698113206, 0.1527777777777778))</td><td>0</td></tr><tr><td>Map(vectorType -> dense, length -> 5, values -> List(2.0, 0.3090909090909091, 0.7023809388651593, 0.3962264150943396, 0.3611111111111111))</td><td>0</td></tr><tr><td>Map(vectorType -> dense, length -> 5, values -> List(2.0, 0.32727272727272727, 0.5357143100427133, 0.07547169811320754, 0.1388888888888889))</td><td>0</td></tr><tr><td>Map(vectorType -> dense, length -> 5, values -> List(2.0, 0.32727272727272727, 0.6547619344966495, 0.20754716981132074, 0.1736111111111111))</td><td>0</td></tr><tr><td>Map(vectorType -> dense, length -> 5, values -> List(2.0, 0.33818192915482953, 0.6428571266381912, 0.4528301886792453, 0.3263888888888889))</td><td>0</td></tr><tr><td>Map(vectorType -> dense, length -> 5, values -> List(2.0, 0.34181823730468747, 0.6190475109212744, 0.32075471698113206, 0.4444444444444444))</td><td>0</td></tr><tr><td>Map(vectorType -> dense, length -> 5, values -> List(2.0, 0.35272730047052553, 0.749999943233669, 0.3773584905660377, 0.4861111111111111))</td><td>0</td></tr><tr><td>Map(vectorType -> dense, length -> 5, values -> List(2.0, 0.36000005548650565, 0.8452381790360124, 0.22641509433962265, 0.4305555555555556))</td><td>0</td></tr><tr><td>Map(vectorType -> dense, length -> 5, values -> List(2.0, 0.36363636363636365, 0.7142857467236177, 0.32075471698113206, 0.3611111111111111))</td><td>0</td></tr><tr><td>Map(vectorType -> dense, length -> 5, values -> List(2.0, 0.37818187366832384, 0.9047619912629805, 0.3584905660377358, 0.5))</td><td>0</td></tr><tr><td>Map(vectorType -> dense, length -> 5, values -> List(2.0, 0.3890909368341619, 0.6428571266381912, 0.32075471698113206, 0.4305555555555556))</td><td>0</td></tr><tr><td>Map(vectorType -> dense, length -> 5, values -> List(2.0, 0.39999999999999997, 0.726190554582076, 0.3584905660377358, 0.2222222222222222))</td><td>0</td></tr><tr><td>Map(vectorType -> dense, length -> 5, values -> List(2.0, 0.498181845925071, 0.6904761310067009, 0.3584905660377358, 0.4027777777777778))</td><td>0</td></tr><tr><td>Map(vectorType -> dense, length -> 5, values -> List(2.0, 0.5054546009410511, 1.0, 0.3018867924528302, 0.4166666666666667))</td><td>0</td></tr></tbody></table></div>"
      ]
     },
     "metadata": {
      "application/vnd.databricks.v1+output": {
       "addedWidgets": {},
       "aggData": [],
       "aggError": "",
       "aggOverflow": false,
       "aggSchema": [],
       "aggSeriesLimitReached": false,
       "aggType": "",
       "arguments": {},
       "columnCustomDisplayInfos": {},
       "data": [
        [
         {
          "length": 5,
          "values": [
           0.0,
           0.08727278275923295,
           0.5952381222696814,
           0.16981132075471697,
           0.05555555555555555
          ],
          "vectorType": "dense"
         },
         0
        ],
        [
         {
          "length": 5,
          "values": [
           0.0,
           0.10545460094105114,
           0.5714285065527647,
           0.22641509433962265,
           0.20833333333333334
          ],
          "vectorType": "dense"
         },
         0
        ],
        [
         {
          "length": 5,
          "values": [
           0.0,
           0.1163636641068892,
           0.6904761310067009,
           0.16981132075471697,
           0.3055555555555556
          ],
          "vectorType": "dense"
         },
         0
        ],
        [
         {
          "length": 5,
          "values": [
           0.0,
           0.12363641912286931,
           0.3690476812202672,
           0.32075471698113206,
           0.18055555555555555
          ],
          "vectorType": "dense"
         },
         0
        ],
        [
         {
          "length": 5,
          "values": [
           0.0,
           0.13090917413884942,
           0.4523808820988284,
           0.1320754716981132,
           0.125
          ],
          "vectorType": "dense"
         },
         0
        ],
        [
         {
          "length": 5,
          "values": [
           0.0,
           0.13818192915482955,
           0.726190554582076,
           0.20754716981132074,
           0.3055555555555556
          ],
          "vectorType": "dense"
         },
         0
        ],
        [
         {
          "length": 5,
          "values": [
           0.0,
           0.1563637473366477,
           0.47619049781574513,
           0.11320754716981132,
           0.041666666666666664
          ],
          "vectorType": "dense"
         },
         0
        ],
        [
         {
          "length": 5,
          "values": [
           0.0,
           0.19999999999999998,
           0.46428568995728675,
           0.1320754716981132,
           0.25
          ],
          "vectorType": "dense"
         },
         0
        ],
        [
         {
          "length": 5,
          "values": [
           0.0,
           0.19999999999999998,
           0.7142857467236177,
           0.3018867924528302,
           0.2916666666666667
          ],
          "vectorType": "dense"
         },
         0
        ],
        [
         {
          "length": 5,
          "values": [
           0.0,
           0.20363644686612214,
           0.6666667423551079,
           0.03773584905660377,
           0.25
          ],
          "vectorType": "dense"
         },
         0
        ],
        [
         {
          "length": 5,
          "values": [
           0.0,
           0.21090920188210227,
           0.6547619344966495,
           0.2830188679245283,
           0.0625
          ],
          "vectorType": "dense"
         },
         0
        ],
        [
         {
          "length": 5,
          "values": [
           0.0,
           0.21818181818181817,
           0.40476187773031863,
           0.3773584905660377,
           0.3125
          ],
          "vectorType": "dense"
         },
         0
        ],
        [
         {
          "length": 5,
          "values": [
           0.0,
           0.21818181818181817,
           0.46428568995728675,
           0.05660377358490566,
           0.13194444444444445
          ],
          "vectorType": "dense"
         },
         0
        ],
        [
         {
          "length": 5,
          "values": [
           0.0,
           0.22181826504794033,
           0.5952381222696814,
           0.1320754716981132,
           0.3472222222222222
          ],
          "vectorType": "dense"
         },
         0
        ],
        [
         {
          "length": 5,
          "values": [
           0.0,
           0.22181826504794033,
           0.8214285633190956,
           0.22641509433962265,
           0.3333333333333333
          ],
          "vectorType": "dense"
         },
         0
        ],
        [
         {
          "length": 5,
          "values": [
           0.0,
           0.23636363636363636,
           0.4880953056742035,
           0.3962264150943396,
           0.2916666666666667
          ],
          "vectorType": "dense"
         },
         0
        ],
        [
         {
          "length": 5,
          "values": [
           0.0,
           0.24363639137961646,
           0.4880953056742035,
           0.03773584905660377,
           0.3055555555555556
          ],
          "vectorType": "dense"
         },
         0
        ],
        [
         {
          "length": 5,
          "values": [
           0.0,
           0.2509091463955966,
           0.5238095021842549,
           0.1509433962264151,
           0.2361111111111111
          ],
          "vectorType": "dense"
         },
         0
        ],
        [
         {
          "length": 5,
          "values": [
           0.0,
           0.2727272727272727,
           0.5476191179011717,
           0.1509433962264151,
           0.2222222222222222
          ],
          "vectorType": "dense"
         },
         0
        ],
        [
         {
          "length": 5,
          "values": [
           0.0,
           0.2727272727272727,
           0.9047619912629805,
           0.24528301886792453,
           0.3333333333333333
          ],
          "vectorType": "dense"
         },
         0
        ],
        [
         {
          "length": 5,
          "values": [
           0.0,
           0.2763637195933949,
           0.5476191179011717,
           0.2830188679245283,
           0.1388888888888889
          ],
          "vectorType": "dense"
         },
         0
        ],
        [
         {
          "length": 5,
          "values": [
           0.0,
           0.2909090909090909,
           0.6904761310067009,
           0.18867924528301885,
           0.4444444444444444
          ],
          "vectorType": "dense"
         },
         0
        ],
        [
         {
          "length": 5,
          "values": [
           0.0,
           0.30545460094105115,
           0.5714285065527647,
           0.16981132075471697,
           0.1388888888888889
          ],
          "vectorType": "dense"
         },
         0
        ],
        [
         {
          "length": 5,
          "values": [
           0.0,
           0.30545460094105115,
           0.6904761310067009,
           0.03773584905660377,
           0.3472222222222222
          ],
          "vectorType": "dense"
         },
         0
        ],
        [
         {
          "length": 5,
          "values": [
           0.0,
           0.3090909090909091,
           0.6785713231482425,
           0.2830188679245283,
           0.3055555555555556
          ],
          "vectorType": "dense"
         },
         0
        ],
        [
         {
          "length": 5,
          "values": [
           0.0,
           0.32000011097301134,
           0.07142850655276464,
           0.6792452830188679,
           0.5416666666666666
          ],
          "vectorType": "dense"
         },
         1
        ],
        [
         {
          "length": 5,
          "values": [
           0.0,
           0.3236364191228693,
           0.8214285633190956,
           0.4716981132075472,
           0.5625
          ],
          "vectorType": "dense"
         },
         0
        ],
        [
         {
          "length": 5,
          "values": [
           0.0,
           0.32727272727272727,
           0.6071429301281398,
           0.2641509433962264,
           0.375
          ],
          "vectorType": "dense"
         },
         0
        ],
        [
         {
          "length": 5,
          "values": [
           0.0,
           0.32727272727272727,
           0.7142857467236177,
           0.18867924528301885,
           0.3888888888888889
          ],
          "vectorType": "dense"
         },
         0
        ],
        [
         {
          "length": 5,
          "values": [
           0.0,
           0.3345454822887074,
           0.9523809956314903,
           0.32075471698113206,
           0.4722222222222222
          ],
          "vectorType": "dense"
         },
         0
        ],
        [
         {
          "length": 5,
          "values": [
           0.0,
           0.33818192915482953,
           0.6547619344966495,
           0.24528301886792453,
           0.2777777777777778
          ],
          "vectorType": "dense"
         },
         0
        ],
        [
         {
          "length": 5,
          "values": [
           0.0,
           0.34545454545454546,
           0.583333314411223,
           0.2641509433962264,
           0.3472222222222222
          ],
          "vectorType": "dense"
         },
         0
        ],
        [
         {
          "length": 5,
          "values": [
           0.0,
           0.3490909923206676,
           0.19047613100670094,
           0.6037735849056604,
           0.5555555555555556
          ],
          "vectorType": "dense"
         },
         1
        ],
        [
         {
          "length": 5,
          "values": [
           0.0,
           0.36000005548650565,
           0.047619004368509764,
           0.6037735849056604,
           0.4027777777777778
          ],
          "vectorType": "dense"
         },
         1
        ],
        [
         {
          "length": 5,
          "values": [
           0.0,
           0.36000005548650565,
           0.7619047510921274,
           0.4150943396226415,
           0.375
          ],
          "vectorType": "dense"
         },
         0
        ],
        [
         {
          "length": 5,
          "values": [
           0.0,
           0.3818181818181818,
           0.07142850655276464,
           0.660377358490566,
           0.625
          ],
          "vectorType": "dense"
         },
         1
        ],
        [
         {
          "length": 5,
          "values": [
           0.0,
           0.38545462868430397,
           0.07142850655276464,
           0.5660377358490566,
           0.3472222222222222
          ],
          "vectorType": "dense"
         },
         1
        ],
        [
         {
          "length": 5,
          "values": [
           0.0,
           0.3890909368341619,
           0.1309523187797328,
           0.5849056603773585,
           0.5555555555555556
          ],
          "vectorType": "dense"
         },
         1
        ],
        [
         {
          "length": 5,
          "values": [
           0.0,
           0.3927273837002841,
           0.0,
           0.6981132075471698,
           0.6388888888888888
          ],
          "vectorType": "dense"
         },
         1
        ],
        [
         {
          "length": 5,
          "values": [
           0.0,
           0.40363644686612216,
           0.16666662882244604,
           0.5660377358490566,
           0.4861111111111111
          ],
          "vectorType": "dense"
         },
         1
        ],
        [
         {
          "length": 5,
          "values": [
           0.0,
           0.40363644686612216,
           0.7023809388651593,
           0.3584905660377358,
           0.5763888888888888
          ],
          "vectorType": "dense"
         },
         0
        ],
        [
         {
          "length": 5,
          "values": [
           0.0,
           0.4072727550159801,
           0.1071428165954779,
           0.5660377358490566,
           0.5208333333333334
          ],
          "vectorType": "dense"
         },
         1
        ],
        [
         {
          "length": 5,
          "values": [
           0.0,
           0.4145455100319602,
           0.24999994323366906,
           0.660377358490566,
           0.5416666666666666
          ],
          "vectorType": "dense"
         },
         1
        ],
        [
         {
          "length": 5,
          "values": [
           0.0,
           0.4254545731977983,
           0.09523800873701953,
           0.5660377358490566,
           0.4444444444444444
          ],
          "vectorType": "dense"
         },
         1
        ],
        [
         {
          "length": 5,
          "values": [
           0.0,
           0.4327273282137784,
           0.05952381222696814,
           0.5660377358490566,
           0.4583333333333333
          ],
          "vectorType": "dense"
         },
         1
        ],
        [
         {
          "length": 5,
          "values": [
           0.0,
           0.4472728382457386,
           0.4999998864673381,
           0.7735849056603773,
           0.7083333333333334
          ],
          "vectorType": "dense"
         },
         1
        ],
        [
         {
          "length": 5,
          "values": [
           0.0,
           0.4509091463955966,
           0.14285712663819117,
           0.7169811320754716,
           0.3888888888888889
          ],
          "vectorType": "dense"
         },
         1
        ],
        [
         {
          "length": 5,
          "values": [
           0.0,
           0.4509091463955966,
           0.19047613100670094,
           0.6792452830188679,
           0.5972222222222222
          ],
          "vectorType": "dense"
         },
         1
        ],
        [
         {
          "length": 5,
          "values": [
           0.0,
           0.4509091463955966,
           0.3095237554606372,
           0.7358490566037735,
           0.6041666666666666
          ],
          "vectorType": "dense"
         },
         1
        ],
        [
         {
          "length": 5,
          "values": [
           0.0,
           0.4654546564275568,
           0.023809502184254882,
           0.660377358490566,
           0.6666666666666666
          ],
          "vectorType": "dense"
         },
         1
        ],
        [
         {
          "length": 5,
          "values": [
           0.0,
           0.4727272727272727,
           0.16666662882244604,
           0.5471698113207547,
           0.6527777777777778
          ],
          "vectorType": "dense"
         },
         1
        ],
        [
         {
          "length": 5,
          "values": [
           0.0,
           0.4727272727272727,
           0.16666662882244604,
           0.6981132075471698,
           0.6388888888888888
          ],
          "vectorType": "dense"
         },
         1
        ],
        [
         {
          "length": 5,
          "values": [
           0.0,
           0.47636371959339485,
           0.08333331441122302,
           0.6981132075471698,
           0.5694444444444444
          ],
          "vectorType": "dense"
         },
         1
        ],
        [
         {
          "length": 5,
          "values": [
           0.0,
           0.47636371959339485,
           0.20238093886515932,
           0.6415094339622641,
           0.6944444444444444
          ],
          "vectorType": "dense"
         },
         1
        ],
        [
         {
          "length": 5,
          "values": [
           0.0,
           0.47636371959339485,
           0.3214285633190956,
           0.6981132075471698,
           0.7222222222222222
          ],
          "vectorType": "dense"
         },
         1
        ],
        [
         {
          "length": 5,
          "values": [
           0.0,
           0.48000002774325284,
           0.07142850655276464,
           0.6037735849056604,
           0.4444444444444444
          ],
          "vectorType": "dense"
         },
         1
        ],
        [
         {
          "length": 5,
          "values": [
           0.0,
           0.4872727827592329,
           0.16666662882244604,
           0.6415094339622641,
           0.5694444444444444
          ],
          "vectorType": "dense"
         },
         1
        ],
        [
         {
          "length": 5,
          "values": [
           0.0,
           0.4872727827592329,
           0.2261904410494142,
           0.7924528301886792,
           0.6388888888888888
          ],
          "vectorType": "dense"
         },
         1
        ],
        [
         {
          "length": 5,
          "values": [
           0.0,
           0.4909090909090909,
           0.857142759829147,
           0.24528301886792453,
           0.5277777777777778
          ],
          "vectorType": "dense"
         },
         0
        ],
        [
         {
          "length": 5,
          "values": [
           0.0,
           0.49454553777521304,
           0.09523800873701953,
           0.6792452830188679,
           0.4722222222222222
          ],
          "vectorType": "dense"
         },
         1
        ],
        [
         {
          "length": 5,
          "values": [
           0.0,
           0.498181845925071,
           0.1309523187797328,
           0.7735849056603773,
           0.5555555555555556
          ],
          "vectorType": "dense"
         },
         1
        ],
        [
         {
          "length": 5,
          "values": [
           0.0,
           0.498181845925071,
           0.17857143668090442,
           0.6037735849056604,
           0.4166666666666667
          ],
          "vectorType": "dense"
         },
         1
        ],
        [
         {
          "length": 5,
          "values": [
           0.0,
           0.509090909090909,
           0.011904694325796506,
           0.6226415094339622,
           0.5
          ],
          "vectorType": "dense"
         },
         1
        ],
        [
         {
          "length": 5,
          "values": [
           0.0,
           0.509090909090909,
           0.23809524890787256,
           0.6981132075471698,
           0.6666666666666666
          ],
          "vectorType": "dense"
         },
         1
        ],
        [
         {
          "length": 5,
          "values": [
           0.0,
           0.5127273559570312,
           0.11904762445393628,
           0.7358490566037735,
           0.4652777777777778
          ],
          "vectorType": "dense"
         },
         1
        ],
        [
         {
          "length": 5,
          "values": [
           0.0,
           0.5127273559570312,
           0.15476182096398766,
           0.6792452830188679,
           0.5416666666666666
          ],
          "vectorType": "dense"
         },
         1
        ],
        [
         {
          "length": 5,
          "values": [
           0.0,
           0.5127273559570312,
           0.16666662882244604,
           0.5849056603773585,
           0.5833333333333334
          ],
          "vectorType": "dense"
         },
         1
        ],
        [
         {
          "length": 5,
          "values": [
           0.0,
           0.5127273559570312,
           0.2142856331909558,
           0.8113207547169811,
           0.7222222222222222
          ],
          "vectorType": "dense"
         },
         1
        ],
        [
         {
          "length": 5,
          "values": [
           0.0,
           0.5163636641068892,
           0.3214285633190956,
           0.6981132075471698,
           0.6527777777777778
          ],
          "vectorType": "dense"
         },
         1
        ],
        [
         {
          "length": 5,
          "values": [
           0.0,
           0.5200001109730114,
           0.2261904410494142,
           0.7169811320754716,
           0.5555555555555556
          ],
          "vectorType": "dense"
         },
         1
        ],
        [
         {
          "length": 5,
          "values": [
           0.0,
           0.5200001109730114,
           0.2976190611348407,
           0.8113207547169811,
           0.6388888888888888
          ],
          "vectorType": "dense"
         },
         1
        ],
        [
         {
          "length": 5,
          "values": [
           0.0,
           0.5236364191228693,
           0.047619004368509764,
           0.6037735849056604,
           0.5138888888888888
          ],
          "vectorType": "dense"
         },
         1
        ],
        [
         {
          "length": 5,
          "values": [
           0.0,
           0.5236364191228693,
           0.15476182096398766,
           0.7358490566037735,
           0.6111111111111112
          ],
          "vectorType": "dense"
         },
         1
        ],
        [
         {
          "length": 5,
          "values": [
           0.0,
           0.5236364191228693,
           0.16666662882244604,
           0.660377358490566,
           0.4722222222222222
          ],
          "vectorType": "dense"
         },
         1
        ],
        [
         {
          "length": 5,
          "values": [
           0.0,
           0.5272727272727272,
           0.1309523187797328,
           0.6037735849056604,
           0.5972222222222222
          ],
          "vectorType": "dense"
         },
         1
        ],
        [
         {
          "length": 5,
          "values": [
           0.0,
           0.5309091741388494,
           0.26190475109212746,
           0.7735849056603773,
           0.6944444444444444
          ],
          "vectorType": "dense"
         },
         1
        ],
        [
         {
          "length": 5,
          "values": [
           0.0,
           0.5345454822887074,
           0.14285712663819117,
           0.6981132075471698,
           0.5972222222222222
          ],
          "vectorType": "dense"
         },
         1
        ],
        [
         {
          "length": 5,
          "values": [
           0.0,
           0.5345454822887074,
           0.27380944541792396,
           0.6981132075471698,
           0.6805555555555556
          ],
          "vectorType": "dense"
         },
         1
        ],
        [
         {
          "length": 5,
          "values": [
           0.0,
           0.5345454822887074,
           0.35714287336180883,
           0.6981132075471698,
           0.7777777777777778
          ],
          "vectorType": "dense"
         },
         1
        ],
        [
         {
          "length": 5,
          "values": [
           0.0,
           0.5527273004705255,
           0.26190475109212746,
           0.830188679245283,
           0.7083333333333334
          ],
          "vectorType": "dense"
         },
         1
        ],
        [
         {
          "length": 5,
          "values": [
           0.0,
           0.5563637473366477,
           0.17857143668090442,
           0.6415094339622641,
           0.5625
          ],
          "vectorType": "dense"
         },
         1
        ],
        [
         {
          "length": 5,
          "values": [
           0.0,
           0.5600000554865057,
           0.1071428165954779,
           0.6415094339622641,
           0.6041666666666666
          ],
          "vectorType": "dense"
         },
         1
        ],
        [
         {
          "length": 5,
          "values": [
           0.0,
           0.5600000554865057,
           0.1309523187797328,
           0.5849056603773585,
           0.5277777777777778
          ],
          "vectorType": "dense"
         },
         1
        ],
        [
         {
          "length": 5,
          "values": [
           0.0,
           0.5600000554865057,
           0.2261904410494142,
           0.7547169811320754,
           0.625
          ],
          "vectorType": "dense"
         },
         1
        ],
        [
         {
          "length": 5,
          "values": [
           0.0,
           0.5636363636363636,
           0.16666662882244604,
           0.6981132075471698,
           0.75
          ],
          "vectorType": "dense"
         },
         1
        ],
        [
         {
          "length": 5,
          "values": [
           0.0,
           0.5672728105024858,
           0.2261904410494142,
           0.7169811320754716,
           0.5694444444444444
          ],
          "vectorType": "dense"
         },
         1
        ],
        [
         {
          "length": 5,
          "values": [
           0.0,
           0.5709091186523437,
           0.2261904410494142,
           0.6981132075471698,
           0.8194444444444444
          ],
          "vectorType": "dense"
         },
         1
        ],
        [
         {
          "length": 5,
          "values": [
           0.0,
           0.5818181818181818,
           0.23809524890787256,
           0.5849056603773585,
           0.7777777777777778
          ],
          "vectorType": "dense"
         },
         1
        ],
        [
         {
          "length": 5,
          "values": [
           0.0,
           0.585454628684304,
           0.14285712663819117,
           0.6037735849056604,
           0.5277777777777778
          ],
          "vectorType": "dense"
         },
         1
        ],
        [
         {
          "length": 5,
          "values": [
           0.0,
           0.5927273837002841,
           0.15476182096398766,
           0.4716981132075472,
           0.5347222222222222
          ],
          "vectorType": "dense"
         },
         1
        ],
        [
         {
          "length": 5,
          "values": [
           0.0,
           0.5927273837002841,
           0.17857143668090442,
           0.660377358490566,
           0.875
          ],
          "vectorType": "dense"
         },
         1
        ],
        [
         {
          "length": 5,
          "values": [
           0.0,
           0.5927273837002841,
           0.3809522620134019,
           0.7924528301886792,
           0.75
          ],
          "vectorType": "dense"
         },
         1
        ],
        [
         {
          "length": 5,
          "values": [
           0.0,
           0.596363691850142,
           0.11904762445393628,
           0.7924528301886792,
           0.7222222222222222
          ],
          "vectorType": "dense"
         },
         1
        ],
        [
         {
          "length": 5,
          "values": [
           0.0,
           0.6,
           0.34523806550335046,
           0.9811320754716981,
           0.8611111111111112
          ],
          "vectorType": "dense"
         },
         1
        ],
        [
         {
          "length": 5,
          "values": [
           0.0,
           0.6036364468661222,
           0.11904762445393628,
           0.6037735849056604,
           0.4861111111111111
          ],
          "vectorType": "dense"
         },
         1
        ],
        [
         {
          "length": 5,
          "values": [
           0.0,
           0.6072727550159801,
           0.3690476812202672,
           0.830188679245283,
           0.9166666666666666
          ],
          "vectorType": "dense"
         },
         1
        ],
        [
         {
          "length": 5,
          "values": [
           0.0,
           0.6181818181818182,
           0.16666662882244604,
           0.6415094339622641,
           0.5347222222222222
          ],
          "vectorType": "dense"
         },
         1
        ],
        [
         {
          "length": 5,
          "values": [
           0.0,
           0.6181818181818182,
           0.20238093886515932,
           0.7924528301886792,
           0.6805555555555556
          ],
          "vectorType": "dense"
         },
         1
        ],
        [
         {
          "length": 5,
          "values": [
           0.0,
           0.6218182650479404,
           0.24999994323366906,
           0.8113207547169811,
           1.0
          ],
          "vectorType": "dense"
         },
         1
        ],
        [
         {
          "length": 5,
          "values": [
           0.0,
           0.6254545731977983,
           0.3095237554606372,
           0.7358490566037735,
           0.875
          ],
          "vectorType": "dense"
         },
         1
        ],
        [
         {
          "length": 5,
          "values": [
           0.0,
           0.6290910200639204,
           0.3214285633190956,
           0.7169811320754716,
           0.6180555555555556
          ],
          "vectorType": "dense"
         },
         1
        ],
        [
         {
          "length": 5,
          "values": [
           0.0,
           0.6327273282137784,
           0.35714287336180883,
           0.8679245283018867,
           0.8194444444444444
          ],
          "vectorType": "dense"
         },
         1
        ],
        [
         {
          "length": 5,
          "values": [
           0.0,
           0.6363636363636364,
           0.2261904410494142,
           0.7169811320754716,
           0.5694444444444444
          ],
          "vectorType": "dense"
         },
         1
        ],
        [
         {
          "length": 5,
          "values": [
           0.0,
           0.6436363913796165,
           0.3333332576448921,
           0.9622641509433962,
           0.9027777777777778
          ],
          "vectorType": "dense"
         },
         1
        ],
        [
         {
          "length": 5,
          "values": [
           0.0,
           0.6436363913796165,
           0.44047607424037,
           0.9811320754716981,
           0.8333333333333334
          ],
          "vectorType": "dense"
         },
         1
        ],
        [
         {
          "length": 5,
          "values": [
           0.0,
           0.6472728382457386,
           0.35714287336180883,
           0.660377358490566,
           0.75
          ],
          "vectorType": "dense"
         },
         1
        ],
        [
         {
          "length": 5,
          "values": [
           0.0,
           0.6509091463955966,
           0.24999994323366906,
           0.7547169811320754,
           0.8333333333333334
          ],
          "vectorType": "dense"
         },
         1
        ],
        [
         {
          "length": 5,
          "values": [
           0.0,
           0.6509091463955966,
           0.26190475109212746,
           0.7924528301886792,
           0.7916666666666666
          ],
          "vectorType": "dense"
         },
         1
        ],
        [
         {
          "length": 5,
          "values": [
           0.0,
           0.6509091463955966,
           0.3333332576448921,
           0.8679245283018867,
           0.7361111111111112
          ],
          "vectorType": "dense"
         },
         1
        ],
        [
         {
          "length": 5,
          "values": [
           0.0,
           0.6509091463955966,
           0.3809522620134019,
           0.9811320754716981,
           0.8333333333333334
          ],
          "vectorType": "dense"
         },
         1
        ],
        [
         {
          "length": 5,
          "values": [
           0.0,
           0.6545454545454545,
           0.2261904410494142,
           0.8867924528301886,
           0.6388888888888888
          ],
          "vectorType": "dense"
         },
         1
        ],
        [
         {
          "length": 5,
          "values": [
           0.0,
           0.6581819014115766,
           0.14285712663819117,
           0.7547169811320754,
           0.8333333333333334
          ],
          "vectorType": "dense"
         },
         1
        ],
        [
         {
          "length": 5,
          "values": [
           0.0,
           0.6654546564275567,
           0.26190475109212746,
           0.8679245283018867,
           0.7916666666666666
          ],
          "vectorType": "dense"
         },
         1
        ],
        [
         {
          "length": 5,
          "values": [
           0.0,
           0.6690909645774148,
           0.24999994323366906,
           0.7169811320754716,
           0.6388888888888888
          ],
          "vectorType": "dense"
         },
         1
        ],
        [
         {
          "length": 5,
          "values": [
           0.0,
           0.6690909645774148,
           0.3333332576448921,
           0.830188679245283,
           0.7916666666666666
          ],
          "vectorType": "dense"
         },
         1
        ],
        [
         {
          "length": 5,
          "values": [
           0.0,
           0.6763637195933948,
           0.2261904410494142,
           0.8490566037735848,
           0.7916666666666666
          ],
          "vectorType": "dense"
         },
         1
        ],
        [
         {
          "length": 5,
          "values": [
           0.0,
           0.6800000277432529,
           0.3095237554606372,
           0.9056603773584906,
           0.6944444444444444
          ],
          "vectorType": "dense"
         },
         1
        ],
        [
         {
          "length": 5,
          "values": [
           0.0,
           0.6800000277432529,
           0.4999998864673381,
           0.9433962264150944,
           0.8055555555555556
          ],
          "vectorType": "dense"
         },
         1
        ],
        [
         {
          "length": 5,
          "values": [
           0.0,
           0.6909090909090909,
           0.3809522620134019,
           0.7924528301886792,
           0.9166666666666666
          ],
          "vectorType": "dense"
         },
         1
        ],
        [
         {
          "length": 5,
          "values": [
           0.0,
           0.6909090909090909,
           0.40476187773031863,
           0.8867924528301886,
           0.7083333333333334
          ],
          "vectorType": "dense"
         },
         1
        ],
        [
         {
          "length": 5,
          "values": [
           0.0,
           0.698181845925071,
           0.1309523187797328,
           0.7547169811320754,
           0.7222222222222222
          ],
          "vectorType": "dense"
         },
         1
        ],
        [
         {
          "length": 5,
          "values": [
           0.0,
           0.7054546009410511,
           0.3809522620134019,
           0.9811320754716981,
           0.7777777777777778
          ],
          "vectorType": "dense"
         },
         1
        ],
        [
         {
          "length": 5,
          "values": [
           0.0,
           0.7272727272727273,
           0.46428568995728675,
           0.9811320754716981,
           0.7916666666666666
          ],
          "vectorType": "dense"
         },
         1
        ],
        [
         {
          "length": 5,
          "values": [
           0.0,
           0.7309091741388494,
           0.47619049781574513,
           0.9433962264150944,
           0.75
          ],
          "vectorType": "dense"
         },
         1
        ],
        [
         {
          "length": 5,
          "values": [
           0.0,
           0.7418182373046874,
           0.2976190611348407,
           0.8113207547169811,
           0.7638888888888888
          ],
          "vectorType": "dense"
         },
         1
        ],
        [
         {
          "length": 5,
          "values": [
           0.0,
           0.7745455655184659,
           0.3214285633190956,
           0.7735849056603773,
           0.7777777777777778
          ],
          "vectorType": "dense"
         },
         1
        ],
        [
         {
          "length": 5,
          "values": [
           0.0,
           0.8072727550159801,
           0.3095237554606372,
           1.0,
           0.8194444444444444
          ],
          "vectorType": "dense"
         },
         1
        ],
        [
         {
          "length": 5,
          "values": [
           0.0,
           1.0,
           0.46428568995728675,
           0.9811320754716981,
           0.9305555555555556
          ],
          "vectorType": "dense"
         },
         1
        ],
        [
         {
          "length": 5,
          "values": [
           1.0,
           0.0,
           0.28571425327638234,
           0.18867924528301885,
           0.09722222222222222
          ],
          "vectorType": "dense"
         },
         0
        ],
        [
         {
          "length": 5,
          "values": [
           1.0,
           0.06909096457741477,
           0.47619049781574513,
           0.1320754716981132,
           0.19444444444444445
          ],
          "vectorType": "dense"
         },
         0
        ],
        [
         {
          "length": 5,
          "values": [
           1.0,
           0.12727272727272726,
           0.5238095021842549,
           0.24528301886792453,
           0.13194444444444445
          ],
          "vectorType": "dense"
         },
         0
        ],
        [
         {
          "length": 5,
          "values": [
           1.0,
           0.14181823730468748,
           0.47619049781574513,
           0.16981132075471697,
           0.2777777777777778
          ],
          "vectorType": "dense"
         },
         0
        ],
        [
         {
          "length": 5,
          "values": [
           1.0,
           0.14181823730468748,
           0.5595236986943063,
           0.32075471698113206,
           0.20833333333333334
          ],
          "vectorType": "dense"
         },
         0
        ],
        [
         {
          "length": 5,
          "values": [
           1.0,
           0.14181823730468748,
           0.5714285065527647,
           0.22641509433962265,
           0.20833333333333334
          ],
          "vectorType": "dense"
         },
         0
        ],
        [
         {
          "length": 5,
          "values": [
           1.0,
           0.14181823730468748,
           0.6428571266381912,
           0.1509433962264151,
           0.1111111111111111
          ],
          "vectorType": "dense"
         },
         0
        ],
        [
         {
          "length": 5,
          "values": [
           1.0,
           0.1563637473366477,
           0.46428568995728675,
           0.32075471698113206,
           0.1736111111111111
          ],
          "vectorType": "dense"
         },
         0
        ],
        [
         {
          "length": 5,
          "values": [
           1.0,
           0.16000005548650567,
           0.583333314411223,
           0.07547169811320754,
           0.125
          ],
          "vectorType": "dense"
         },
         0
        ],
        [
         {
          "length": 5,
          "values": [
           1.0,
           0.1745455655184659,
           0.6547619344966495,
           0.20754716981132074,
           0.2222222222222222
          ],
          "vectorType": "dense"
         },
         0
        ],
        [
         {
          "length": 5,
          "values": [
           1.0,
           0.17818187366832386,
           0.4523808820988284,
           0.1320754716981132,
           0.08333333333333333
          ],
          "vectorType": "dense"
         },
         0
        ],
        [
         {
          "length": 5,
          "values": [
           1.0,
           0.18909093683416192,
           0.44047607424037,
           0.2641509433962264,
           0.08333333333333333
          ],
          "vectorType": "dense"
         },
         0
        ],
        [
         {
          "length": 5,
          "values": [
           1.0,
           0.18909093683416192,
           0.5595236986943063,
           0.24528301886792453,
           0.18055555555555555
          ],
          "vectorType": "dense"
         },
         0
        ],
        [
         {
          "length": 5,
          "values": [
           1.0,
           0.19636369185014205,
           0.6904761310067009,
           0.018867924528301886,
           0.0763888888888889
          ],
          "vectorType": "dense"
         },
         0
        ],
        [
         {
          "length": 5,
          "values": [
           1.0,
           0.19999999999999998,
           0.7380951353752107,
           0.05660377358490566,
           0.16666666666666666
          ],
          "vectorType": "dense"
         },
         0
        ],
        [
         {
          "length": 5,
          "values": [
           1.0,
           0.21818181818181817,
           0.5357143100427133,
           0.16981132075471697,
           0.2013888888888889
          ],
          "vectorType": "dense"
         },
         0
        ],
        [
         {
          "length": 5,
          "values": [
           1.0,
           0.21818181818181817,
           0.6547619344966495,
           0.22641509433962265,
           0.2777777777777778
          ],
          "vectorType": "dense"
         },
         0
        ],
        [
         {
          "length": 5,
          "values": [
           1.0,
           0.24363639137961646,
           0.8214285633190956,
           0.22641509433962265,
           0.3472222222222222
          ],
          "vectorType": "dense"
         },
         0
        ],
        [
         {
          "length": 5,
          "values": [
           1.0,
           0.24727283824573862,
           0.6785713231482425,
           0.22641509433962265,
           0.25
          ],
          "vectorType": "dense"
         },
         0
        ],
        [
         {
          "length": 5,
          "values": [
           1.0,
           0.2509091463955966,
           0.6666667423551079,
           0.1320754716981132,
           0.2638888888888889
          ],
          "vectorType": "dense"
         },
         0
        ],
        [
         {
          "length": 5,
          "values": [
           1.0,
           0.26909096457741477,
           0.4285714934472354,
           0.0,
           0.1527777777777778
          ],
          "vectorType": "dense"
         },
         0
        ],
        [
         {
          "length": 5,
          "values": [
           1.0,
           0.26909096457741477,
           0.5595236986943063,
           0.18867924528301885,
           0.16666666666666666
          ],
          "vectorType": "dense"
         },
         0
        ],
        [
         {
          "length": 5,
          "values": [
           1.0,
           0.2727272727272727,
           0.5952381222696814,
           0.1509433962264151,
           0.4861111111111111
          ],
          "vectorType": "dense"
         },
         0
        ],
        [
         {
          "length": 5,
          "values": [
           1.0,
           0.2727272727272727,
           0.6785713231482425,
           0.22641509433962265,
           0.5277777777777778
          ],
          "vectorType": "dense"
         },
         0
        ],
        [
         {
          "length": 5,
          "values": [
           1.0,
           0.2763637195933949,
           0.5714285065527647,
           0.2830188679245283,
           0.4305555555555556
          ],
          "vectorType": "dense"
         },
         0
        ],
        [
         {
          "length": 5,
          "values": [
           1.0,
           0.28000002774325283,
           0.7142857467236177,
           0.11320754716981132,
           0.5416666666666666
          ],
          "vectorType": "dense"
         },
         0
        ],
        [
         {
          "length": 5,
          "values": [
           1.0,
           0.298181845925071,
           0.6428571266381912,
           0.33962264150943394,
           0.4583333333333333
          ],
          "vectorType": "dense"
         },
         0
        ],
        [
         {
          "length": 5,
          "values": [
           1.0,
           0.3127273559570312,
           0.46428568995728675,
           0.22641509433962265,
           0.2847222222222222
          ],
          "vectorType": "dense"
         },
         0
        ],
        [
         {
          "length": 5,
          "values": [
           1.0,
           0.3163636641068892,
           0.6309523187797328,
           0.32075471698113206,
           0.3333333333333333
          ],
          "vectorType": "dense"
         },
         0
        ],
        [
         {
          "length": 5,
          "values": [
           1.0,
           0.3163636641068892,
           0.6904761310067009,
           0.5660377358490566,
           0.4444444444444444
          ],
          "vectorType": "dense"
         },
         0
        ],
        [
         {
          "length": 5,
          "values": [
           1.0,
           0.32000011097301134,
           0.6904761310067009,
           0.11320754716981132,
           0.3333333333333333
          ],
          "vectorType": "dense"
         },
         0
        ],
        [
         {
          "length": 5,
          "values": [
           1.0,
           0.32727272727272727,
           0.5238095021842549,
           0.22641509433962265,
           0.3333333333333333
          ],
          "vectorType": "dense"
         },
         0
        ],
        [
         {
          "length": 5,
          "values": [
           1.0,
           0.32727272727272727,
           0.5952381222696814,
           0.5094339622641509,
           0.4444444444444444
          ],
          "vectorType": "dense"
         },
         0
        ],
        [
         {
          "length": 5,
          "values": [
           1.0,
           0.32727272727272727,
           0.7023809388651593,
           0.07547169811320754,
           0.2013888888888889
          ],
          "vectorType": "dense"
         },
         0
        ],
        [
         {
          "length": 5,
          "values": [
           1.0,
           0.3345454822887074,
           0.857142759829147,
           0.3018867924528302,
           0.2361111111111111
          ],
          "vectorType": "dense"
         },
         0
        ],
        [
         {
          "length": 5,
          "values": [
           1.0,
           0.3672728105024858,
           0.6428571266381912,
           0.03773584905660377,
           0.2361111111111111
          ],
          "vectorType": "dense"
         },
         0
        ],
        [
         {
          "length": 5,
          "values": [
           1.0,
           0.3745455655184659,
           0.4999998864673381,
           0.05660377358490566,
           0.25
          ],
          "vectorType": "dense"
         },
         2
        ],
        [
         {
          "length": 5,
          "values": [
           1.0,
           0.37818187366832384,
           0.4285714934472354,
           0.16981132075471697,
           0.18055555555555555
          ],
          "vectorType": "dense"
         },
         2
        ],
        [
         {
          "length": 5,
          "values": [
           1.0,
           0.37818187366832384,
           0.4999998864673381,
           0.16981132075471697,
           0.18055555555555555
          ],
          "vectorType": "dense"
         },
         2
        ],
        [
         {
          "length": 5,
          "values": [
           1.0,
           0.40363644686612216,
           0.6428571266381912,
           0.2641509433962264,
           0.3888888888888889
          ],
          "vectorType": "dense"
         },
         0
        ],
        [
         {
          "length": 5,
          "values": [
           1.0,
           0.43636363636363634,
           0.7857143668090442,
           0.33962264150943394,
           0.4722222222222222
          ],
          "vectorType": "dense"
         },
         0
        ],
        [
         {
          "length": 5,
          "values": [
           1.0,
           0.47636371959339485,
           0.416666685588777,
           0.24528301886792453,
           0.1527777777777778
          ],
          "vectorType": "dense"
         },
         2
        ],
        [
         {
          "length": 5,
          "values": [
           1.0,
           0.47636371959339485,
           0.5595236986943063,
           0.3773584905660377,
           0.3472222222222222
          ],
          "vectorType": "dense"
         },
         2
        ],
        [
         {
          "length": 5,
          "values": [
           1.0,
           0.483636474609375,
           0.6666667423551079,
           0.18867924528301885,
           0.22916666666666666
          ],
          "vectorType": "dense"
         },
         2
        ],
        [
         {
          "length": 5,
          "values": [
           1.0,
           0.4872727827592329,
           0.46428568995728675,
           0.33962264150943394,
           0.2222222222222222
          ],
          "vectorType": "dense"
         },
         2
        ],
        [
         {
          "length": 5,
          "values": [
           1.0,
           0.4909090909090909,
           0.749999943233669,
           0.3018867924528302,
           0.22916666666666666
          ],
          "vectorType": "dense"
         },
         2
        ],
        [
         {
          "length": 5,
          "values": [
           1.0,
           0.49454553777521304,
           0.46428568995728675,
           0.32075471698113206,
           0.2638888888888889
          ],
          "vectorType": "dense"
         },
         2
        ],
        [
         {
          "length": 5,
          "values": [
           1.0,
           0.49454553777521304,
           0.4999998864673381,
           0.2830188679245283,
           0.25
          ],
          "vectorType": "dense"
         },
         2
        ],
        [
         {
          "length": 5,
          "values": [
           1.0,
           0.5018182927911932,
           0.47619049781574513,
           0.22641509433962265,
           0.24305555555555555
          ],
          "vectorType": "dense"
         },
         2
        ],
        [
         {
          "length": 5,
          "values": [
           1.0,
           0.5054546009410511,
           0.6904761310067009,
           0.32075471698113206,
           0.4027777777777778
          ],
          "vectorType": "dense"
         },
         2
        ],
        [
         {
          "length": 5,
          "values": [
           1.0,
           0.509090909090909,
           0.6071429301281398,
           0.0,
           0.1527777777777778
          ],
          "vectorType": "dense"
         },
         2
        ],
        [
         {
          "length": 5,
          "values": [
           1.0,
           0.5236364191228693,
           0.5714285065527647,
           0.2641509433962264,
           0.2222222222222222
          ],
          "vectorType": "dense"
         },
         2
        ],
        [
         {
          "length": 5,
          "values": [
           1.0,
           0.5272727272727272,
           0.5595236986943063,
           0.2830188679245283,
           0.3055555555555556
          ],
          "vectorType": "dense"
         },
         2
        ],
        [
         {
          "length": 5,
          "values": [
           1.0,
           0.5309091741388494,
           0.5714285065527647,
           0.32075471698113206,
           0.16666666666666666
          ],
          "vectorType": "dense"
         },
         2
        ],
        [
         {
          "length": 5,
          "values": [
           1.0,
           0.5345454822887074,
           0.40476187773031863,
           0.20754716981132074,
           0.2638888888888889
          ],
          "vectorType": "dense"
         },
         2
        ],
        [
         {
          "length": 5,
          "values": [
           1.0,
           0.5381819291548295,
           0.416666685588777,
           0.2641509433962264,
           0.0
          ],
          "vectorType": "dense"
         },
         2
        ],
        [
         {
          "length": 5,
          "values": [
           1.0,
           0.5418182373046875,
           0.4999998864673381,
           0.1320754716981132,
           0.2777777777777778
          ],
          "vectorType": "dense"
         },
         2
        ],
        [
         {
          "length": 5,
          "values": [
           1.0,
           0.5636363636363636,
           0.6190475109212744,
           0.32075471698113206,
           0.3194444444444444
          ],
          "vectorType": "dense"
         },
         2
        ],
        [
         {
          "length": 5,
          "values": [
           1.0,
           0.5818181818181818,
           0.39285706987186025,
           0.3962264150943396,
           0.1736111111111111
          ],
          "vectorType": "dense"
         },
         2
        ],
        [
         {
          "length": 5,
          "values": [
           1.0,
           0.596363691850142,
           0.5238095021842549,
           0.24528301886792453,
           0.19444444444444445
          ],
          "vectorType": "dense"
         },
         2
        ],
        [
         {
          "length": 5,
          "values": [
           1.0,
           0.6145455100319602,
           0.7738095589505858,
           0.6415094339622641,
           0.4444444444444444
          ],
          "vectorType": "dense"
         },
         2
        ],
        [
         {
          "length": 5,
          "values": [
           1.0,
           0.6218182650479404,
           0.6071429301281398,
           0.32075471698113206,
           0.4722222222222222
          ],
          "vectorType": "dense"
         },
         2
        ],
        [
         {
          "length": 5,
          "values": [
           1.0,
           0.6254545731977983,
           0.8095237554606373,
           0.4716981132075472,
           0.375
          ],
          "vectorType": "dense"
         },
         2
        ],
        [
         {
          "length": 5,
          "values": [
           1.0,
           0.6327273282137784,
           0.7023809388651593,
           0.4150943396226415,
           0.3055555555555556
          ],
          "vectorType": "dense"
         },
         2
        ],
        [
         {
          "length": 5,
          "values": [
           1.0,
           0.6363636363636364,
           0.6071429301281398,
           0.2830188679245283,
           0.2986111111111111
          ],
          "vectorType": "dense"
         },
         2
        ],
        [
         {
          "length": 5,
          "values": [
           1.0,
           0.6400000832297585,
           0.6547619344966495,
           0.32075471698113206,
           0.25
          ],
          "vectorType": "dense"
         },
         2
        ],
        [
         {
          "length": 5,
          "values": [
           1.0,
           0.6436363913796165,
           0.4999998864673381,
           0.3773584905660377,
           0.2708333333333333
          ],
          "vectorType": "dense"
         },
         2
        ],
        [
         {
          "length": 5,
          "values": [
           1.0,
           0.6545454545454545,
           0.5714285065527647,
           0.22641509433962265,
           0.19444444444444445
          ],
          "vectorType": "dense"
         },
         2
        ],
        [
         {
          "length": 5,
          "values": [
           1.0,
           0.6581819014115766,
           0.6666667423551079,
           0.3773584905660377,
           0.2986111111111111
          ],
          "vectorType": "dense"
         },
         2
        ],
        [
         {
          "length": 5,
          "values": [
           1.0,
           0.6581819014115766,
           0.6785713231482425,
           0.4528301886792453,
           0.3055555555555556
          ],
          "vectorType": "dense"
         },
         2
        ],
        [
         {
          "length": 5,
          "values": [
           1.0,
           0.6690909645774148,
           0.6309523187797328,
           0.4150943396226415,
           0.19444444444444445
          ],
          "vectorType": "dense"
         },
         2
        ],
        [
         {
          "length": 5,
          "values": [
           1.0,
           0.6727272727272727,
           0.749999943233669,
           0.2830188679245283,
           0.3055555555555556
          ],
          "vectorType": "dense"
         },
         2
        ],
        [
         {
          "length": 5,
          "values": [
           1.0,
           0.6763637195933948,
           0.7857143668090442,
           0.4716981132075472,
           0.375
          ],
          "vectorType": "dense"
         },
         2
        ],
        [
         {
          "length": 5,
          "values": [
           1.0,
           0.6800000277432529,
           0.6428571266381912,
           0.43396226415094336,
           0.4861111111111111
          ],
          "vectorType": "dense"
         },
         2
        ],
        [
         {
          "length": 5,
          "values": [
           1.0,
           0.6836364746093749,
           0.5714285065527647,
           0.33962264150943394,
           0.2708333333333333
          ],
          "vectorType": "dense"
         },
         2
        ],
        [
         {
          "length": 5,
          "values": [
           1.0,
           0.6836364746093749,
           0.7142857467236177,
           0.33962264150943394,
           0.2361111111111111
          ],
          "vectorType": "dense"
         },
         2
        ],
        [
         {
          "length": 5,
          "values": [
           1.0,
           0.6872727827592329,
           0.6785713231482425,
           0.4716981132075472,
           0.3888888888888889
          ],
          "vectorType": "dense"
         },
         2
        ],
        [
         {
          "length": 5,
          "values": [
           1.0,
           0.698181845925071,
           0.726190554582076,
           0.2830188679245283,
           0.2638888888888889
          ],
          "vectorType": "dense"
         },
         2
        ],
        [
         {
          "length": 5,
          "values": [
           1.0,
           0.698181845925071,
           0.8095237554606373,
           0.3773584905660377,
           0.2777777777777778
          ],
          "vectorType": "dense"
         },
         2
        ],
        [
         {
          "length": 5,
          "values": [
           1.0,
           0.7018182927911931,
           0.7023809388651593,
           0.43396226415094336,
           0.3472222222222222
          ],
          "vectorType": "dense"
         },
         2
        ],
        [
         {
          "length": 5,
          "values": [
           1.0,
           0.7054546009410511,
           0.6666667423551079,
           0.16981132075471697,
           0.1527777777777778
          ],
          "vectorType": "dense"
         },
         2
        ],
        [
         {
          "length": 5,
          "values": [
           1.0,
           0.7127273559570312,
           0.857142759829147,
           0.3018867924528302,
           0.2986111111111111
          ],
          "vectorType": "dense"
         },
         2
        ],
        [
         {
          "length": 5,
          "values": [
           1.0,
           0.7200001109730113,
           0.7619047510921274,
           0.5283018867924528,
           0.3472222222222222
          ],
          "vectorType": "dense"
         },
         2
        ],
        [
         {
          "length": 5,
          "values": [
           1.0,
           0.7236364191228692,
           0.5952381222696814,
           0.43396226415094336,
           0.375
          ],
          "vectorType": "dense"
         },
         2
        ],
        [
         {
          "length": 5,
          "values": [
           1.0,
           0.7236364191228692,
           0.7023809388651593,
           0.3584905660377358,
           0.4027777777777778
          ],
          "vectorType": "dense"
         },
         2
        ],
        [
         {
          "length": 5,
          "values": [
           1.0,
           0.7236364191228692,
           0.9047619912629805,
           0.6037735849056604,
           0.5833333333333334
          ],
          "vectorType": "dense"
         },
         2
        ],
        [
         {
          "length": 5,
          "values": [
           1.0,
           0.7309091741388494,
           0.6785713231482425,
           0.3584905660377358,
           0.20833333333333334
          ],
          "vectorType": "dense"
         },
         2
        ],
        [
         {
          "length": 5,
          "values": [
           1.0,
           0.7490909923206676,
           0.7976189476021789,
           0.3584905660377358,
           0.2847222222222222
          ],
          "vectorType": "dense"
         },
         2
        ],
        [
         {
          "length": 5,
          "values": [
           1.0,
           0.7527273004705255,
           0.8214285633190956,
           0.5094339622641509,
           0.5138888888888888
          ],
          "vectorType": "dense"
         },
         2
        ],
        [
         {
          "length": 5,
          "values": [
           1.0,
           0.7781818736683238,
           0.8095237554606373,
           0.5094339622641509,
           0.5
          ],
          "vectorType": "dense"
         },
         2
        ],
        [
         {
          "length": 5,
          "values": [
           1.0,
           0.8036364468661221,
           0.9166665720561151,
           0.43396226415094336,
           0.4444444444444444
          ],
          "vectorType": "dense"
         },
         2
        ],
        [
         {
          "length": 5,
          "values": [
           1.0,
           0.8618182095614346,
           0.7976189476021789,
           0.5471698113207547,
           0.3611111111111111
          ],
          "vectorType": "dense"
         },
         2
        ],
        [
         {
          "length": 5,
          "values": [
           2.0,
           0.050909146395596586,
           0.7023809388651593,
           0.22641509433962265,
           0.25
          ],
          "vectorType": "dense"
         },
         0
        ],
        [
         {
          "length": 5,
          "values": [
           2.0,
           0.07272727272727272,
           0.5952381222696814,
           0.2830188679245283,
           0.2152777777777778
          ],
          "vectorType": "dense"
         },
         0
        ],
        [
         {
          "length": 5,
          "values": [
           2.0,
           0.083636474609375,
           0.6309523187797328,
           0.11320754716981132,
           0.1736111111111111
          ],
          "vectorType": "dense"
         },
         0
        ],
        [
         {
          "length": 5,
          "values": [
           2.0,
           0.09090909090909091,
           0.4880953056742035,
           0.20754716981132074,
           0.1388888888888889
          ],
          "vectorType": "dense"
         },
         0
        ],
        [
         {
          "length": 5,
          "values": [
           2.0,
           0.09090909090909091,
           0.9523809956314903,
           0.3773584905660377,
           0.4722222222222222
          ],
          "vectorType": "dense"
         },
         0
        ],
        [
         {
          "length": 5,
          "values": [
           2.0,
           0.11272735595703125,
           0.3333332576448921,
           0.1509433962264151,
           0.09722222222222222
          ],
          "vectorType": "dense"
         },
         0
        ],
        [
         {
          "length": 5,
          "values": [
           2.0,
           0.13090917413884942,
           0.46428568995728675,
           0.20754716981132074,
           0.18055555555555555
          ],
          "vectorType": "dense"
         },
         0
        ],
        [
         {
          "length": 5,
          "values": [
           2.0,
           0.13818192915482955,
           0.416666685588777,
           0.22641509433962265,
           0.09722222222222222
          ],
          "vectorType": "dense"
         },
         0
        ],
        [
         {
          "length": 5,
          "values": [
           2.0,
           0.1490909923206676,
           0.4880953056742035,
           0.16981132075471697,
           0.125
          ],
          "vectorType": "dense"
         },
         0
        ],
        [
         {
          "length": 5,
          "values": [
           2.0,
           0.16363636363636364,
           0.5595236986943063,
           0.1320754716981132,
           0.2777777777777778
          ],
          "vectorType": "dense"
         },
         0
        ],
        [
         {
          "length": 5,
          "values": [
           2.0,
           0.18545462868430396,
           0.749999943233669,
           0.11320754716981132,
           0.3333333333333333
          ],
          "vectorType": "dense"
         },
         0
        ],
        [
         {
          "length": 5,
          "values": [
           2.0,
           0.20363644686612214,
           0.7976189476021789,
           0.3773584905660377,
           0.2222222222222222
          ],
          "vectorType": "dense"
         },
         0
        ],
        [
         {
          "length": 5,
          "values": [
           2.0,
           0.2072727550159801,
           0.47619049781574513,
           0.1509433962264151,
           0.16666666666666666
          ],
          "vectorType": "dense"
         },
         0
        ],
        [
         {
          "length": 5,
          "values": [
           2.0,
           0.2072727550159801,
           0.4999998864673381,
           0.03773584905660377,
           0.2777777777777778
          ],
          "vectorType": "dense"
         },
         0
        ],
        [
         {
          "length": 5,
          "values": [
           2.0,
           0.2327273282137784,
           0.5714285065527647,
           0.22641509433962265,
           0.1736111111111111
          ],
          "vectorType": "dense"
         },
         0
        ],
        [
         {
          "length": 5,
          "values": [
           2.0,
           0.23636363636363636,
           0.46428568995728675,
           0.18867924528301885,
           0.05555555555555555
          ],
          "vectorType": "dense"
         },
         0
        ],
        [
         {
          "length": 5,
          "values": [
           2.0,
           0.23636363636363636,
           0.9642858034899486,
           0.24528301886792453,
           0.3055555555555556
          ],
          "vectorType": "dense"
         },
         0
        ],
        [
         {
          "length": 5,
          "values": [
           2.0,
           0.24000008322975852,
           0.7023809388651593,
           0.32075471698113206,
           0.20833333333333334
          ],
          "vectorType": "dense"
         },
         0
        ],
        [
         {
          "length": 5,
          "values": [
           2.0,
           0.24363639137961646,
           0.5357143100427133,
           0.24528301886792453,
           0.1597222222222222
          ],
          "vectorType": "dense"
         },
         0
        ],
        [
         {
          "length": 5,
          "values": [
           2.0,
           0.2509091463955966,
           0.47619049781574513,
           0.24528301886792453,
           0.09722222222222222
          ],
          "vectorType": "dense"
         },
         0
        ],
        [
         {
          "length": 5,
          "values": [
           2.0,
           0.2545454545454545,
           0.6666667423551079,
           0.05660377358490566,
           0.2916666666666667
          ],
          "vectorType": "dense"
         },
         0
        ],
        [
         {
          "length": 5,
          "values": [
           2.0,
           0.26181820956143464,
           0.8928571834045221,
           0.22641509433962265,
           0.2638888888888889
          ],
          "vectorType": "dense"
         },
         0
        ],
        [
         {
          "length": 5,
          "values": [
           2.0,
           0.2727272727272727,
           0.4880953056742035,
           0.33962264150943394,
           0.2361111111111111
          ],
          "vectorType": "dense"
         },
         0
        ],
        [
         {
          "length": 5,
          "values": [
           2.0,
           0.2763637195933949,
           0.6309523187797328,
           0.22641509433962265,
           0.3333333333333333
          ],
          "vectorType": "dense"
         },
         0
        ],
        [
         {
          "length": 5,
          "values": [
           2.0,
           0.298181845925071,
           0.583333314411223,
           0.32075471698113206,
           0.1527777777777778
          ],
          "vectorType": "dense"
         },
         0
        ],
        [
         {
          "length": 5,
          "values": [
           2.0,
           0.3090909090909091,
           0.7023809388651593,
           0.3962264150943396,
           0.3611111111111111
          ],
          "vectorType": "dense"
         },
         0
        ],
        [
         {
          "length": 5,
          "values": [
           2.0,
           0.32727272727272727,
           0.5357143100427133,
           0.07547169811320754,
           0.1388888888888889
          ],
          "vectorType": "dense"
         },
         0
        ],
        [
         {
          "length": 5,
          "values": [
           2.0,
           0.32727272727272727,
           0.6547619344966495,
           0.20754716981132074,
           0.1736111111111111
          ],
          "vectorType": "dense"
         },
         0
        ],
        [
         {
          "length": 5,
          "values": [
           2.0,
           0.33818192915482953,
           0.6428571266381912,
           0.4528301886792453,
           0.3263888888888889
          ],
          "vectorType": "dense"
         },
         0
        ],
        [
         {
          "length": 5,
          "values": [
           2.0,
           0.34181823730468747,
           0.6190475109212744,
           0.32075471698113206,
           0.4444444444444444
          ],
          "vectorType": "dense"
         },
         0
        ],
        [
         {
          "length": 5,
          "values": [
           2.0,
           0.35272730047052553,
           0.749999943233669,
           0.3773584905660377,
           0.4861111111111111
          ],
          "vectorType": "dense"
         },
         0
        ],
        [
         {
          "length": 5,
          "values": [
           2.0,
           0.36000005548650565,
           0.8452381790360124,
           0.22641509433962265,
           0.4305555555555556
          ],
          "vectorType": "dense"
         },
         0
        ],
        [
         {
          "length": 5,
          "values": [
           2.0,
           0.36363636363636365,
           0.7142857467236177,
           0.32075471698113206,
           0.3611111111111111
          ],
          "vectorType": "dense"
         },
         0
        ],
        [
         {
          "length": 5,
          "values": [
           2.0,
           0.37818187366832384,
           0.9047619912629805,
           0.3584905660377358,
           0.5
          ],
          "vectorType": "dense"
         },
         0
        ],
        [
         {
          "length": 5,
          "values": [
           2.0,
           0.3890909368341619,
           0.6428571266381912,
           0.32075471698113206,
           0.4305555555555556
          ],
          "vectorType": "dense"
         },
         0
        ],
        [
         {
          "length": 5,
          "values": [
           2.0,
           0.39999999999999997,
           0.726190554582076,
           0.3584905660377358,
           0.2222222222222222
          ],
          "vectorType": "dense"
         },
         0
        ],
        [
         {
          "length": 5,
          "values": [
           2.0,
           0.498181845925071,
           0.6904761310067009,
           0.3584905660377358,
           0.4027777777777778
          ],
          "vectorType": "dense"
         },
         0
        ],
        [
         {
          "length": 5,
          "values": [
           2.0,
           0.5054546009410511,
           1.0,
           0.3018867924528302,
           0.4166666666666667
          ],
          "vectorType": "dense"
         },
         0
        ]
       ],
       "datasetInfos": [],
       "dbfsResultPath": null,
       "isJsonSchema": true,
       "metadata": {},
       "overflow": false,
       "plotOptions": {
        "customPlotOptions": {},
        "displayType": "table",
        "pivotAggregation": null,
        "pivotColumns": null,
        "xColumns": null,
        "yColumns": null
       },
       "removedWidgets": [],
       "schema": [
        {
         "metadata": "{\"ml_attr\":{\"attrs\":{\"numeric\":[{\"idx\":1,\"name\":\"normalizedFeatures_0\"},{\"idx\":2,\"name\":\"normalizedFeatures_1\"},{\"idx\":3,\"name\":\"normalizedFeatures_2\"},{\"idx\":4,\"name\":\"normalizedFeatures_3\"}],\"nominal\":[{\"vals\":[\"Biscoe\",\"Dream\",\"Torgersen\"],\"idx\":0,\"name\":\"IslandIdx\"}]},\"num_attrs\":5}}",
         "name": "features",
         "type": "{\"type\":\"udt\",\"class\":\"org.apache.spark.ml.linalg.VectorUDT\",\"pyClass\":\"pyspark.ml.linalg.VectorUDT\",\"sqlType\":{\"type\":\"struct\",\"fields\":[{\"name\":\"type\",\"type\":\"byte\",\"nullable\":false,\"metadata\":{}},{\"name\":\"size\",\"type\":\"integer\",\"nullable\":true,\"metadata\":{}},{\"name\":\"indices\",\"type\":{\"type\":\"array\",\"elementType\":\"integer\",\"containsNull\":false},\"nullable\":true,\"metadata\":{}},{\"name\":\"values\",\"type\":{\"type\":\"array\",\"elementType\":\"double\",\"containsNull\":false},\"nullable\":true,\"metadata\":{}}]}}"
        },
        {
         "metadata": "{}",
         "name": "label",
         "type": "\"integer\""
        }
       ],
       "type": "table"
      }
     },
     "output_type": "display_data"
    }
   ],
   "source": [
    "featVect = VectorAssembler(inputCols=[\"IslandIdx\", \"normalizedFeatures\"], outputCol=\"featuresVector\")\n",
    "preppedData = featVect.transform(scaledData)[col(\"featuresVector\").alias(\"features\"), col(\"Species\").alias(\"label\")]\n",
    "display(preppedData)"
   ]
  },
  {
   "cell_type": "code",
   "execution_count": 0,
   "metadata": {
    "application/vnd.databricks.v1+cell": {
     "cellMetadata": {
      "byteLimit": 2048000,
      "rowLimit": 10000
     },
     "inputWidgets": {},
     "nuid": "071037e0-e1cd-43d9-9518-04692cadeae7",
     "showTitle": false,
     "title": ""
    }
   },
   "outputs": [
    {
     "output_type": "stream",
     "name": "stdout",
     "output_type": "stream",
     "text": [
      "Model trained!\n"
     ]
    }
   ],
   "source": [
    "from pyspark.ml.classification import LogisticRegression\n",
    "\n",
    "lr = LogisticRegression(labelCol=\"label\", featuresCol=\"features\", maxIter=10, regParam=0.3)\n",
    "model = lr.fit(preppedData)\n",
    "print (\"Model trained!\")"
   ]
  },
  {
   "cell_type": "code",
   "execution_count": 0,
   "metadata": {
    "application/vnd.databricks.v1+cell": {
     "cellMetadata": {
      "byteLimit": 2048000,
      "rowLimit": 10000
     },
     "inputWidgets": {},
     "nuid": "c7663634-a5c0-408d-a8ad-0737866983af",
     "showTitle": false,
     "title": ""
    }
   },
   "outputs": [
    {
     "output_type": "display_data",
     "data": {
      "text/html": [
       "<style scoped>\n",
       "  .table-result-container {\n",
       "    max-height: 300px;\n",
       "    overflow: auto;\n",
       "  }\n",
       "  table, th, td {\n",
       "    border: 1px solid black;\n",
       "    border-collapse: collapse;\n",
       "  }\n",
       "  th, td {\n",
       "    padding: 5px;\n",
       "  }\n",
       "  th {\n",
       "    text-align: left;\n",
       "  }\n",
       "</style><div class='table-result-container'><table class='table-result'><thead style='background-color: white'><tr><th>features</th><th>probability</th><th>prediction</th><th>trueLabel</th></tr></thead><tbody><tr><td>Map(vectorType -> dense, length -> 5, values -> List(0.0, 0.07630527748780293, 0.57692299227744, 0.3448275862068966, 0.28225806451612906))</td><td>Map(vectorType -> dense, length -> 3, values -> List(0.7962713671795195, 0.12031905843761041, 0.08340957438287))</td><td>0</td><td>0</td></tr><tr><td>Map(vectorType -> dense, length -> 5, values -> List(0.0, 0.13654623765164187, 0.4102564478766934, 0.15517241379310345, 0.0))</td><td>Map(vectorType -> dense, length -> 3, values -> List(0.7991532843177066, 0.08511946833947755, 0.11572724734281581))</td><td>0</td><td>0</td></tr><tr><td>Map(vectorType -> dense, length -> 5, values -> List(0.0, 0.1847390364228498, 0.33333333333333337, 0.1896551724137931, 0.07258064516129033))</td><td>Map(vectorType -> dense, length -> 3, values -> List(0.7262624690200259, 0.1399250690755381, 0.13381246190443596))</td><td>0</td><td>0</td></tr><tr><td>Map(vectorType -> dense, length -> 5, values -> List(0.0, 0.1887550391534988, 0.6282049871290666, 0.034482758620689655, 0.1774193548387097))</td><td>Map(vectorType -> dense, length -> 3, values -> List(0.8137854616771648, 0.06059036747582454, 0.12562417084701058))</td><td>0</td><td>0</td></tr><tr><td>Map(vectorType -> dense, length -> 5, values -> List(0.0, 0.1887550391534988, 0.84615377091328, 0.3103448275862069, 0.45161290322580644))</td><td>Map(vectorType -> dense, length -> 3, values -> List(0.7760221687277199, 0.10448215544838681, 0.11949567582389331))</td><td>0</td><td>0</td></tr><tr><td>Map(vectorType -> dense, length -> 5, values -> List(0.0, 0.19277119508483181, 0.6666666666666667, 0.0, 0.0967741935483871))</td><td>Map(vectorType -> dense, length -> 3, values -> List(0.8259773664739347, 0.044097472633051325, 0.12992516089301415))</td><td>0</td><td>0</td></tr><tr><td>Map(vectorType -> dense, length -> 5, values -> List(0.0, 0.26506031664130175, 0.7051281016724267, 0.20689655172413793, 0.22580645161290322))</td><td>Map(vectorType -> dense, length -> 3, values -> List(0.7342093232069412, 0.09369428065860698, 0.17209639613445168))</td><td>0</td><td>0</td></tr><tr><td>Map(vectorType -> dense, length -> 5, values -> List(0.0, 0.3012048008191947, 0.6666666666666667, 0.1896551724137931, 0.22580645161290322))</td><td>Map(vectorType -> dense, length -> 3, values -> List(0.6985686862646062, 0.10705803384154487, 0.19437327989384884))</td><td>0</td><td>0</td></tr><tr><td>Map(vectorType -> dense, length -> 5, values -> List(0.0, 0.36546191691436664, 0.7820512162157867, 0.43103448275862066, 0.4596774193548387))</td><td>Map(vectorType -> dense, length -> 3, values -> List(0.5649689575520663, 0.21786366254108522, 0.21716737990684856))</td><td>0</td><td>0</td></tr><tr><td>Map(vectorType -> dense, length -> 5, values -> List(0.0, 0.3855422369689796, 0.6282049871290666, 0.41379310344827586, 0.3951612903225806))</td><td>Map(vectorType -> dense, length -> 3, values -> List(0.5060810046269857, 0.2684596166686561, 0.2254593787043583))</td><td>0</td><td>0</td></tr><tr><td>Map(vectorType -> dense, length -> 5, values -> List(0.0, 0.40963855975424157, 0.0, 0.6379310344827586, 0.5))</td><td>Map(vectorType -> dense, length -> 3, values -> List(0.12032352627226015, 0.8029342879301172, 0.07674218579762256))</td><td>1</td><td>1</td></tr><tr><td>Map(vectorType -> dense, length -> 5, values -> List(0.0, 0.4136547156855746, 0.12820510939498667, 0.7931034482758621, 0.5645161290322581))</td><td>Map(vectorType -> dense, length -> 3, values -> List(0.10583134816572384, 0.8233786565988609, 0.07078999523541535))</td><td>1</td><td>1</td></tr><tr><td>Map(vectorType -> dense, length -> 5, values -> List(0.0, 0.41767071841622355, 0.10256411196917335, 0.8275862068965517, 0.5967741935483871))</td><td>Map(vectorType -> dense, length -> 3, values -> List(0.08723014168796708, 0.8524711001252517, 0.06029875818678127))</td><td>1</td><td>1</td></tr><tr><td>Map(vectorType -> dense, length -> 5, values -> List(0.0, 0.42168672114687256, 0.06410255469749333, 0.7758620689655172, 0.6612903225806451))</td><td>Map(vectorType -> dense, length -> 3, values -> List(0.07844026314047839, 0.8685048033343759, 0.05305493352514559))</td><td>1</td><td>1</td></tr><tr><td>Map(vectorType -> dense, length -> 5, values -> List(0.0, 0.4738956758494135, 0.051282117117546704, 0.6896551724137931, 0.6129032258064516))</td><td>Map(vectorType -> dense, length -> 3, values -> List(0.08373740710944755, 0.8456455678377642, 0.0706170250527883))</td><td>1</td><td>1</td></tr><tr><td>Map(vectorType -> dense, length -> 5, values -> List(0.0, 0.4779116785800625, 0.25641021878997333, 0.8275862068965517, 0.7096774193548387))</td><td>Map(vectorType -> dense, length -> 3, values -> List(0.0861109929030783, 0.8407353023517441, 0.07315370474517746))</td><td>1</td><td>1</td></tr><tr><td>Map(vectorType -> dense, length -> 5, values -> List(0.0, 0.4819276813107115, 0.12820510939498667, 0.6551724137931034, 0.5))</td><td>Map(vectorType -> dense, length -> 3, values -> List(0.12387919752044377, 0.7674663525284959, 0.10865444995106024))</td><td>1</td><td>1</td></tr><tr><td>Map(vectorType -> dense, length -> 5, values -> List(0.0, 0.4859438372420445, 0.38461532818496, 0.8793103448275862, 1.0))</td><td>Map(vectorType -> dense, length -> 3, values -> List(0.06273431893864792, 0.8874987502280659, 0.04976693083328619))</td><td>1</td><td>1</td></tr><tr><td>Map(vectorType -> dense, length -> 5, values -> List(0.0, 0.4899598399726935, 0.051282117117546704, 0.6206896551724138, 0.43548387096774194))</td><td>Map(vectorType -> dense, length -> 3, values -> List(0.12038405765507403, 0.7673195544088472, 0.11229638793607878))</td><td>1</td><td>1</td></tr><tr><td>Map(vectorType -> dense, length -> 5, values -> List(0.0, 0.4939759959040265, 0.15384622908672005, 0.6724137931034483, 0.6290322580645161))</td><td>Map(vectorType -> dense, length -> 3, values -> List(0.10035855179320687, 0.8103256483708243, 0.08931579983596867))</td><td>1</td><td>1</td></tr><tr><td>Map(vectorType -> dense, length -> 5, values -> List(0.0, 0.49799199863467547, 0.03846155727168001, 0.7241379310344828, 0.5806451612903226))</td><td>Map(vectorType -> dense, length -> 3, values -> List(0.07413758081574723, 0.853424226339166, 0.07243819284508667))</td><td>1</td><td>1</td></tr><tr><td>Map(vectorType -> dense, length -> 5, values -> List(0.0, 0.49799199863467547, 0.06410255469749333, 0.6551724137931034, 0.43548387096774194))</td><td>Map(vectorType -> dense, length -> 3, values -> List(0.11320249806707508, 0.7754103594710694, 0.11138714246185567))</td><td>1</td><td>1</td></tr><tr><td>Map(vectorType -> dense, length -> 5, values -> List(0.0, 0.5381526387439014, 0.17948722651253338, 0.7758620689655172, 0.7580645161290323))</td><td>Map(vectorType -> dense, length -> 3, values -> List(0.06094418410191765, 0.8719294916570998, 0.06712632424098261))</td><td>1</td><td>1</td></tr><tr><td>Map(vectorType -> dense, length -> 5, values -> List(0.0, 0.5542169560678655, 0.15384622908672005, 0.8620689655172413, 0.6532258064516129))</td><td>Map(vectorType -> dense, length -> 3, values -> List(0.054377868982945624, 0.8749192183954405, 0.07070291262161386))</td><td>1</td><td>1</td></tr><tr><td>Map(vectorType -> dense, length -> 5, values -> List(0.0, 0.5662651174604965, 0.03846155727168001, 0.7241379310344828, 0.6693548387096774))</td><td>Map(vectorType -> dense, length -> 3, values -> List(0.05138751845451324, 0.8813829402395559, 0.06722954130593087))</td><td>1</td><td>1</td></tr><tr><td>Map(vectorType -> dense, length -> 5, values -> List(0.0, 0.5662651174604965, 0.26923077863584005, 0.7413793103448276, 0.6854838709677419))</td><td>Map(vectorType -> dense, length -> 3, values -> List(0.08306537273332518, 0.814099987846665, 0.10283463942000977))</td><td>1</td><td>1</td></tr><tr><td>Map(vectorType -> dense, length -> 5, values -> List(0.0, 0.5702811201911454, 0.051282117117546704, 0.7586206896551724, 0.6048387096774194))</td><td>Map(vectorType -> dense, length -> 3, values -> List(0.05435793048031664, 0.870355941545457, 0.07528612797422622))</td><td>1</td><td>1</td></tr><tr><td>Map(vectorType -> dense, length -> 5, values -> List(0.0, 0.6064257575697224, 0.2820513384817067, 0.8448275862068966, 0.7258064516129032))</td><td>Map(vectorType -> dense, length -> 3, values -> List(0.05730607271058466, 0.8535323991105709, 0.0891615281788445))</td><td>1</td><td>1</td></tr><tr><td>Map(vectorType -> dense, length -> 5, values -> List(0.0, 0.6184739189623534, 0.2051282239383467, 0.8103448275862069, 0.6451612903225806))</td><td>Map(vectorType -> dense, length -> 3, values -> List(0.05638667061573976, 0.84798049369586, 0.09563283568840014))</td><td>1</td><td>1</td></tr><tr><td>Map(vectorType -> dense, length -> 5, values -> List(0.0, 0.6265060776243354, 0.2179487837842134, 0.8620689655172413, 0.8064516129032258))</td><td>Map(vectorType -> dense, length -> 3, values -> List(0.038668859961061286, 0.8953413088640285, 0.06598983117491013))</td><td>1</td><td>1</td></tr><tr><td>Map(vectorType -> dense, length -> 5, values -> List(0.0, 0.6265060776243354, 0.2948717760616533, 0.6206896551724138, 0.8064516129032258))</td><td>Map(vectorType -> dense, length -> 3, values -> List(0.0762250225997116, 0.8118351503666494, 0.11193982703363907))</td><td>1</td><td>1</td></tr><tr><td>Map(vectorType -> dense, length -> 5, values -> List(0.0, 0.6385542390169664, 0.34615389317920003, 0.7586206896551724, 0.8709677419354839))</td><td>Map(vectorType -> dense, length -> 3, values -> List(0.056402005234491716, 0.8524317314074867, 0.09116626335802155))</td><td>1</td><td>1</td></tr><tr><td>Map(vectorType -> dense, length -> 5, values -> List(0.0, 0.6425702417476153, 0.2051282239383467, 0.9655172413793103, 0.8548387096774194))</td><td>Map(vectorType -> dense, length -> 3, values -> List(0.026062628607577538, 0.923876632474813, 0.05006073891760962))</td><td>1</td><td>1</td></tr><tr><td>Map(vectorType -> dense, length -> 5, values -> List(0.0, 0.6586345590715793, 0.35897445302506675, 0.9827586206896551, 0.9516129032258065))</td><td>Map(vectorType -> dense, length -> 3, values -> List(0.029535567779166112, 0.9130396162536352, 0.057424815967198665))</td><td>1</td><td>1</td></tr><tr><td>Map(vectorType -> dense, length -> 5, values -> List(0.0, 0.6626505618022284, 0.33333333333333337, 0.9137931034482758, 0.9193548387096774))</td><td>Map(vectorType -> dense, length -> 3, values -> List(0.03360211017920575, 0.9010964151573915, 0.06530147466340287))</td><td>1</td><td>1</td></tr><tr><td>Map(vectorType -> dense, length -> 5, values -> List(0.0, 0.6947791964501563, 0.2948717760616533, 0.8620689655172413, 0.9354838709677419))</td><td>Map(vectorType -> dense, length -> 3, values -> List(0.029872059351997597, 0.9041359670095784, 0.06599197363842398))</td><td>1</td><td>1</td></tr><tr><td>Map(vectorType -> dense, length -> 5, values -> List(0.0, 0.6987951991808052, 0.32051277348746665, 0.9137931034482758, 0.8225806451612904))</td><td>Map(vectorType -> dense, length -> 3, values -> List(0.03424036635308347, 0.8838175028845735, 0.08194213076234295))</td><td>1</td><td>1</td></tr><tr><td>Map(vectorType -> dense, length -> 5, values -> List(0.0, 0.8835340824029712, 0.33333333333333337, 1.0, 0.967741935483871))</td><td>Map(vectorType -> dense, length -> 3, values -> List(0.012335377616574848, 0.917450562089897, 0.07021406029352831))</td><td>1</td><td>1</td></tr><tr><td>Map(vectorType -> dense, length -> 5, values -> List(0.0, 0.9156627170508991, 0.46153844272832, 0.9655172413793103, 0.8870967741935484))</td><td>Map(vectorType -> dense, length -> 3, values -> List(0.018796411228402296, 0.8594949844592691, 0.12170860431232844))</td><td>1</td><td>1</td></tr><tr><td>Map(vectorType -> dense, length -> 5, values -> List(1.0, 0.0, 0.34615389317920003, 0.10344827586206896, 0.016129032258064516))</td><td>Map(vectorType -> dense, length -> 3, values -> List(0.8947308635432748, 0.03802452330654617, 0.06724461315017916))</td><td>0</td><td>0</td></tr><tr><td>Map(vectorType -> dense, length -> 5, values -> List(1.0, 0.1044177562043979, 0.5897435521233066, 0.5172413793103449, 0.22580645161290322))</td><td>Map(vectorType -> dense, length -> 3, values -> List(0.7954775626282335, 0.09751267934646089, 0.10700975802530546))</td><td>0</td><td>0</td></tr><tr><td>Map(vectorType -> dense, length -> 5, values -> List(1.0, 0.12449807625901088, 0.49999987773407994, 0.25862068965517243, 0.14516129032258066))</td><td>Map(vectorType -> dense, length -> 3, values -> List(0.8242769206565239, 0.06414110890048268, 0.11158197044299342))</td><td>0</td><td>0</td></tr><tr><td>Map(vectorType -> dense, length -> 5, values -> List(1.0, 0.12851407898965986, 0.7820512162157867, 0.3103448275862069, 0.3064516129032258))</td><td>Map(vectorType -> dense, length -> 3, values -> List(0.8464973148920957, 0.0478845970503847, 0.10561808805751972))</td><td>0</td><td>0</td></tr><tr><td>Map(vectorType -> dense, length -> 5, values -> List(1.0, 0.14056224038229087, 0.6410255469749333, 0.20689655172413793, 0.20161290322580644))</td><td>Map(vectorType -> dense, length -> 3, values -> List(0.8406678538056186, 0.04641043797524134, 0.11292170821913994))</td><td>0</td><td>0</td></tr><tr><td>Map(vectorType -> dense, length -> 5, values -> List(1.0, 0.14859439904427285, 0.6538461068208, 0.3620689655172414, 0.20967741935483872))</td><td>Map(vectorType -> dense, length -> 3, values -> List(0.812468436109541, 0.06499503768847201, 0.12253652620198685))</td><td>0</td><td>0</td></tr><tr><td>Map(vectorType -> dense, length -> 5, values -> List(1.0, 0.15662655770625483, 0.3974358880308267, 0.22413793103448276, 0.1774193548387097))</td><td>Map(vectorType -> dense, length -> 3, values -> List(0.7876930371805125, 0.08864171665399351, 0.12366524616549396))</td><td>0</td><td>0</td></tr><tr><td>Map(vectorType -> dense, length -> 5, values -> List(1.0, 0.16465871636823684, 0.6025641119691734, 0.10344827586206896, 0.3387096774193548))</td><td>Map(vectorType -> dense, length -> 3, values -> List(0.8296597173135204, 0.05666695609739792, 0.11367332658908154))</td><td>0</td><td>0</td></tr><tr><td>Map(vectorType -> dense, length -> 5, values -> List(1.0, 0.17670687776086783, 0.6538461068208, 0.46551724137931033, 0.5241935483870968))</td><td>Map(vectorType -> dense, length -> 3, values -> List(0.729168697768732, 0.15184940894373894, 0.11898189328752892))</td><td>0</td><td>0</td></tr><tr><td>Map(vectorType -> dense, length -> 5, values -> List(1.0, 0.1887550391534988, 0.6025641119691734, 0.3620689655172414, 0.2903225806451613))</td><td>Map(vectorType -> dense, length -> 3, values -> List(0.7675948145125719, 0.09452056640906772, 0.13788461907836042))</td><td>0</td><td>0</td></tr><tr><td>Map(vectorType -> dense, length -> 5, values -> List(1.0, 0.20883535920811178, 0.7435897812100267, 0.29310344827586204, 0.3548387096774194))</td><td>Map(vectorType -> dense, length -> 3, values -> List(0.7899851083042859, 0.06823687848427383, 0.14177801321144023))</td><td>0</td><td>0</td></tr><tr><td>Map(vectorType -> dense, length -> 5, values -> List(1.0, 0.24497999658668876, 0.6666666666666667, 0.3103448275862069, 0.45161290322580644))</td><td>Map(vectorType -> dense, length -> 3, values -> List(0.7335592117110582, 0.11101034418524401, 0.15543044410369777))</td><td>0</td><td>0</td></tr><tr><td>Map(vectorType -> dense, length -> 5, values -> List(1.0, 0.24497999658668876, 0.9871794401541334, 0.41379310344827586, 0.41935483870967744))</td><td>Map(vectorType -> dense, length -> 3, values -> List(0.7787873315620815, 0.05858120909306247, 0.16263145934485596))</td><td>0</td><td>0</td></tr><tr><td>Map(vectorType -> dense, length -> 5, values -> List(1.0, 0.2851406366959147, 0.47435900257418673, 0.3620689655172414, 0.1774193548387097))</td><td>Map(vectorType -> dense, length -> 3, values -> List(0.668267700543831, 0.12813965343925865, 0.20359264601691035))</td><td>0</td><td>0</td></tr><tr><td>Map(vectorType -> dense, length -> 5, values -> List(1.0, 0.2851406366959147, 0.8589743307591468, 0.48275862068965514, 0.3629032258064516))</td><td>Map(vectorType -> dense, length -> 3, values -> List(0.7120711742081439, 0.09121906298229729, 0.19670976280955874))</td><td>0</td><td>0</td></tr><tr><td>Map(vectorType -> dense, length -> 5, values -> List(1.0, 0.3012048008191947, 0.4871795624200534, 0.25862068965517243, 0.20161290322580644))</td><td>Map(vectorType -> dense, length -> 3, values -> List(0.6812924659030138, 0.10941845977136182, 0.20928907432562427))</td><td>0</td><td>0</td></tr><tr><td>Map(vectorType -> dense, length -> 5, values -> List(1.0, 0.31325311541250966, 0.4102564478766934, 0.25862068965517243, 0.11290322580645161))</td><td>Map(vectorType -> dense, length -> 3, values -> List(0.659994038076533, 0.11420034869734087, 0.22580561322612602))</td><td>0</td><td>2</td></tr><tr><td>Map(vectorType -> dense, length -> 5, values -> List(1.0, 0.33734943819777163, 0.6538461068208, 0.5, 0.3709677419354839))</td><td>Map(vectorType -> dense, length -> 3, values -> List(0.6034913328565822, 0.17014781113226868, 0.22636085601114908))</td><td>0</td><td>0</td></tr><tr><td>Map(vectorType -> dense, length -> 5, values -> List(1.0, 0.36947791964501564, 1.0, 0.3275862068965517, 0.41935483870967744))</td><td>Map(vectorType -> dense, length -> 3, values -> List(0.6910043108842743, 0.061601961772726734, 0.24739372734299886))</td><td>0</td><td>0</td></tr><tr><td>Map(vectorType -> dense, length -> 5, values -> List(1.0, 0.40562255702359257, 0.4102564478766934, 0.25862068965517243, 0.016129032258064516))</td><td>Map(vectorType -> dense, length -> 3, values -> List(0.5743277484496621, 0.11099474358068598, 0.3146775079696519))</td><td>0</td><td>2</td></tr><tr><td>Map(vectorType -> dense, length -> 5, values -> List(1.0, 0.41767071841622355, 0.6025641119691734, 0.5172413793103449, 0.1774193548387097))</td><td>Map(vectorType -> dense, length -> 3, values -> List(0.5263678721848019, 0.15766688739074863, 0.31596524042444946))</td><td>0</td><td>2</td></tr><tr><td>Map(vectorType -> dense, length -> 5, values -> List(1.0, 0.5261044773512704, 0.5256409974258134, 0.25862068965517243, 0.25806451612903225))</td><td>Map(vectorType -> dense, length -> 3, values -> List(0.45424492534148986, 0.1531747149220577, 0.3925803597364525))</td><td>0</td><td>2</td></tr><tr><td>Map(vectorType -> dense, length -> 5, values -> List(1.0, 0.5341366360132525, 0.5641024324315733, 0.3275862068965517, 0.27419354838709675))</td><td>Map(vectorType -> dense, length -> 3, values -> List(0.4356033673291775, 0.16471378557631922, 0.39968284709450336))</td><td>0</td><td>2</td></tr><tr><td>Map(vectorType -> dense, length -> 5, values -> List(1.0, 0.5341366360132525, 0.6666666666666667, 0.3103448275862069, 0.1935483870967742))</td><td>Map(vectorType -> dense, length -> 3, values -> List(0.46626658405536614, 0.10900255502886239, 0.4247308609157716))</td><td>0</td><td>2</td></tr><tr><td>Map(vectorType -> dense, length -> 5, values -> List(1.0, 0.5783132788531274, 0.4358973230365866, 0.46551724137931033, 0.3387096774193548))</td><td>Map(vectorType -> dense, length -> 3, values -> List(0.3119958737440012, 0.30400392486215466, 0.3840002013938441))</td><td>2</td><td>2</td></tr><tr><td>Map(vectorType -> dense, length -> 5, values -> List(1.0, 0.6385542390169664, 0.7820512162157867, 0.6551724137931034, 0.3548387096774194))</td><td>Map(vectorType -> dense, length -> 3, values -> List(0.2948727920703387, 0.21836361981472335, 0.48676358811493786))</td><td>2</td><td>2</td></tr><tr><td>Map(vectorType -> dense, length -> 5, values -> List(1.0, 0.6787148791261923, 0.7820512162157867, 0.41379310344827586, 0.3387096774193548))</td><td>Map(vectorType -> dense, length -> 3, values -> List(0.3099590046327107, 0.14396354758797703, 0.5460774477793122))</td><td>2</td><td>2</td></tr><tr><td>Map(vectorType -> dense, length -> 5, values -> List(1.0, 0.6907630405188233, 0.84615377091328, 0.43103448275862066, 0.14516129032258066))</td><td>Map(vectorType -> dense, length -> 3, values -> List(0.3058300580528729, 0.0880114442866378, 0.6061584976604893))</td><td>2</td><td>2</td></tr><tr><td>Map(vectorType -> dense, length -> 5, values -> List(1.0, 0.6987951991808052, 0.7948717760616534, 0.5, 0.3870967741935484))</td><td>Map(vectorType -> dense, length -> 3, values -> List(0.2751646503539678, 0.17748501154928878, 0.5473503380967435))</td><td>2</td><td>2</td></tr><tr><td>Map(vectorType -> dense, length -> 5, values -> List(1.0, 0.7108433605734362, 0.7179486615182934, 0.6551724137931034, 0.4032258064516129))</td><td>Map(vectorType -> dense, length -> 3, values -> List(0.21964527238518616, 0.270235340343636, 0.5101193872711778))</td><td>2</td><td>2</td></tr><tr><td>Map(vectorType -> dense, length -> 5, values -> List(1.0, 0.7309236806280492, 0.6153846718150401, 0.43103448275862066, 0.2903225806451613))</td><td>Map(vectorType -> dense, length -> 3, values -> List(0.23591348986789848, 0.19410731709119514, 0.5699791930409065))</td><td>2</td><td>2</td></tr><tr><td>Map(vectorType -> dense, length -> 5, values -> List(1.0, 1.0, 0.5641024324315733, 0.15517241379310345, 0.27419354838709675))</td><td>Map(vectorType -> dense, length -> 3, values -> List(0.10276222510799642, 0.11898337972752789, 0.7782543951644756))</td><td>2</td><td>2</td></tr><tr><td>Map(vectorType -> dense, length -> 5, values -> List(2.0, 0.08032128021845192, 0.76923065636992, 0.3620689655172414, 0.43548387096774194))</td><td>Map(vectorType -> dense, length -> 3, values -> List(0.8768822421019616, 0.036585346637955034, 0.08653241126008321))</td><td>0</td><td>0</td></tr><tr><td>Map(vectorType -> dense, length -> 5, values -> List(2.0, 0.09638559754241591, 0.5256409974258134, 0.3103448275862069, 0.27419354838709675))</td><td>Map(vectorType -> dense, length -> 3, values -> List(0.8534280020798888, 0.04707576803405677, 0.09949622988605455))</td><td>0</td><td>0</td></tr><tr><td>Map(vectorType -> dense, length -> 5, values -> List(2.0, 0.12449807625901088, 0.34615389317920003, 0.25862068965517243, 0.22580645161290322))</td><td>Map(vectorType -> dense, length -> 3, values -> List(0.821383650085753, 0.06536224892873083, 0.11325410098551604))</td><td>0</td><td>0</td></tr><tr><td>Map(vectorType -> dense, length -> 5, values -> List(2.0, 0.14457839631362385, 0.69230754182656, 0.25862068965517243, 0.3064516129032258))</td><td>Map(vectorType -> dense, length -> 3, values -> List(0.852106398909615, 0.032914897238390646, 0.11497870385199425))</td><td>0</td><td>0</td></tr><tr><td>Map(vectorType -> dense, length -> 5, values -> List(2.0, 0.14457839631362385, 0.7564100965240533, 0.3620689655172414, 0.1935483870967742))</td><td>Map(vectorType -> dense, length -> 3, values -> List(0.8481151453288943, 0.02801734073952247, 0.12386751393158316))</td><td>0</td><td>0</td></tr><tr><td>Map(vectorType -> dense, length -> 5, values -> List(2.0, 0.16867471909888582, 0.9102563256107734, 0.46551724137931033, 0.29838709677419356))</td><td>Map(vectorType -> dense, length -> 3, values -> List(0.8352694668655282, 0.03072258571681957, 0.13400794741765226))</td><td>0</td><td>0</td></tr><tr><td>Map(vectorType -> dense, length -> 5, values -> List(2.0, 0.23293183519405777, 0.5641024324315733, 0.15517241379310345, 0.25))</td><td>Map(vectorType -> dense, length -> 3, values -> List(0.7963986187295333, 0.04093927737378885, 0.16266210389667773))</td><td>0</td><td>0</td></tr><tr><td>Map(vectorType -> dense, length -> 5, values -> List(2.0, 0.24497999658668876, 0.7948717760616534, 0.39655172413793105, 0.5887096774193549))</td><td>Map(vectorType -> dense, length -> 3, values -> List(0.7667986420523611, 0.07501613496138292, 0.15818522298625595))</td><td>0</td><td>0</td></tr><tr><td>Map(vectorType -> dense, length -> 5, values -> List(2.0, 0.2570281579793197, 0.5128204375799467, 0.24137931034482757, 0.3064516129032258))</td><td>Map(vectorType -> dense, length -> 3, values -> List(0.7542411023337813, 0.06607137087323028, 0.17968752679298844))</td><td>0</td><td>0</td></tr><tr><td>Map(vectorType -> dense, length -> 5, values -> List(2.0, 0.2851406366959147, 0.46153844272832, 0.06896551724137931, 0.1935483870967742))</td><td>Map(vectorType -> dense, length -> 3, values -> List(0.7574057833872616, 0.044686861796596256, 0.19790735481614194))</td><td>0</td><td>0</td></tr><tr><td>Map(vectorType -> dense, length -> 5, values -> List(2.0, 0.31325311541250966, 0.4358973230365866, 0.3275862068965517, 0.27419354838709675))</td><td>Map(vectorType -> dense, length -> 3, values -> List(0.6733348016311673, 0.10048976845199088, 0.22617542991684175))</td><td>0</td><td>0</td></tr><tr><td>Map(vectorType -> dense, length -> 5, values -> List(2.0, 0.3935743956309616, 0.5384615572716801, 0.41379310344827586, 0.5967741935483871))</td><td>Map(vectorType -> dense, length -> 3, values -> List(0.5594973650526935, 0.18999041695593158, 0.2505122179913748))</td><td>0</td><td>0</td></tr><tr><td>Map(vectorType -> dense, length -> 5, values -> List(2.0, 0.4417670412014856, 0.5897435521233066, 0.6551724137931034, 0.3709677419354839))</td><td>Map(vectorType -> dense, length -> 3, values -> List(0.48222015068951707, 0.18765541340709624, 0.33012443590338675))</td><td>0</td><td>0</td></tr></tbody></table></div>"
      ]
     },
     "metadata": {
      "application/vnd.databricks.v1+output": {
       "addedWidgets": {},
       "aggData": [],
       "aggError": "",
       "aggOverflow": false,
       "aggSchema": [],
       "aggSeriesLimitReached": false,
       "aggType": "",
       "arguments": {},
       "columnCustomDisplayInfos": {},
       "data": [
        [
         {
          "length": 5,
          "values": [
           0.0,
           0.07630527748780293,
           0.57692299227744,
           0.3448275862068966,
           0.28225806451612906
          ],
          "vectorType": "dense"
         },
         {
          "length": 3,
          "values": [
           0.7962713671795195,
           0.12031905843761041,
           0.08340957438287
          ],
          "vectorType": "dense"
         },
         0,
         0
        ],
        [
         {
          "length": 5,
          "values": [
           0.0,
           0.13654623765164187,
           0.4102564478766934,
           0.15517241379310345,
           0.0
          ],
          "vectorType": "dense"
         },
         {
          "length": 3,
          "values": [
           0.7991532843177066,
           0.08511946833947755,
           0.11572724734281581
          ],
          "vectorType": "dense"
         },
         0,
         0
        ],
        [
         {
          "length": 5,
          "values": [
           0.0,
           0.1847390364228498,
           0.33333333333333337,
           0.1896551724137931,
           0.07258064516129033
          ],
          "vectorType": "dense"
         },
         {
          "length": 3,
          "values": [
           0.7262624690200259,
           0.1399250690755381,
           0.13381246190443596
          ],
          "vectorType": "dense"
         },
         0,
         0
        ],
        [
         {
          "length": 5,
          "values": [
           0.0,
           0.1887550391534988,
           0.6282049871290666,
           0.034482758620689655,
           0.1774193548387097
          ],
          "vectorType": "dense"
         },
         {
          "length": 3,
          "values": [
           0.8137854616771648,
           0.06059036747582454,
           0.12562417084701058
          ],
          "vectorType": "dense"
         },
         0,
         0
        ],
        [
         {
          "length": 5,
          "values": [
           0.0,
           0.1887550391534988,
           0.84615377091328,
           0.3103448275862069,
           0.45161290322580644
          ],
          "vectorType": "dense"
         },
         {
          "length": 3,
          "values": [
           0.7760221687277199,
           0.10448215544838681,
           0.11949567582389331
          ],
          "vectorType": "dense"
         },
         0,
         0
        ],
        [
         {
          "length": 5,
          "values": [
           0.0,
           0.19277119508483181,
           0.6666666666666667,
           0.0,
           0.0967741935483871
          ],
          "vectorType": "dense"
         },
         {
          "length": 3,
          "values": [
           0.8259773664739347,
           0.044097472633051325,
           0.12992516089301415
          ],
          "vectorType": "dense"
         },
         0,
         0
        ],
        [
         {
          "length": 5,
          "values": [
           0.0,
           0.26506031664130175,
           0.7051281016724267,
           0.20689655172413793,
           0.22580645161290322
          ],
          "vectorType": "dense"
         },
         {
          "length": 3,
          "values": [
           0.7342093232069412,
           0.09369428065860698,
           0.17209639613445168
          ],
          "vectorType": "dense"
         },
         0,
         0
        ],
        [
         {
          "length": 5,
          "values": [
           0.0,
           0.3012048008191947,
           0.6666666666666667,
           0.1896551724137931,
           0.22580645161290322
          ],
          "vectorType": "dense"
         },
         {
          "length": 3,
          "values": [
           0.6985686862646062,
           0.10705803384154487,
           0.19437327989384884
          ],
          "vectorType": "dense"
         },
         0,
         0
        ],
        [
         {
          "length": 5,
          "values": [
           0.0,
           0.36546191691436664,
           0.7820512162157867,
           0.43103448275862066,
           0.4596774193548387
          ],
          "vectorType": "dense"
         },
         {
          "length": 3,
          "values": [
           0.5649689575520663,
           0.21786366254108522,
           0.21716737990684856
          ],
          "vectorType": "dense"
         },
         0,
         0
        ],
        [
         {
          "length": 5,
          "values": [
           0.0,
           0.3855422369689796,
           0.6282049871290666,
           0.41379310344827586,
           0.3951612903225806
          ],
          "vectorType": "dense"
         },
         {
          "length": 3,
          "values": [
           0.5060810046269857,
           0.2684596166686561,
           0.2254593787043583
          ],
          "vectorType": "dense"
         },
         0,
         0
        ],
        [
         {
          "length": 5,
          "values": [
           0.0,
           0.40963855975424157,
           0.0,
           0.6379310344827586,
           0.5
          ],
          "vectorType": "dense"
         },
         {
          "length": 3,
          "values": [
           0.12032352627226015,
           0.8029342879301172,
           0.07674218579762256
          ],
          "vectorType": "dense"
         },
         1,
         1
        ],
        [
         {
          "length": 5,
          "values": [
           0.0,
           0.4136547156855746,
           0.12820510939498667,
           0.7931034482758621,
           0.5645161290322581
          ],
          "vectorType": "dense"
         },
         {
          "length": 3,
          "values": [
           0.10583134816572384,
           0.8233786565988609,
           0.07078999523541535
          ],
          "vectorType": "dense"
         },
         1,
         1
        ],
        [
         {
          "length": 5,
          "values": [
           0.0,
           0.41767071841622355,
           0.10256411196917335,
           0.8275862068965517,
           0.5967741935483871
          ],
          "vectorType": "dense"
         },
         {
          "length": 3,
          "values": [
           0.08723014168796708,
           0.8524711001252517,
           0.06029875818678127
          ],
          "vectorType": "dense"
         },
         1,
         1
        ],
        [
         {
          "length": 5,
          "values": [
           0.0,
           0.42168672114687256,
           0.06410255469749333,
           0.7758620689655172,
           0.6612903225806451
          ],
          "vectorType": "dense"
         },
         {
          "length": 3,
          "values": [
           0.07844026314047839,
           0.8685048033343759,
           0.05305493352514559
          ],
          "vectorType": "dense"
         },
         1,
         1
        ],
        [
         {
          "length": 5,
          "values": [
           0.0,
           0.4738956758494135,
           0.051282117117546704,
           0.6896551724137931,
           0.6129032258064516
          ],
          "vectorType": "dense"
         },
         {
          "length": 3,
          "values": [
           0.08373740710944755,
           0.8456455678377642,
           0.0706170250527883
          ],
          "vectorType": "dense"
         },
         1,
         1
        ],
        [
         {
          "length": 5,
          "values": [
           0.0,
           0.4779116785800625,
           0.25641021878997333,
           0.8275862068965517,
           0.7096774193548387
          ],
          "vectorType": "dense"
         },
         {
          "length": 3,
          "values": [
           0.0861109929030783,
           0.8407353023517441,
           0.07315370474517746
          ],
          "vectorType": "dense"
         },
         1,
         1
        ],
        [
         {
          "length": 5,
          "values": [
           0.0,
           0.4819276813107115,
           0.12820510939498667,
           0.6551724137931034,
           0.5
          ],
          "vectorType": "dense"
         },
         {
          "length": 3,
          "values": [
           0.12387919752044377,
           0.7674663525284959,
           0.10865444995106024
          ],
          "vectorType": "dense"
         },
         1,
         1
        ],
        [
         {
          "length": 5,
          "values": [
           0.0,
           0.4859438372420445,
           0.38461532818496,
           0.8793103448275862,
           1.0
          ],
          "vectorType": "dense"
         },
         {
          "length": 3,
          "values": [
           0.06273431893864792,
           0.8874987502280659,
           0.04976693083328619
          ],
          "vectorType": "dense"
         },
         1,
         1
        ],
        [
         {
          "length": 5,
          "values": [
           0.0,
           0.4899598399726935,
           0.051282117117546704,
           0.6206896551724138,
           0.43548387096774194
          ],
          "vectorType": "dense"
         },
         {
          "length": 3,
          "values": [
           0.12038405765507403,
           0.7673195544088472,
           0.11229638793607878
          ],
          "vectorType": "dense"
         },
         1,
         1
        ],
        [
         {
          "length": 5,
          "values": [
           0.0,
           0.4939759959040265,
           0.15384622908672005,
           0.6724137931034483,
           0.6290322580645161
          ],
          "vectorType": "dense"
         },
         {
          "length": 3,
          "values": [
           0.10035855179320687,
           0.8103256483708243,
           0.08931579983596867
          ],
          "vectorType": "dense"
         },
         1,
         1
        ],
        [
         {
          "length": 5,
          "values": [
           0.0,
           0.49799199863467547,
           0.03846155727168001,
           0.7241379310344828,
           0.5806451612903226
          ],
          "vectorType": "dense"
         },
         {
          "length": 3,
          "values": [
           0.07413758081574723,
           0.853424226339166,
           0.07243819284508667
          ],
          "vectorType": "dense"
         },
         1,
         1
        ],
        [
         {
          "length": 5,
          "values": [
           0.0,
           0.49799199863467547,
           0.06410255469749333,
           0.6551724137931034,
           0.43548387096774194
          ],
          "vectorType": "dense"
         },
         {
          "length": 3,
          "values": [
           0.11320249806707508,
           0.7754103594710694,
           0.11138714246185567
          ],
          "vectorType": "dense"
         },
         1,
         1
        ],
        [
         {
          "length": 5,
          "values": [
           0.0,
           0.5381526387439014,
           0.17948722651253338,
           0.7758620689655172,
           0.7580645161290323
          ],
          "vectorType": "dense"
         },
         {
          "length": 3,
          "values": [
           0.06094418410191765,
           0.8719294916570998,
           0.06712632424098261
          ],
          "vectorType": "dense"
         },
         1,
         1
        ],
        [
         {
          "length": 5,
          "values": [
           0.0,
           0.5542169560678655,
           0.15384622908672005,
           0.8620689655172413,
           0.6532258064516129
          ],
          "vectorType": "dense"
         },
         {
          "length": 3,
          "values": [
           0.054377868982945624,
           0.8749192183954405,
           0.07070291262161386
          ],
          "vectorType": "dense"
         },
         1,
         1
        ],
        [
         {
          "length": 5,
          "values": [
           0.0,
           0.5662651174604965,
           0.03846155727168001,
           0.7241379310344828,
           0.6693548387096774
          ],
          "vectorType": "dense"
         },
         {
          "length": 3,
          "values": [
           0.05138751845451324,
           0.8813829402395559,
           0.06722954130593087
          ],
          "vectorType": "dense"
         },
         1,
         1
        ],
        [
         {
          "length": 5,
          "values": [
           0.0,
           0.5662651174604965,
           0.26923077863584005,
           0.7413793103448276,
           0.6854838709677419
          ],
          "vectorType": "dense"
         },
         {
          "length": 3,
          "values": [
           0.08306537273332518,
           0.814099987846665,
           0.10283463942000977
          ],
          "vectorType": "dense"
         },
         1,
         1
        ],
        [
         {
          "length": 5,
          "values": [
           0.0,
           0.5702811201911454,
           0.051282117117546704,
           0.7586206896551724,
           0.6048387096774194
          ],
          "vectorType": "dense"
         },
         {
          "length": 3,
          "values": [
           0.05435793048031664,
           0.870355941545457,
           0.07528612797422622
          ],
          "vectorType": "dense"
         },
         1,
         1
        ],
        [
         {
          "length": 5,
          "values": [
           0.0,
           0.6064257575697224,
           0.2820513384817067,
           0.8448275862068966,
           0.7258064516129032
          ],
          "vectorType": "dense"
         },
         {
          "length": 3,
          "values": [
           0.05730607271058466,
           0.8535323991105709,
           0.0891615281788445
          ],
          "vectorType": "dense"
         },
         1,
         1
        ],
        [
         {
          "length": 5,
          "values": [
           0.0,
           0.6184739189623534,
           0.2051282239383467,
           0.8103448275862069,
           0.6451612903225806
          ],
          "vectorType": "dense"
         },
         {
          "length": 3,
          "values": [
           0.05638667061573976,
           0.84798049369586,
           0.09563283568840014
          ],
          "vectorType": "dense"
         },
         1,
         1
        ],
        [
         {
          "length": 5,
          "values": [
           0.0,
           0.6265060776243354,
           0.2179487837842134,
           0.8620689655172413,
           0.8064516129032258
          ],
          "vectorType": "dense"
         },
         {
          "length": 3,
          "values": [
           0.038668859961061286,
           0.8953413088640285,
           0.06598983117491013
          ],
          "vectorType": "dense"
         },
         1,
         1
        ],
        [
         {
          "length": 5,
          "values": [
           0.0,
           0.6265060776243354,
           0.2948717760616533,
           0.6206896551724138,
           0.8064516129032258
          ],
          "vectorType": "dense"
         },
         {
          "length": 3,
          "values": [
           0.0762250225997116,
           0.8118351503666494,
           0.11193982703363907
          ],
          "vectorType": "dense"
         },
         1,
         1
        ],
        [
         {
          "length": 5,
          "values": [
           0.0,
           0.6385542390169664,
           0.34615389317920003,
           0.7586206896551724,
           0.8709677419354839
          ],
          "vectorType": "dense"
         },
         {
          "length": 3,
          "values": [
           0.056402005234491716,
           0.8524317314074867,
           0.09116626335802155
          ],
          "vectorType": "dense"
         },
         1,
         1
        ],
        [
         {
          "length": 5,
          "values": [
           0.0,
           0.6425702417476153,
           0.2051282239383467,
           0.9655172413793103,
           0.8548387096774194
          ],
          "vectorType": "dense"
         },
         {
          "length": 3,
          "values": [
           0.026062628607577538,
           0.923876632474813,
           0.05006073891760962
          ],
          "vectorType": "dense"
         },
         1,
         1
        ],
        [
         {
          "length": 5,
          "values": [
           0.0,
           0.6586345590715793,
           0.35897445302506675,
           0.9827586206896551,
           0.9516129032258065
          ],
          "vectorType": "dense"
         },
         {
          "length": 3,
          "values": [
           0.029535567779166112,
           0.9130396162536352,
           0.057424815967198665
          ],
          "vectorType": "dense"
         },
         1,
         1
        ],
        [
         {
          "length": 5,
          "values": [
           0.0,
           0.6626505618022284,
           0.33333333333333337,
           0.9137931034482758,
           0.9193548387096774
          ],
          "vectorType": "dense"
         },
         {
          "length": 3,
          "values": [
           0.03360211017920575,
           0.9010964151573915,
           0.06530147466340287
          ],
          "vectorType": "dense"
         },
         1,
         1
        ],
        [
         {
          "length": 5,
          "values": [
           0.0,
           0.6947791964501563,
           0.2948717760616533,
           0.8620689655172413,
           0.9354838709677419
          ],
          "vectorType": "dense"
         },
         {
          "length": 3,
          "values": [
           0.029872059351997597,
           0.9041359670095784,
           0.06599197363842398
          ],
          "vectorType": "dense"
         },
         1,
         1
        ],
        [
         {
          "length": 5,
          "values": [
           0.0,
           0.6987951991808052,
           0.32051277348746665,
           0.9137931034482758,
           0.8225806451612904
          ],
          "vectorType": "dense"
         },
         {
          "length": 3,
          "values": [
           0.03424036635308347,
           0.8838175028845735,
           0.08194213076234295
          ],
          "vectorType": "dense"
         },
         1,
         1
        ],
        [
         {
          "length": 5,
          "values": [
           0.0,
           0.8835340824029712,
           0.33333333333333337,
           1.0,
           0.967741935483871
          ],
          "vectorType": "dense"
         },
         {
          "length": 3,
          "values": [
           0.012335377616574848,
           0.917450562089897,
           0.07021406029352831
          ],
          "vectorType": "dense"
         },
         1,
         1
        ],
        [
         {
          "length": 5,
          "values": [
           0.0,
           0.9156627170508991,
           0.46153844272832,
           0.9655172413793103,
           0.8870967741935484
          ],
          "vectorType": "dense"
         },
         {
          "length": 3,
          "values": [
           0.018796411228402296,
           0.8594949844592691,
           0.12170860431232844
          ],
          "vectorType": "dense"
         },
         1,
         1
        ],
        [
         {
          "length": 5,
          "values": [
           1.0,
           0.0,
           0.34615389317920003,
           0.10344827586206896,
           0.016129032258064516
          ],
          "vectorType": "dense"
         },
         {
          "length": 3,
          "values": [
           0.8947308635432748,
           0.03802452330654617,
           0.06724461315017916
          ],
          "vectorType": "dense"
         },
         0,
         0
        ],
        [
         {
          "length": 5,
          "values": [
           1.0,
           0.1044177562043979,
           0.5897435521233066,
           0.5172413793103449,
           0.22580645161290322
          ],
          "vectorType": "dense"
         },
         {
          "length": 3,
          "values": [
           0.7954775626282335,
           0.09751267934646089,
           0.10700975802530546
          ],
          "vectorType": "dense"
         },
         0,
         0
        ],
        [
         {
          "length": 5,
          "values": [
           1.0,
           0.12449807625901088,
           0.49999987773407994,
           0.25862068965517243,
           0.14516129032258066
          ],
          "vectorType": "dense"
         },
         {
          "length": 3,
          "values": [
           0.8242769206565239,
           0.06414110890048268,
           0.11158197044299342
          ],
          "vectorType": "dense"
         },
         0,
         0
        ],
        [
         {
          "length": 5,
          "values": [
           1.0,
           0.12851407898965986,
           0.7820512162157867,
           0.3103448275862069,
           0.3064516129032258
          ],
          "vectorType": "dense"
         },
         {
          "length": 3,
          "values": [
           0.8464973148920957,
           0.0478845970503847,
           0.10561808805751972
          ],
          "vectorType": "dense"
         },
         0,
         0
        ],
        [
         {
          "length": 5,
          "values": [
           1.0,
           0.14056224038229087,
           0.6410255469749333,
           0.20689655172413793,
           0.20161290322580644
          ],
          "vectorType": "dense"
         },
         {
          "length": 3,
          "values": [
           0.8406678538056186,
           0.04641043797524134,
           0.11292170821913994
          ],
          "vectorType": "dense"
         },
         0,
         0
        ],
        [
         {
          "length": 5,
          "values": [
           1.0,
           0.14859439904427285,
           0.6538461068208,
           0.3620689655172414,
           0.20967741935483872
          ],
          "vectorType": "dense"
         },
         {
          "length": 3,
          "values": [
           0.812468436109541,
           0.06499503768847201,
           0.12253652620198685
          ],
          "vectorType": "dense"
         },
         0,
         0
        ],
        [
         {
          "length": 5,
          "values": [
           1.0,
           0.15662655770625483,
           0.3974358880308267,
           0.22413793103448276,
           0.1774193548387097
          ],
          "vectorType": "dense"
         },
         {
          "length": 3,
          "values": [
           0.7876930371805125,
           0.08864171665399351,
           0.12366524616549396
          ],
          "vectorType": "dense"
         },
         0,
         0
        ],
        [
         {
          "length": 5,
          "values": [
           1.0,
           0.16465871636823684,
           0.6025641119691734,
           0.10344827586206896,
           0.3387096774193548
          ],
          "vectorType": "dense"
         },
         {
          "length": 3,
          "values": [
           0.8296597173135204,
           0.05666695609739792,
           0.11367332658908154
          ],
          "vectorType": "dense"
         },
         0,
         0
        ],
        [
         {
          "length": 5,
          "values": [
           1.0,
           0.17670687776086783,
           0.6538461068208,
           0.46551724137931033,
           0.5241935483870968
          ],
          "vectorType": "dense"
         },
         {
          "length": 3,
          "values": [
           0.729168697768732,
           0.15184940894373894,
           0.11898189328752892
          ],
          "vectorType": "dense"
         },
         0,
         0
        ],
        [
         {
          "length": 5,
          "values": [
           1.0,
           0.1887550391534988,
           0.6025641119691734,
           0.3620689655172414,
           0.2903225806451613
          ],
          "vectorType": "dense"
         },
         {
          "length": 3,
          "values": [
           0.7675948145125719,
           0.09452056640906772,
           0.13788461907836042
          ],
          "vectorType": "dense"
         },
         0,
         0
        ],
        [
         {
          "length": 5,
          "values": [
           1.0,
           0.20883535920811178,
           0.7435897812100267,
           0.29310344827586204,
           0.3548387096774194
          ],
          "vectorType": "dense"
         },
         {
          "length": 3,
          "values": [
           0.7899851083042859,
           0.06823687848427383,
           0.14177801321144023
          ],
          "vectorType": "dense"
         },
         0,
         0
        ],
        [
         {
          "length": 5,
          "values": [
           1.0,
           0.24497999658668876,
           0.6666666666666667,
           0.3103448275862069,
           0.45161290322580644
          ],
          "vectorType": "dense"
         },
         {
          "length": 3,
          "values": [
           0.7335592117110582,
           0.11101034418524401,
           0.15543044410369777
          ],
          "vectorType": "dense"
         },
         0,
         0
        ],
        [
         {
          "length": 5,
          "values": [
           1.0,
           0.24497999658668876,
           0.9871794401541334,
           0.41379310344827586,
           0.41935483870967744
          ],
          "vectorType": "dense"
         },
         {
          "length": 3,
          "values": [
           0.7787873315620815,
           0.05858120909306247,
           0.16263145934485596
          ],
          "vectorType": "dense"
         },
         0,
         0
        ],
        [
         {
          "length": 5,
          "values": [
           1.0,
           0.2851406366959147,
           0.47435900257418673,
           0.3620689655172414,
           0.1774193548387097
          ],
          "vectorType": "dense"
         },
         {
          "length": 3,
          "values": [
           0.668267700543831,
           0.12813965343925865,
           0.20359264601691035
          ],
          "vectorType": "dense"
         },
         0,
         0
        ],
        [
         {
          "length": 5,
          "values": [
           1.0,
           0.2851406366959147,
           0.8589743307591468,
           0.48275862068965514,
           0.3629032258064516
          ],
          "vectorType": "dense"
         },
         {
          "length": 3,
          "values": [
           0.7120711742081439,
           0.09121906298229729,
           0.19670976280955874
          ],
          "vectorType": "dense"
         },
         0,
         0
        ],
        [
         {
          "length": 5,
          "values": [
           1.0,
           0.3012048008191947,
           0.4871795624200534,
           0.25862068965517243,
           0.20161290322580644
          ],
          "vectorType": "dense"
         },
         {
          "length": 3,
          "values": [
           0.6812924659030138,
           0.10941845977136182,
           0.20928907432562427
          ],
          "vectorType": "dense"
         },
         0,
         0
        ],
        [
         {
          "length": 5,
          "values": [
           1.0,
           0.31325311541250966,
           0.4102564478766934,
           0.25862068965517243,
           0.11290322580645161
          ],
          "vectorType": "dense"
         },
         {
          "length": 3,
          "values": [
           0.659994038076533,
           0.11420034869734087,
           0.22580561322612602
          ],
          "vectorType": "dense"
         },
         0,
         2
        ],
        [
         {
          "length": 5,
          "values": [
           1.0,
           0.33734943819777163,
           0.6538461068208,
           0.5,
           0.3709677419354839
          ],
          "vectorType": "dense"
         },
         {
          "length": 3,
          "values": [
           0.6034913328565822,
           0.17014781113226868,
           0.22636085601114908
          ],
          "vectorType": "dense"
         },
         0,
         0
        ],
        [
         {
          "length": 5,
          "values": [
           1.0,
           0.36947791964501564,
           1.0,
           0.3275862068965517,
           0.41935483870967744
          ],
          "vectorType": "dense"
         },
         {
          "length": 3,
          "values": [
           0.6910043108842743,
           0.061601961772726734,
           0.24739372734299886
          ],
          "vectorType": "dense"
         },
         0,
         0
        ],
        [
         {
          "length": 5,
          "values": [
           1.0,
           0.40562255702359257,
           0.4102564478766934,
           0.25862068965517243,
           0.016129032258064516
          ],
          "vectorType": "dense"
         },
         {
          "length": 3,
          "values": [
           0.5743277484496621,
           0.11099474358068598,
           0.3146775079696519
          ],
          "vectorType": "dense"
         },
         0,
         2
        ],
        [
         {
          "length": 5,
          "values": [
           1.0,
           0.41767071841622355,
           0.6025641119691734,
           0.5172413793103449,
           0.1774193548387097
          ],
          "vectorType": "dense"
         },
         {
          "length": 3,
          "values": [
           0.5263678721848019,
           0.15766688739074863,
           0.31596524042444946
          ],
          "vectorType": "dense"
         },
         0,
         2
        ],
        [
         {
          "length": 5,
          "values": [
           1.0,
           0.5261044773512704,
           0.5256409974258134,
           0.25862068965517243,
           0.25806451612903225
          ],
          "vectorType": "dense"
         },
         {
          "length": 3,
          "values": [
           0.45424492534148986,
           0.1531747149220577,
           0.3925803597364525
          ],
          "vectorType": "dense"
         },
         0,
         2
        ],
        [
         {
          "length": 5,
          "values": [
           1.0,
           0.5341366360132525,
           0.5641024324315733,
           0.3275862068965517,
           0.27419354838709675
          ],
          "vectorType": "dense"
         },
         {
          "length": 3,
          "values": [
           0.4356033673291775,
           0.16471378557631922,
           0.39968284709450336
          ],
          "vectorType": "dense"
         },
         0,
         2
        ],
        [
         {
          "length": 5,
          "values": [
           1.0,
           0.5341366360132525,
           0.6666666666666667,
           0.3103448275862069,
           0.1935483870967742
          ],
          "vectorType": "dense"
         },
         {
          "length": 3,
          "values": [
           0.46626658405536614,
           0.10900255502886239,
           0.4247308609157716
          ],
          "vectorType": "dense"
         },
         0,
         2
        ],
        [
         {
          "length": 5,
          "values": [
           1.0,
           0.5783132788531274,
           0.4358973230365866,
           0.46551724137931033,
           0.3387096774193548
          ],
          "vectorType": "dense"
         },
         {
          "length": 3,
          "values": [
           0.3119958737440012,
           0.30400392486215466,
           0.3840002013938441
          ],
          "vectorType": "dense"
         },
         2,
         2
        ],
        [
         {
          "length": 5,
          "values": [
           1.0,
           0.6385542390169664,
           0.7820512162157867,
           0.6551724137931034,
           0.3548387096774194
          ],
          "vectorType": "dense"
         },
         {
          "length": 3,
          "values": [
           0.2948727920703387,
           0.21836361981472335,
           0.48676358811493786
          ],
          "vectorType": "dense"
         },
         2,
         2
        ],
        [
         {
          "length": 5,
          "values": [
           1.0,
           0.6787148791261923,
           0.7820512162157867,
           0.41379310344827586,
           0.3387096774193548
          ],
          "vectorType": "dense"
         },
         {
          "length": 3,
          "values": [
           0.3099590046327107,
           0.14396354758797703,
           0.5460774477793122
          ],
          "vectorType": "dense"
         },
         2,
         2
        ],
        [
         {
          "length": 5,
          "values": [
           1.0,
           0.6907630405188233,
           0.84615377091328,
           0.43103448275862066,
           0.14516129032258066
          ],
          "vectorType": "dense"
         },
         {
          "length": 3,
          "values": [
           0.3058300580528729,
           0.0880114442866378,
           0.6061584976604893
          ],
          "vectorType": "dense"
         },
         2,
         2
        ],
        [
         {
          "length": 5,
          "values": [
           1.0,
           0.6987951991808052,
           0.7948717760616534,
           0.5,
           0.3870967741935484
          ],
          "vectorType": "dense"
         },
         {
          "length": 3,
          "values": [
           0.2751646503539678,
           0.17748501154928878,
           0.5473503380967435
          ],
          "vectorType": "dense"
         },
         2,
         2
        ],
        [
         {
          "length": 5,
          "values": [
           1.0,
           0.7108433605734362,
           0.7179486615182934,
           0.6551724137931034,
           0.4032258064516129
          ],
          "vectorType": "dense"
         },
         {
          "length": 3,
          "values": [
           0.21964527238518616,
           0.270235340343636,
           0.5101193872711778
          ],
          "vectorType": "dense"
         },
         2,
         2
        ],
        [
         {
          "length": 5,
          "values": [
           1.0,
           0.7309236806280492,
           0.6153846718150401,
           0.43103448275862066,
           0.2903225806451613
          ],
          "vectorType": "dense"
         },
         {
          "length": 3,
          "values": [
           0.23591348986789848,
           0.19410731709119514,
           0.5699791930409065
          ],
          "vectorType": "dense"
         },
         2,
         2
        ],
        [
         {
          "length": 5,
          "values": [
           1.0,
           1.0,
           0.5641024324315733,
           0.15517241379310345,
           0.27419354838709675
          ],
          "vectorType": "dense"
         },
         {
          "length": 3,
          "values": [
           0.10276222510799642,
           0.11898337972752789,
           0.7782543951644756
          ],
          "vectorType": "dense"
         },
         2,
         2
        ],
        [
         {
          "length": 5,
          "values": [
           2.0,
           0.08032128021845192,
           0.76923065636992,
           0.3620689655172414,
           0.43548387096774194
          ],
          "vectorType": "dense"
         },
         {
          "length": 3,
          "values": [
           0.8768822421019616,
           0.036585346637955034,
           0.08653241126008321
          ],
          "vectorType": "dense"
         },
         0,
         0
        ],
        [
         {
          "length": 5,
          "values": [
           2.0,
           0.09638559754241591,
           0.5256409974258134,
           0.3103448275862069,
           0.27419354838709675
          ],
          "vectorType": "dense"
         },
         {
          "length": 3,
          "values": [
           0.8534280020798888,
           0.04707576803405677,
           0.09949622988605455
          ],
          "vectorType": "dense"
         },
         0,
         0
        ],
        [
         {
          "length": 5,
          "values": [
           2.0,
           0.12449807625901088,
           0.34615389317920003,
           0.25862068965517243,
           0.22580645161290322
          ],
          "vectorType": "dense"
         },
         {
          "length": 3,
          "values": [
           0.821383650085753,
           0.06536224892873083,
           0.11325410098551604
          ],
          "vectorType": "dense"
         },
         0,
         0
        ],
        [
         {
          "length": 5,
          "values": [
           2.0,
           0.14457839631362385,
           0.69230754182656,
           0.25862068965517243,
           0.3064516129032258
          ],
          "vectorType": "dense"
         },
         {
          "length": 3,
          "values": [
           0.852106398909615,
           0.032914897238390646,
           0.11497870385199425
          ],
          "vectorType": "dense"
         },
         0,
         0
        ],
        [
         {
          "length": 5,
          "values": [
           2.0,
           0.14457839631362385,
           0.7564100965240533,
           0.3620689655172414,
           0.1935483870967742
          ],
          "vectorType": "dense"
         },
         {
          "length": 3,
          "values": [
           0.8481151453288943,
           0.02801734073952247,
           0.12386751393158316
          ],
          "vectorType": "dense"
         },
         0,
         0
        ],
        [
         {
          "length": 5,
          "values": [
           2.0,
           0.16867471909888582,
           0.9102563256107734,
           0.46551724137931033,
           0.29838709677419356
          ],
          "vectorType": "dense"
         },
         {
          "length": 3,
          "values": [
           0.8352694668655282,
           0.03072258571681957,
           0.13400794741765226
          ],
          "vectorType": "dense"
         },
         0,
         0
        ],
        [
         {
          "length": 5,
          "values": [
           2.0,
           0.23293183519405777,
           0.5641024324315733,
           0.15517241379310345,
           0.25
          ],
          "vectorType": "dense"
         },
         {
          "length": 3,
          "values": [
           0.7963986187295333,
           0.04093927737378885,
           0.16266210389667773
          ],
          "vectorType": "dense"
         },
         0,
         0
        ],
        [
         {
          "length": 5,
          "values": [
           2.0,
           0.24497999658668876,
           0.7948717760616534,
           0.39655172413793105,
           0.5887096774193549
          ],
          "vectorType": "dense"
         },
         {
          "length": 3,
          "values": [
           0.7667986420523611,
           0.07501613496138292,
           0.15818522298625595
          ],
          "vectorType": "dense"
         },
         0,
         0
        ],
        [
         {
          "length": 5,
          "values": [
           2.0,
           0.2570281579793197,
           0.5128204375799467,
           0.24137931034482757,
           0.3064516129032258
          ],
          "vectorType": "dense"
         },
         {
          "length": 3,
          "values": [
           0.7542411023337813,
           0.06607137087323028,
           0.17968752679298844
          ],
          "vectorType": "dense"
         },
         0,
         0
        ],
        [
         {
          "length": 5,
          "values": [
           2.0,
           0.2851406366959147,
           0.46153844272832,
           0.06896551724137931,
           0.1935483870967742
          ],
          "vectorType": "dense"
         },
         {
          "length": 3,
          "values": [
           0.7574057833872616,
           0.044686861796596256,
           0.19790735481614194
          ],
          "vectorType": "dense"
         },
         0,
         0
        ],
        [
         {
          "length": 5,
          "values": [
           2.0,
           0.31325311541250966,
           0.4358973230365866,
           0.3275862068965517,
           0.27419354838709675
          ],
          "vectorType": "dense"
         },
         {
          "length": 3,
          "values": [
           0.6733348016311673,
           0.10048976845199088,
           0.22617542991684175
          ],
          "vectorType": "dense"
         },
         0,
         0
        ],
        [
         {
          "length": 5,
          "values": [
           2.0,
           0.3935743956309616,
           0.5384615572716801,
           0.41379310344827586,
           0.5967741935483871
          ],
          "vectorType": "dense"
         },
         {
          "length": 3,
          "values": [
           0.5594973650526935,
           0.18999041695593158,
           0.2505122179913748
          ],
          "vectorType": "dense"
         },
         0,
         0
        ],
        [
         {
          "length": 5,
          "values": [
           2.0,
           0.4417670412014856,
           0.5897435521233066,
           0.6551724137931034,
           0.3709677419354839
          ],
          "vectorType": "dense"
         },
         {
          "length": 3,
          "values": [
           0.48222015068951707,
           0.18765541340709624,
           0.33012443590338675
          ],
          "vectorType": "dense"
         },
         0,
         0
        ]
       ],
       "datasetInfos": [],
       "dbfsResultPath": null,
       "isJsonSchema": true,
       "metadata": {},
       "overflow": false,
       "plotOptions": {
        "customPlotOptions": {},
        "displayType": "table",
        "pivotAggregation": null,
        "pivotColumns": null,
        "xColumns": null,
        "yColumns": null
       },
       "removedWidgets": [],
       "schema": [
        {
         "metadata": "{\"ml_attr\":{\"attrs\":{\"numeric\":[{\"idx\":1,\"name\":\"normalizedFeatures_0\"},{\"idx\":2,\"name\":\"normalizedFeatures_1\"},{\"idx\":3,\"name\":\"normalizedFeatures_2\"},{\"idx\":4,\"name\":\"normalizedFeatures_3\"}],\"nominal\":[{\"vals\":[\"Biscoe\",\"Dream\",\"Torgersen\"],\"idx\":0,\"name\":\"IslandIdx\"}]},\"num_attrs\":5}}",
         "name": "features",
         "type": "{\"type\":\"udt\",\"class\":\"org.apache.spark.ml.linalg.VectorUDT\",\"pyClass\":\"pyspark.ml.linalg.VectorUDT\",\"sqlType\":{\"type\":\"struct\",\"fields\":[{\"name\":\"type\",\"type\":\"byte\",\"nullable\":false,\"metadata\":{}},{\"name\":\"size\",\"type\":\"integer\",\"nullable\":true,\"metadata\":{}},{\"name\":\"indices\",\"type\":{\"type\":\"array\",\"elementType\":\"integer\",\"containsNull\":false},\"nullable\":true,\"metadata\":{}},{\"name\":\"values\",\"type\":{\"type\":\"array\",\"elementType\":\"double\",\"containsNull\":false},\"nullable\":true,\"metadata\":{}}]}}"
        },
        {
         "metadata": "{\"ml_attr\":{\"num_attrs\":3}}",
         "name": "probability",
         "type": "{\"type\":\"udt\",\"class\":\"org.apache.spark.ml.linalg.VectorUDT\",\"pyClass\":\"pyspark.ml.linalg.VectorUDT\",\"sqlType\":{\"type\":\"struct\",\"fields\":[{\"name\":\"type\",\"type\":\"byte\",\"nullable\":false,\"metadata\":{}},{\"name\":\"size\",\"type\":\"integer\",\"nullable\":true,\"metadata\":{}},{\"name\":\"indices\",\"type\":{\"type\":\"array\",\"elementType\":\"integer\",\"containsNull\":false},\"nullable\":true,\"metadata\":{}},{\"name\":\"values\",\"type\":{\"type\":\"array\",\"elementType\":\"double\",\"containsNull\":false},\"nullable\":true,\"metadata\":{}}]}}"
        },
        {
         "metadata": "{}",
         "name": "prediction",
         "type": "\"integer\""
        },
        {
         "metadata": "{}",
         "name": "trueLabel",
         "type": "\"integer\""
        }
       ],
       "type": "table"
      }
     },
     "output_type": "display_data"
    }
   ],
   "source": [
    "# Prepare the test data\n",
    "indexedTestData = indexer.fit(test).transform(test).drop(\"Island\")\n",
    "vectorizedTestData = numericColVector.transform(indexedTestData)\n",
    "scaledTestData = minMax.fit(vectorizedTestData).transform(vectorizedTestData)\n",
    "preppedTestData = featVect.transform(scaledTestData)[col(\"featuresVector\").alias(\"features\"), col(\"Species\").alias(\"label\")]\n",
    "   \n",
    "# Get predictions\n",
    "prediction = model.transform(preppedTestData)\n",
    "predicted = prediction.select(\"features\", \"probability\", col(\"prediction\").astype(\"Int\"), col(\"label\").alias(\"trueLabel\"))\n",
    "display(predicted)"
   ]
  },
  {
   "cell_type": "code",
   "execution_count": 0,
   "metadata": {
    "application/vnd.databricks.v1+cell": {
     "cellMetadata": {
      "byteLimit": 2048000,
      "rowLimit": 10000
     },
     "inputWidgets": {},
     "nuid": "4b1cf61d-d5e8-4ea5-9f80-ef6e55c4bcc5",
     "showTitle": false,
     "title": ""
    }
   },
   "outputs": [
    {
     "output_type": "stream",
     "name": "stdout",
     "output_type": "stream",
     "text": [
      "Accuracy: 0.9285714285714286\n\nIndividual class metrics:\nClass 0\n\tPrecision: 0.8723404255319149\n\tRecall: 1.0\n\tF1 Score: 0.9318181818181819\nClass 1\n\tPrecision: 1.0\n\tRecall: 1.0\n\tF1 Score: 1.0\nClass 2\n\tPrecision: 1.0\n\tRecall: 0.5714285714285714\n\tF1 Score: 0.7272727272727273\nOverall Precision: 0.9376899696048633\nOverall Recall: 0.9285714285714286\nOverall F1 Score: 0.9212662337662338\n"
     ]
    }
   ],
   "source": [
    "from pyspark.ml.evaluation import MulticlassClassificationEvaluator\n",
    "   \n",
    "evaluator = MulticlassClassificationEvaluator(labelCol=\"label\", predictionCol=\"prediction\")\n",
    "   \n",
    "# Simple accuracy\n",
    "accuracy = evaluator.evaluate(prediction, {evaluator.metricName:\"accuracy\"})\n",
    "print(\"Accuracy:\", accuracy)\n",
    "   \n",
    "# Individual class metrics\n",
    "labels = [0,1,2]\n",
    "print(\"\\nIndividual class metrics:\")\n",
    "for label in sorted(labels):\n",
    "    print (\"Class %s\" % (label))\n",
    "   \n",
    "    # Precision\n",
    "    precision = evaluator.evaluate(prediction, {evaluator.metricLabel:label,\n",
    "                                                evaluator.metricName:\"precisionByLabel\"})\n",
    "    print(\"\\tPrecision:\", precision)\n",
    "   \n",
    "    # Recall\n",
    "    recall = evaluator.evaluate(prediction, {evaluator.metricLabel:label,\n",
    "                                             evaluator.metricName:\"recallByLabel\"})\n",
    "    print(\"\\tRecall:\", recall)\n",
    "   \n",
    "    # F1 score\n",
    "    f1 = evaluator.evaluate(prediction, {evaluator.metricLabel:label,\n",
    "                                         evaluator.metricName:\"fMeasureByLabel\"})\n",
    "    print(\"\\tF1 Score:\", f1)\n",
    "   \n",
    "# Weighted (overall) metrics\n",
    "overallPrecision = evaluator.evaluate(prediction, {evaluator.metricName:\"weightedPrecision\"})\n",
    "print(\"Overall Precision:\", overallPrecision)\n",
    "overallRecall = evaluator.evaluate(prediction, {evaluator.metricName:\"weightedRecall\"})\n",
    "print(\"Overall Recall:\", overallRecall)\n",
    "overallF1 = evaluator.evaluate(prediction, {evaluator.metricName:\"weightedFMeasure\"})\n",
    "print(\"Overall F1 Score:\", overallF1)"
   ]
  },
  {
   "cell_type": "code",
   "execution_count": 0,
   "metadata": {
    "application/vnd.databricks.v1+cell": {
     "cellMetadata": {
      "byteLimit": 2048000,
      "rowLimit": 10000
     },
     "inputWidgets": {},
     "nuid": "5bf363c5-d8f1-40ec-8159-8a607124b9fa",
     "showTitle": false,
     "title": ""
    }
   },
   "outputs": [
    {
     "output_type": "stream",
     "name": "stdout",
     "output_type": "stream",
     "text": [
      "Model trained!\n"
     ]
    }
   ],
   "source": [
    "from pyspark.ml import Pipeline\n",
    "from pyspark.ml.feature import StringIndexer, VectorAssembler, MinMaxScaler\n",
    "from pyspark.ml.classification import LogisticRegression\n",
    "   \n",
    "catFeature = \"Island\"\n",
    "numFeatures = [\"CulmenLength\", \"CulmenDepth\", \"FlipperLength\", \"BodyMass\"]\n",
    "   \n",
    "# Define the feature engineering and model training algorithm steps\n",
    "catIndexer = StringIndexer(inputCol=catFeature, outputCol=catFeature + \"Idx\")\n",
    "numVector = VectorAssembler(inputCols=numFeatures, outputCol=\"numericFeatures\")\n",
    "numScaler = MinMaxScaler(inputCol = numVector.getOutputCol(), outputCol=\"normalizedFeatures\")\n",
    "featureVector = VectorAssembler(inputCols=[\"IslandIdx\", \"normalizedFeatures\"], outputCol=\"Features\")\n",
    "algo = LogisticRegression(labelCol=\"Species\", featuresCol=\"Features\", maxIter=10, regParam=0.3)\n",
    "   \n",
    "# Chain the steps as stages in a pipeline\n",
    "pipeline = Pipeline(stages=[catIndexer, numVector, numScaler, featureVector, algo])\n",
    "   \n",
    "# Use the pipeline to prepare data and fit the model algorithm\n",
    "model = pipeline.fit(train)\n",
    "print (\"Model trained!\")"
   ]
  },
  {
   "cell_type": "code",
   "execution_count": 0,
   "metadata": {
    "application/vnd.databricks.v1+cell": {
     "cellMetadata": {
      "byteLimit": 2048000,
      "rowLimit": 10000
     },
     "inputWidgets": {},
     "nuid": "5dd73d76-0cc5-42c0-be9b-152fbee4c448",
     "showTitle": false,
     "title": ""
    }
   },
   "outputs": [
    {
     "output_type": "display_data",
     "data": {
      "text/html": [
       "<style scoped>\n",
       "  .table-result-container {\n",
       "    max-height: 300px;\n",
       "    overflow: auto;\n",
       "  }\n",
       "  table, th, td {\n",
       "    border: 1px solid black;\n",
       "    border-collapse: collapse;\n",
       "  }\n",
       "  th, td {\n",
       "    padding: 5px;\n",
       "  }\n",
       "  th {\n",
       "    text-align: left;\n",
       "  }\n",
       "</style><div class='table-result-container'><table class='table-result'><thead style='background-color: white'><tr><th>Features</th><th>probability</th><th>prediction</th><th>trueLabel</th></tr></thead><tbody><tr><td>Map(vectorType -> dense, length -> 5, values -> List(0.0, 0.10545460094105114, 0.5714285065527647, 0.2641509433962264, 0.2847222222222222))</td><td>Map(vectorType -> dense, length -> 3, values -> List(0.7964921930935199, 0.1117783277585094, 0.09172947914797075))</td><td>0</td><td>0</td></tr><tr><td>Map(vectorType -> dense, length -> 5, values -> List(0.0, 0.16000005548650567, 0.416666685588777, 0.05660377358490566, 0.041666666666666664))</td><td>Map(vectorType -> dense, length -> 3, values -> List(0.801072730681099, 0.07801812016359885, 0.12090914915530199))</td><td>0</td><td>0</td></tr><tr><td>Map(vectorType -> dense, length -> 5, values -> List(0.0, 0.20363644686612214, 0.34523806550335046, 0.09433962264150943, 0.10416666666666667))</td><td>Map(vectorType -> dense, length -> 3, values -> List(0.7366203006061484, 0.12439849057512391, 0.13898120881872764))</td><td>0</td><td>0</td></tr><tr><td>Map(vectorType -> dense, length -> 5, values -> List(0.0, 0.2072727550159801, 0.6190475109212744, -0.07547169811320754, 0.19444444444444445))</td><td>Map(vectorType -> dense, length -> 3, values -> List(0.8176438391496246, 0.053005526087715624, 0.12935063476265982))</td><td>0</td><td>0</td></tr><tr><td>Map(vectorType -> dense, length -> 5, values -> List(0.0, 0.2072727550159801, 0.8214285633190956, 0.22641509433962265, 0.4305555555555556))</td><td>Map(vectorType -> dense, length -> 3, values -> List(0.7791620600282939, 0.09396124098462791, 0.1268766989870782))</td><td>0</td><td>0</td></tr><tr><td>Map(vectorType -> dense, length -> 5, values -> List(0.0, 0.21090920188210227, 0.6547619344966495, -0.11320754716981132, 0.125))</td><td>Map(vectorType -> dense, length -> 3, values -> List(0.8281068886299527, 0.03930391975871339, 0.13258919161133378))</td><td>0</td><td>0</td></tr><tr><td>Map(vectorType -> dense, length -> 5, values -> List(0.0, 0.2763637195933949, 0.6904761310067009, 0.11320754716981132, 0.2361111111111111))</td><td>Map(vectorType -> dense, length -> 3, values -> List(0.7418286552412087, 0.08377926141098649, 0.17439208334780493))</td><td>0</td><td>0</td></tr><tr><td>Map(vectorType -> dense, length -> 5, values -> List(0.0, 0.3090909090909091, 0.6547619344966495, 0.09433962264150943, 0.2361111111111111))</td><td>Map(vectorType -> dense, length -> 3, values -> List(0.7108528761706141, 0.09426560122198861, 0.19488152260739725))</td><td>0</td><td>0</td></tr><tr><td>Map(vectorType -> dense, length -> 5, values -> List(0.0, 0.3672728105024858, 0.7619047510921274, 0.3584905660377358, 0.4375))</td><td>Map(vectorType -> dense, length -> 3, values -> List(0.5852812321441202, 0.1937034960167048, 0.22101527183917483))</td><td>0</td><td>0</td></tr><tr><td>Map(vectorType -> dense, length -> 5, values -> List(0.0, 0.38545462868430397, 0.6190475109212744, 0.33962264150943394, 0.3819444444444444))</td><td>Map(vectorType -> dense, length -> 3, values -> List(0.5330519044170634, 0.23731159478316913, 0.22963650079976744))</td><td>0</td><td>0</td></tr><tr><td>Map(vectorType -> dense, length -> 5, values -> List(0.0, 0.4072727550159801, 0.03571419651005139, 0.5849056603773585, 0.4722222222222222))</td><td>Map(vectorType -> dense, length -> 3, values -> List(0.150773886293373, 0.7567644335669038, 0.09246168013972318))</td><td>1</td><td>1</td></tr><tr><td>Map(vectorType -> dense, length -> 5, values -> List(0.0, 0.4109092018821022, 0.15476182096398766, 0.7547169811320754, 0.5277777777777778))</td><td>Map(vectorType -> dense, length -> 3, values -> List(0.129134140753401, 0.7868448097627857, 0.08402104948381331))</td><td>1</td><td>1</td></tr><tr><td>Map(vectorType -> dense, length -> 5, values -> List(0.0, 0.4145455100319602, 0.1309523187797328, 0.7924528301886792, 0.5555555555555556))</td><td>Map(vectorType -> dense, length -> 3, values -> List(0.10787779078520683, 0.8195072275156049, 0.0726149816991882))</td><td>1</td><td>1</td></tr><tr><td>Map(vectorType -> dense, length -> 5, values -> List(0.0, 0.41818181818181815, 0.09523800873701953, 0.7358490566037735, 0.6111111111111112))</td><td>Map(vectorType -> dense, length -> 3, values -> List(0.10056601306438029, 0.833330677801235, 0.06610330913438475))</td><td>1</td><td>1</td></tr><tr><td>Map(vectorType -> dense, length -> 5, values -> List(0.0, 0.4654546564275568, 0.08333331441122302, 0.6415094339622641, 0.5694444444444444))</td><td>Map(vectorType -> dense, length -> 3, values -> List(0.10904347444217342, 0.8042606800822064, 0.08669584547562019))</td><td>1</td><td>1</td></tr><tr><td>Map(vectorType -> dense, length -> 5, values -> List(0.0, 0.4690909645774147, 0.27380944541792396, 0.7924528301886792, 0.6527777777777778))</td><td>Map(vectorType -> dense, length -> 3, values -> List(0.10805673113535269, 0.8042059211917971, 0.08773734767284999))</td><td>1</td><td>1</td></tr><tr><td>Map(vectorType -> dense, length -> 5, values -> List(0.0, 0.4727272727272727, 0.15476182096398766, 0.6037735849056604, 0.4722222222222222))</td><td>Map(vectorType -> dense, length -> 3, values -> List(0.1536212873260077, 0.7205420283810396, 0.12583668429295264))</td><td>1</td><td>1</td></tr><tr><td>Map(vectorType -> dense, length -> 5, values -> List(0.0, 0.47636371959339485, 0.39285706987186025, 0.8490566037735848, 0.9027777777777778))</td><td>Map(vectorType -> dense, length -> 3, values -> List(0.08283773840712762, 0.8533716591164326, 0.06379060247643971))</td><td>1</td><td>1</td></tr><tr><td>Map(vectorType -> dense, length -> 5, values -> List(0.0, 0.48000002774325284, 0.08333331441122302, 0.5660377358490566, 0.4166666666666667))</td><td>Map(vectorType -> dense, length -> 3, values -> List(0.1503190671176563, 0.7200166376312814, 0.12966429525106238))</td><td>1</td><td>1</td></tr><tr><td>Map(vectorType -> dense, length -> 5, values -> List(0.0, 0.483636474609375, 0.17857143668090442, 0.6226415094339622, 0.5833333333333334))</td><td>Map(vectorType -> dense, length -> 3, values -> List(0.1288125720394001, 0.7638846315160883, 0.10730279644451164))</td><td>1</td><td>1</td></tr><tr><td>Map(vectorType -> dense, length -> 5, values -> List(0.0, 0.4872727827592329, 0.07142850655276464, 0.6792452830188679, 0.5416666666666666))</td><td>Map(vectorType -> dense, length -> 3, values -> List(0.09639825280715521, 0.8157587649838179, 0.08784298220902682))</td><td>1</td><td>1</td></tr><tr><td>Map(vectorType -> dense, length -> 5, values -> List(0.0, 0.4872727827592329, 0.09523800873701953, 0.6037735849056604, 0.4166666666666667))</td><td>Map(vectorType -> dense, length -> 3, values -> List(0.14093485460150754, 0.7310349536883421, 0.12803019171015026))</td><td>1</td><td>1</td></tr><tr><td>Map(vectorType -> dense, length -> 5, values -> List(0.0, 0.5236364191228693, 0.20238093886515932, 0.7358490566037735, 0.6944444444444444))</td><td>Map(vectorType -> dense, length -> 3, values -> List(0.08123326958049022, 0.8356640595106065, 0.0831026709089033))</td><td>1</td><td>1</td></tr><tr><td>Map(vectorType -> dense, length -> 5, values -> List(0.0, 0.5381819291548295, 0.17857143668090442, 0.830188679245283, 0.6041666666666666))</td><td>Map(vectorType -> dense, length -> 3, values -> List(0.07035630865364531, 0.8453860219426077, 0.08425766940374703))</td><td>1</td><td>1</td></tr><tr><td>Map(vectorType -> dense, length -> 5, values -> List(0.0, 0.5490909923206676, 0.07142850655276464, 0.6792452830188679, 0.6180555555555556))</td><td>Map(vectorType -> dense, length -> 3, values -> List(0.07024103513546949, 0.8462727122215705, 0.08348625264296))</td><td>1</td><td>1</td></tr><tr><td>Map(vectorType -> dense, length -> 5, values -> List(0.0, 0.5490909923206676, 0.28571425327638234, 0.6981132075471698, 0.6319444444444444))</td><td>Map(vectorType -> dense, length -> 3, values -> List(0.10718991920022859, 0.7715424263861222, 0.12126765441364917))</td><td>1</td><td>1</td></tr><tr><td>Map(vectorType -> dense, length -> 5, values -> List(0.0, 0.5527273004705255, 0.08333331441122302, 0.7169811320754716, 0.5625))</td><td>Map(vectorType -> dense, length -> 3, values -> List(0.07243609401200717, 0.8366876437741102, 0.09087626221388267))</td><td>1</td><td>1</td></tr><tr><td>Map(vectorType -> dense, length -> 5, values -> List(0.0, 0.585454628684304, 0.2976190611348407, 0.8113207547169811, 0.6666666666666666))</td><td>Map(vectorType -> dense, length -> 3, values -> List(0.07481415156544234, 0.8199224760684702, 0.1052633723660875))</td><td>1</td><td>1</td></tr><tr><td>Map(vectorType -> dense, length -> 5, values -> List(0.0, 0.596363691850142, 0.2261904410494142, 0.7735849056603773, 0.5972222222222222))</td><td>Map(vectorType -> dense, length -> 3, values -> List(0.07389001749028591, 0.814188166122723, 0.111921816386991))</td><td>1</td><td>1</td></tr><tr><td>Map(vectorType -> dense, length -> 5, values -> List(0.0, 0.6036364468661222, 0.23809524890787256, 0.830188679245283, 0.7361111111111112))</td><td>Map(vectorType -> dense, length -> 3, values -> List(0.052765602173169855, 0.8662387280868463, 0.08099566973998397))</td><td>1</td><td>1</td></tr><tr><td>Map(vectorType -> dense, length -> 5, values -> List(0.0, 0.6036364468661222, 0.3095237554606372, 0.5660377358490566, 0.7361111111111112))</td><td>Map(vectorType -> dense, length -> 3, values -> List(0.10444962104473758, 0.7590766941016557, 0.13647368485360672))</td><td>1</td><td>1</td></tr><tr><td>Map(vectorType -> dense, length -> 5, values -> List(0.0, 0.6145455100319602, 0.35714287336180883, 0.7169811320754716, 0.7916666666666666))</td><td>Map(vectorType -> dense, length -> 3, values -> List(0.07717356713447271, 0.8112045743750869, 0.11162185849044057))</td><td>1</td><td>1</td></tr><tr><td>Map(vectorType -> dense, length -> 5, values -> List(0.0, 0.6181818181818182, 0.2261904410494142, 0.9433962264150944, 0.7777777777777778))</td><td>Map(vectorType -> dense, length -> 3, values -> List(0.03582329957296364, 0.9022706336748545, 0.06190606675218185))</td><td>1</td><td>1</td></tr><tr><td>Map(vectorType -> dense, length -> 5, values -> List(0.0, 0.6327273282137784, 0.3690476812202672, 0.9622641509433962, 0.8611111111111112))</td><td>Map(vectorType -> dense, length -> 3, values -> List(0.040375705960746314, 0.8889130986599334, 0.07071119537932029))</td><td>1</td><td>1</td></tr><tr><td>Map(vectorType -> dense, length -> 5, values -> List(0.0, 0.6363636363636364, 0.34523806550335046, 0.8867924528301886, 0.8333333333333334))</td><td>Map(vectorType -> dense, length -> 3, values -> List(0.046304396230482166, 0.8732320776213041, 0.08046352614821387))</td><td>1</td><td>1</td></tr><tr><td>Map(vectorType -> dense, length -> 5, values -> List(0.0, 0.6654546564275567, 0.3095237554606372, 0.830188679245283, 0.8472222222222222))</td><td>Map(vectorType -> dense, length -> 3, values -> List(0.04250003847283896, 0.8749561101515115, 0.08254385137564962))</td><td>1</td><td>1</td></tr><tr><td>Map(vectorType -> dense, length -> 5, values -> List(0.0, 0.6690909645774148, 0.3333332576448921, 0.8867924528301886, 0.75))</td><td>Map(vectorType -> dense, length -> 3, values -> List(0.046548047176514576, 0.8559255115096474, 0.09752644131383816))</td><td>1</td><td>1</td></tr><tr><td>Map(vectorType -> dense, length -> 5, values -> List(0.0, 0.8363636363636363, 0.34523806550335046, 0.9811320754716981, 0.875))</td><td>Map(vectorType -> dense, length -> 3, values -> List(0.01825610943503771, 0.8969965398096308, 0.08474735075533157))</td><td>1</td><td>1</td></tr><tr><td>Map(vectorType -> dense, length -> 5, values -> List(0.0, 0.8654546564275568, 0.46428568995728675, 0.9433962264150944, 0.8055555555555556))</td><td>Map(vectorType -> dense, length -> 3, values -> List(0.02680540263718377, 0.8341289059336242, 0.139065691429192))</td><td>1</td><td>1</td></tr><tr><td>Map(vectorType -> dense, length -> 5, values -> List(1.0, 0.03636363636363636, 0.35714287336180883, 0.0, 0.05555555555555555))</td><td>Map(vectorType -> dense, length -> 3, values -> List(0.8909362129862531, 0.035102388852405464, 0.07396139816134138))</td><td>0</td><td>0</td></tr><tr><td>Map(vectorType -> dense, length -> 5, values -> List(1.0, 0.13090917413884942, 0.583333314411223, 0.4528301886792453, 0.2361111111111111))</td><td>Map(vectorType -> dense, length -> 3, values -> List(0.7896664998783824, 0.09427419692151669, 0.11605930320010098))</td><td>0</td><td>0</td></tr><tr><td>Map(vectorType -> dense, length -> 5, values -> List(1.0, 0.1490909923206676, 0.4999998864673381, 0.16981132075471697, 0.16666666666666666))</td><td>Map(vectorType -> dense, length -> 3, values -> List(0.8228366366242943, 0.05879706523046524, 0.11836629814524041))</td><td>0</td><td>0</td></tr><tr><td>Map(vectorType -> dense, length -> 5, values -> List(1.0, 0.15272730047052557, 0.7619047510921274, 0.22641509433962265, 0.3055555555555556))</td><td>Map(vectorType -> dense, length -> 3, values -> List(0.8421149648837457, 0.04467466610130566, 0.11321036901494869))</td><td>0</td><td>0</td></tr><tr><td>Map(vectorType -> dense, length -> 5, values -> List(1.0, 0.16363636363636364, 0.6309523187797328, 0.11320754716981132, 0.2152777777777778))</td><td>Map(vectorType -> dense, length -> 3, values -> List(0.8385217704301778, 0.04232552678446777, 0.11915270278535442))</td><td>0</td><td>0</td></tr><tr><td>Map(vectorType -> dense, length -> 5, values -> List(1.0, 0.17090911865234373, 0.6428571266381912, 0.2830188679245283, 0.2222222222222222))</td><td>Map(vectorType -> dense, length -> 3, values -> List(0.8091450585722068, 0.06111534882449249, 0.12973959260330084))</td><td>0</td><td>0</td></tr><tr><td>Map(vectorType -> dense, length -> 5, values -> List(1.0, 0.17818187366832386, 0.40476187773031863, 0.1320754716981132, 0.19444444444444445))</td><td>Map(vectorType -> dense, length -> 3, values -> List(0.7919165705103097, 0.07811787874812537, 0.12996555074156496))</td><td>0</td><td>0</td></tr><tr><td>Map(vectorType -> dense, length -> 5, values -> List(1.0, 0.18545462868430396, 0.5952381222696814, 0.0, 0.3333333333333333))</td><td>Map(vectorType -> dense, length -> 3, values -> List(0.8323663216628157, 0.04819920712251817, 0.11943447121466617))</td><td>0</td><td>0</td></tr><tr><td>Map(vectorType -> dense, length -> 5, values -> List(1.0, 0.19636369185014205, 0.6428571266381912, 0.3962264150943396, 0.4930555555555556))</td><td>Map(vectorType -> dense, length -> 3, values -> List(0.7364898616813836, 0.13471883227017792, 0.1287913060484385))</td><td>0</td><td>0</td></tr><tr><td>Map(vectorType -> dense, length -> 5, values -> List(1.0, 0.2072727550159801, 0.5952381222696814, 0.2830188679245283, 0.2916666666666667))</td><td>Map(vectorType -> dense, length -> 3, values -> List(0.7696299081986687, 0.08557623766263077, 0.1447938541387005))</td><td>0</td><td>0</td></tr><tr><td>Map(vectorType -> dense, length -> 5, values -> List(1.0, 0.2254545731977983, 0.726190554582076, 0.20754716981132074, 0.3472222222222222))</td><td>Map(vectorType -> dense, length -> 3, values -> List(0.7912713527182138, 0.061004651424948625, 0.14772399585683768))</td><td>0</td><td>0</td></tr><tr><td>Map(vectorType -> dense, length -> 5, values -> List(1.0, 0.2581819014115767, 0.6547619344966495, 0.22641509433962265, 0.4305555555555556))</td><td>Map(vectorType -> dense, length -> 3, values -> List(0.7427208389086167, 0.0955234538162432, 0.1617557072751402))</td><td>0</td><td>0</td></tr><tr><td>Map(vectorType -> dense, length -> 5, values -> List(1.0, 0.2581819014115767, 0.9523809956314903, 0.33962264150943394, 0.4027777777777778))</td><td>Map(vectorType -> dense, length -> 3, values -> List(0.777022244467598, 0.05459389998837957, 0.1683838555440225))</td><td>0</td><td>0</td></tr><tr><td>Map(vectorType -> dense, length -> 5, values -> List(1.0, 0.29454553777521303, 0.47619049781574513, 0.2830188679245283, 0.19444444444444445))</td><td>Map(vectorType -> dense, length -> 3, values -> List(0.6792122828769527, 0.11483062959495023, 0.20595708752809702))</td><td>0</td><td>0</td></tr><tr><td>Map(vectorType -> dense, length -> 5, values -> List(1.0, 0.29454553777521303, 0.833333371177554, 0.4150943396226415, 0.3541666666666667))</td><td>Map(vectorType -> dense, length -> 3, values -> List(0.7142956984863686, 0.08489649559704147, 0.20080780591659))</td><td>0</td><td>0</td></tr><tr><td>Map(vectorType -> dense, length -> 5, values -> List(1.0, 0.3090909090909091, 0.4880953056742035, 0.16981132075471697, 0.2152777777777778))</td><td>Map(vectorType -> dense, length -> 3, values -> List(0.6946664288881805, 0.09527098341091236, 0.210062587700907))</td><td>0</td><td>0</td></tr><tr><td>Map(vectorType -> dense, length -> 5, values -> List(1.0, 0.32000011097301134, 0.416666685588777, 0.16981132075471697, 0.1388888888888889))</td><td>Map(vectorType -> dense, length -> 3, values -> List(0.6749207831212113, 0.10028643097657336, 0.22479278590221544))</td><td>0</td><td>2</td></tr><tr><td>Map(vectorType -> dense, length -> 5, values -> List(1.0, 0.34181823730468747, 0.6428571266381912, 0.43396226415094336, 0.3611111111111111))</td><td>Map(vectorType -> dense, length -> 3, values -> List(0.617420490295433, 0.1529127402870333, 0.22966676941753378))</td><td>0</td><td>0</td></tr><tr><td>Map(vectorType -> dense, length -> 5, values -> List(1.0, 0.3709091186523437, 0.9642858034899486, 0.24528301886792453, 0.4027777777777778))</td><td>Map(vectorType -> dense, length -> 3, values -> List(0.6999117894225553, 0.055159646047949706, 0.24492856452949516))</td><td>0</td><td>0</td></tr><tr><td>Map(vectorType -> dense, length -> 5, values -> List(1.0, 0.40363644686612216, 0.416666685588777, 0.16981132075471697, 0.05555555555555555))</td><td>Map(vectorType -> dense, length -> 3, values -> List(0.5970052899563355, 0.0988850409253611, 0.3041096691183033))</td><td>0</td><td>2</td></tr><tr><td>Map(vectorType -> dense, length -> 5, values -> List(1.0, 0.4145455100319602, 0.5952381222696814, 0.4528301886792453, 0.19444444444444445))</td><td>Map(vectorType -> dense, length -> 3, values -> List(0.5441020305292334, 0.14637043692705465, 0.3095275325437119))</td><td>0</td><td>2</td></tr><tr><td>Map(vectorType -> dense, length -> 5, values -> List(1.0, 0.5127273559570312, 0.5238095021842549, 0.16981132075471697, 0.2638888888888889))</td><td>Map(vectorType -> dense, length -> 3, values -> List(0.4905663458090906, 0.13072442453073685, 0.37870922966017256))</td><td>0</td><td>2</td></tr><tr><td>Map(vectorType -> dense, length -> 5, values -> List(1.0, 0.5200001109730114, 0.5595236986943063, 0.24528301886792453, 0.2777777777777778))</td><td>Map(vectorType -> dense, length -> 3, values -> List(0.4707355913755912, 0.14291121761631437, 0.38635319100809457))</td><td>0</td><td>2</td></tr><tr><td>Map(vectorType -> dense, length -> 5, values -> List(1.0, 0.5200001109730114, 0.6547619344966495, 0.22641509433962265, 0.20833333333333334))</td><td>Map(vectorType -> dense, length -> 3, values -> List(0.49813730311629095, 0.09715913642097816, 0.4047035604627309))</td><td>0</td><td>2</td></tr><tr><td>Map(vectorType -> dense, length -> 5, values -> List(1.0, 0.5600000554865057, 0.44047607424037, 0.3962264150943396, 0.3333333333333333))</td><td>Map(vectorType -> dense, length -> 3, values -> List(0.350856289788499, 0.2674464504755935, 0.38169725973590757))</td><td>2</td><td>2</td></tr><tr><td>Map(vectorType -> dense, length -> 5, values -> List(1.0, 0.6145455100319602, 0.7619047510921274, 0.6037735849056604, 0.3472222222222222))</td><td>Map(vectorType -> dense, length -> 3, values -> List(0.32508849099371423, 0.20536931343485537, 0.46954219557143034))</td><td>2</td><td>2</td></tr><tr><td>Map(vectorType -> dense, length -> 5, values -> List(1.0, 0.6509091463955966, 0.7619047510921274, 0.33962264150943394, 0.3333333333333333))</td><td>Map(vectorType -> dense, length -> 3, values -> List(0.3488002471013372, 0.129975215326215, 0.5212245375724478))</td><td>2</td><td>2</td></tr><tr><td>Map(vectorType -> dense, length -> 5, values -> List(1.0, 0.6618182095614347, 0.8214285633190956, 0.3584905660377358, 0.16666666666666666))</td><td>Map(vectorType -> dense, length -> 3, values -> List(0.3440664232099844, 0.08484379509404026, 0.5710897816959755))</td><td>2</td><td>2</td></tr><tr><td>Map(vectorType -> dense, length -> 5, values -> List(1.0, 0.6690909645774148, 0.7738095589505858, 0.43396226415094336, 0.375))</td><td>Map(vectorType -> dense, length -> 3, values -> List(0.31226372676892084, 0.16192914726986773, 0.5258071259612113))</td><td>2</td><td>2</td></tr><tr><td>Map(vectorType -> dense, length -> 5, values -> List(1.0, 0.6800000277432529, 0.7023809388651593, 0.6037735849056604, 0.3888888888888889))</td><td>Map(vectorType -> dense, length -> 3, values -> List(0.25189257748532645, 0.2519404293073742, 0.4961669932072993))</td><td>2</td><td>2</td></tr><tr><td>Map(vectorType -> dense, length -> 5, values -> List(1.0, 0.698181845925071, 0.6071429301281398, 0.3584905660377358, 0.2916666666666667))</td><td>Map(vectorType -> dense, length -> 3, values -> List(0.2752890348867165, 0.17606619312126473, 0.5486447719920187))</td><td>2</td><td>2</td></tr><tr><td>Map(vectorType -> dense, length -> 5, values -> List(1.0, 0.9418182373046875, 0.5595236986943063, 0.05660377358490566, 0.2777777777777778))</td><td>Map(vectorType -> dense, length -> 3, values -> List(0.13837393260647635, 0.10721328432400211, 0.7544127830695215))</td><td>2</td><td>2</td></tr><tr><td>Map(vectorType -> dense, length -> 5, values -> List(2.0, 0.10909090909090909, 0.749999943233669, 0.2830188679245283, 0.4166666666666667))</td><td>Map(vectorType -> dense, length -> 3, values -> List(0.8708782404269654, 0.03368164558836721, 0.09544011398466737))</td><td>0</td><td>0</td></tr><tr><td>Map(vectorType -> dense, length -> 5, values -> List(2.0, 0.12363641912286931, 0.5238095021842549, 0.22641509433962265, 0.2777777777777778))</td><td>Map(vectorType -> dense, length -> 3, values -> List(0.8497809398517001, 0.0426027766419347, 0.1076162835063652))</td><td>0</td><td>0</td></tr><tr><td>Map(vectorType -> dense, length -> 5, values -> List(2.0, 0.1490909923206676, 0.35714287336180883, 0.16981132075471697, 0.2361111111111111))</td><td>Map(vectorType -> dense, length -> 3, values -> List(0.822342165978143, 0.05703190910645416, 0.12062592491540267))</td><td>0</td><td>0</td></tr><tr><td>Map(vectorType -> dense, length -> 5, values -> List(2.0, 0.1672728105024858, 0.6785713231482425, 0.16981132075471697, 0.3055555555555556))</td><td>Map(vectorType -> dense, length -> 3, values -> List(0.8483588161321594, 0.02970631244096633, 0.12193487142687427))</td><td>0</td><td>0</td></tr><tr><td>Map(vectorType -> dense, length -> 5, values -> List(2.0, 0.1672728105024858, 0.7380951353752107, 0.2830188679245283, 0.20833333333333334))</td><td>Map(vectorType -> dense, length -> 3, values -> List(0.841947586037442, 0.0269453966840933, 0.1311070172784648))</td><td>0</td><td>0</td></tr><tr><td>Map(vectorType -> dense, length -> 5, values -> List(2.0, 0.18909093683416192, 0.8809523755460638, 0.3962264150943396, 0.2986111111111111))</td><td>Map(vectorType -> dense, length -> 3, values -> List(0.8280173929852107, 0.030002485465577294, 0.14198012154921205))</td><td>0</td><td>0</td></tr><tr><td>Map(vectorType -> dense, length -> 5, values -> List(2.0, 0.24727283824573862, 0.5595236986943063, 0.05660377358490566, 0.2569444444444444))</td><td>Map(vectorType -> dense, length -> 3, values -> List(0.7994431507418459, 0.03509250195174705, 0.1654643473064069))</td><td>0</td><td>0</td></tr><tr><td>Map(vectorType -> dense, length -> 5, values -> List(2.0, 0.2581819014115767, 0.7738095589505858, 0.32075471698113206, 0.5486111111111112))</td><td>Map(vectorType -> dense, length -> 3, values -> List(0.7700685010557468, 0.06444199572319653, 0.16548950322105657))</td><td>0</td><td>0</td></tr><tr><td>Map(vectorType -> dense, length -> 5, values -> List(2.0, 0.26909096457741477, 0.5119046943257965, 0.1509433962264151, 0.3055555555555556))</td><td>Map(vectorType -> dense, length -> 3, values -> List(0.7609850456002423, 0.05613683600540098, 0.18287811839435686))</td><td>0</td><td>0</td></tr><tr><td>Map(vectorType -> dense, length -> 5, values -> List(2.0, 0.29454553777521303, 0.46428568995728675, -0.03773584905660377, 0.20833333333333334))</td><td>Map(vectorType -> dense, length -> 3, values -> List(0.7664188831662042, 0.03710806911943332, 0.19647304771436241))</td><td>0</td><td>0</td></tr><tr><td>Map(vectorType -> dense, length -> 5, values -> List(2.0, 0.32000011097301134, 0.44047607424037, 0.24528301886792453, 0.2777777777777778))</td><td>Map(vectorType -> dense, length -> 3, values -> List(0.6868089949152404, 0.08592948616487729, 0.2272615189198823))</td><td>0</td><td>0</td></tr><tr><td>Map(vectorType -> dense, length -> 5, values -> List(2.0, 0.3927273837002841, 0.5357143100427133, 0.33962264150943394, 0.5555555555555556))</td><td>Map(vectorType -> dense, length -> 3, values -> List(0.5885007729308869, 0.1555275232508875, 0.2559717038182256))</td><td>0</td><td>0</td></tr><tr><td>Map(vectorType -> dense, length -> 5, values -> List(2.0, 0.43636363636363634, 0.583333314411223, 0.6037735849056604, 0.3611111111111111))</td><td>Map(vectorType -> dense, length -> 3, values -> List(0.5023613002128404, 0.16993363303736925, 0.32770506674979033))</td><td>0</td><td>0</td></tr></tbody></table></div>"
      ]
     },
     "metadata": {
      "application/vnd.databricks.v1+output": {
       "addedWidgets": {},
       "aggData": [],
       "aggError": "",
       "aggOverflow": false,
       "aggSchema": [],
       "aggSeriesLimitReached": false,
       "aggType": "",
       "arguments": {},
       "columnCustomDisplayInfos": {},
       "data": [
        [
         {
          "length": 5,
          "values": [
           0.0,
           0.10545460094105114,
           0.5714285065527647,
           0.2641509433962264,
           0.2847222222222222
          ],
          "vectorType": "dense"
         },
         {
          "length": 3,
          "values": [
           0.7964921930935199,
           0.1117783277585094,
           0.09172947914797075
          ],
          "vectorType": "dense"
         },
         0,
         0
        ],
        [
         {
          "length": 5,
          "values": [
           0.0,
           0.16000005548650567,
           0.416666685588777,
           0.05660377358490566,
           0.041666666666666664
          ],
          "vectorType": "dense"
         },
         {
          "length": 3,
          "values": [
           0.801072730681099,
           0.07801812016359885,
           0.12090914915530199
          ],
          "vectorType": "dense"
         },
         0,
         0
        ],
        [
         {
          "length": 5,
          "values": [
           0.0,
           0.20363644686612214,
           0.34523806550335046,
           0.09433962264150943,
           0.10416666666666667
          ],
          "vectorType": "dense"
         },
         {
          "length": 3,
          "values": [
           0.7366203006061484,
           0.12439849057512391,
           0.13898120881872764
          ],
          "vectorType": "dense"
         },
         0,
         0
        ],
        [
         {
          "length": 5,
          "values": [
           0.0,
           0.2072727550159801,
           0.6190475109212744,
           -0.07547169811320754,
           0.19444444444444445
          ],
          "vectorType": "dense"
         },
         {
          "length": 3,
          "values": [
           0.8176438391496246,
           0.053005526087715624,
           0.12935063476265982
          ],
          "vectorType": "dense"
         },
         0,
         0
        ],
        [
         {
          "length": 5,
          "values": [
           0.0,
           0.2072727550159801,
           0.8214285633190956,
           0.22641509433962265,
           0.4305555555555556
          ],
          "vectorType": "dense"
         },
         {
          "length": 3,
          "values": [
           0.7791620600282939,
           0.09396124098462791,
           0.1268766989870782
          ],
          "vectorType": "dense"
         },
         0,
         0
        ],
        [
         {
          "length": 5,
          "values": [
           0.0,
           0.21090920188210227,
           0.6547619344966495,
           -0.11320754716981132,
           0.125
          ],
          "vectorType": "dense"
         },
         {
          "length": 3,
          "values": [
           0.8281068886299527,
           0.03930391975871339,
           0.13258919161133378
          ],
          "vectorType": "dense"
         },
         0,
         0
        ],
        [
         {
          "length": 5,
          "values": [
           0.0,
           0.2763637195933949,
           0.6904761310067009,
           0.11320754716981132,
           0.2361111111111111
          ],
          "vectorType": "dense"
         },
         {
          "length": 3,
          "values": [
           0.7418286552412087,
           0.08377926141098649,
           0.17439208334780493
          ],
          "vectorType": "dense"
         },
         0,
         0
        ],
        [
         {
          "length": 5,
          "values": [
           0.0,
           0.3090909090909091,
           0.6547619344966495,
           0.09433962264150943,
           0.2361111111111111
          ],
          "vectorType": "dense"
         },
         {
          "length": 3,
          "values": [
           0.7108528761706141,
           0.09426560122198861,
           0.19488152260739725
          ],
          "vectorType": "dense"
         },
         0,
         0
        ],
        [
         {
          "length": 5,
          "values": [
           0.0,
           0.3672728105024858,
           0.7619047510921274,
           0.3584905660377358,
           0.4375
          ],
          "vectorType": "dense"
         },
         {
          "length": 3,
          "values": [
           0.5852812321441202,
           0.1937034960167048,
           0.22101527183917483
          ],
          "vectorType": "dense"
         },
         0,
         0
        ],
        [
         {
          "length": 5,
          "values": [
           0.0,
           0.38545462868430397,
           0.6190475109212744,
           0.33962264150943394,
           0.3819444444444444
          ],
          "vectorType": "dense"
         },
         {
          "length": 3,
          "values": [
           0.5330519044170634,
           0.23731159478316913,
           0.22963650079976744
          ],
          "vectorType": "dense"
         },
         0,
         0
        ],
        [
         {
          "length": 5,
          "values": [
           0.0,
           0.4072727550159801,
           0.03571419651005139,
           0.5849056603773585,
           0.4722222222222222
          ],
          "vectorType": "dense"
         },
         {
          "length": 3,
          "values": [
           0.150773886293373,
           0.7567644335669038,
           0.09246168013972318
          ],
          "vectorType": "dense"
         },
         1,
         1
        ],
        [
         {
          "length": 5,
          "values": [
           0.0,
           0.4109092018821022,
           0.15476182096398766,
           0.7547169811320754,
           0.5277777777777778
          ],
          "vectorType": "dense"
         },
         {
          "length": 3,
          "values": [
           0.129134140753401,
           0.7868448097627857,
           0.08402104948381331
          ],
          "vectorType": "dense"
         },
         1,
         1
        ],
        [
         {
          "length": 5,
          "values": [
           0.0,
           0.4145455100319602,
           0.1309523187797328,
           0.7924528301886792,
           0.5555555555555556
          ],
          "vectorType": "dense"
         },
         {
          "length": 3,
          "values": [
           0.10787779078520683,
           0.8195072275156049,
           0.0726149816991882
          ],
          "vectorType": "dense"
         },
         1,
         1
        ],
        [
         {
          "length": 5,
          "values": [
           0.0,
           0.41818181818181815,
           0.09523800873701953,
           0.7358490566037735,
           0.6111111111111112
          ],
          "vectorType": "dense"
         },
         {
          "length": 3,
          "values": [
           0.10056601306438029,
           0.833330677801235,
           0.06610330913438475
          ],
          "vectorType": "dense"
         },
         1,
         1
        ],
        [
         {
          "length": 5,
          "values": [
           0.0,
           0.4654546564275568,
           0.08333331441122302,
           0.6415094339622641,
           0.5694444444444444
          ],
          "vectorType": "dense"
         },
         {
          "length": 3,
          "values": [
           0.10904347444217342,
           0.8042606800822064,
           0.08669584547562019
          ],
          "vectorType": "dense"
         },
         1,
         1
        ],
        [
         {
          "length": 5,
          "values": [
           0.0,
           0.4690909645774147,
           0.27380944541792396,
           0.7924528301886792,
           0.6527777777777778
          ],
          "vectorType": "dense"
         },
         {
          "length": 3,
          "values": [
           0.10805673113535269,
           0.8042059211917971,
           0.08773734767284999
          ],
          "vectorType": "dense"
         },
         1,
         1
        ],
        [
         {
          "length": 5,
          "values": [
           0.0,
           0.4727272727272727,
           0.15476182096398766,
           0.6037735849056604,
           0.4722222222222222
          ],
          "vectorType": "dense"
         },
         {
          "length": 3,
          "values": [
           0.1536212873260077,
           0.7205420283810396,
           0.12583668429295264
          ],
          "vectorType": "dense"
         },
         1,
         1
        ],
        [
         {
          "length": 5,
          "values": [
           0.0,
           0.47636371959339485,
           0.39285706987186025,
           0.8490566037735848,
           0.9027777777777778
          ],
          "vectorType": "dense"
         },
         {
          "length": 3,
          "values": [
           0.08283773840712762,
           0.8533716591164326,
           0.06379060247643971
          ],
          "vectorType": "dense"
         },
         1,
         1
        ],
        [
         {
          "length": 5,
          "values": [
           0.0,
           0.48000002774325284,
           0.08333331441122302,
           0.5660377358490566,
           0.4166666666666667
          ],
          "vectorType": "dense"
         },
         {
          "length": 3,
          "values": [
           0.1503190671176563,
           0.7200166376312814,
           0.12966429525106238
          ],
          "vectorType": "dense"
         },
         1,
         1
        ],
        [
         {
          "length": 5,
          "values": [
           0.0,
           0.483636474609375,
           0.17857143668090442,
           0.6226415094339622,
           0.5833333333333334
          ],
          "vectorType": "dense"
         },
         {
          "length": 3,
          "values": [
           0.1288125720394001,
           0.7638846315160883,
           0.10730279644451164
          ],
          "vectorType": "dense"
         },
         1,
         1
        ],
        [
         {
          "length": 5,
          "values": [
           0.0,
           0.4872727827592329,
           0.07142850655276464,
           0.6792452830188679,
           0.5416666666666666
          ],
          "vectorType": "dense"
         },
         {
          "length": 3,
          "values": [
           0.09639825280715521,
           0.8157587649838179,
           0.08784298220902682
          ],
          "vectorType": "dense"
         },
         1,
         1
        ],
        [
         {
          "length": 5,
          "values": [
           0.0,
           0.4872727827592329,
           0.09523800873701953,
           0.6037735849056604,
           0.4166666666666667
          ],
          "vectorType": "dense"
         },
         {
          "length": 3,
          "values": [
           0.14093485460150754,
           0.7310349536883421,
           0.12803019171015026
          ],
          "vectorType": "dense"
         },
         1,
         1
        ],
        [
         {
          "length": 5,
          "values": [
           0.0,
           0.5236364191228693,
           0.20238093886515932,
           0.7358490566037735,
           0.6944444444444444
          ],
          "vectorType": "dense"
         },
         {
          "length": 3,
          "values": [
           0.08123326958049022,
           0.8356640595106065,
           0.0831026709089033
          ],
          "vectorType": "dense"
         },
         1,
         1
        ],
        [
         {
          "length": 5,
          "values": [
           0.0,
           0.5381819291548295,
           0.17857143668090442,
           0.830188679245283,
           0.6041666666666666
          ],
          "vectorType": "dense"
         },
         {
          "length": 3,
          "values": [
           0.07035630865364531,
           0.8453860219426077,
           0.08425766940374703
          ],
          "vectorType": "dense"
         },
         1,
         1
        ],
        [
         {
          "length": 5,
          "values": [
           0.0,
           0.5490909923206676,
           0.07142850655276464,
           0.6792452830188679,
           0.6180555555555556
          ],
          "vectorType": "dense"
         },
         {
          "length": 3,
          "values": [
           0.07024103513546949,
           0.8462727122215705,
           0.08348625264296
          ],
          "vectorType": "dense"
         },
         1,
         1
        ],
        [
         {
          "length": 5,
          "values": [
           0.0,
           0.5490909923206676,
           0.28571425327638234,
           0.6981132075471698,
           0.6319444444444444
          ],
          "vectorType": "dense"
         },
         {
          "length": 3,
          "values": [
           0.10718991920022859,
           0.7715424263861222,
           0.12126765441364917
          ],
          "vectorType": "dense"
         },
         1,
         1
        ],
        [
         {
          "length": 5,
          "values": [
           0.0,
           0.5527273004705255,
           0.08333331441122302,
           0.7169811320754716,
           0.5625
          ],
          "vectorType": "dense"
         },
         {
          "length": 3,
          "values": [
           0.07243609401200717,
           0.8366876437741102,
           0.09087626221388267
          ],
          "vectorType": "dense"
         },
         1,
         1
        ],
        [
         {
          "length": 5,
          "values": [
           0.0,
           0.585454628684304,
           0.2976190611348407,
           0.8113207547169811,
           0.6666666666666666
          ],
          "vectorType": "dense"
         },
         {
          "length": 3,
          "values": [
           0.07481415156544234,
           0.8199224760684702,
           0.1052633723660875
          ],
          "vectorType": "dense"
         },
         1,
         1
        ],
        [
         {
          "length": 5,
          "values": [
           0.0,
           0.596363691850142,
           0.2261904410494142,
           0.7735849056603773,
           0.5972222222222222
          ],
          "vectorType": "dense"
         },
         {
          "length": 3,
          "values": [
           0.07389001749028591,
           0.814188166122723,
           0.111921816386991
          ],
          "vectorType": "dense"
         },
         1,
         1
        ],
        [
         {
          "length": 5,
          "values": [
           0.0,
           0.6036364468661222,
           0.23809524890787256,
           0.830188679245283,
           0.7361111111111112
          ],
          "vectorType": "dense"
         },
         {
          "length": 3,
          "values": [
           0.052765602173169855,
           0.8662387280868463,
           0.08099566973998397
          ],
          "vectorType": "dense"
         },
         1,
         1
        ],
        [
         {
          "length": 5,
          "values": [
           0.0,
           0.6036364468661222,
           0.3095237554606372,
           0.5660377358490566,
           0.7361111111111112
          ],
          "vectorType": "dense"
         },
         {
          "length": 3,
          "values": [
           0.10444962104473758,
           0.7590766941016557,
           0.13647368485360672
          ],
          "vectorType": "dense"
         },
         1,
         1
        ],
        [
         {
          "length": 5,
          "values": [
           0.0,
           0.6145455100319602,
           0.35714287336180883,
           0.7169811320754716,
           0.7916666666666666
          ],
          "vectorType": "dense"
         },
         {
          "length": 3,
          "values": [
           0.07717356713447271,
           0.8112045743750869,
           0.11162185849044057
          ],
          "vectorType": "dense"
         },
         1,
         1
        ],
        [
         {
          "length": 5,
          "values": [
           0.0,
           0.6181818181818182,
           0.2261904410494142,
           0.9433962264150944,
           0.7777777777777778
          ],
          "vectorType": "dense"
         },
         {
          "length": 3,
          "values": [
           0.03582329957296364,
           0.9022706336748545,
           0.06190606675218185
          ],
          "vectorType": "dense"
         },
         1,
         1
        ],
        [
         {
          "length": 5,
          "values": [
           0.0,
           0.6327273282137784,
           0.3690476812202672,
           0.9622641509433962,
           0.8611111111111112
          ],
          "vectorType": "dense"
         },
         {
          "length": 3,
          "values": [
           0.040375705960746314,
           0.8889130986599334,
           0.07071119537932029
          ],
          "vectorType": "dense"
         },
         1,
         1
        ],
        [
         {
          "length": 5,
          "values": [
           0.0,
           0.6363636363636364,
           0.34523806550335046,
           0.8867924528301886,
           0.8333333333333334
          ],
          "vectorType": "dense"
         },
         {
          "length": 3,
          "values": [
           0.046304396230482166,
           0.8732320776213041,
           0.08046352614821387
          ],
          "vectorType": "dense"
         },
         1,
         1
        ],
        [
         {
          "length": 5,
          "values": [
           0.0,
           0.6654546564275567,
           0.3095237554606372,
           0.830188679245283,
           0.8472222222222222
          ],
          "vectorType": "dense"
         },
         {
          "length": 3,
          "values": [
           0.04250003847283896,
           0.8749561101515115,
           0.08254385137564962
          ],
          "vectorType": "dense"
         },
         1,
         1
        ],
        [
         {
          "length": 5,
          "values": [
           0.0,
           0.6690909645774148,
           0.3333332576448921,
           0.8867924528301886,
           0.75
          ],
          "vectorType": "dense"
         },
         {
          "length": 3,
          "values": [
           0.046548047176514576,
           0.8559255115096474,
           0.09752644131383816
          ],
          "vectorType": "dense"
         },
         1,
         1
        ],
        [
         {
          "length": 5,
          "values": [
           0.0,
           0.8363636363636363,
           0.34523806550335046,
           0.9811320754716981,
           0.875
          ],
          "vectorType": "dense"
         },
         {
          "length": 3,
          "values": [
           0.01825610943503771,
           0.8969965398096308,
           0.08474735075533157
          ],
          "vectorType": "dense"
         },
         1,
         1
        ],
        [
         {
          "length": 5,
          "values": [
           0.0,
           0.8654546564275568,
           0.46428568995728675,
           0.9433962264150944,
           0.8055555555555556
          ],
          "vectorType": "dense"
         },
         {
          "length": 3,
          "values": [
           0.02680540263718377,
           0.8341289059336242,
           0.139065691429192
          ],
          "vectorType": "dense"
         },
         1,
         1
        ],
        [
         {
          "length": 5,
          "values": [
           1.0,
           0.03636363636363636,
           0.35714287336180883,
           0.0,
           0.05555555555555555
          ],
          "vectorType": "dense"
         },
         {
          "length": 3,
          "values": [
           0.8909362129862531,
           0.035102388852405464,
           0.07396139816134138
          ],
          "vectorType": "dense"
         },
         0,
         0
        ],
        [
         {
          "length": 5,
          "values": [
           1.0,
           0.13090917413884942,
           0.583333314411223,
           0.4528301886792453,
           0.2361111111111111
          ],
          "vectorType": "dense"
         },
         {
          "length": 3,
          "values": [
           0.7896664998783824,
           0.09427419692151669,
           0.11605930320010098
          ],
          "vectorType": "dense"
         },
         0,
         0
        ],
        [
         {
          "length": 5,
          "values": [
           1.0,
           0.1490909923206676,
           0.4999998864673381,
           0.16981132075471697,
           0.16666666666666666
          ],
          "vectorType": "dense"
         },
         {
          "length": 3,
          "values": [
           0.8228366366242943,
           0.05879706523046524,
           0.11836629814524041
          ],
          "vectorType": "dense"
         },
         0,
         0
        ],
        [
         {
          "length": 5,
          "values": [
           1.0,
           0.15272730047052557,
           0.7619047510921274,
           0.22641509433962265,
           0.3055555555555556
          ],
          "vectorType": "dense"
         },
         {
          "length": 3,
          "values": [
           0.8421149648837457,
           0.04467466610130566,
           0.11321036901494869
          ],
          "vectorType": "dense"
         },
         0,
         0
        ],
        [
         {
          "length": 5,
          "values": [
           1.0,
           0.16363636363636364,
           0.6309523187797328,
           0.11320754716981132,
           0.2152777777777778
          ],
          "vectorType": "dense"
         },
         {
          "length": 3,
          "values": [
           0.8385217704301778,
           0.04232552678446777,
           0.11915270278535442
          ],
          "vectorType": "dense"
         },
         0,
         0
        ],
        [
         {
          "length": 5,
          "values": [
           1.0,
           0.17090911865234373,
           0.6428571266381912,
           0.2830188679245283,
           0.2222222222222222
          ],
          "vectorType": "dense"
         },
         {
          "length": 3,
          "values": [
           0.8091450585722068,
           0.06111534882449249,
           0.12973959260330084
          ],
          "vectorType": "dense"
         },
         0,
         0
        ],
        [
         {
          "length": 5,
          "values": [
           1.0,
           0.17818187366832386,
           0.40476187773031863,
           0.1320754716981132,
           0.19444444444444445
          ],
          "vectorType": "dense"
         },
         {
          "length": 3,
          "values": [
           0.7919165705103097,
           0.07811787874812537,
           0.12996555074156496
          ],
          "vectorType": "dense"
         },
         0,
         0
        ],
        [
         {
          "length": 5,
          "values": [
           1.0,
           0.18545462868430396,
           0.5952381222696814,
           0.0,
           0.3333333333333333
          ],
          "vectorType": "dense"
         },
         {
          "length": 3,
          "values": [
           0.8323663216628157,
           0.04819920712251817,
           0.11943447121466617
          ],
          "vectorType": "dense"
         },
         0,
         0
        ],
        [
         {
          "length": 5,
          "values": [
           1.0,
           0.19636369185014205,
           0.6428571266381912,
           0.3962264150943396,
           0.4930555555555556
          ],
          "vectorType": "dense"
         },
         {
          "length": 3,
          "values": [
           0.7364898616813836,
           0.13471883227017792,
           0.1287913060484385
          ],
          "vectorType": "dense"
         },
         0,
         0
        ],
        [
         {
          "length": 5,
          "values": [
           1.0,
           0.2072727550159801,
           0.5952381222696814,
           0.2830188679245283,
           0.2916666666666667
          ],
          "vectorType": "dense"
         },
         {
          "length": 3,
          "values": [
           0.7696299081986687,
           0.08557623766263077,
           0.1447938541387005
          ],
          "vectorType": "dense"
         },
         0,
         0
        ],
        [
         {
          "length": 5,
          "values": [
           1.0,
           0.2254545731977983,
           0.726190554582076,
           0.20754716981132074,
           0.3472222222222222
          ],
          "vectorType": "dense"
         },
         {
          "length": 3,
          "values": [
           0.7912713527182138,
           0.061004651424948625,
           0.14772399585683768
          ],
          "vectorType": "dense"
         },
         0,
         0
        ],
        [
         {
          "length": 5,
          "values": [
           1.0,
           0.2581819014115767,
           0.6547619344966495,
           0.22641509433962265,
           0.4305555555555556
          ],
          "vectorType": "dense"
         },
         {
          "length": 3,
          "values": [
           0.7427208389086167,
           0.0955234538162432,
           0.1617557072751402
          ],
          "vectorType": "dense"
         },
         0,
         0
        ],
        [
         {
          "length": 5,
          "values": [
           1.0,
           0.2581819014115767,
           0.9523809956314903,
           0.33962264150943394,
           0.4027777777777778
          ],
          "vectorType": "dense"
         },
         {
          "length": 3,
          "values": [
           0.777022244467598,
           0.05459389998837957,
           0.1683838555440225
          ],
          "vectorType": "dense"
         },
         0,
         0
        ],
        [
         {
          "length": 5,
          "values": [
           1.0,
           0.29454553777521303,
           0.47619049781574513,
           0.2830188679245283,
           0.19444444444444445
          ],
          "vectorType": "dense"
         },
         {
          "length": 3,
          "values": [
           0.6792122828769527,
           0.11483062959495023,
           0.20595708752809702
          ],
          "vectorType": "dense"
         },
         0,
         0
        ],
        [
         {
          "length": 5,
          "values": [
           1.0,
           0.29454553777521303,
           0.833333371177554,
           0.4150943396226415,
           0.3541666666666667
          ],
          "vectorType": "dense"
         },
         {
          "length": 3,
          "values": [
           0.7142956984863686,
           0.08489649559704147,
           0.20080780591659
          ],
          "vectorType": "dense"
         },
         0,
         0
        ],
        [
         {
          "length": 5,
          "values": [
           1.0,
           0.3090909090909091,
           0.4880953056742035,
           0.16981132075471697,
           0.2152777777777778
          ],
          "vectorType": "dense"
         },
         {
          "length": 3,
          "values": [
           0.6946664288881805,
           0.09527098341091236,
           0.210062587700907
          ],
          "vectorType": "dense"
         },
         0,
         0
        ],
        [
         {
          "length": 5,
          "values": [
           1.0,
           0.32000011097301134,
           0.416666685588777,
           0.16981132075471697,
           0.1388888888888889
          ],
          "vectorType": "dense"
         },
         {
          "length": 3,
          "values": [
           0.6749207831212113,
           0.10028643097657336,
           0.22479278590221544
          ],
          "vectorType": "dense"
         },
         0,
         2
        ],
        [
         {
          "length": 5,
          "values": [
           1.0,
           0.34181823730468747,
           0.6428571266381912,
           0.43396226415094336,
           0.3611111111111111
          ],
          "vectorType": "dense"
         },
         {
          "length": 3,
          "values": [
           0.617420490295433,
           0.1529127402870333,
           0.22966676941753378
          ],
          "vectorType": "dense"
         },
         0,
         0
        ],
        [
         {
          "length": 5,
          "values": [
           1.0,
           0.3709091186523437,
           0.9642858034899486,
           0.24528301886792453,
           0.4027777777777778
          ],
          "vectorType": "dense"
         },
         {
          "length": 3,
          "values": [
           0.6999117894225553,
           0.055159646047949706,
           0.24492856452949516
          ],
          "vectorType": "dense"
         },
         0,
         0
        ],
        [
         {
          "length": 5,
          "values": [
           1.0,
           0.40363644686612216,
           0.416666685588777,
           0.16981132075471697,
           0.05555555555555555
          ],
          "vectorType": "dense"
         },
         {
          "length": 3,
          "values": [
           0.5970052899563355,
           0.0988850409253611,
           0.3041096691183033
          ],
          "vectorType": "dense"
         },
         0,
         2
        ],
        [
         {
          "length": 5,
          "values": [
           1.0,
           0.4145455100319602,
           0.5952381222696814,
           0.4528301886792453,
           0.19444444444444445
          ],
          "vectorType": "dense"
         },
         {
          "length": 3,
          "values": [
           0.5441020305292334,
           0.14637043692705465,
           0.3095275325437119
          ],
          "vectorType": "dense"
         },
         0,
         2
        ],
        [
         {
          "length": 5,
          "values": [
           1.0,
           0.5127273559570312,
           0.5238095021842549,
           0.16981132075471697,
           0.2638888888888889
          ],
          "vectorType": "dense"
         },
         {
          "length": 3,
          "values": [
           0.4905663458090906,
           0.13072442453073685,
           0.37870922966017256
          ],
          "vectorType": "dense"
         },
         0,
         2
        ],
        [
         {
          "length": 5,
          "values": [
           1.0,
           0.5200001109730114,
           0.5595236986943063,
           0.24528301886792453,
           0.2777777777777778
          ],
          "vectorType": "dense"
         },
         {
          "length": 3,
          "values": [
           0.4707355913755912,
           0.14291121761631437,
           0.38635319100809457
          ],
          "vectorType": "dense"
         },
         0,
         2
        ],
        [
         {
          "length": 5,
          "values": [
           1.0,
           0.5200001109730114,
           0.6547619344966495,
           0.22641509433962265,
           0.20833333333333334
          ],
          "vectorType": "dense"
         },
         {
          "length": 3,
          "values": [
           0.49813730311629095,
           0.09715913642097816,
           0.4047035604627309
          ],
          "vectorType": "dense"
         },
         0,
         2
        ],
        [
         {
          "length": 5,
          "values": [
           1.0,
           0.5600000554865057,
           0.44047607424037,
           0.3962264150943396,
           0.3333333333333333
          ],
          "vectorType": "dense"
         },
         {
          "length": 3,
          "values": [
           0.350856289788499,
           0.2674464504755935,
           0.38169725973590757
          ],
          "vectorType": "dense"
         },
         2,
         2
        ],
        [
         {
          "length": 5,
          "values": [
           1.0,
           0.6145455100319602,
           0.7619047510921274,
           0.6037735849056604,
           0.3472222222222222
          ],
          "vectorType": "dense"
         },
         {
          "length": 3,
          "values": [
           0.32508849099371423,
           0.20536931343485537,
           0.46954219557143034
          ],
          "vectorType": "dense"
         },
         2,
         2
        ],
        [
         {
          "length": 5,
          "values": [
           1.0,
           0.6509091463955966,
           0.7619047510921274,
           0.33962264150943394,
           0.3333333333333333
          ],
          "vectorType": "dense"
         },
         {
          "length": 3,
          "values": [
           0.3488002471013372,
           0.129975215326215,
           0.5212245375724478
          ],
          "vectorType": "dense"
         },
         2,
         2
        ],
        [
         {
          "length": 5,
          "values": [
           1.0,
           0.6618182095614347,
           0.8214285633190956,
           0.3584905660377358,
           0.16666666666666666
          ],
          "vectorType": "dense"
         },
         {
          "length": 3,
          "values": [
           0.3440664232099844,
           0.08484379509404026,
           0.5710897816959755
          ],
          "vectorType": "dense"
         },
         2,
         2
        ],
        [
         {
          "length": 5,
          "values": [
           1.0,
           0.6690909645774148,
           0.7738095589505858,
           0.43396226415094336,
           0.375
          ],
          "vectorType": "dense"
         },
         {
          "length": 3,
          "values": [
           0.31226372676892084,
           0.16192914726986773,
           0.5258071259612113
          ],
          "vectorType": "dense"
         },
         2,
         2
        ],
        [
         {
          "length": 5,
          "values": [
           1.0,
           0.6800000277432529,
           0.7023809388651593,
           0.6037735849056604,
           0.3888888888888889
          ],
          "vectorType": "dense"
         },
         {
          "length": 3,
          "values": [
           0.25189257748532645,
           0.2519404293073742,
           0.4961669932072993
          ],
          "vectorType": "dense"
         },
         2,
         2
        ],
        [
         {
          "length": 5,
          "values": [
           1.0,
           0.698181845925071,
           0.6071429301281398,
           0.3584905660377358,
           0.2916666666666667
          ],
          "vectorType": "dense"
         },
         {
          "length": 3,
          "values": [
           0.2752890348867165,
           0.17606619312126473,
           0.5486447719920187
          ],
          "vectorType": "dense"
         },
         2,
         2
        ],
        [
         {
          "length": 5,
          "values": [
           1.0,
           0.9418182373046875,
           0.5595236986943063,
           0.05660377358490566,
           0.2777777777777778
          ],
          "vectorType": "dense"
         },
         {
          "length": 3,
          "values": [
           0.13837393260647635,
           0.10721328432400211,
           0.7544127830695215
          ],
          "vectorType": "dense"
         },
         2,
         2
        ],
        [
         {
          "length": 5,
          "values": [
           2.0,
           0.10909090909090909,
           0.749999943233669,
           0.2830188679245283,
           0.4166666666666667
          ],
          "vectorType": "dense"
         },
         {
          "length": 3,
          "values": [
           0.8708782404269654,
           0.03368164558836721,
           0.09544011398466737
          ],
          "vectorType": "dense"
         },
         0,
         0
        ],
        [
         {
          "length": 5,
          "values": [
           2.0,
           0.12363641912286931,
           0.5238095021842549,
           0.22641509433962265,
           0.2777777777777778
          ],
          "vectorType": "dense"
         },
         {
          "length": 3,
          "values": [
           0.8497809398517001,
           0.0426027766419347,
           0.1076162835063652
          ],
          "vectorType": "dense"
         },
         0,
         0
        ],
        [
         {
          "length": 5,
          "values": [
           2.0,
           0.1490909923206676,
           0.35714287336180883,
           0.16981132075471697,
           0.2361111111111111
          ],
          "vectorType": "dense"
         },
         {
          "length": 3,
          "values": [
           0.822342165978143,
           0.05703190910645416,
           0.12062592491540267
          ],
          "vectorType": "dense"
         },
         0,
         0
        ],
        [
         {
          "length": 5,
          "values": [
           2.0,
           0.1672728105024858,
           0.6785713231482425,
           0.16981132075471697,
           0.3055555555555556
          ],
          "vectorType": "dense"
         },
         {
          "length": 3,
          "values": [
           0.8483588161321594,
           0.02970631244096633,
           0.12193487142687427
          ],
          "vectorType": "dense"
         },
         0,
         0
        ],
        [
         {
          "length": 5,
          "values": [
           2.0,
           0.1672728105024858,
           0.7380951353752107,
           0.2830188679245283,
           0.20833333333333334
          ],
          "vectorType": "dense"
         },
         {
          "length": 3,
          "values": [
           0.841947586037442,
           0.0269453966840933,
           0.1311070172784648
          ],
          "vectorType": "dense"
         },
         0,
         0
        ],
        [
         {
          "length": 5,
          "values": [
           2.0,
           0.18909093683416192,
           0.8809523755460638,
           0.3962264150943396,
           0.2986111111111111
          ],
          "vectorType": "dense"
         },
         {
          "length": 3,
          "values": [
           0.8280173929852107,
           0.030002485465577294,
           0.14198012154921205
          ],
          "vectorType": "dense"
         },
         0,
         0
        ],
        [
         {
          "length": 5,
          "values": [
           2.0,
           0.24727283824573862,
           0.5595236986943063,
           0.05660377358490566,
           0.2569444444444444
          ],
          "vectorType": "dense"
         },
         {
          "length": 3,
          "values": [
           0.7994431507418459,
           0.03509250195174705,
           0.1654643473064069
          ],
          "vectorType": "dense"
         },
         0,
         0
        ],
        [
         {
          "length": 5,
          "values": [
           2.0,
           0.2581819014115767,
           0.7738095589505858,
           0.32075471698113206,
           0.5486111111111112
          ],
          "vectorType": "dense"
         },
         {
          "length": 3,
          "values": [
           0.7700685010557468,
           0.06444199572319653,
           0.16548950322105657
          ],
          "vectorType": "dense"
         },
         0,
         0
        ],
        [
         {
          "length": 5,
          "values": [
           2.0,
           0.26909096457741477,
           0.5119046943257965,
           0.1509433962264151,
           0.3055555555555556
          ],
          "vectorType": "dense"
         },
         {
          "length": 3,
          "values": [
           0.7609850456002423,
           0.05613683600540098,
           0.18287811839435686
          ],
          "vectorType": "dense"
         },
         0,
         0
        ],
        [
         {
          "length": 5,
          "values": [
           2.0,
           0.29454553777521303,
           0.46428568995728675,
           -0.03773584905660377,
           0.20833333333333334
          ],
          "vectorType": "dense"
         },
         {
          "length": 3,
          "values": [
           0.7664188831662042,
           0.03710806911943332,
           0.19647304771436241
          ],
          "vectorType": "dense"
         },
         0,
         0
        ],
        [
         {
          "length": 5,
          "values": [
           2.0,
           0.32000011097301134,
           0.44047607424037,
           0.24528301886792453,
           0.2777777777777778
          ],
          "vectorType": "dense"
         },
         {
          "length": 3,
          "values": [
           0.6868089949152404,
           0.08592948616487729,
           0.2272615189198823
          ],
          "vectorType": "dense"
         },
         0,
         0
        ],
        [
         {
          "length": 5,
          "values": [
           2.0,
           0.3927273837002841,
           0.5357143100427133,
           0.33962264150943394,
           0.5555555555555556
          ],
          "vectorType": "dense"
         },
         {
          "length": 3,
          "values": [
           0.5885007729308869,
           0.1555275232508875,
           0.2559717038182256
          ],
          "vectorType": "dense"
         },
         0,
         0
        ],
        [
         {
          "length": 5,
          "values": [
           2.0,
           0.43636363636363634,
           0.583333314411223,
           0.6037735849056604,
           0.3611111111111111
          ],
          "vectorType": "dense"
         },
         {
          "length": 3,
          "values": [
           0.5023613002128404,
           0.16993363303736925,
           0.32770506674979033
          ],
          "vectorType": "dense"
         },
         0,
         0
        ]
       ],
       "datasetInfos": [],
       "dbfsResultPath": null,
       "isJsonSchema": true,
       "metadata": {},
       "overflow": false,
       "plotOptions": {
        "customPlotOptions": {},
        "displayType": "table",
        "pivotAggregation": null,
        "pivotColumns": null,
        "xColumns": null,
        "yColumns": null
       },
       "removedWidgets": [],
       "schema": [
        {
         "metadata": "{\"ml_attr\":{\"attrs\":{\"numeric\":[{\"idx\":1,\"name\":\"normalizedFeatures_0\"},{\"idx\":2,\"name\":\"normalizedFeatures_1\"},{\"idx\":3,\"name\":\"normalizedFeatures_2\"},{\"idx\":4,\"name\":\"normalizedFeatures_3\"}],\"nominal\":[{\"vals\":[\"Biscoe\",\"Dream\",\"Torgersen\"],\"idx\":0,\"name\":\"IslandIdx\"}]},\"num_attrs\":5}}",
         "name": "Features",
         "type": "{\"type\":\"udt\",\"class\":\"org.apache.spark.ml.linalg.VectorUDT\",\"pyClass\":\"pyspark.ml.linalg.VectorUDT\",\"sqlType\":{\"type\":\"struct\",\"fields\":[{\"name\":\"type\",\"type\":\"byte\",\"nullable\":false,\"metadata\":{}},{\"name\":\"size\",\"type\":\"integer\",\"nullable\":true,\"metadata\":{}},{\"name\":\"indices\",\"type\":{\"type\":\"array\",\"elementType\":\"integer\",\"containsNull\":false},\"nullable\":true,\"metadata\":{}},{\"name\":\"values\",\"type\":{\"type\":\"array\",\"elementType\":\"double\",\"containsNull\":false},\"nullable\":true,\"metadata\":{}}]}}"
        },
        {
         "metadata": "{\"ml_attr\":{\"num_attrs\":3}}",
         "name": "probability",
         "type": "{\"type\":\"udt\",\"class\":\"org.apache.spark.ml.linalg.VectorUDT\",\"pyClass\":\"pyspark.ml.linalg.VectorUDT\",\"sqlType\":{\"type\":\"struct\",\"fields\":[{\"name\":\"type\",\"type\":\"byte\",\"nullable\":false,\"metadata\":{}},{\"name\":\"size\",\"type\":\"integer\",\"nullable\":true,\"metadata\":{}},{\"name\":\"indices\",\"type\":{\"type\":\"array\",\"elementType\":\"integer\",\"containsNull\":false},\"nullable\":true,\"metadata\":{}},{\"name\":\"values\",\"type\":{\"type\":\"array\",\"elementType\":\"double\",\"containsNull\":false},\"nullable\":true,\"metadata\":{}}]}}"
        },
        {
         "metadata": "{}",
         "name": "prediction",
         "type": "\"integer\""
        },
        {
         "metadata": "{}",
         "name": "trueLabel",
         "type": "\"integer\""
        }
       ],
       "type": "table"
      }
     },
     "output_type": "display_data"
    }
   ],
   "source": [
    "prediction = model.transform(test)\n",
    "predicted = prediction.select(\"Features\", \"probability\", col(\"prediction\").astype(\"Int\"), col(\"Species\").alias(\"trueLabel\"))\n",
    "display(predicted)"
   ]
  },
  {
   "cell_type": "code",
   "execution_count": 0,
   "metadata": {
    "application/vnd.databricks.v1+cell": {
     "cellMetadata": {
      "byteLimit": 2048000,
      "rowLimit": 10000
     },
     "inputWidgets": {},
     "nuid": "fc97633b-6a2b-4246-b792-81d973e4fb61",
     "showTitle": false,
     "title": ""
    }
   },
   "outputs": [
    {
     "output_type": "stream",
     "name": "stdout",
     "output_type": "stream",
     "text": [
      "Model trained!\n"
     ]
    }
   ],
   "source": [
    "from pyspark.ml import Pipeline\n",
    "from pyspark.ml.feature import StringIndexer, VectorAssembler, MinMaxScaler\n",
    "from pyspark.ml.classification import DecisionTreeClassifier\n",
    "   \n",
    "catFeature = \"Island\"\n",
    "numFeatures = [\"CulmenLength\", \"CulmenDepth\", \"FlipperLength\", \"BodyMass\"]\n",
    "   \n",
    "# Define the feature engineering and model steps\n",
    "catIndexer = StringIndexer(inputCol=catFeature, outputCol=catFeature + \"Idx\")\n",
    "numVector = VectorAssembler(inputCols=numFeatures, outputCol=\"numericFeatures\")\n",
    "numScaler = MinMaxScaler(inputCol = numVector.getOutputCol(), outputCol=\"normalizedFeatures\")\n",
    "featureVector = VectorAssembler(inputCols=[\"IslandIdx\", \"normalizedFeatures\"], outputCol=\"Features\")\n",
    "algo = DecisionTreeClassifier(labelCol=\"Species\", featuresCol=\"Features\", maxDepth=10)\n",
    "   \n",
    "# Chain the steps as stages in a pipeline\n",
    "pipeline = Pipeline(stages=[catIndexer, numVector, numScaler, featureVector, algo])\n",
    "   \n",
    "# Use the pipeline to prepare data and fit the model algorithm\n",
    "model = pipeline.fit(train)\n",
    "print (\"Model trained!\")"
   ]
  },
  {
   "cell_type": "code",
   "execution_count": 0,
   "metadata": {
    "application/vnd.databricks.v1+cell": {
     "cellMetadata": {
      "byteLimit": 2048000,
      "rowLimit": 10000
     },
     "inputWidgets": {},
     "nuid": "27c60f64-342d-4c11-9296-31920cdbb9b9",
     "showTitle": false,
     "title": ""
    }
   },
   "outputs": [
    {
     "output_type": "stream",
     "name": "stdout",
     "output_type": "stream",
     "text": [
      "Accuracy: 0.9642857142857143\n\nIndividual class metrics:\nClass 0\n\tPrecision: 0.9523809523809523\n\tRecall: 0.975609756097561\n\tF1 Score: 0.963855421686747\nClass 1\n\tPrecision: 1.0\n\tRecall: 1.0\n\tF1 Score: 1.0\nClass 2\n\tPrecision: 0.9230769230769231\n\tRecall: 0.8571428571428571\n\tF1 Score: 0.888888888888889\nOverall Precision: 0.9639368567939997\nOverall Recall: 0.9642857142857142\nOverall F1 Score: 0.9638394849238223\n"
     ]
    }
   ],
   "source": [
    "# Get predictions\n",
    "prediction = model.transform(test)\n",
    "predicted = prediction.select(\"Features\", \"probability\", col(\"prediction\").astype(\"Int\"), col(\"Species\").alias(\"trueLabel\"))\n",
    "   \n",
    "# Generate evaluation metrics\n",
    "from pyspark.ml.evaluation import MulticlassClassificationEvaluator\n",
    "   \n",
    "evaluator = MulticlassClassificationEvaluator(labelCol=\"Species\", predictionCol=\"prediction\")\n",
    "   \n",
    "# Simple accuracy\n",
    "accuracy = evaluator.evaluate(prediction, {evaluator.metricName:\"accuracy\"})\n",
    "print(\"Accuracy:\", accuracy)\n",
    "   \n",
    "# Class metrics\n",
    "labels = [0,1,2]\n",
    "print(\"\\nIndividual class metrics:\")\n",
    "for label in sorted(labels):\n",
    "    print (\"Class %s\" % (label))\n",
    "   \n",
    "    # Precision\n",
    "    precision = evaluator.evaluate(prediction, {evaluator.metricLabel:label,\n",
    "                                                    evaluator.metricName:\"precisionByLabel\"})\n",
    "    print(\"\\tPrecision:\", precision)\n",
    "   \n",
    "    # Recall\n",
    "    recall = evaluator.evaluate(prediction, {evaluator.metricLabel:label,\n",
    "                                             evaluator.metricName:\"recallByLabel\"})\n",
    "    print(\"\\tRecall:\", recall)\n",
    "   \n",
    "    # F1 score\n",
    "    f1 = evaluator.evaluate(prediction, {evaluator.metricLabel:label,\n",
    "                                         evaluator.metricName:\"fMeasureByLabel\"})\n",
    "    print(\"\\tF1 Score:\", f1)\n",
    "   \n",
    "# Weighed (overall) metrics\n",
    "overallPrecision = evaluator.evaluate(prediction, {evaluator.metricName:\"weightedPrecision\"})\n",
    "print(\"Overall Precision:\", overallPrecision)\n",
    "overallRecall = evaluator.evaluate(prediction, {evaluator.metricName:\"weightedRecall\"})\n",
    "print(\"Overall Recall:\", overallRecall)\n",
    "overallF1 = evaluator.evaluate(prediction, {evaluator.metricName:\"weightedFMeasure\"})\n",
    "print(\"Overall F1 Score:\", overallF1)"
   ]
  },
  {
   "cell_type": "code",
   "execution_count": 0,
   "metadata": {
    "application/vnd.databricks.v1+cell": {
     "cellMetadata": {
      "byteLimit": 2048000,
      "rowLimit": 10000
     },
     "inputWidgets": {},
     "nuid": "e44e7ca7-fbc5-45a4-9f3a-5694ea842576",
     "showTitle": false,
     "title": ""
    }
   },
   "outputs": [],
   "source": [
    "model.save(\"/models/penguin.model\")"
   ]
  },
  {
   "cell_type": "code",
   "execution_count": 0,
   "metadata": {
    "application/vnd.databricks.v1+cell": {
     "cellMetadata": {
      "byteLimit": 2048000,
      "rowLimit": 10000
     },
     "inputWidgets": {},
     "nuid": "442f879c-478d-4f25-83c4-213a2e20ee4a",
     "showTitle": false,
     "title": ""
    }
   },
   "outputs": [
    {
     "output_type": "stream",
     "name": "stdout",
     "output_type": "stream",
     "text": [
      "\u001B[0m\u001B[34;42mpenguin.model\u001B[0m/\r\n"
     ]
    }
   ],
   "source": [
    "ls /dbfs/models"
   ]
  },
  {
   "cell_type": "code",
   "execution_count": 0,
   "metadata": {
    "application/vnd.databricks.v1+cell": {
     "cellMetadata": {
      "byteLimit": 2048000,
      "rowLimit": 10000
     },
     "inputWidgets": {},
     "nuid": "2627e4c2-bbd5-43d2-ab48-a0e2bb0c6505",
     "showTitle": false,
     "title": ""
    }
   },
   "outputs": [
    {
     "output_type": "display_data",
     "data": {
      "text/html": [
       "<style scoped>\n",
       "  .table-result-container {\n",
       "    max-height: 300px;\n",
       "    overflow: auto;\n",
       "  }\n",
       "  table, th, td {\n",
       "    border: 1px solid black;\n",
       "    border-collapse: collapse;\n",
       "  }\n",
       "  th, td {\n",
       "    padding: 5px;\n",
       "  }\n",
       "  th {\n",
       "    text-align: left;\n",
       "  }\n",
       "</style><div class='table-result-container'><table class='table-result'><thead style='background-color: white'><tr><th>Island</th><th>CulmenDepth</th><th>CulmenLength</th><th>FlipperLength</th><th>BodyMass</th><th>PredictedSpecies</th></tr></thead><tbody><tr><td>Biscoe</td><td>14.5</td><td>47.6</td><td>215</td><td>5400</td><td>1.0</td></tr></tbody></table></div>"
      ]
     },
     "metadata": {
      "application/vnd.databricks.v1+output": {
       "addedWidgets": {},
       "aggData": [],
       "aggError": "",
       "aggOverflow": false,
       "aggSchema": [],
       "aggSeriesLimitReached": false,
       "aggType": "",
       "arguments": {},
       "columnCustomDisplayInfos": {},
       "data": [
        [
         "Biscoe",
         14.5,
         47.6,
         215,
         5400,
         1.0
        ]
       ],
       "datasetInfos": [],
       "dbfsResultPath": null,
       "isJsonSchema": true,
       "metadata": {},
       "overflow": false,
       "plotOptions": {
        "customPlotOptions": {},
        "displayType": "table",
        "pivotAggregation": null,
        "pivotColumns": null,
        "xColumns": null,
        "yColumns": null
       },
       "removedWidgets": [],
       "schema": [
        {
         "metadata": "{}",
         "name": "Island",
         "type": "\"string\""
        },
        {
         "metadata": "{}",
         "name": "CulmenDepth",
         "type": "\"double\""
        },
        {
         "metadata": "{}",
         "name": "CulmenLength",
         "type": "\"double\""
        },
        {
         "metadata": "{}",
         "name": "FlipperLength",
         "type": "\"long\""
        },
        {
         "metadata": "{}",
         "name": "BodyMass",
         "type": "\"long\""
        },
        {
         "metadata": "{\"ml_attr\":{\"type\":\"nominal\",\"num_vals\":3}}",
         "name": "PredictedSpecies",
         "type": "\"double\""
        }
       ],
       "type": "table"
      }
     },
     "output_type": "display_data"
    }
   ],
   "source": [
    "from pyspark.ml.pipeline import PipelineModel\n",
    "\n",
    "persistedModel = PipelineModel.load(\"/models/penguin.model\")\n",
    "   \n",
    "newData = spark.createDataFrame ([{\"Island\": \"Biscoe\",\n",
    "                                  \"CulmenLength\": 47.6,\n",
    "                                  \"CulmenDepth\": 14.5,\n",
    "                                  \"FlipperLength\": 215,\n",
    "                                  \"BodyMass\": 5400}])\n",
    "   \n",
    "   \n",
    "predictions = persistedModel.transform(newData)\n",
    "display(predictions.select(\"Island\", \"CulmenDepth\", \"CulmenLength\", \"FlipperLength\", \"BodyMass\", col(\"prediction\").alias(\"PredictedSpecies\")))"
   ]
  },
  {
   "cell_type": "code",
   "execution_count": 0,
   "metadata": {
    "application/vnd.databricks.v1+cell": {
     "cellMetadata": {},
     "inputWidgets": {},
     "nuid": "40682050-ace1-4515-aa7c-700c078441ba",
     "showTitle": false,
     "title": ""
    }
   },
   "outputs": [],
   "source": []
  }
 ],
 "metadata": {
  "application/vnd.databricks.v1+notebook": {
   "dashboards": [],
   "language": "python",
   "notebookMetadata": {
    "mostRecentlyExecutedCommandWithImplicitDF": {
     "commandId": 157883602550205,
     "dataframes": [
      "_sqldf"
     ]
    },
    "pythonIndentUnit": 4
   },
   "notebookName": "Machine Learning",
   "widgets": {}
  }
 },
 "nbformat": 4,
 "nbformat_minor": 0
}
